{
 "cells": [
  {
   "cell_type": "markdown",
   "metadata": {},
   "source": [
    "# Week 2 - Counting Words & Phrases (Computational Linguistics)\n",
    "This week, we take text corpora that we have developed, spidered, scraped, and encoded, and we find and count words, simple and parsed phrases and explore the statistical properties of those counts (e.g., word frequency distributions). Initially, we model how to search corpora for keywords or phrases. Next, we examine the distributions of terms and phrases across a corpus, and the correlation between different words and phrase counts. In order to do this effectively, we coarsely disambiguate words based of part-of-speech (POS) tagging, and normalize them through stemming and lemmatization. Next we distinguish *important* words and phrase within the corpus, and image them with Wordls! Then we calculate word frequenceis, conditional frequences (the frequency of word *shock* conditional on the presence of word *awe*), and statistically significant collocations of lengths 2 through $n$. Finally, we calculate and visualize Differences (Divergences and Distances) between the word frequency distributions from two corpora. \n",
    "\n",
    "Then we shift to focus not simply on the *ideas* in a corpus, but also extracting precise *claims*. This process involves a sequential pipeline of classifying and structuring tokens from text, each of which generates potentially useful data for the content analyst. Steps in this process, which we examine in this notebook, include: 1) tagging words by their part of speech (POS) to reveal the linguistic role they play in the sentence (e.g., Verb, Noun, Adjective, etc.); 2) tagging words as named entities (NER) such as places or organizations; 3) structuring or \"parsing\" sentences into nested phrases that are local to, describe or depend on one another; and 4) extracting informational claims from those phrases.\n",
    "\n",
    "We will be introducing spaCy as a package for Computational Linguistics, and also walk you through how to use the Davies Corpora. \n",
    "\n",
    "While we wish to avoid using NLTK for heavy corpus analysis, some of its smaller functions can still be useful.\n",
    "\n",
    "Of course, for final projects that draw on these tools, we encourage you to install the software on your own machines or shared servers at the university (RCC, SSRC) in order to perform these operations on much more text. \n",
    "\n",
    "For this notebook we will be using the following packages:\n"
   ]
  },
  {
   "cell_type": "code",
   "execution_count": 1,
   "metadata": {},
   "outputs": [],
   "source": [
    "#Special module written for this class\n",
    "#This provides access to data and to helper functions from previous weeks\n",
    "import lucem_illud #just in case, regularly update your lucem_illud with the following code: pip install git+git://github.com/UChicago-Computational-Content-Analysis/lucem_illud.git\n",
    "\n",
    "#All these packages need to be installed from pip\n",
    "import requests #for http requests\n",
    "import pandas #gives us DataFrames\n",
    "import matplotlib.pyplot as plt #For graphics\n",
    "import wordcloud #Makes word clouds\n",
    "import numpy as np #For divergences/distances\n",
    "import scipy #For divergences/distances\n",
    "import seaborn as sns #makes our plots look nicer\n",
    "import sklearn.manifold #For a manifold plot\n",
    "import json #For API responses\n",
    "\n",
    "# comp-linguistics\n",
    "import spacy\n",
    "\n",
    "#These are from the standard library\n",
    "import os.path\n",
    "import zipfile\n",
    "\n",
    "#This 'magic' command makes the plots work better\n",
    "#in the notebook, don't use it outside of a notebook\n",
    "%matplotlib inline"
   ]
  },
  {
   "cell_type": "markdown",
   "metadata": {},
   "source": [
    "# Retrieving exemplary corpora\n",
    "\n",
    "To get started we will need some examples. Let's start by downloading one of the corpuses from the Davies set purchased for this class and developed by a computational linguist at Brigham Young University. We can get a list of works available from the [corpora here](https://www.english-corpora.org/).\n",
    "\n",
    "In this notebook, I will be accessing the data locally - you also have access to this data through the Dropbox download link. The same code can be modified slighlty to access the rest of the corpora on RCC. \n",
    "There is a notebook describing this process in the same repository, as well as in the same directory on RCC."
   ]
  },
  {
   "cell_type": "code",
   "execution_count": 2,
   "metadata": {},
   "outputs": [],
   "source": [
    "corpus_name = \"C:\\\\Users\\\\86188\\\\Desktop\\\\SOCI 40133\\\\Homework-Notebooks\\\\data\\\\Movies\" \n",
    "# corpus_name = \"Movies\""
   ]
  },
  {
   "cell_type": "markdown",
   "metadata": {},
   "source": [
    "Just to be clear, your corpus_name should be different since you're not bhargav. Modify the corpus_name with your directory. This method extracts the text from the zip files and stroes the raw data."
   ]
  },
  {
   "cell_type": "code",
   "execution_count": 3,
   "metadata": {},
   "outputs": [],
   "source": [
    "def loadcorpus(corpus_name, corpus_style=\"text\"):\n",
    "    texts_raw = {}\n",
    "    for file in os.listdir(corpus_name + \"/\"):\n",
    "        if corpus_style in file:\n",
    "            print(file)\n",
    "            zfile = zipfile.ZipFile(corpus_name + \"/\" + file)\n",
    "            for file in zfile.namelist():\n",
    "                texts_raw[file] = []\n",
    "                with zfile.open(file) as f:\n",
    "                    for line in f:\n",
    "                        texts_raw[file].append(line)\n",
    "    return texts_raw"
   ]
  },
  {
   "cell_type": "code",
   "execution_count": 4,
   "metadata": {},
   "outputs": [
    {
     "name": "stdout",
     "output_type": "stream",
     "text": [
      "text_00_myn.zip\n",
      "text_01_ote.zip\n",
      "text_02_mqu.zip\n",
      "text_03_mnq.zip\n",
      "text_04_mlq.zip\n",
      "text_05_nko.zip\n",
      "text_06_jfy.zip\n",
      "text_07_oma.zip\n",
      "text_08_loh.zip\n",
      "text_09_oii.zip\n",
      "text_10_aoy.zip\n",
      "text_11_uoy.zip\n",
      "text_12_rcq.zip\n",
      "text_13_idi.zip\n",
      "text_14_lnc.zip\n",
      "text_15_guo.zip\n",
      "text_16_qll.zip\n",
      "text_17_arp.zip\n",
      "text_18_jfj.zip\n",
      "text_19_gvc.zip\n",
      "text_20_cde.zip\n",
      "text_21_fqa.zip\n",
      "text_22_etp.zip\n",
      "text_23_fmh.zip\n",
      "text_24_ywo.zip\n",
      "text_25_byg.zip\n",
      "text_26_ngj.zip\n",
      "text_27_fle.zip\n",
      "text_28_rfy.zip\n",
      "text_29_oye.zip\n",
      "text_30_wkp.zip\n",
      "text_31_akv.zip\n",
      "text_32_ldf.zip\n",
      "text_33_kje.zip\n"
     ]
    }
   ],
   "source": [
    "movie_raw = loadcorpus(corpus_name)"
   ]
  },
  {
   "cell_type": "code",
   "execution_count": 5,
   "metadata": {},
   "outputs": [
    {
     "data": {
      "text/plain": [
       "[b'\\r\\n',\n",
       " b'@@216680 Hey , I \\'m talking to you Give me 600 dollars You wish ! That \\'s all we \\'ve left And you still go to gamble Shut up I earn the money Even that you ca n\\'t take it for gamble Shut up What \\'re you doing ? Bastard , I \\'m gon na beat you You gambling pig , I \\'ll beat the shit out of you You bitch I \\'ll beat you You dare to hit me with something ! I \\'ll kill you All you know is gambling I \\'ll beat you What \\'re you doing ? Let go of me Stop You \\'ll kill Mom Mom , are you all right ? Do n\\'t touch my money Dad , where \\'re you going ? Go away Dad , do n\\'t go Get lost Dad , come back You take Marble with you The way she \\'s now Do you want to give me trouble ? I \\'m in more trouble than you I am a woman I \\'m a sailor You take care of Marble Just gamble a bit less is enough to raise the kid No way Raising her would be like raising others @ @ @ @ @ @ @ @ @ @ take care of her Marry her when she grows up And you tell her to be smart Do n\\'t marry a gambler Hey , you want a quarrel ? No , never This is the last time You \\'re SO right Do n\\'t rush ... Everyone will have a share Why so crowded ? What \\'re they doing ? Worshipping ancestors With all those many things ? Hey , Granny , Come on Come and take a bite The dishes are good this year Right Marble , have some I \\'ll go get my share of pork This is a leg-washing basin Hey , how can you say that ? Let \\'s go get a share of pork Your share ? You wish ! That \\'s only for boys Yeah , I have a wee-wee . Have you ? Aunty Chiang Lin , one more baby this year ? Yes You are the best in your family Hey , you think it \\'s my will I was compelled by my stupid husband Come on . Let \\'s worship first Eat some roast pork We have a lot of it Honey @ @ @ @ @ @ @ @ @ @ baby ? Yes . Only with Chinese blood What do you mean ? It means I give you a green hat Oh , that goes with my clothes then Eat , no more talk ! So rude . Take it home Get up , go We \\'re going back home Be quick Honey Hey , make a stance Hold it ... Master , every time we \\'ve to stand in a pose If you could teach us something else please Okay Shaolin Masters learn poses for years Hold it ... Okay . I \\'ll teach you something new Watch me See . Get to it Seeing Shanghai Beach in Mainland Here I \\'m still watching it everyday I \\'m so tired Tired ? Let \\'s go to bed for rest I hate Chau Yun Fa the most He did n\\'t marry when I \\'m in China As soon as I \\'m here , he got married You ca n\\'t come to Hong Kong if you do n\\'t marry me You said you are big boss Having a big business Now that I \\'m in Hong Kong ... I \\'m still @ @ @ @ @ @ @ @ @ @ for myself Then I ought to feel much more sorry You ca n\\'t even lay an egg This year I can only get one share of pork And you \\'re blaming me for it ? Damn monkey ... What \\'s going on ? A letter for you Oh , it \\'s you Your monkey glared at me fiercely Will you open it for me ? Read it to me . I am quite illiterate Stop it . Do n\\'t bother him Let me help you . Give me the letter Postman \\'s duty is to deliver and read letters He reads for Aunt Jiao How can you compare to her ? Aunty Jiao is 83 years old Hello , dubbing room Martin ? Martin is working Are you lying to me ? Why should I lie ? I know he \\'s free . Get him You listen yourself then Hello , what \\'s the noise ? Is someone being raped ? Martin , your telephone Hello What took you so long ? Recording is going on Do n\\'t mess around Yes , I know . I wo n\\'t Honey , @ @ @ @ @ @ @ @ @ @ did you spend so much ? I was late for work ... so I took a taxi On your way back do n\\'t forget to buy vegetables Okay And buy a pair of slippers for me Got it , honey I \\'ll hang up . Bye Would n\\'t marry if you know your wife is so bad ! Take pity for the rest of my life Hey , what \\'s on your neck ? Nothing You look piteous She \\'s the piteous one The vampire is here Grandma , grandma Someone is fighting Grandma , grandma Come over quickly What happened ? Someone is fighting Fighting ? Yes Where ? Over there ! You see it ? I spare you this time . No next time Sorry , let me kiss you Cut the bullshit . Go to bed I need to work tomorrow Where at ? That villa over there ! Wow , it looks beautiful Who lives there ? Snow White Kidding , there \\'s no Snow White Oh , murder That \\'s the pig scream Why \\'s the pig screaming so late at night ? Shorty \\'s @ @ @ @ @ @ @ @ @ @ late ? So the government wo n\\'t know But how could a pig \\'s scream be so terrible ? Why ? Why are n\\'t you tired ? Why are n\\'t you sleepy ? Why have n\\'t you gone to bed ? Why are you so nosy ? Go to sleep ! Here \\'s the kitchen Oil . Salt . Sauce . Vinegar . All there Go tidy up Ask me if you have any question Come dance with me Come on Come Dance I \\'ll teach you . Do n\\'t be afraid Damn dog ! Damn it ! What \\'s such a big deal to be rich ? Pay for my pants Sorry . I do n\\'t mean to be rude Be careful next time Miss , it seems I \\'ve seen you somewhere Of course you have I \\'ll be the Miss Hong Kong in next contest I have nine posters at the Ferry pier And I \\'ve been handing out my photographs all around Never seen one as rude as you Chang Jin This girl is great . She lives in your village ? Of course she \\'s @ @ @ @ @ @ @ @ @ @ And the ugly one\\'s only live in your village Miss , I want my BALL back We \\'re back from Holland Shall we make a friendship ? My dad said she got married Married ? No way Look at her curves ! She sure knows how to keep fit Maybe she never takes birth-control pills Hey , pals Be nice to a girl , huh ? What do you mean ? You think you \\'re a kungfu master ? Get the ball back Okay We \\'re friends . If you do n\\'t give me face At least for my Dad \\'s sake ... let \\'s not make a fuss of this Are you alright ? He hits me . Beat him Stop Just playing . Stop What \\'re you on about ? I \\'ve stopped . Why do n\\'t you stop ? I \\'ll let you go , damn kid Do n\\'t let me see you again I \\'ll kill you next time Let \\'s go , go Waste of strength ! Post-boy . You think you \\'re good We \\'re taking pity on you Yeah Go , go Your @ @ @ @ @ @ @ @ @ @ Sorry to bother you again Please sign Where \\'s Wang ? He went to Kowloon on business Oh , you \\'re bleeding ? Who hurt you ? Let me help you Suppressing anger is not a good thing What ? Let me clean your wound No Okay , I wo n\\'t touch you I \\'ll give you some water , do it yourself How often do you deliver each day ? What are you drawing so late at night ? Go to bed . You have class tomorrow Go to sleep now Dad , I \\'m going to school now Go now . Do n\\'t be late Okay , I know A shepherd drove sheep on the hill Watching farmers farming below ... Jin Bao I have twenty of them Give me one No way My uncle smuggled it from Mainland What is it ? How about I exchange one with a secret What secret ? Last night the White Man tortured his wife I do n\\'t believe you He \\'s so coward to his wife he \\'ll never beat her Then will you give me ? What kind of @ @ @ @ @ @ @ @ @ @ shepherd laughed ... Master Good morning , teacher I \\'ve taught you ... to write yourselves a letter And learn to write your home address That \\'d help uncle Postman to deliver No , Mister Postman Oh yes , calling \\' uncle \\' is too old Yes Now come out to get your letter when I call you Wang Jia Leung Here Wang Shi Chung Here Shu Ker Ying Here She \\'s a cripple ! Do n\\'t laugh at her Wang Jia Hao Here Wang Jie Hwa Here Wang Wan Wen Here Wang Tian Sheng Here Marble Mister You have a letter from your dad Your Grandma said he \\'s in Panama What has he written ? Just ask your Grandma No My Dad is dead Do n\\'t curse him I do n\\'t like him Go away Go away Let me go Let me go ... Damn dog Go away Let go of me The damn dog bites anything it sees I always get bitten when delivering letters Do n\\'t tell people about it I wo n\\'t . I \\'ll do as you said You \\'ll be responsible if anyone @ @ @ @ @ @ @ @ @ @ your secret Let \\'s hook our pinkies I \\'ll be true to my word Wait for me ? When I \\'m young no-one likes me I hope someone would love me like crazy If not , I hope I have lots of money If no money , I wish I can be famous Let everyone know me at least If I have nothing else I hope I \\'m prettier than others Staying pretty longer is okay Being a woman is indeed tragic ! But you have everything now How poor of you , silly girl ? You never stay with me overnight You \\'d better find an excuse to convince me My wife does n\\'t understand me Take any man in the world Not one would say his wife understands him I really love you Not for your money Do n\\'t think you \\'re Santa Claus Why would I do this ? So cheap ! Go to bed early Do n\\'t abuse drugs Wang , give me a red cloth Okay Lin , give him a red cloth Big one or small one ? Big one , of course Did @ @ @ @ @ @ @ @ @ @ You think old Wang can do that ? You are good Your hand is so white , I believe you \\'d have made it Lin , go to work if you \\'ve nothing else Okay , five dollars Bin , why did you have to come yourself to buy ? What else do you need ? Nothing else . I \\'ll come later See you I know all the neighbours around here Hey , get the button fastened I ca n\\'t breath if I fasten up Or you buy me a new dress Okay , okay Let me take you to the discount stall Discount stalls only sell cheap stuff I want to visit the fashion shop Look at you Just two months here you \\'ve learned it I learned all about it long before I came Then you be good I \\'ll buy you anything you want Okay ? Then ai n\\'t I good enough now ? Good , you \\'re good Sir , I would like to know ... if there \\'s a new villa here ? You \\'ve real talent Among the mistresses of my husband You @ @ @ @ @ @ @ @ @ @ you want ? Sure He \\'s my Santa Claus You think you \\'re young ? Whatever . I \\'m younger than you I heard you \\'re a dancer What kind of dance are you good at ? The kind that takes hard work ... and looks like mad jumping You have money now Why work so hard ? Is money everything ? No ? Depends on the person Do n\\'t say you love my man No , we use each other What are you laughing at ? One night your husband told me ... his wife does n\\'t understand him He lies , you fool It \\'s not bad he lies to me in that way My husband is sure in bad luck He has a mistress like you He is in luck actually Because he met me You \\'re just a whore What are you here for ? You \\'re great Let me show you something No . Okay , you can go now You do n\\'t like me a bit ? Like you what ? What good are you ? Oh , I dare not Do n\\'t be @ @ @ @ @ @ @ @ @ @ hand Get up , get up Be serious . Come One more time I ca n\\'t Use the hip . Come . Ready Go See , you can do it Got weak hips . I ca n\\'t get up Forget it You are a porn star . No need to get up You bald head You should be an extra forever Oh , I am now Yao Ju , come Coming You play with him Hold it Get me a suit from the wardrobe What \\'s that for ? Meet your girlfriend That one You want it however she looks You take all whatever the age My girl is beautiful And who is that ? Nanny ! Yao Ju Who \\'s she ? I do n\\'t know Why do you always come to me ? I have things to do Then I \\'ll wait for you You have to wait a long time I \\'ll wait for you Then you have to wait a long time What \\'s wrong with me ? At least I am with single mind Why do you hit her ? Yeah , why do you @ @ @ @ @ @ @ @ @ @ dare I \\'ll kill you You do n\\'t want me You dump me after you have had sex with me Is n\\'t it just for money ? No , it is n\\'t for money I love you I am not for money I really love you You \\'re crazy Just make a run Or I \\'ll cut you to pieces Damn shameless bitch Let \\'s play rubber-band rope Come , let \\'s play rubber-band rope Come on Do n\\'t go Come In any event let \\'s clarify our relationship today You have a husband My husband is no use Lower your voice What \\'re you afraid of ? No need to fear if you dare to do it In short , I \\'ll give you money Money ... yes , I \\'ll need a lot of it You think you can afford ? You \\'re prepared , huh ? Let me tell you now My cousin will come next month He \\'d need cash for permit and ID card That takes 50,000 dollars Are you worth it ? Maybe I \\'m not worth it But if I spread word of @ @ @ @ @ @ @ @ @ @ And that woman is more trouble enough You think I do n\\'t know she \\'s a mistress Just think what if her man knows ... of your affair ! Perhaps you can bear losing face She ca n\\'t You have no money , she has You hit me ! My husband never dare hit me . How dare you ! Rape ! Help ! I \\'m being raped ... please help ! Help ! Rape ! Someone rapes me Stop it . That will kill her Hey , that \\'s not enough What \\'s that for ? It \\'s for you Carnation Like it ? Carnation is only for mothers Mother \\'s Day ? Do you ever give anything to your Mom ? She wants nothing She only wants money As if someone would marry you ! She \\'ll have three kids in her teens Get fat as a barrel and smell bad She \\'ll get up every day at six-thirty Cook an egg for your breakfast And says it \\'s good for you Every week you go to Kowloon for tea once Every half a year you \\'d take @ @ @ @ @ @ @ @ @ @ ? No At least I have everything But you do n\\'t have a husband That \\'s okay to me You say so for sure I \\'ll go now If he does n\\'t find me on the phone ... then I \\'ll truly have nothing If he lies to his wife , he can lie to you Are you sure he has no-one else ? That \\'s none of your business What about me ? I left that woman because of you What about this ? I do n\\'t even know who \\'d get the money I do n\\'t care Let go Sit \" RITA \" Miss Rita Last night I passed by your house Your dog scared me Then I fell down And dropped a ring It \\'s my husband \\'s gift You know when a man gives you some gift It \\'s no good if you were to lose it He \\'ll be unhappy Did you see it ? Help me to find it , please The ring is worth 100,000 dollars I \\'ll help you to find it Then I \\'ll wait for your news I \\'m so @ @ @ @ @ @ @ @ @ @ I studied in Grade Two I already hated women That class girl captain ... told the teacher I peeked at her And the teacher hit me hard for it I was hit so hard that it broke the ruler In university I studied the Tang dynasty poems It said women are tender and passionate But I found it to the contrary Women and mean people are hard to deal with It was n\\'t easy for me to stay away from women Now I would n\\'t want one anymore Women are poison ! You \\'re right Let \\'s toast Tonight when you \\'re home You should punish your wife hard All men are brothers ! Great . I \\'ll punish her tonight Fifty to hundred thousand each call Your threat is never-ending After this time ... Once and for all , I \\'ll leave You take this man I \\'m tired of him If you \\'re that crazy for men ... I \\'ll give my Wang to you , too Stupid Where \\'re you going ? Grandma , Grandma . Come on Murder Grandma , hurry What \\'s that serious ? @ @ @ @ @ @ @ @ @ @ ? Over there , you see ? What nonsense ! There \\'s nothing there It \\'s really a murder Hey , stop talking rubbish ! Go to bed Stop looking Kids are innocent Shorty , do n\\'t move Stop moving Shorty , Shorty It was terrible last night I saw two guys fight And then one person ... killed the other ! The killer wore a chain You know , I could ... pull out some hair from the killer But Grandma does n\\'t believe me If you \\'d please check for me What \\'re you doing ? You have n\\'t finished your hair-cut ? What happened ? Go and see Quick What is it ? Quick Come , be quick This is the White Man \\'s house This is the villa This is where Jin Bao lives I live right here That night I saw a murder in there Hey , what \\'s this ? It \\'s a watchband You ca n\\'t even recognise it in picture , stupid Hold it . Hold it . Hold it What \\'s this ? Silly fool , it \\'s Ninja That night @ @ @ @ @ @ @ @ @ @ saw two guys were fighting over there And then one man ... killed the other The killer wore a watchband too I saw it But I \\'m not scared Then I went out and took a look But he had run away I just saw some hair and a lot of footprints Now our first move ... is to check out who \\'s missing in the village ? What are you doing here ? Where \\'s your wife , uncle ? Looking for my wife at your age ? You have guts Go away I \\'ll get your Dad to take you back You \\'d better spend time on study And stop running around Go home Wang , where \\'s your wife ? My wife is sick , okay ! Nosey Have you seen the White Man and his wife ? Shin , go home for meal Hurry Always playing Marble , time for work Do n\\'t run around I \\'m working right now Look here . On the rock Here It \\'s real The White Man Women are sick , vicious ... and fierce . We should kill them @ @ @ @ @ @ @ @ @ @ have to bear with them What is the time ? Oh , time for work Get lost Why are the floor so dirty ? Hey , what \\'re you doing ? I just came early to tidy things up See , what have you done ! I ... White Man . It \\'s him Little girl Little girl Wake up Little girl Wake up You okay ? Are you all right ? But that ca n\\'t be evidence That \\'s the record in my children \\'s diary This proves that everyday he thought of murder Did your teacher tell you ... not to lie to the police ? I have more evidence Take it out I saw that after he killed his wife ... he dragged the corpse away , too That night he did n\\'t return home He went out for drinks Got drunk and slept on a rock And he cursed the women too He almost killed me What a bad White man Always thinking to kill people Chinese wo n\\'t do that The Chinese do n\\'t have that power Go and see Hi Police ? What \\'re @ @ @ @ @ @ @ @ @ @ illegal to play chess ? You have a warrant , sir ? Of course , see It \\'s marijuana Go away ... What are you looking ? Nothing good to see Move away Hey , what \\'re you doing ? He \\'s my husband He just slapped me slightly Is it illegal the husband slapping his wife ? Actually I let him slap me Why are you arresting him ? Where are you going ? I just went back to my Mama \\'s house Why do n\\'t you call me these few days ? Who is he ? His sworn brother What \\'s a \\' sworn brother \\' ? Move . Do n\\'t pretend anymore Sir , he \\'s innocent Do n\\'t arrest him Girl , do n\\'t lie Sir , please do n\\'t arrest my husband Do n\\'t arrest my husband Let him go Dear Hello , Miss Rita Why ? Why am I being fired ? How do I guess if you do n\\'t tell me ? Mister Postman . Mister ? No-one believed the murder I told you about What clue do you have ? I suspected @ @ @ @ @ @ @ @ @ @ if she \\'s dead Wang , you got mail It \\'s hot outside . Come and have a seat Have some tea Busy ? Yeah , the past few days has been killing ! A lot more people at the festival this year ! You ought to take your girlfriend along I do n\\'t have a girlfriend You \\'re kidding Where \\'s Mrs . Wang ? Can you not mention her ? Where has she gone ? I do n\\'t know where she has gone Mind your own business , kid This letter is from my wife Marble , Marble Oh , you are here ! Shorty has been calling you many times Must have found something new What did she say in the letter ? She ran away with someone Now she \\'s with someone else She told me not to think of her Even though we ca n\\'t be a couple She still thinks of writing to me I knew she is a good girl Just the men are bad That \\'s good . That bitch is gone Thank God , we \\'ll have peace now Do n\\'t @ @ @ @ @ @ @ @ @ @ is murdered What ? I go back to answer the phone Grandma said many girls ... worried that they ca n\\'t immigrate in 1997 So they all wanted to marry an old foreigner Those old men are so ugly ! More ugly than Wang You see , I do n\\'t even have time for toilet Old Wang , just a woman One left . More to come I would get you a good girl later Grandma Everyone will quarrel after getting married Stop being a match-maker If I do n\\'t help them make the match ... They will have no-one to quarrel with Let \\'s go home What a crowd ! Look How much is a pack of tissue ? Fifty cents What \\'re you doing ? Idiot I told you Wang \\'s wife is dead No , lousy kid I kept a secret for you What secret ? I wo n\\'t tell anyone About you and Wang \\'s wife Grandma Xiaoji Xiaoji Xiaoji Xiaoji Marble , get dressed . We go to pray Grandma is bad . You killed my Xiaoji You \\'ll have to compensate No other chicken @ @ @ @ @ @ @ @ @ @ doing ? I \\'m gathering the fire wood Oh , do n\\'t sit here Sit over there It \\'ll dirty your pants And you \\'ll need your Grandma to wash it I do n\\'t care What did she do ? Did she make you angry ? She \\'s a killer Jin Bao , faster Yes Shorty , Shorty The village chief gave me 10 dollars to catch grasshopper for the bird And you wo n\\'t investigate my case ? All those you mentioned as missing are still alive I do n\\'t know if you \\'re telling the truth That \\'s no fun I did n\\'t lie to you Please help me , okay Unless ... Unless what ? Unless you let me be the commander Well , you listen to me whatever I say The mission we have tonight ... is to search the suspects and evidences Especially that watchband Yes , especially the watchband Jin Bao , you watch number one to fifteen I \\'m terribly afraid Jin Ju , you watch number to thirty Especially my dad , he \\'s fierce How could your Dad be the murderer @ @ @ @ @ @ @ @ @ @ killer , I \\'ll get him You watch all the shops Okay You watch the pigsty and the doghouse You must obey the order You gather information How come I have nothing to do ? Because you walk slow That \\'s true Fine . I \\'m sick of girls crying You take my post Women are troublesome Everyone take a firecracker as weapon , pass it Use it only if you see the enemies The enemies are tough Be careful . It \\'s life-threatening Understand ? Yes Okay , let \\'s go Go If anything please say it now You do n\\'t speak and did n\\'t let me either You wo n\\'t understand even if I say it Has your husband been found ? In this situation Spreading out is n\\'t the worst . At the most we could flee How \\'d that help ? I am not afraid of getting caught I know I am poor All you love is money Help ! Help ! Shorty , do n\\'t be afraid Do n\\'t be afraid Come back Shorty \\'s spirit , come back Do n\\'t be afraid Shorty \\'s @ @ @ @ @ @ @ @ @ @ ? Who is it ? Ghost ! Open up your eye Shorty , recover Let \\'s stop the investigation , okay ? We just want you to recover Yes Yes , do n\\'t be like that Shorty , do n\\'t be afraid ... please ! Shorty \\'s spirit , come back Shorty \\'s spirit , come back What took so long ? Is it okay ? It \\'s not done yet Mine is fit for eating ? Marble , come to eat Shorty \\'s gone mad . I have no appetite Hey , come over I \\'ll let you be the host . Come It smells great Fire \\'s up It \\'s ready Do n\\'t kill her Are you alright ? Grandma will never kill your chicken I \\'ll buy you another chicken tomorrow I swear I \\'ll never kill your chick You hear me ? What \\'re you doing ? It \\'s all your fault I could watch you once I ca n\\'t watch you forever I \\'m not willing to do that I did n\\'t hate you We had been a couple before I \\'ll burn more food @ @ @ @ @ @ @ @ @ @ \\'ll offer some Chau Yun Fa \\'s photos , too Wang ... I need to talk to you urgently Open the door Wang , I have something to tell you You \\'d better brace yourself for this Do n\\'t be shocked out of mind Actually your wife is dead I knew you would be stunned Relax and listen to me The letters you got It \\'s all a farce It \\'s actually the postman The postman did it After he killed your wife ... He forged her letter to you He knew how The school taught us ... how to write to ourselves Let me see the letter . Quick Then I \\'ll get it for myself So , will you leave ? Where do we go ? To Mainland China , okay ? Whatever You do n\\'t leave until you got trouble Now you got trouble Will this all ever be exposed ? Did you leave any evidence ? The trouble is the letter you wrote What letter ? The letter you forged in her handwriting I had never written any letter So the letter Wang had received ... @ @ @ @ @ @ @ @ @ @ Marble Come . Eat something This is yours Go on ! How come I have more ? And you have less ? You take this bowl It \\'s okay for kids to eat more It \\'s sweet and tasty . Eat now Where \\'s the letter ? Oh , I forgot where I put them Eat ... It \\'s new Yes . Eat while it \\'s hot Relax , Wang Everything will come out fine He ca n\\'t run away I \\'ll move on Or grandma will scold me , bye Bye Brother Yao Where were you last night ? It \\'s late . Time to go Are you ready ? Yes You \\'re always the last Let \\'s go Where \\'s Marble ? Marble is up the hill with Wang Ready , go You see , it flies high It \\'s great It \\'s beautiful Marble , you fly it It \\'s fun Be careful . Be careful What happened ? Marble , Marble What are you doing here ? There \\'s a kite there Yes , go have a look You see Jin Bao , be careful Be @ @ @ @ @ @ @ @ @ @ down It hurts Murderer It \\'s not us He fell down by himself . It \\'s not us Where \\'s Marble ? She was just here Help ... ! Help ! Help ... ! Help ! Mister Postman ... Do n\\'t be afraid Help me Mister Postman Help me Mister Postman Marble , grab my hand Wang Inspector , see Let me Mr . Butterfly give you a lesson Do you know how to act ? Your first day at this , huh ? Sorry , Brother Lang Sorry Hey , what \\'s up ? What \\'s the matter ? They are all fools Yes , he \\'s a fool Be smart Once again Let \\'s do it again One try is okay Calm down Come again Do it better All standby Ready You \\'re shooting movies ? Master , who do you fight with ? That \\'s Wan Ji Lang ? Want a drink , master ? Who \\'s the director ? The one in red glasses A woman Yes Oh no , fell down ! Brother Ji Lang , you okay ? What \\'s wrong with you ? @ @ @ @ @ @ @ @ @ @ , come over Coming It \\'s my turn . Do n\\'t run around It \\'s all yours Yao Ju . Memorize those moves Act better Ready All standby Do it better Do n\\'t make trouble Ready ? Action ! Cut Okay Move the machine here Move it over Come , over here Like that ? Okay ? It \\'s fine You said you \\'d go to Mainland with me Really ? Of course you ca n\\'t remember I did Did you see me shooting movie ? A little bit Next week I \\'ll go to London I will write to you when I arrive You better not go If you do n\\'t go , you do n\\'t need to write You \\'d pay for my living , huh ? No big deal I do n\\'t know what to say That \\'s rubbish Okay Take care Mister Postman Marble , are you alright ? Yes Marble ... It \\'s for you Is it good ? Do you like it ? \\r\\n',\n",
       " b'@@3512517 I \\'m \\' most frightened to death . Sure , after you \\'ve done it eight or nine times , you wo n\\'t even give it a thought . - Gee , Dot , you look swell . - Am I all right ? Lovely . dddd Well , there goes the maiden \\'s prayer . I wonder how I \\'ll act . It \\'s like diving overboard-you never know how the water \\'s going to be till you hit it . - I \\'m so nervous . - Say ... if I could look like you in a wedding gown , I \\'d be a bigamist . Come on . dddd I say , is n\\'t that girl in the bride \\'s outfit a new model ? Why , yes . She \\'s a salesgirl downstairs . We \\'re trying her out . She \\'s got my okay . These guys usually make wisecracks . Do n\\'t let it bother you . I know all the answers- men have been insulting me for years . Say , beautiful . Doing anything tonight ? I \\'m taking my two pet fish out for a drive . There \\'ll be @ @ @ @ @ @ @ @ @ @ Do n\\'t talk back to them . You \\'ll get fired . When they deliver baloney at my door , I always give them a receipt . dddd Honestly , if I ever met a fella ... that did n\\'t try to date me up right off the bat , I think I \\'d fall on his neck . He \\'d probably be too weak to hold you up . Oh , men are all alike . Rich or poor- when it comes to women , they \\'ve only got one idea in their head . Take those fellas out there today- When they did n\\'t try to date you up ... you could tell what they were thinking by the way they looked at ya . And it is n\\'t only those swell society guys either . Ridin \\' the subways during the rush hour , fellas brushing \\' up against you-you know what . Or sit in the theater . Right away some stranger ... takes a seat next to you and that knee business starts . - You said it . - Do n\\'t I know it @ @ @ @ @ @ @ @ @ @ . - Good night . After all , I guess nature made men that way . It \\'s their great weakness . And how we women encourage that weakness . - Well , I don\\'t . - Oh , no . I know you do n\\'t , Dot . - Oh , Mlss Haley . - Yes , Mr . Thompson . - Good night , Dot . Good night . - So long . I just wanted to tell you how awfully well you did this afternoon . - Oh , thank you so much , Mr . Thompson . - You were marvelous . It \\'s been such a hot day- I thought you might like to take a drive . Oh , I \\'d just love to , Mr . Thompson , but , you see ... - my husband \\'s a prizefighter . - Oh . Yes . And he heard about a fella here in the store who tried to make a date with me ... and he \\'s waiting downstairs now to beat him up . - Well - Oh . - Yes . @ @ @ @ @ @ @ @ @ @ take the ride , I had nothing wrong in mind . Oh , no , Mr . Thompson . You see , I never think of things like that . Well , good night . Gee , Dot , that husband prizefighter gag \\'s a pip . I \\'m gon na use that one too . - Do n\\'t men ever think of anything else ? - Well , hardly ever . dddd dddd What are you looking at the river for , baby ? You ai n\\'t expecting anybody , are ya ? Yeah , my grandfather \\'s swimming in from Europe tonight . I got ya . Well ... when the old guy gets here , give him my best regards . You think you can spare any ? Hey , Dot . - Hey , Dot . Come on . I \\'ve got something to show ya . - What ? - There \\'s a fella over here who wo n\\'t flirt . - There ai n\\'t no such animal . - On the level . - His wife must be watching him . No , he @ @ @ @ @ @ @ @ @ @ tumble . A girl ca n\\'t get a tumble ? Wan na bet a quarter ? - That you can make him speak to you ? - Yeah ! - All right . A quarter . - The bet \\'s on . Where is he ? Come on . dd d You want a little sweet Come , come , say pretty please d d Come on , baby and beg for it d d You want a little kiss So pucker up like this d d Coax me nice and gentle , baby d - d Maybe I \\'ll fall dd - Hey . Do you have to do that ? - I \\'m singin \\' . - I had an aunt once who used to make noises like that . She called it \\' \\' neuraliga . \" Neuralgia must run in your family . Yeah ? Well , listen , kid . If you want to prove that something runs in your family , this is the spot . You got a clear deck . - I do n\\'t know whether I won or not . - @ @ @ @ @ @ @ @ @ @ bet her a quarter she could n\\'t get you to talk to her . - Which one of us wins ? - Oh . So you \\'re a couple of them smart janes , huh ? No , we \\'re not . But almost every fella we meet makes a pass at us . When my girlfriend here said you would n\\'t flirt , I just could n\\'t believe it . I suppose you think when you pass by ... guys just naturally drop dead . - No , I don\\'t . - If you do n\\'t want them to flirt with you ... what do you dress like that for ? You wear those clothes for what ? To show off the curves of your body . Look at the waist . What \\'s that so low for ? Yeah . So some guy can get an eyeful . And your dress is deliberately made for the wind to blow up over your knees . Listen , sister . If you do n\\'t want guys to salute ya , take down your flag . You \\'re like all other @ @ @ @ @ @ @ @ @ @ , you wan na call out the police . And if he do n\\'t , you wan na call the army . - You do n\\'t seem to like me . - I think you \\'re a pain in the neck . Well , my name is Dorothy Haley . You ai n\\'t kiddin \\' me a bit . You \\'re like all the other fellas . You just have a new line . That \\'s all . - You \\'ll be making a pass at us yet . - We \\'d make a great team- with my- and your conceit . - Oh , hello , Edna . - Hello there , Jane . How are you ? - Hey . My sister \\'s over here . Come over , will ya ? - Okay . - d Come on , baby d - Hey . Hey . - d You want to dd - Please . Please , will ya ? My nerves . dd Hey . Ai n\\'t there any other tune you can almost sing ? You ai n\\'t told me your name . - Joe @ @ @ @ @ @ @ @ @ @ . He drove a Ford . Did you ever meet him ? Well , I might \\'ve , at that . No . No . The guy I knew drove a Chevrolet , and his name was Fred . No . It could n\\'t have been the same guy . - Oh , you \\'re quite a kidder . - Yeah , you \\'re pretty fresh yourself . Just fresh enough . Say , what makes you such a grouch ? Janes like you . You work all day in some store ... and then you rush home to sleep at night in some stuffy tenement . And you \\'ll be content to do it for the rest of your life ... because you \\'re just a good-time girl . This is where you wan na be , with a lot of saps like that ... yellin \\' their heads off and thinkin \\' they \\'re enjoying themselves . You ai n\\'t got brains enough to realize ... that now is the time you ought a be saving your money ... and trying to make something better of yourself . @ @ @ @ @ @ @ @ @ @ ? - I \\'m here to get fresh air . But you notice I ai n\\'t spendin \\' any dough on you , do n\\'t ya ? Not even an ice cream soda . Say , listen , you big stiff . If you think I \\'m worried ... about you buying me an ice cream soda , you \\'re crazy . I would n\\'t be found dead with ya . Thanks for bringing me home . I had a swell time . Okay . Well , do you want to see me again ? Oh , I should say not . But accidents will happen . Well , I got ta go . I got ta go upstairs now . You see , my mother \\'s dead , and my brother \\'s boss of the house . He gets sore when I stay out late . You know , he \\'s careful for me . But as Edna says , you ca n\\'t watch a girl hard enough ... to keep her good if she do n\\'t want to be . Get 10 cents\\'worth of potato salad too . @ @ @ @ @ @ @ @ @ @ flat all smelled up again . Oh , I know what to get . Gee , I wish she would n\\'t holler down the stairs that way . It do n\\'t give the house no class . My mother always used to holler down the stairs . She did ? Yeah . So \\'s my old man . He sold his coat for a drink and caught pneumonia . He was a terrible lush . Gee . My old lady was nice though . - Hello , Dot . - Hello , Paula . Geez . Everything lives in this house . Nobody \\'ll speak to her anymore but me . It makes my brother sore when I do . But as Edna says , nobody knows whether a person \\'s good or bad but the person themselves . And they wo n\\'t tell . This Edna jane does most of your thinking , do n\\'t she ? Edna \\'s swell . She \\'s got a kid almost seven . She \\'s a widow . Jerome 7 ... 4-7-5-3 . Her mother \\'s been awful sick . Hello ? Esther @ @ @ @ @ @ @ @ @ @ Esther ... you got ta control yourself . 9:15 . I had just looked at the clock . You better stop in at Mr . Levant \\'s . Esther , you got ta get ahold of yourself . There \\'s things to be done . Good-bye . Your mother , Mrs . Gardner ? - Yes . - Oh , I \\'m so sorry for you . Thanks , Miss Haley . Still stays hot out , do n\\'t it ? Do you want me to go up with you , ma\\'am ? Thank you very kindly . I \\'m all right . I \\'m just a little tired , I guess . Good night . - Good night . - Good night . You know , a tenement house like this is awful funny . Here her mother \\'s dead on the fifth floor . And only this morning ... on the second floor ... Mrs . Mills had a new baby . Yeah ? Well , she did n\\'t do that kid no favor . - What do you mean ? - I mean bringing it into the @ @ @ @ @ @ @ @ @ @ take care of it . Oh , Joe , that \\'s a terrible thing to say . What \\'s the kid got to look forward to ? Starvin \\' himself to death in some tenement . Born on the second floor and ... probably die on the fifth . His whole life spent in climbin \\' three flights of stairs . - Oh , Joe , you \\'re terrible hard . - Yeah ? Well , here \\'s one guy \\'s gon na beat this game , see ? No poverty , no pinching \\' , no scrimping \\' for me . I got $580 saved up , see ? In a couple of months , I \\'m gon na have my own radio shop . Yeah . Gee , there are a lot of things in life besides just money . Yeah . Sure there \\'s a lot of things in life beside money . But you got ta have money to find them . Well ... I got ta go now . My brother will lay me out in lavender . I went to Coney Island once and @ @ @ @ @ @ @ @ @ @ . He hit me in the eye . - He did ? - Yeah . - Say , do you want me to go up with you ? - Oh , no . - That \\'d only make it worse . - Yeah ? Well , no guy \\'s gon na hit any jane I go out with , brother or no brother . Oh , he just wants to see that I keep straight . - But as Edna says-- Ah , who cares what Edna says ? Well ... I got ta go now . I told you not to bring any Llmburger cheese In here . I wo n\\'t have the flat all stunk up ! Well , It do n\\'t smell after It \\'s eaten . There \\'s a tenement for ya . A woman dies , a baby \\'s born ... and a guy \\'s wife wo n\\'t let him eat Limburger . Gee , you \\'re a funny fella , Joe . In fact , you \\'re the first guy I ever went out with that did n\\'t try to get fresh . Well @ @ @ @ @ @ @ @ @ @ , you know , I like you an awful lot . Okay . You \\'ll probably be just nutty enough to call me up at the shop . The number \\'s Schuyler 4 ... 6-5-8-3 . Four , 65 , 83 . That \\'s the way I always remember numbers . Well , good night . So long . Hey . Walt a minute . My name ain\\'tJoe . It \\'s Eddie Collins . Just a moment . Oh , Eddie . Oh , Eddie , uh , will you have this gentleman \\'s set finished by tomorrow morning ? Yes , sir . I \\'ll work on it tonight . You \\'ve got a great set . - Mmm . Your wife will enjoy that . - Oh , I have n\\'t any wife . - Oh . - That \\'s why I \\'m able to pay $300 for a radio . Well , there \\'s something to that . Of course , if you keep your radio turned on all the time ... you have the effect of a wife anyway . - Yes . - Oh , @ @ @ @ @ @ @ @ @ @ fella \\'s got the right idea . Eddie , now , you take a lesson from him . Do n\\'t get married . Not a Chinaman \\'s chance . He \\'s been getting a lot of telephone calls lately , Mr . Lathrop . - Ah . - Well , I \\'d hate to see you making any mistake , Eddie . Why , you can have your own little place in six months . - But not if you let a woman get a hold on ya . - Oh . I never even think about it . That \\'s the danger . Do you suppose any man would ever marry if he thought of it ? Why , I ca n\\'t even talk to a girl . You know , it \\'s funny about me that way . I \\'d like to be nice to women . You know , say nice things to them , like fellas can . I ca n\\'t though . I think of nice things to say . But when it comes to putting \\' em into words-I only say something sarcastic and @ @ @ @ @ @ @ @ @ @ ? - That \\'s a laugh . - Well , I hope so . Yeah . Hey , sheikh . Hello ? Hello , stupid . How are ya ? Sure , it \\'s me . Yeah . The same place . In front of Loft \\'s candy store . Listen , unconscious . Be on time . I ai n\\'t waiting \\' for any dizzy janes on a street corner , see ? Yeah . 7:30 . Okay . Uh-uh . Oh-Waiting for me , baby ? - I \\'m waiting for my husband . He \\'s the cop on this beat . - Excuse me . Yeah . - I was just going . - Well , ai n\\'t that swell . Say , you got a lot of nerve letting me stand out there in the pouring rain . Gee , I did n\\'t know it was so late . I got to foolin \\' around with this thing . Ai n\\'t it a pip ? It \\'ll bring in anything from KGO to L20 . - No kidding . - Yeah . Sweet job , huh @ @ @ @ @ @ @ @ @ @ I had to do with it . What do I care what you had to do with it ? I \\'m not Marconi ... or Edison or whoever invented the thing . - I \\'m standing out there-- All right . My mistake . Radio \\'s my job . I \\'m gon na have my own store soon . - I thought you were interested in my work . - I am interested , Eddie . But , gee , I got a right to be sore , standing out in the rain like that . Well , after all , you ca n\\'t saw sawdust . What kind of a crack is that ? \\' \\' You ca n\\'t saw sawdust . \" I mean it \\'s done . All I can do is say that I \\'m sorry . - Do you forgive me ? - Well , I got a right to be sore . All right . You \\'re sore . What are you kicking about ? - Well , I got a right . - All right . - Well ? - Well ? Aw @ @ @ @ @ @ @ @ @ @ , come on . Come on . Come on . Say it . Come on . Come on . Okay . How \\'d you ever find the place ? I remember you said it was on the third floor in the front . Come on . Take your coat off and stay a while . Oh , no , Eddie . Let \\'s go to a movie , huh ? Ah , look . It \\'s raining cats and dogs out . - Well , I ca n\\'t stay here . - What \\'s the matter with this ? My brother would rip me apart if he knew I was alone with a fella in his room . Suppose your landlady found me . Gee , she \\'d think I was a tramp or something . Ah , they do n\\'t expect nothing raw here . This ai n\\'t no $12-a-day hotel . Ah , let \\'s wait downstairs then . It might rain for an hour yet . Let \\'s stay here where they have ashtrays and things . I got ta go . Besides , it ai n\\'t @ @ @ @ @ @ @ @ @ @ you . - Did I ever get fresh with ya ? - No . But I ai n\\'t that kind of a girl . I do n\\'t go to fellas \\' rooms . Listen . I got other things to think about , see ? I \\'m gon na have my own store soon . I was talking to the boss about it only today . Oh , gee , Eddie . That \\'ll be swell . None of that mushy stuff for me . - Give us a kiss , will ya ? - Oh . None of that mushy stuff , huh ? Ah , well , a little of it \\'s all right . - Come on . Take off your coat and stay a while . - Oh , no . I ca n\\'t . Oh , no . - Eddie , now-- Come on . Take it off . Come on . - Take that hat off . - Stay - Oh , no . - Eddie , I \\'m not gon na take my hat off . - Come on . - Oh , @ @ @ @ @ @ @ @ @ @ gee . I did n\\'t know it was as late as that . - Ah , it \\'s early yet . - Well , I got ta go . Stopped raining . Hey , lookit . There \\'s a fella trying to kiss a girl . Where ? - Here . - Oh , Eddie . Oh , Eddie , please do n\\'t . I got ta go . Aw , gee . You ca n\\'t be with me two minutes but you got ta pull that \\' \\' I got ta go \" gag . Aw , no . But you do n\\'t understand . I must go . You \\'d think I was poison or something . - Oh , no , but it \\'s getting late , and I ca n\\'t stay any longer . - I know . You got ta go . Aw , Eddie . Do n\\'t get mad . I \\'m not mad . But you \\'re always talking about \\' \\' I got ta go . \" Well , I do have to go . It \\'s only about 4:00 . Yeah @ @ @ @ @ @ @ @ @ @ in my life . Oh , my brother will kill me . Aw , gee , kid . Please do n\\'t do that . If I could only find Edna . Aw , ca n\\'t you do anything without Edna \\'s help ? My brother \\'s stuck on her . If she was there , he would n\\'t be sore at me . At least he would n\\'t holler . He \\'s got a terrible temper . Well , you want to go over and try Edna \\'s house again ? No . If she was there , she \\'d open the door . She must be sleeping at her aunt\\'s . - Come on . - What are you gon na do ? I \\'m goin \\' up and tell your brother you were with me . No . You ca n\\'t go up . There \\'d only be a fight . Aw , there would n\\'t be any fight . He \\'d make one crack , I \\'d hang that in his jaw , and the fight would be all over . Oh , gee , Eddie . @ @ @ @ @ @ @ @ @ @ - Oh , do n\\'t just say ... - \\' \\' Okay . \" - Aw , gee , kid . I ai n\\'t much , and ... well , you-you know ... words do n\\'t seem to-- Aw , what are you bawling for ? - Oh , Eddie . Aw , gee , kid . I \\'m sorry . It \\'s all my fault . Me staying out till 4:00 in the morning . What \\'ll I do ? I tell ya . You can say we were gon na get married . - Oh , he \\'d find out we weren\\'t . - How ? When we did n\\'t . Well , we would . - We would ? - Would ya ? You mean you\\'re- you \\'re asking me to marry you ? Yeah . Oh . Oh , sure I will , Eddie . Okay . I \\'ll love to marry you , Eddie . You \\'ll never be sorry or anything , honest you won\\'t . - But I never thought you meant we \\'d really get married . - Neither did I . @ @ @ @ @ @ @ @ @ @ to back out , I won\\'t-- Oh . - So you want to make an argument out of it , huh ? - No . Listen . I never back out ever , see ? And let me tell you something . You ai n\\'t putting \\' nothin \\' over on me neither . - I don\\'t-- Not a thing . If I did n\\'t think ... you were the swellest jane in the world , I never would have given you a tumble . For me , nothing but the best , see ? So if you \\'ve got any idea in your nut that I \\'m the kind of guy ... runs around asking any jane to marry him , you \\'re crazy . Oh , gee , Eddie , you \\'re a scream . Why , you can-you can even make a fight out of a proposal of marriage . But you ai n\\'t kiddin \\' me . You try to make out you \\'re hard-boiled ... but you \\'re not really . Why , you \\'ve got a heart as big as anything . - And @ @ @ @ @ @ @ @ @ @ of a fella a girl can depend on . I was in love with you almost the first time we met . Oh , you \\'re fine and decent and tenderhearted . Oh , Eddie . You \\'re just the sweetest guy in all the world . - Okay . - And we can be happy . Lots of people are married and happy . I \\'m sick and tired of It . ... while you stay out till 4 . ? 00 In the morning-I said enough Is enough ! Get out , you pig ! That \\'ll never happen to us . - I should say not . - Well ? - Do you want me to go up with you ? - No . I \\'m not afraid now . I \\'m not afraid of anything now . You know ... it \\'s sort of like not being alone anymore . Yeah . It is like that , ai n\\'t it ? When \\'ll we be married ? In the morning . And I \\'ll take the day off . Say ... I \\'m kind of happy @ @ @ @ @ @ @ @ @ @ that ? Oh , Eddie . Good night , kid . Good night , darling . - Eddie . - What ? Husband . Okay . Hey , cab . Hello , Edna . What are you doing here ? Jim come over to my house about an hour ago to see if you were there . He was worried about you , so I came back here with him . I , um - I could n\\'t remember the name of that hospital ... you said you were going to to visit that girl . She must be worse , huh ? Your staying there until almost 4:00 . You mean well , Edna , but that \\'s a lot of hooey . - Where were ya ? - Where do you think , Edna ? - I \\'m gon na get married . - No . So , it \\'s as bad as that , huh ? What do you mean it \\'s as bad as that ? I thought girls brought their fellas around and showed them off first to their families . They do in families @ @ @ @ @ @ @ @ @ @ Well , not that you \\'d have brains enough to know it ... but I \\'ve been a pretty good brother to you , see ? I \\'ve been a father and a mother to ya . I \\'m supporting this house . And you \\'ve got some nerve comin \\' in at 4:00 in the morning ... tellin \\' me that you \\'re gon na get married . Why do you object ? You do n\\'t even know the fella . No , but I \\'m going to . Bring him around . Let him meet your family , like any decent fella would want to do . And after a while , if I think he \\'s all right ... you can marry him . - After a while ? - Oh , that gets a rise out of you , does it ? I thought it would . One of them rush marriages . - What do you mean ? - You know what I mean . - You do n\\'t know that I did anything wrong . - I can put two and two together . @ @ @ @ @ @ @ @ @ @ You can prove that you \\'re not . You tell me that you \\'ll wait , or I \\'ll know that you got ta marry this guy . And if that \\'s the case , I do n\\'t want you in the house . - Now , what do you think about that ? - Where \\'ll I go ? Go back where you come from , you little tramp . And get out now . You wo n\\'t take any clothes with you either . I paid for every rag you got on your back . Go on . Get out . You deserve everything you \\'re gettin \\' . Sure does . A girl brought up under the influence of a fine brother like you got . You \\'ll probably end up in the streets . That \\'s what you got in your mind , ai n\\'t it , Jim ? And I wo n\\'t be sorry for her either . No , I do n\\'t expect you to be sorry for her , Jim . But let her have her clothes . - I paid for \\' @ @ @ @ @ @ @ @ @ @ . Let her find out there ai n\\'t another man who \\'ll treat her as white as her own brother did . Go on . Let her have her clothes . All right . Get \\' em , and get out . Hey , Dot . Hey . - Where you goin \\' ? - With the kid , you big bully . You called her a tramp , did n\\'t ya ? Just because she stayed out until 4:00 in the morning and you suspect where she was . Well , I stayed out until 4:00 in the morning , and you knew where I was . So I got a pretty good idea what you think of me . I \\'ll see you in the cemetery . Go on , Dot . Wake up , Dotty . Wake up . Hello , Floyd . Ma just hollered across the air shaft ... and said that she was makin \\' breakfast for a new bride . Are you a new bride ? Yes , darling . I \\'m going to be today . - What \\'s an old one @ @ @ @ @ @ @ @ @ @ on . Run along and play now . Aw , I wan na see Dotty get out of bed . You get out of here . I wan na see Dotty get out of bed . And at his age . - What time is it ? - Almost 11:00 . - I phoned the store and said we were both sick . - Has Eddie come yet ? - Nope . - He has n\\'t ? - Not yet . - I wonder why he does n\\'t come . - Maybe it \\'s \\' cause he does n\\'t know I \\'m here . - That \\'d be a good reason . He certainly would n\\'t come to see me . Oh , he does n\\'t really dislike you , Edna . No , not dislike . He hates me . And it is n\\'t just an average , everyday , amateur kind of hatred either . I \\'ll bet that guy spends hours practicing hating me . Aw , that \\'s just his way . You know , he \\'s kind of funny . That would be great . @ @ @ @ @ @ @ @ @ @ , gee , Edna , it was swell the way you came through for me last night . - I \\'m awful grateful to ya . - And I \\'m grateful toJim . - He saved my life . - How ? Just suppose he did n\\'t turn out to be a heel last night . I \\'d have been married to him in three months , and after being nicely cemented ... with a wedding ring , the church service and everything ... I \\'d have found out what he really is . Yes , sir . He saved my life- \\' cause they send you to the chair these days for killing your husband . In the name of goodness , what are you doing ? - I \\'m trying something , but it wo n\\'t work . - What wo n\\'t ? I put some black ink in the white milk ... and the white milk turned black . But when I put the white milk in the black ink , the black wo n\\'t turn white . Put that ink away and clean up that mess @ @ @ @ @ @ @ @ @ @ what time Is It now ? It \\'s a little after 11:00 . - Where \\'d you put my stockings ? - Why , I put \\' em , uh-Is this Mrs . Cook \\'s boardinghouse ? Well , is Mr . Collins there ? Collins . Eddie Collins . He what ? He moved away ? Well-Well , he lived there last night . He moved away this morning ? Well-Well , did he say where he was moving to ? What \\'s the matter ? - He \\'s walked out on me . - Do n\\'t be a goof . He has . Oh . I wish I was dead . We all get that wish someday . Call up his store . Do you know the number ? Schuyler 4-6583 . Schuyler 4-6583 . And hurry it up , deary . There \\'s a fire . Here . Hello ? Hello , Lathrop Radio Shop ? Well , can I speak to Mr . Collins , please ? Eddie Collins . Never mind the wisecracks . He \\'s there , I wan na speak to him . @ @ @ @ @ @ @ @ @ @ to . Fresh guy trying to flirt with me . He what ? He was fired ? What for ? He said he was fired for robbin \\' the cash register . Well , you \\'re all right then . If he \\'s lost his job , it \\'s a cinch he \\'ll be here to marry ya . I ca n\\'t tell whether the fella was kiddin \\' or not . There he is now . See ? All of your troubles for nothing . Oh , gee , and I \\'m not dressed or anything . Oh , give me those stockings . I do n\\'t wan na subscribe to any magazines . I do n\\'t care if you \\'re working your way through the penitentiary . - Was that him , Edna ? - No . A book agent . Oh . What am I gon na do ? Now , stop worrying . If Eddie is only half the guy I think he is , he wo n\\'t let you down . That \\'s the trouble with us women . If we \\'d only realize that-Something @ @ @ @ @ @ @ @ @ @ ? - I \\'m cookin \\' it for ya . - A whole pound of butter . I told you a piece of butter , not a pound of butter . A pound \\'s a piece . I \\'ll go , Edna . Oh , darling , you \\'re driving me crazy . Get out into the hall . You \\'ve done all the damage in here that you can . See if you can ruin the wallpaper . - Shall I do it with a knife ? - Get out of here ! - Was n\\'t him , huh ? - No . A man selling-For goodness \\' sake , take that long face off . This is your wedding day , not your funeral . He \\'ll be here . There \\'s a mistake somewhere . That \\'s all . Yeah , last night- that was the mistake . Do n\\'t be silly . He \\'ll be here . Oh , but I love him so much . Well , you can still love him and have a cup of coffee in your stomach too . I do @ @ @ @ @ @ @ @ @ @ anything again . - Fine . Then have a glass of milk . - I do n\\'t want any milk . Oh , come on . Have a glass of milk . It \\'ll do you good . You know , the first thing that you have to learn is-I \\'m getting hysterical . Open the door , Floyd . And if it \\'s a man selling coffins , tell him we \\'ll take two . Who \\'s dead ? Oh , Eddie ! - What \\'s the matter ? - Nothing . Say , listen . You \\'re going to be a married man . The first thing you have to learn is to get accustomed to your wife \\'s tears . I was over to your house , and they said you was n\\'t there . So I took a chance and come here . I called up your house , and your landlady said that you \\'d moved . I got a bigger room across the street . My landlady was sore . That \\'s why she would n\\'t tell you where I went . And they @ @ @ @ @ @ @ @ @ @ stealing . They were kidding \\' ya . Oh , Eddie , I \\'m so happy . - Okay . - Now maybe you can eat some breakfast . We \\'ll eat downtown . We got ta get goin \\' . Go get your things . Her master \\'s voice . - Do you know how to get there ? - I \\'ll find out . - I \\'ll tell ya . You take the subway to City Hall . - Yeah ? When you get out of the train , you walk straight ahead and turn to the right . There are two exits there . You take the one to the left . Understand ? - Yeah . - Then when you get up on the street ... - you walk straight ahead-- I \\'m gon na take a cab . I \\'ll tell you which cab to take . Hey . Whose wedding is this , yours or mine ? Oh , Edna \\'s just trying to help us , Eddie . You was n\\'t on the other side when they had the war , were ya @ @ @ @ @ @ @ @ @ @ I was wondering how they ever got along without you . I phoned my orders over . Wo n\\'t you come down and see us get married ? No . I hate those things- deaths and funerals and things like that . Oh , gee , Edna . I can never thank you enough for all you \\'ve done for me . Oh , that \\'s all right , kid . I only hope you \\'re gon na be awful happy . If she ai n\\'t , you \\'ll hear from me , you big stiff . Okay . - Good luck . - So long . Good-bye . Oh , darling ! Night , now . - Hello , darling . - Hello . - What \\'s this ? - Oh . Just a couple of hunks of candy . Oh , gee , Eddie . - You know why ? - Sure . Because you love me , do n\\'t ya ? Ah-- Oh , say it . - What ? Say \\' \\' I love you , darling . \" Right out in all the light ? @ @ @ @ @ @ @ @ @ @ . Ten weeks ago today we got hitched . Aw , gee , it was sweet of you to bring me the candy . And I got news for ya . I found a store . The boss is gon na lend me a hundred bucks ... and with the 650 I got saved up , I can swing the deal . He \\'ll let me have all the radios I want on time . - What do you know about that , huh ? - That \\'ll be swell . Of course , we may have to pinch nickels for a while but ... in the end , it \\'ll all be jake . - Gee whiz , I \\'m a happy guy . - Are you , Eddie ? Yeah . I been thinkin \\' about having my own store for over two years now . And while I ai n\\'t much on tossing \\' this baloney ... and all that mush stuff ... a guy could have a worse wife than you . - Ya little squirt . - Oh , Eddie . - I love you @ @ @ @ @ @ @ @ @ @ your hat and coat on , and I \\'ll take you over and show you the place . - Oh , I ca n\\'t now . - Why not ? I \\'m waitin \\' for Edna . She phoned she \\'ll be up in a little while . - Ah , what does she want ? - Well , I wanted to ask her advice about something . - About what ? - About-Well , about the store , see what she thinks of it . Oh , gee . It \\'ll be tough if she do n\\'t like it . Oh , Eddie , that \\'s not a nice thing to say . Here she is . Now , please do n\\'t be mean to her . Come in . - Hello , Dot . - HI , Edna . How \\'s the grouch ? I thought they sent you down to Washington ... so you could tell the president how to run the country . Ooh . They sent the president up to see me . Oh , do n\\'t mind him , Edna . - He \\'s @ @ @ @ @ @ @ @ @ @ looks it . - He \\'s gon na open his own store soon . - Hmm ! I heard Wanamaker \\'s were going out of business . They probably figured the competition would be too much for \\' em . I \\'m going down to the corner and get a paper . Come on . Sit down . I \\'ve got so much to tell you . - Still in love with him ? - Oh , I \\'m just crazy about him . Edna , I \\'m going to have a baby . Oh , Dot . - I \\'m afraid . - Oh , do n\\'t be silly . - My mother had eight of_\\'em . - Yeah . My mother died having me . Yes , but things are different now . You know , the hospitals are better , and the doctors and things . No girl minds it anymore . - What does Eddie say ? - He does n\\'t know . Well , why do n\\'t you tell him ? Well , his heart \\'s so set on having that store . It \\'ll @ @ @ @ @ @ @ @ @ @ do n\\'t know what to do . Edna , I \\'m so worried . You know , if the store \\'s gon na make Eddie happy , I want him to have it . - Sure . - When I think of what happened to my mother-Unless I had everything of the best- you know , the best doctors and everything-- I \\'d be frightened . - You poor kid . Now listen . This fella you \\'re married to is all right . He \\'s 100 ? /o . I know what \\'s the matter with him . He \\'s one of those sensitive eggs . Of course , he may not like me , but what the heck . Napol ? on had a couple of enemies too . Now you tell Eddie tonight . And if I know anything about men ... he \\'ll be stopping strangers on the street tomorrow , bragging about it . - Do you really think so ? - Oh , sure . All men are alike . They puff themselves up . You \\'d think they \\'d done something . - @ @ @ @ @ @ @ @ @ @ . - He will be . I do n\\'t know though . He \\'s always yelling about living in a tenement ... and what a sin it is to have children if you ca n\\'t afford to give \\' em everything . I do n\\'t think I read anything in the papers about him being born in the White House . He was awful poor . That \\'s why he thinks like that about it . Here he is . Do n\\'t say anything . - You still here ? - No . Dld you get your paper , Eddle ? I got down there , and I did n\\'t have any change . You can get one next week . They \\'ll have a dozen new murders for you by then . Here , let me fix that tie . - It looks like a unbent pretzel . - The tie is-You only wear it . Other people have to look at it . I do n\\'t know how you ever picked this jane out for a friend . - She \\'s the dizziest dame I ever seen . @ @ @ @ @ @ @ @ @ @ , Eddie . Look what I got ! Look what I got ! - Where \\'d you get all this stuff ? - Eddie give us 60 cents to buy it . Aw , he \\'s crazy . It was - Sixty-Oh , what did you wan na come up here for anyway ? Go on outside and play . Go on . Go on . Go on now . Get out of here . Thanks a lot , Eddie ! Gim me a slice of that cone down there . Poor kids . I found \\' em downstairs in that dark hallway tryin \\' to play games . They ai n\\'t got a chance in life . Eddie , did you give him the 60 cents ? Listen , I got better things to do with my money ... than throw it away on a lot of kids . Say , you \\'re a swell egg . What are you gon na sell in your radio store ? Never mind . The way you run people \\'s business for them ... if you start butting \\' in , I @ @ @ @ @ @ @ @ @ @ Well , I \\'m going . - Remember now . Tell him . - Tell him what ? Oh , nothing , Eddie . She \\'s got a secret for ya . Oh , she \\'s got a secret for me , but you know it . Geez , you \\'re runnin \\' my house for me , too , I see . - Sure . Bye , darlin \\' . - See you tomorrow . - Bye , grouch . - So long , dizzy . - What \\'s the big secret ? - I do n\\'t know whether you \\'ll like it or not . Hey , listen , kid . I \\'m so happy about the store , I \\'d like anything . Oh . Well ? What is it ? Eddie , I \\'m going back to work . - Back to work ? - Yeah . Hey , listen . No wife of mine is goin \\' to work . - What \\'d be the harm ? - I \\'ll do all the work that \\'s to be done in this family . - What @ @ @ @ @ @ @ @ @ @ Well-Well , it gets kind of lonesome staying \\' here all day all alone . Ca n\\'t you go to picture shows and things ? You just said we \\'d have to pinch nickels . Yeah , but I did n\\'t mean we \\'d have to pinch \\' em that hard . - You do n\\'t like livin \\' in just one room . Is that it ? - Oh , it \\'s all right . But I wish we had a flat of our own or something-you know , our own furniture . Ca n\\'t you see , Eddie ? If I went to work , you could have your store just the same . And with the money I make , we could-Do you think I \\'d take money you worked for ? - Oh , it \\'d be all right . - Not with me , it would n\\'t . My idea of a husband is a guy that looks after his wife and takes care of her ... and sees that she do n\\'t want for nothin \\' . If I ca n\\'t do that , @ @ @ @ @ @ @ @ @ @ money- you work all day- or let you use it for something that I ought to be payin \\' for . Listen . They got a name for guys like that . Oh , Eddie , I did n\\'t mean to make you sore . I ai n\\'t sore . But I ai n\\'t as happy as I was . You can lay that on a line . It was our 10 weeks anniversary . And I had the store all picked out and everything . And , say , when I come in here tonight , I was walkin \\' on air . This kinda crumbs it all up . Gee , I did n\\'t know you was n\\'t satisfied . Oh , Eddie , I am satisfied . It \\'s all right . Let \\'s not talk about it . - I \\'ll bet that Edna jane put that idea in your nut . - No , she did n\\'t . Let \\'s not say any more about it . You \\'re crazy to have the store , and it \\'ll make you happy . Well , that @ @ @ @ @ @ @ @ @ @ . I \\'m the husband , and it \\'s my job to make you happy . If a husband ai n\\'t for that , he ai n\\'t for nothin \\' . Gee , I told the real estate guy I \\'d meet him tonight . I ca n\\'t make up my mind about that sign . \\' \\' Eddie Collins \" or \\' \\' Edward Collins \" ? Course , \\' \\' Eddie Collins \" is all right for a saloon or somethin \\' like that . Nope , it ai n\\'t got class enough for a radio store . I \\'ll be back in 15 or 20 minutes . And I still think that Edna jane put that idea in your nut . I was afraid you was n\\'t comin \\' . What \\'s the idea of phoning \\' me to meet you here ? - Dot and me are movin \\' here . - You \\'re movin \\' here ? Sure . I got new furniture and everything . That \\'s why I asked you to come . I thought maybe you \\'d help me put \\' em @ @ @ @ @ @ @ @ @ @ in anyway , so I figured out you might as well do it in the beginning . You \\'re moving here ? Yeah . Dot told me that secret . What \\'s that got to do with your moving and spending your money ? She wanted to go to work . - You mean that \\'s the secret she told you ? - Yeah . So I put two and two together and figured out why . She wanted a home with nice furnishings and things . - Say , how much did all this cost you ? - I shot the bankroll . - Oh , no . - Yeah . - All you \\'d saved ? - Sure . This is a swell joint . The furniture man is takin \\' charge . I bought everything new- from soup to nuts . When it \\'s finished , it \\'ll look just like a home that somebody \\'s lived in for a long time . Some surprise for the kid , huh ? Yeah , but what about your store ? Well , I figured , why let her @ @ @ @ @ @ @ @ @ @ build up a business ? I might \\'ve made a flop of the store anyhow . Not that I would \\'ve . I \\'d have made a success of it . Do n\\'t get that idea in your nut . And you spent all your savings ? Sure . She \\'s worth it . She \\'s a great kid . You \\'ll have me crying in a minute , Eddie . What for ? You would n\\'t know . Come on . You never saw anything sweller than that parlor set I bought . Come on . Wait till you get a load of the bedroom . It \\'s got sheets and pillowcases and beds and everything in it . And the kitchen- We got a lot of pots and pans . It \\'s gon na be like a party . See , I \\'m gon na tell Dot that Pat and Sue have got a new flat ... and are havin \\' a housewarming and we \\'re invited . I asked a lot of the gang , and they \\'re in on it too . It \\'s gon na @ @ @ @ @ @ @ @ @ @ parties . And the big payoff comes when I say ... \\' \\' Well , kid , how do you like your new home ? \" What do you think of the idea ? - I do n\\'t know . - You did n\\'t think it up . That \\'s why . Hey , wait a minute . Do n\\'t put that great big chair over there by the divan . - That \\'s where the chair belongs . - No , it is n\\'t . It belongs over on this side . Have n\\'t you got any sense of balance ? - You would get your mouth in it some way or another . dd Hey , hey . Wait until they get here . Aw , have a heart . I have n\\'t had any supper . And do n\\'t drink up all the punch . Here they are . Listen , Pat . Remember , this is supposed to be your home . You \\'re the host . - Right . I \\'ll take off my coat and collar . - That ai n\\'t funny . - @ @ @ @ @ @ @ @ @ @ door . Go on . I did n\\'t even know that Pat had moved from 92nd Street . Sure . They got a swell place here . - Hello , Dot . How are you ? - Hello , Sue . - Hello , Eddie . - I did n\\'t know that you \\'d moved . Oh , I \\'ve been here a week . Come in . Hi , everybody . - Hello , Chad . How are you ? - Hello , Dot . - Hello , Pat . How are you ? - Let me take your coat . - Have a schnapps . - Oh , no , thanks . Oh , gee , Sue , this is swell . Pat must have murdered a millionaire or something . Hey , you ai n\\'t seen nothin \\' yet . Come on out here and I \\'ll show you the kitchen . You \\'d think this was his house . Come on . Let \\'s eat . A closet , and it \\'s got glass in it too . And a sink and a washtub . And @ @ @ @ @ @ @ @ @ @ where you keep your salt and pepper and spices and things . In the one marked \\' \\' Salt , \" you keep the salt . In the one marked \\' \\' Pepper , \" you keep the pepper . Gee , Eddie , ai n\\'t it swell ? Look at that darling table . The guy said it was the breakfast nook . Oh , Eddie , you think we \\'ll ever have a place like this ? - Would you like to live here , kid ? - Oh , gee , would I ? - Of course , we could n\\'t afford-- Why not ? Well , we could n\\'t afford the money now . Well , why now ? - Well , you wan na get your store first . - Yeah . Oh , yeah . That \\'s right . Say , wait till you get a load of the bedroom . Come on ! Say , if Eddie can get Dot a home like this , why ca n\\'t you get me one ? I thought that \\'d crop up . - Look at @ @ @ @ @ @ @ @ @ @ , kid . There \\'s a bed . You ca n\\'t buy a better bed than that- 65 bucks . - But how did you-- Oh , Pat told me . Come on . Feel it . Just feel it . Ai n\\'t this a bed ? Not like that old egg crate we sleep in . I \\'ve never seen you so enthusiastic . The house has sure made a hit with you . Come on . Now I \\'m gon na show you somethin \\' . Just grand . There \\'s the bridges over there . And there \\'s all New York to pick from . Ai n\\'t the lights great ? And the East River . And stars . Are n\\'t they beautiful ? Not phony one\\'s either . Gee , a roof like this would be a swell place for ... kids to play . Would n\\'t it , Eddie ? You know , they could get plenty of fresh air ... and their mothers would n\\'t have to worry about streetcars ... and taxis and trucks and things . You know , rich kids could @ @ @ @ @ @ @ @ @ @ it , do n\\'t you , kid ? Oh , I think it \\'s just grand . I \\'m awful glad for Pat and Sue . Okay . We better get back to the bunch now . You said it . Sue , it \\'s the grandest flat I ever saw . - I \\'m awfully glad you like it , Dot . - Oh , it \\'s sweet for anything . Dot , sit down . Here goes . Well , kid , it \\'s yours . - Mine ? What do you mean , mine ? - Sure . Yours . This is where you \\'re gon na live . I bought it for you . - You bought it for me ? - Sure . You know that secret about goin \\' back to work ? Well , I doped it out that you was n\\'t satisfied where you \\'re livin \\' . So this is the answer . - Well , what about your store ? - Thls Is It . You spent all your money for this ? I shot the works . - You @ @ @ @ @ @ @ @ @ @ n\\'t owe a nickel on It . Well , what do ya say ? I do n\\'t know . Do n\\'t seem to make such a hit with ya now . Naturally , Eddie . She \\'s surprised . You ca n\\'t get a thing like this through your head in a minute . - Did you know he was doing it , Edna ? - Yeah , I helped him fi ? x It up . Why \\'d you let him spend all the money ? Well , folks , it looks like a bust . Oh , no , it is n\\'t , Eddie . I think it \\'s just great . I \\'m tickled to death . - You \\'re the swellest husband any girl ever had . - Okay . Dot \\'s only disappointed for you , Eddie . She was so anxious for you to have the store ... she did n\\'t want you to spend the money for anything else . - That \\'s right . - Sure . That \\'s why , dear . You know I think it \\'s just swell . @ @ @ @ @ @ @ @ @ @ , a long time dead . Live while ya can . That \\'s what I say . When I think of the way my folks used to live . They did n\\'t have enough money to support themselves ... so they go and have nine kids . My old lady used to scrub floors in an office building . 4:00 every morning she went to work- sick or well , summer or winter . I can see her goin\\'out when It was 20 below zero ... with a cough that \\'d tear the heart out of ya . And for what ? To bring up a couple ofklds and die- dle before they was ever any comfort to her . Not for Dot . Every nickel I make , she and I are gon na spend on ourselves . - My sister died bringing up-- Oh , stop it ! Ca n\\'t you stop it ! You \\'d think there was nothin \\' else in the world to talk about . All right . There , there , dear . Shh . What \\'s wrong ? Dot \\'s going to @ @ @ @ @ @ @ @ @ @ , Eddle . No , she \\'s just a little hysterical . That \\'s all . We should n\\'t have talked about those things . - That \\'s right . I guess we shouldn\\'t . - Sue told me , but I forgot . Gee , everybody in New York seems to know about it ... but the only guy that \\'s interested . Oh , gee , Eddie , I wish you \\'d let me do that . Do n\\'t be crazy , will ya ? You \\'re goin \\' to the hospital in a few weeks . You know the doc told you not to do any hard work . I do n\\'t think he knows what he \\'s talkin \\' about . I do n\\'t like him . - You want me to get you a different one ? - No . If you ca n\\'t get the best , he \\'s as good as any of the others , I guess . He \\'s all right . I worry . That \\'s all . - About what ? - About everything . You having to do @ @ @ @ @ @ @ @ @ @ and pinching \\' every nickel the way you have . I do n\\'t want a baby any more than you do . All right , all right . Now you told me that a thousand times . Let \\'s not talk about it . Is there any other doctor you got in mind ? There was somethin \\' in the paper about a society woman . The doctor \\'s name was Burgess . His picture was there . Gee , he was awful kind-lookin \\' . Not that we could get him . He \\'s only for millionaires . As long as you ca n\\'t get him , you might as well pick out the best . Whoo-ooh ! Dot ! Now do n\\'t bring her in here . I do n\\'t want her razzin \\' me . - Good morning . - Hello , Edna . - Hello , Eddie . - So long . Floyd made such a racket , I did n\\'t wait for breakfast . - Got a cup of coffee ? - Sure . Hmm . You got a new washerwoman , I see . @ @ @ @ @ @ @ @ @ @ n\\'t got enough bluing in this water . I knew somethin \\' would be wrong with it when you seen it . - Here . - Thanks . Got a cigarette ? No , I cut \\' em out . They was puttin \\' my throat on the bum . Come on , Edna . Drink this in the other room . Yeah , go on . Beat it , will ya ? You give me the willies . That \\'s good . - How do you feel ? - Oh , all right . - How do you feel when you feel bad ? - I worry . Yeah , and you worry other people too . You worry him . Your child \\'ll probably grow up to be a radio broadcaster . Gee , It \\'s 10 minutes to 8 . ? 00 . I got ta blow . Do n\\'t touch those things . I \\'ll finish \\' em when I come home . - Good-bye , darling . - So long . - So long , meddlesome . - Good-bye , grouch . Break a leg @ @ @ @ @ @ @ @ @ @ me so miserable . - What ? - He \\'s so square about everything . Says smoking hurts his throat . He cut it out so he could save the money . It does n\\'t seem fair that he should give up all his fun just because of me . Yeah , it \\'s tough on husbands . Nobody knows what a husband suffers when his wife has a baby ... and a big juicy raspberry . It must be great for a woman when everything is right- you know , when she can afford a doctor like that man Burgess ... and when she knows her husband wants the baby . You want it , do n\\'t you , Dot ? I \\'m crazy about it . That is , I would be ... if it were n\\'t for Eddie and if I was n\\'t afraid . - How do you know he does n\\'t want it ? - The things he says . I can feel it , too , in the way he acts . He does n\\'t like children . Coochie-coo . Coochie-coo . Coochie , @ @ @ @ @ @ @ @ @ @ it ? - Only seven months . Of course , all parents are proud of their children . But honestly , even if this was somebody else \\'s kid ... I \\'d have to admit it \\'s the cleverest youngster I ever saw . - Do n\\'t you think so , Mama ? - I honestly do . Hey , lookit ! The little son of a gun \\'s got ahold of my finger . That \\'s what I mean . Is n\\'t that clever ? - She \\'s a darling . Look at her . - Coochie-coo . Coochie-coo . Coochie , coochie-coo . Coochie-coo . Coochie-coo . Hey , Eddie . Eddie . Eddie . - Has Mr . Randall \\'s set been fixed for him ? - Yes , sir . - Gee , that \\'s a great kid you got . - We think so . - Say , Mr . Lathrop ? - Yes ? Do you think that a woman havin \\' a baby ... you know , that she has n\\'t always wanted ... could-could learn to love it ... you know , @ @ @ @ @ @ @ @ @ @ Your wife , eh ? She \\'s afraid . Say , there ai n\\'t any danger in these things , is there ? Well , lots of women manage to have babies ... without calling out the militia . There \\'s no danger when they have the proper attention . She should be made to have confidence in her doctor . That \\'s just it . My wife ai n\\'t got any . That \\'s not right . - She speaks of a Dr . Burgess . - Burgess ? You \\'d have to be a millionaire to have him . - Goin \\' to lunch , Eddie ? - Nah , I cut lunches out . I was gettin \\' too fat . - This Dr . Burgess is good , huh ? - And expensive . When a king is born , they send for him . I wonder how you could get in to see a guy like that . - Mr . Lathrop , will you take a look at this set , please ? - Oh , yes . Certainly . Hey , Joe . @ @ @ @ @ @ @ @ @ @ Club ? - Yeah . Do you suppose he could get me on in one of them preliminary fights ? Say , some of those boys are pretty good . - What do you wan na take a beatin \\' for ? - Ten bucks a round . Four rounds- 40 bucks . I can use that dough swell . - I can fix it for ya , but I think you \\'re nutty . - Okay . 7:00 . Say , ai n\\'t that job of yours got any hours ? A guy wanted his radio fixed , so I did it on the side . I should think you \\'d try gettin \\' home ... with your wife goin \\' to the hospital and everything . - How is she ? - She \\'s worrying herself sick . That \\'s how she is . But , gee , she ought n\\'t to do that . I do n\\'t think she knows that . You ought to tell her . - You had any supper ? - I ai n\\'t hungry . Gettin \\' your beauty sleep , kid @ @ @ @ @ @ @ @ @ @ would hurt you to hang around once in a while . Okay . That \\' \\' okay \" does me a lot of good , do n\\'t it ? Gee , kid , you know I \\'m for you , do n\\'t ya ? Well , it do n\\'t look like it . You have n\\'t spent an evening in the house for two weeks now . I do n\\'t mean to be a grouch , Eddie , but ... I \\'m frightened . Is it the doctor ? Is that what makes you afraid ? Oh , he \\'s all right , I guess . It \\'s my fault . You know , you have confidence in some people , and others you have n\\'t . There \\'s no reason . You just have . That \\'s all . Sure , I know how it is , kid . Eddie , you \\'re gon na stick around and go to the hospital with me tonight , ai n\\'t ya ? You betcha . No . Wait a minute . - I tell ya , I got ta go out-- @ @ @ @ @ @ @ @ @ @ - Oh , no . Just for a half an hour , kid . - Ca n\\'t even stay with me tonight . I \\'ll be right back . Honest I will . Mmm . Your honey is searching among the \\' \\' bees . \" Hello ? Yeah , this is his secretary . Mm-hmm . Who wants to talk to him ? Joe ? - There \\'s a Joe wants to talk to you . - Hello , Joe . Tonight ? Sure I \\'ll be there . Hey , that \\'s great . It comes just at the right time . Thanks . So long . I \\'ll be a little longer now , but I \\'ll be back at 9:00 . I got another fella to see now . - You pick a swell night to make a date . - You sure do . This ai n\\'t a date . Honest it ain\\'t . - I \\'ll be back as quick as I can . - Give my love toJenny , will ya ? - WhatJenny ? - WhateverJenny happens to be there . Okay @ @ @ @ @ @ @ @ @ @ hospital . But I \\'m sure the doctor you have is competent . It ai n\\'t that . You see , she \\'s just a kid herself , and she \\'s frightened . Her mother died that way . She read about you In the paper , Dr . Burgess . Well , of course , we never thought we could get ya . She was sayin\\'that It would be swell ... If she could get a guy like you to be with her . Did you tell her you were coming to see me ? No , sir . She and me ai n\\'t been gettin \\' along very well lately . I \\'ve been workin \\' nights . I did n\\'t tell her about it . She thinks I \\'ve been chiseling \\' on her , I guess . I ca n\\'t tell things like that . I \\'m kind of a mug that way . Of course , I could n\\'t pay you what you \\'re worth . But I tell ya . I make 45 bucks a week , and pick up 15 workin \\' nights @ @ @ @ @ @ @ @ @ @ fight tonight . And I got 381 saved up , see ? - Are you a prizefighter ? - No , sir . But a friend of mine \\'s gettin \\' me on ... in the preliminaries over at the Empire Club . I get 10 bucks a round , and I do n\\'t mind takin \\' a beating for 40 bucks . Llsten , Dr . Burgess-I always been kinda proud , see ? You know , pay my own way , take nothin \\' from nobody . But I ai n\\'t that way now , Doc . I \\'m beggin \\' you . If she knew she was gon na have you with her ... everything would be all right . But as it is ... she \\'s so sick from worry-I \\'m afraid maybe she \\'ll die . Will you do it , Doc ? I \\'ll give you the $381 I got saved up ... and I \\'ll pay you back dollar for dollar . Please do it , will ya , Doc ? So help me , God , I\\'ll- I \\'ll lay down my @ @ @ @ @ @ @ @ @ @ Thanks . - I guess I \\'m kinda nervous about this child thing . - Mm-hmm . Kinda goofy , huh ? Gee , Doc , I \\'m sorry I have n\\'t got a cigar or somethin \\' to offer ya . I cut out smokin \\' . It was hurtin \\' my throat . This is a swell dump you got here . Oh , I did n\\'t mean-Okay . Flght ! - He said 9:00 . - Do n\\'t worry . You \\'d think the least he could do would be to be with me tonight . Now , now , now . Do n\\'t get yourself all worked up . One , two-Get out . Get out . Hey , Mike , knock that fella out , will ya ? This ai n\\'t a slaughterhouse . I wanted to give him a break , but I \\'ll put him away right at the next gong . Aw , why do n\\'t ya quit ? I know what I \\'m doin \\' . I would n\\'t take a beatin \\' like that for a hundred bucks . Yeah @ @ @ @ @ @ @ @ @ @ me . One , two , three , four ... five , six ... seven , eight , nine-Uh ! Do n\\'t knock me out , will ya , buddy ? I need the cash . - My wife \\'s gon na have a kid . - Well , why did n\\'t you tell me ? I guess I ca n\\'t make it though . Hold on to me . Take a deep breath . Break it up . Thanks . Good-bye . I \\'ve arranged for the hospital . The cab will be here at 11:00 . I never thought Eddie would do this to me . But , darling , he \\'s only an hour late . Some hours are lifetimes . He \\'s walked out on me . - When \\'s the kid expected ? - Any-Anytime now . - I got two of them . - Yeah ? How long before they get to know ya ? Mine knew me inside of two months . - But of course , mine was kinda extra bright . - Yeah . Oh , gee , kid , I @ @ @ @ @ @ @ @ @ @ bad about you . - I could n\\'t help it . Could n\\'t spend a couple of minutes with me , tonight of all nights ? You know how nervous I am . But you could go to some speakeasy with a bunch of fellas ... and get your face all battered up in a drunken brawl . Is that what ya think ? That \\'s what it looks like to me . Okay . Do you want me to go with ya ? You do n\\'t have to bother about me anymore at all , Eddie . I got Burgess for ya ! - How about it , Doctor ? - Congratulations . Twins . - Twins ? - Twins . - Boys or girls ? - Both . - Twins ! - Yes , sir . The baby business is picking up . Sometimes I was here , and I was the only one . - This your first ? - Yes , and my last . I would n\\'t go through this again for all the money in the world . How many kids have you got @ @ @ @ @ @ @ @ @ @ n\\'t know . You do n\\'t know ? I know I got six . What \\'s happening upstairs , I ca n\\'t tell ya . Here I am . You \\'re the father of a fine baby girl , Mr . Vernon . - Oh , well . - Oh ! - Put him over here on the-- It was too much for him . - He \\'ll be all right . - What \\'s the matter with him ? - I \\'ve got some smelling salts . - That \\'s fine . Give him some . - He \\'ll be all right . - He \\'s as white as a sheet . He \\'ll be all right in a minute . People kid about fathers , but they do n\\'t realize ... what a guy has to go through when his wife has a baby . If he had as many as I got , he \\'d stay unconscious . He \\'s coming to now . He \\'s fine . - What happened ? - You just had a baby . I would n\\'t go through this again for @ @ @ @ @ @ @ @ @ @ , or he \\'ll faint again . - It \\'s all right , Mr . Vernon . You come with me . - Hold him up . - Gee , I \\'m gettin \\' nervous myself now . Do n\\'t be nervous . Say , Mr . Linsky , I wan na ask you a question . My wife was n\\'t any too anxious to- to have this kid . Say , in two weeks , she will be crazy about it . - Is that straight ? - They always are . Be careful . Do n\\'t let her think that you are more concerned for the baby ... than what you are for her . Women get jealous under those conditions . You know , be interested , but not anxious . After all , you \\'ve known your wife for years ... and the baby is practically a stranger . Yeah , that \\'s right . Excuse me . I got ta phone my partner . Mr . Collins ? - Yeah ? - A boy . Okay . Your wife will see you in just a @ @ @ @ @ @ @ @ @ @ you know about that ? My kid \\'s 22 hours old already . They get old very quickly when they \\'re young . - Hello , Doctor . How are they ? - Fine . Say , Doc , I \\'ve got 350 bucks here . - And I \\'ll give ya-- Yeah , well , I have your bill here . Now , I have another patient . I must hurry . - Good luck to you , my lad . - Thanks . Gee , he \\'ll never let me speak to him about money . It says paid in full . And here \\'s a check . \\' \\' Pay to the order of Mr . Edward Collins \\'s son- $50 . \" What does that mean ? He \\'s giving your boy $50 to start a bank account . And he would n\\'t let me give him anything . Gee . That \\'s a guy for ya , ai n\\'t it ? Oh , they \\'re just grand , Mrs . Linsky . Every time I have a baby , my husband gives me a new @ @ @ @ @ @ @ @ @ @ n\\'t have any more room . - What do you think of it ? - Oh . Oh , no , this is n\\'t yours . This baby \\'s six days old . She acts like she hates the child . I guess maybe she did n\\'t want it . Do parents hate children they do n\\'t want ? I heard of people like that . How do you like this one ? - Oh , it \\'s darling . - Oh , no . This is young Mussolini . dd Gee , it \\'s funny when you think of it , ai n\\'t it ? Everybody in the world was once just a little bundle like that . - Is n\\'t this one cute ? - Oh , it \\'s lovely . Just look at those little hands . Did you ever see such an adorable nose ? Gee , it \\'s swell . Do n\\'t you want to hold your baby ? Is this mine ? - Honest ? Oh . - Thls Is It . I would n\\'t cry over It , Mrs . Colllns . It @ @ @ @ @ @ @ @ @ @ . No ? Well , it \\'s the first time this baby was ever born . You can come in now . Hello , kid . - How do you feel ? - All right . Thanks for sending me the flowers . Okay . - Is that it ? - Yes , that \\'s it , and it \\'s no \\' \\' it . \" Well , I did n\\'t mean it that way . Let \\'s not talk about it . - That suits me too , kid . - I thought it would . We \\'ll take him back to the nursery now . I asked Dr . Burgess how we happened to get a fine doctor like him . He just laughed and said that you \\'d tell me . Oh , my boss knew him . He did it for him . - He give me a check for the baby \\'s bank too . - He did ? - Was n\\'t that swell of him ? - Yeah . Those big guys do a lot of work for charity . So you think of @ @ @ @ @ @ @ @ @ @ I-Well - Gee , everything I say seems to be wrong . Oh , Eddie . I \\'d give anything if- well , if things were different . Aw , everything \\'s gon na be all right , kid . We ai n\\'t gon na stop living just because we got a baby . You and me is gon na have a good time , the same as always . Why , In six months we \\'ll have forgotten we got a kid . Please go now . I \\'m tired . Sure . - When \\'ll you be home ? - In about two weeks . Well , hurry it up . I \\'ll feel like stepping \\' out a bit . - So long , kid . - So long . I \\'ll be back every day . Oh , Mrs . Linsky , she \\'s getting bigger every day . What are you going to call her ? I \\'m calling her Shelly , after my mother-in-law . Her name was Esther , but it \\'s close enough . Well , how are all the mothers today @ @ @ @ @ @ @ @ @ @ Is the cab downstairs ? - Yes . Are you ready ? Mm-hmm . - Are you leaving now ? - Yes . But I heard you tell your husband that you were going tomorrow . - I want to surprise him . - Oh . Say , listen , kid . - Have you thought this thing over ? - Yep . I could n\\'t live with a man that did n\\'t like his own child . All he thinks about is stepping out . I could n\\'t go back to Eddie for anything . I \\'d get to hate him . Well , it \\'s your funeral , kid . Well , what are you going to do with that ? Well , I thought maybe the kid would like to fool around with it . What ? A two-weeks-old baby ? Well , it \\'s only a little balloon . The doctor \\'s in the ward . You \\'ll have to wait a few minutes . - Dr . Gibson ? - Yes ? Just a minute , please . - Hurry , Nurse Parson . - @ @ @ @ @ @ @ @ @ @ . My baby . Something \\'s happened to my baby ! Somethlng \\'s happening to my baby . No , Mrs . Collins . It \\'s all right . - I want my baby ! I want my baby ! - He \\'s all right . - I want my baby ! - Please listen . I want my baby ! I want my baby ! I want my baby ! - I want my baby ! - What \\'s the matter , kid ? - Something \\'s happened to my baby . - Where ? In there ! It \\'s not your baby . There \\'s no danger . Your husband will get it . Now , everything is all right . - It \\'s all right . - He \\'s all right , kid . Look . Here he is . - He \\'s all right . - It was Mrs . Burns \\'s baby . Nothing serious . Just a little coughing spell . Oh , gee , kid . I did n\\'t know you liked it . And I thought all along that you did n\\'t @ @ @ @ @ @ @ @ @ @ in your nut . The things you said that night in the flat- you know , about your mother and everything . Well , I thought like that then . But gee , it \\'s different when you got your own kid . Hey , lookit . The little son of a gun \\'s got ahold of my finger . - Dr . Burgess said he had a finely shaped head . - He did ? Hey , look out there , buddy . You might have the future president of the United States in this cab . That \\'s what they all say . - Oh , yeah ? - Oh , Eddie . Now do n\\'t , Eddie . Hey . Let me hold him , will ya ? - You really want to , Eddie ? - Sure . Be careful . Put your arm under his head . - Okay . - There you go , baby . Say , Dr . Burgess was right about the kid \\'s head . That \\'s the best-shaped kid \\'s head I ever saw . He has a lovely @ @ @ @ @ @ @ @ @ @ give me the baby . He \\'s dribbling all over you . Dribbling ? That ai n\\'t the half of it . I \\'m wet clean through . But it \\'s okay . dddd dddd dddd dddd \\r\\n']"
      ]
     },
     "execution_count": 5,
     "metadata": {},
     "output_type": "execute_result"
    }
   ],
   "source": [
    "movie_raw['11.txt'][0:3]"
   ]
  },
  {
   "cell_type": "markdown",
   "metadata": {},
   "source": [
    "It seems messy, but nothing we can't clean. This basic method replaces some of the issues with the formatting, and prints the errors if any for debugging. Let us clean one of the raw text files.\n",
    "\n",
    "We ignore the non-unicode data for convenience in our first pass."
   ]
  },
  {
   "cell_type": "code",
   "execution_count": 6,
   "metadata": {},
   "outputs": [],
   "source": [
    "def clean_raw_text(raw_texts):\n",
    "    clean_texts = []\n",
    "    for text in raw_texts:\n",
    "        try:\n",
    "            text = text.decode(\"utf-8\")\n",
    "            clean_text = text.replace(\" \\'m\", \"'m\").replace(\" \\'ll\", \"'ll\").replace(\" \\'re\", \"'re\").replace(\" \\'s\", \"'s\").replace(\" \\'re\", \"'re\").replace(\" n\\'t\", \"n't\").replace(\" \\'ve\", \"'ve\").replace(\" /'d\", \"'d\")\n",
    "            clean_texts.append(clean_text)\n",
    "        except AttributeError:\n",
    "            # print(\"ERROR CLEANING\")\n",
    "            # print(text)\n",
    "            continue\n",
    "        except UnicodeDecodeError:\n",
    "            # print(\"Unicode Error, Skip\")\n",
    "            continue\n",
    "    return clean_texts"
   ]
  },
  {
   "cell_type": "code",
   "execution_count": 7,
   "metadata": {},
   "outputs": [],
   "source": [
    "clean_11 = clean_raw_text(movie_raw['11.txt'])"
   ]
  },
  {
   "cell_type": "code",
   "execution_count": 8,
   "metadata": {},
   "outputs": [
    {
     "data": {
      "text/plain": [
       "'@@216680 Hey , I\\'m talking to you Give me 600 dollars You wish ! That\\'s all we\\'ve left And you still go to gamble Shut up I earn the money Even that you can\\'t take it for gamble Shut up What\\'re you doing ? Bastard , I\\'m gon na beat you You gambling pig , I\\'ll beat the shit out of you You bitch I\\'ll beat you You dare to hit me with something ! I\\'ll kill you All you know is gambling I\\'ll beat you What\\'re you doing ? Let go of me Stop You\\'ll kill Mom Mom , are you all right ? Don\\'t touch my money Dad , where\\'re you going ? Go away Dad , don\\'t go Get lost Dad , come back You take Marble with you The way she\\'s now Do you want to give me trouble ? I\\'m in more trouble than you I am a woman I\\'m a sailor You take care of Marble Just gamble a bit less is enough to raise the kid No way Raising her would be like raising others @ @ @ @ @ @ @ @ @ @ take care of her Marry her when she grows up And you tell her to be smart Don\\'t marry a gambler Hey , you want a quarrel ? No , never This is the last time You\\'re SO right Don\\'t rush ... Everyone will have a share Why so crowded ? What\\'re they doing ? Worshipping ancestors With all those many things ? Hey , Granny , Come on Come and take a bite The dishes are good this year Right Marble , have some I\\'ll go get my share of pork This is a leg-washing basin Hey , how can you say that ? Let\\'s go get a share of pork Your share ? You wish ! That\\'s only for boys Yeah , I have a wee-wee . Have you ? Aunty Chiang Lin , one more baby this year ? Yes You are the best in your family Hey , you think it\\'s my will I was compelled by my stupid husband Come on . Let\\'s worship first Eat some roast pork We have a lot of it Honey @ @ @ @ @ @ @ @ @ @ baby ? Yes . Only with Chinese blood What do you mean ? It means I give you a green hat Oh , that goes with my clothes then Eat , no more talk ! So rude . Take it home Get up , go We\\'re going back home Be quick Honey Hey , make a stance Hold it ... Master , every time we\\'ve to stand in a pose If you could teach us something else please Okay Shaolin Masters learn poses for years Hold it ... Okay . I\\'ll teach you something new Watch me See . Get to it Seeing Shanghai Beach in Mainland Here I\\'m still watching it everyday I\\'m so tired Tired ? Let\\'s go to bed for rest I hate Chau Yun Fa the most He didn\\'t marry when I\\'m in China As soon as I\\'m here , he got married You can\\'t come to Hong Kong if you don\\'t marry me You said you are big boss Having a big business Now that I\\'m in Hong Kong ... I\\'m still @ @ @ @ @ @ @ @ @ @ for myself Then I ought to feel much more sorry You can\\'t even lay an egg This year I can only get one share of pork And you\\'re blaming me for it ? Damn monkey ... What\\'s going on ? A letter for you Oh , it\\'s you Your monkey glared at me fiercely Will you open it for me ? Read it to me . I am quite illiterate Stop it . Don\\'t bother him Let me help you . Give me the letter Postman\\'s duty is to deliver and read letters He reads for Aunt Jiao How can you compare to her ? Aunty Jiao is 83 years old Hello , dubbing room Martin ? Martin is working Are you lying to me ? Why should I lie ? I know he\\'s free . Get him You listen yourself then Hello , what\\'s the noise ? Is someone being raped ? Martin , your telephone Hello What took you so long ? Recording is going on Don\\'t mess around Yes , I know . I won\\'t Honey , @ @ @ @ @ @ @ @ @ @ did you spend so much ? I was late for work ... so I took a taxi On your way back don\\'t forget to buy vegetables Okay And buy a pair of slippers for me Got it , honey I\\'ll hang up . Bye Wouldn\\'t marry if you know your wife is so bad ! Take pity for the rest of my life Hey , what\\'s on your neck ? Nothing You look piteous She\\'s the piteous one The vampire is here Grandma , grandma Someone is fighting Grandma , grandma Come over quickly What happened ? Someone is fighting Fighting ? Yes Where ? Over there ! You see it ? I spare you this time . No next time Sorry , let me kiss you Cut the bullshit . Go to bed I need to work tomorrow Where at ? That villa over there ! Wow , it looks beautiful Who lives there ? Snow White Kidding , there\\'s no Snow White Oh , murder That\\'s the pig scream Why\\'s the pig screaming so late at night ? Shorty\\'s @ @ @ @ @ @ @ @ @ @ late ? So the government won\\'t know But how could a pig\\'s scream be so terrible ? Why ? Why aren\\'t you tired ? Why aren\\'t you sleepy ? Why haven\\'t you gone to bed ? Why are you so nosy ? Go to sleep ! Here\\'s the kitchen Oil . Salt . Sauce . Vinegar . All there Go tidy up Ask me if you have any question Come dance with me Come on Come Dance I\\'ll teach you . Don\\'t be afraid Damn dog ! Damn it ! What\\'s such a big deal to be rich ? Pay for my pants Sorry . I don\\'t mean to be rude Be careful next time Miss , it seems I\\'ve seen you somewhere Of course you have I\\'ll be the Miss Hong Kong in next contest I have nine posters at the Ferry pier And I\\'ve been handing out my photographs all around Never seen one as rude as you Chang Jin This girl is great . She lives in your village ? Of course she\\'s @ @ @ @ @ @ @ @ @ @ And the ugly one\\'s only live in your village Miss , I want my BALL back We\\'re back from Holland Shall we make a friendship ? My dad said she got married Married ? No way Look at her curves ! She sure knows how to keep fit Maybe she never takes birth-control pills Hey , pals Be nice to a girl , huh ? What do you mean ? You think you\\'re a kungfu master ? Get the ball back Okay We\\'re friends . If you don\\'t give me face At least for my Dad\\'s sake ... let\\'s not make a fuss of this Are you alright ? He hits me . Beat him Stop Just playing . Stop What\\'re you on about ? I\\'ve stopped . Why don\\'t you stop ? I\\'ll let you go , damn kid Don\\'t let me see you again I\\'ll kill you next time Let\\'s go , go Waste of strength ! Post-boy . You think you\\'re good We\\'re taking pity on you Yeah Go , go Your @ @ @ @ @ @ @ @ @ @ Sorry to bother you again Please sign Where\\'s Wang ? He went to Kowloon on business Oh , you\\'re bleeding ? Who hurt you ? Let me help you Suppressing anger is not a good thing What ? Let me clean your wound No Okay , I won\\'t touch you I\\'ll give you some water , do it yourself How often do you deliver each day ? What are you drawing so late at night ? Go to bed . You have class tomorrow Go to sleep now Dad , I\\'m going to school now Go now . Don\\'t be late Okay , I know A shepherd drove sheep on the hill Watching farmers farming below ... Jin Bao I have twenty of them Give me one No way My uncle smuggled it from Mainland What is it ? How about I exchange one with a secret What secret ? Last night the White Man tortured his wife I don\\'t believe you He\\'s so coward to his wife he\\'ll never beat her Then will you give me ? What kind of @ @ @ @ @ @ @ @ @ @ shepherd laughed ... Master Good morning , teacher I\\'ve taught you ... to write yourselves a letter And learn to write your home address That \\'d help uncle Postman to deliver No , Mister Postman Oh yes , calling \\' uncle \\' is too old Yes Now come out to get your letter when I call you Wang Jia Leung Here Wang Shi Chung Here Shu Ker Ying Here She\\'s a cripple ! Don\\'t laugh at her Wang Jia Hao Here Wang Jie Hwa Here Wang Wan Wen Here Wang Tian Sheng Here Marble Mister You have a letter from your dad Your Grandma said he\\'s in Panama What has he written ? Just ask your Grandma No My Dad is dead Don\\'t curse him I don\\'t like him Go away Go away Let me go Let me go ... Damn dog Go away Let go of me The damn dog bites anything it sees I always get bitten when delivering letters Don\\'t tell people about it I won\\'t . I\\'ll do as you said You\\'ll be responsible if anyone @ @ @ @ @ @ @ @ @ @ your secret Let\\'s hook our pinkies I\\'ll be true to my word Wait for me ? When I\\'m young no-one likes me I hope someone would love me like crazy If not , I hope I have lots of money If no money , I wish I can be famous Let everyone know me at least If I have nothing else I hope I\\'m prettier than others Staying pretty longer is okay Being a woman is indeed tragic ! But you have everything now How poor of you , silly girl ? You never stay with me overnight You \\'d better find an excuse to convince me My wife doesn\\'t understand me Take any man in the world Not one would say his wife understands him I really love you Not for your money Don\\'t think you\\'re Santa Claus Why would I do this ? So cheap ! Go to bed early Don\\'t abuse drugs Wang , give me a red cloth Okay Lin , give him a red cloth Big one or small one ? Big one , of course Did @ @ @ @ @ @ @ @ @ @ You think old Wang can do that ? You are good Your hand is so white , I believe you \\'d have made it Lin , go to work if you\\'ve nothing else Okay , five dollars Bin , why did you have to come yourself to buy ? What else do you need ? Nothing else . I\\'ll come later See you I know all the neighbours around here Hey , get the button fastened I can\\'t breath if I fasten up Or you buy me a new dress Okay , okay Let me take you to the discount stall Discount stalls only sell cheap stuff I want to visit the fashion shop Look at you Just two months here you\\'ve learned it I learned all about it long before I came Then you be good I\\'ll buy you anything you want Okay ? Then ain\\'t I good enough now ? Good , you\\'re good Sir , I would like to know ... if there\\'s a new villa here ? You\\'ve real talent Among the mistresses of my husband You @ @ @ @ @ @ @ @ @ @ you want ? Sure He\\'s my Santa Claus You think you\\'re young ? Whatever . I\\'m younger than you I heard you\\'re a dancer What kind of dance are you good at ? The kind that takes hard work ... and looks like mad jumping You have money now Why work so hard ? Is money everything ? No ? Depends on the person Don\\'t say you love my man No , we use each other What are you laughing at ? One night your husband told me ... his wife doesn\\'t understand him He lies , you fool It\\'s not bad he lies to me in that way My husband is sure in bad luck He has a mistress like you He is in luck actually Because he met me You\\'re just a whore What are you here for ? You\\'re great Let me show you something No . Okay , you can go now You don\\'t like me a bit ? Like you what ? What good are you ? Oh , I dare not Don\\'t be @ @ @ @ @ @ @ @ @ @ hand Get up , get up Be serious . Come One more time I can\\'t Use the hip . Come . Ready Go See , you can do it Got weak hips . I can\\'t get up Forget it You are a porn star . No need to get up You bald head You should be an extra forever Oh , I am now Yao Ju , come Coming You play with him Hold it Get me a suit from the wardrobe What\\'s that for ? Meet your girlfriend That one You want it however she looks You take all whatever the age My girl is beautiful And who is that ? Nanny ! Yao Ju Who\\'s she ? I don\\'t know Why do you always come to me ? I have things to do Then I\\'ll wait for you You have to wait a long time I\\'ll wait for you Then you have to wait a long time What\\'s wrong with me ? At least I am with single mind Why do you hit her ? Yeah , why do you @ @ @ @ @ @ @ @ @ @ dare I\\'ll kill you You don\\'t want me You dump me after you have had sex with me Isn\\'t it just for money ? No , it isn\\'t for money I love you I am not for money I really love you You\\'re crazy Just make a run Or I\\'ll cut you to pieces Damn shameless bitch Let\\'s play rubber-band rope Come , let\\'s play rubber-band rope Come on Don\\'t go Come In any event let\\'s clarify our relationship today You have a husband My husband is no use Lower your voice What\\'re you afraid of ? No need to fear if you dare to do it In short , I\\'ll give you money Money ... yes , I\\'ll need a lot of it You think you can afford ? You\\'re prepared , huh ? Let me tell you now My cousin will come next month He \\'d need cash for permit and ID card That takes 50,000 dollars Are you worth it ? Maybe I\\'m not worth it But if I spread word of @ @ @ @ @ @ @ @ @ @ And that woman is more trouble enough You think I don\\'t know she\\'s a mistress Just think what if her man knows ... of your affair ! Perhaps you can bear losing face She can\\'t You have no money , she has You hit me ! My husband never dare hit me . How dare you ! Rape ! Help ! I\\'m being raped ... please help ! Help ! Rape ! Someone rapes me Stop it . That will kill her Hey , that\\'s not enough What\\'s that for ? It\\'s for you Carnation Like it ? Carnation is only for mothers Mother\\'s Day ? Do you ever give anything to your Mom ? She wants nothing She only wants money As if someone would marry you ! She\\'ll have three kids in her teens Get fat as a barrel and smell bad She\\'ll get up every day at six-thirty Cook an egg for your breakfast And says it\\'s good for you Every week you go to Kowloon for tea once Every half a year you \\'d take @ @ @ @ @ @ @ @ @ @ ? No At least I have everything But you don\\'t have a husband That\\'s okay to me You say so for sure I\\'ll go now If he doesn\\'t find me on the phone ... then I\\'ll truly have nothing If he lies to his wife , he can lie to you Are you sure he has no-one else ? That\\'s none of your business What about me ? I left that woman because of you What about this ? I don\\'t even know who \\'d get the money I don\\'t care Let go Sit \" RITA \" Miss Rita Last night I passed by your house Your dog scared me Then I fell down And dropped a ring It\\'s my husband\\'s gift You know when a man gives you some gift It\\'s no good if you were to lose it He\\'ll be unhappy Did you see it ? Help me to find it , please The ring is worth 100,000 dollars I\\'ll help you to find it Then I\\'ll wait for your news I\\'m so @ @ @ @ @ @ @ @ @ @ I studied in Grade Two I already hated women That class girl captain ... told the teacher I peeked at her And the teacher hit me hard for it I was hit so hard that it broke the ruler In university I studied the Tang dynasty poems It said women are tender and passionate But I found it to the contrary Women and mean people are hard to deal with It wasn\\'t easy for me to stay away from women Now I wouldn\\'t want one anymore Women are poison ! You\\'re right Let\\'s toast Tonight when you\\'re home You should punish your wife hard All men are brothers ! Great . I\\'ll punish her tonight Fifty to hundred thousand each call Your threat is never-ending After this time ... Once and for all , I\\'ll leave You take this man I\\'m tired of him If you\\'re that crazy for men ... I\\'ll give my Wang to you , too Stupid Where\\'re you going ? Grandma , Grandma . Come on Murder Grandma , hurry What\\'s that serious ? @ @ @ @ @ @ @ @ @ @ ? Over there , you see ? What nonsense ! There\\'s nothing there It\\'s really a murder Hey , stop talking rubbish ! Go to bed Stop looking Kids are innocent Shorty , don\\'t move Stop moving Shorty , Shorty It was terrible last night I saw two guys fight And then one person ... killed the other ! The killer wore a chain You know , I could ... pull out some hair from the killer But Grandma doesn\\'t believe me If you \\'d please check for me What\\'re you doing ? You haven\\'t finished your hair-cut ? What happened ? Go and see Quick What is it ? Quick Come , be quick This is the White Man\\'s house This is the villa This is where Jin Bao lives I live right here That night I saw a murder in there Hey , what\\'s this ? It\\'s a watchband You can\\'t even recognise it in picture , stupid Hold it . Hold it . Hold it What\\'s this ? Silly fool , it\\'s Ninja That night @ @ @ @ @ @ @ @ @ @ saw two guys were fighting over there And then one man ... killed the other The killer wore a watchband too I saw it But I\\'m not scared Then I went out and took a look But he had run away I just saw some hair and a lot of footprints Now our first move ... is to check out who\\'s missing in the village ? What are you doing here ? Where\\'s your wife , uncle ? Looking for my wife at your age ? You have guts Go away I\\'ll get your Dad to take you back You \\'d better spend time on study And stop running around Go home Wang , where\\'s your wife ? My wife is sick , okay ! Nosey Have you seen the White Man and his wife ? Shin , go home for meal Hurry Always playing Marble , time for work Don\\'t run around I\\'m working right now Look here . On the rock Here It\\'s real The White Man Women are sick , vicious ... and fierce . We should kill them @ @ @ @ @ @ @ @ @ @ have to bear with them What is the time ? Oh , time for work Get lost Why are the floor so dirty ? Hey , what\\'re you doing ? I just came early to tidy things up See , what have you done ! I ... White Man . It\\'s him Little girl Little girl Wake up Little girl Wake up You okay ? Are you all right ? But that can\\'t be evidence That\\'s the record in my children\\'s diary This proves that everyday he thought of murder Did your teacher tell you ... not to lie to the police ? I have more evidence Take it out I saw that after he killed his wife ... he dragged the corpse away , too That night he didn\\'t return home He went out for drinks Got drunk and slept on a rock And he cursed the women too He almost killed me What a bad White man Always thinking to kill people Chinese won\\'t do that The Chinese don\\'t have that power Go and see Hi Police ? What\\'re @ @ @ @ @ @ @ @ @ @ illegal to play chess ? You have a warrant , sir ? Of course , see It\\'s marijuana Go away ... What are you looking ? Nothing good to see Move away Hey , what\\'re you doing ? He\\'s my husband He just slapped me slightly Is it illegal the husband slapping his wife ? Actually I let him slap me Why are you arresting him ? Where are you going ? I just went back to my Mama\\'s house Why don\\'t you call me these few days ? Who is he ? His sworn brother What\\'s a \\' sworn brother \\' ? Move . Don\\'t pretend anymore Sir , he\\'s innocent Don\\'t arrest him Girl , don\\'t lie Sir , please don\\'t arrest my husband Don\\'t arrest my husband Let him go Dear Hello , Miss Rita Why ? Why am I being fired ? How do I guess if you don\\'t tell me ? Mister Postman . Mister ? No-one believed the murder I told you about What clue do you have ? I suspected @ @ @ @ @ @ @ @ @ @ if she\\'s dead Wang , you got mail It\\'s hot outside . Come and have a seat Have some tea Busy ? Yeah , the past few days has been killing ! A lot more people at the festival this year ! You ought to take your girlfriend along I don\\'t have a girlfriend You\\'re kidding Where\\'s Mrs . Wang ? Can you not mention her ? Where has she gone ? I don\\'t know where she has gone Mind your own business , kid This letter is from my wife Marble , Marble Oh , you are here ! Shorty has been calling you many times Must have found something new What did she say in the letter ? She ran away with someone Now she\\'s with someone else She told me not to think of her Even though we can\\'t be a couple She still thinks of writing to me I knew she is a good girl Just the men are bad That\\'s good . That bitch is gone Thank God , we\\'ll have peace now Don\\'t @ @ @ @ @ @ @ @ @ @ is murdered What ? I go back to answer the phone Grandma said many girls ... worried that they can\\'t immigrate in 1997 So they all wanted to marry an old foreigner Those old men are so ugly ! More ugly than Wang You see , I don\\'t even have time for toilet Old Wang , just a woman One left . More to come I would get you a good girl later Grandma Everyone will quarrel after getting married Stop being a match-maker If I don\\'t help them make the match ... They will have no-one to quarrel with Let\\'s go home What a crowd ! Look How much is a pack of tissue ? Fifty cents What\\'re you doing ? Idiot I told you Wang\\'s wife is dead No , lousy kid I kept a secret for you What secret ? I won\\'t tell anyone About you and Wang\\'s wife Grandma Xiaoji Xiaoji Xiaoji Xiaoji Marble , get dressed . We go to pray Grandma is bad . You killed my Xiaoji You\\'ll have to compensate No other chicken @ @ @ @ @ @ @ @ @ @ doing ? I\\'m gathering the fire wood Oh , don\\'t sit here Sit over there It\\'ll dirty your pants And you\\'ll need your Grandma to wash it I don\\'t care What did she do ? Did she make you angry ? She\\'s a killer Jin Bao , faster Yes Shorty , Shorty The village chief gave me 10 dollars to catch grasshopper for the bird And you won\\'t investigate my case ? All those you mentioned as missing are still alive I don\\'t know if you\\'re telling the truth That\\'s no fun I didn\\'t lie to you Please help me , okay Unless ... Unless what ? Unless you let me be the commander Well , you listen to me whatever I say The mission we have tonight ... is to search the suspects and evidences Especially that watchband Yes , especially the watchband Jin Bao , you watch number one to fifteen I\\'m terribly afraid Jin Ju , you watch number to thirty Especially my dad , he\\'s fierce How could your Dad be the murderer @ @ @ @ @ @ @ @ @ @ killer , I\\'ll get him You watch all the shops Okay You watch the pigsty and the doghouse You must obey the order You gather information How come I have nothing to do ? Because you walk slow That\\'s true Fine . I\\'m sick of girls crying You take my post Women are troublesome Everyone take a firecracker as weapon , pass it Use it only if you see the enemies The enemies are tough Be careful . It\\'s life-threatening Understand ? Yes Okay , let\\'s go Go If anything please say it now You don\\'t speak and didn\\'t let me either You won\\'t understand even if I say it Has your husband been found ? In this situation Spreading out isn\\'t the worst . At the most we could flee How \\'d that help ? I am not afraid of getting caught I know I am poor All you love is money Help ! Help ! Shorty , don\\'t be afraid Don\\'t be afraid Come back Shorty\\'s spirit , come back Don\\'t be afraid Shorty\\'s @ @ @ @ @ @ @ @ @ @ ? Who is it ? Ghost ! Open up your eye Shorty , recover Let\\'s stop the investigation , okay ? We just want you to recover Yes Yes , don\\'t be like that Shorty , don\\'t be afraid ... please ! Shorty\\'s spirit , come back Shorty\\'s spirit , come back What took so long ? Is it okay ? It\\'s not done yet Mine is fit for eating ? Marble , come to eat Shorty\\'s gone mad . I have no appetite Hey , come over I\\'ll let you be the host . Come It smells great Fire\\'s up It\\'s ready Don\\'t kill her Are you alright ? Grandma will never kill your chicken I\\'ll buy you another chicken tomorrow I swear I\\'ll never kill your chick You hear me ? What\\'re you doing ? It\\'s all your fault I could watch you once I can\\'t watch you forever I\\'m not willing to do that I didn\\'t hate you We had been a couple before I\\'ll burn more food @ @ @ @ @ @ @ @ @ @\\'ll offer some Chau Yun Fa\\'s photos , too Wang ... I need to talk to you urgently Open the door Wang , I have something to tell you You \\'d better brace yourself for this Don\\'t be shocked out of mind Actually your wife is dead I knew you would be stunned Relax and listen to me The letters you got It\\'s all a farce It\\'s actually the postman The postman did it After he killed your wife ... He forged her letter to you He knew how The school taught us ... how to write to ourselves Let me see the letter . Quick Then I\\'ll get it for myself So , will you leave ? Where do we go ? To Mainland China , okay ? Whatever You don\\'t leave until you got trouble Now you got trouble Will this all ever be exposed ? Did you leave any evidence ? The trouble is the letter you wrote What letter ? The letter you forged in her handwriting I had never written any letter So the letter Wang had received ... @ @ @ @ @ @ @ @ @ @ Marble Come . Eat something This is yours Go on ! How come I have more ? And you have less ? You take this bowl It\\'s okay for kids to eat more It\\'s sweet and tasty . Eat now Where\\'s the letter ? Oh , I forgot where I put them Eat ... It\\'s new Yes . Eat while it\\'s hot Relax , Wang Everything will come out fine He can\\'t run away I\\'ll move on Or grandma will scold me , bye Bye Brother Yao Where were you last night ? It\\'s late . Time to go Are you ready ? Yes You\\'re always the last Let\\'s go Where\\'s Marble ? Marble is up the hill with Wang Ready , go You see , it flies high It\\'s great It\\'s beautiful Marble , you fly it It\\'s fun Be careful . Be careful What happened ? Marble , Marble What are you doing here ? There\\'s a kite there Yes , go have a look You see Jin Bao , be careful Be @ @ @ @ @ @ @ @ @ @ down It hurts Murderer It\\'s not us He fell down by himself . It\\'s not us Where\\'s Marble ? She was just here Help ... ! Help ! Help ... ! Help ! Mister Postman ... Don\\'t be afraid Help me Mister Postman Help me Mister Postman Marble , grab my hand Wang Inspector , see Let me Mr . Butterfly give you a lesson Do you know how to act ? Your first day at this , huh ? Sorry , Brother Lang Sorry Hey , what\\'s up ? What\\'s the matter ? They are all fools Yes , he\\'s a fool Be smart Once again Let\\'s do it again One try is okay Calm down Come again Do it better All standby Ready You\\'re shooting movies ? Master , who do you fight with ? That\\'s Wan Ji Lang ? Want a drink , master ? Who\\'s the director ? The one in red glasses A woman Yes Oh no , fell down ! Brother Ji Lang , you okay ? What\\'s wrong with you ? @ @ @ @ @ @ @ @ @ @ , come over Coming It\\'s my turn . Don\\'t run around It\\'s all yours Yao Ju . Memorize those moves Act better Ready All standby Do it better Don\\'t make trouble Ready ? Action ! Cut Okay Move the machine here Move it over Come , over here Like that ? Okay ? It\\'s fine You said you \\'d go to Mainland with me Really ? Of course you can\\'t remember I did Did you see me shooting movie ? A little bit Next week I\\'ll go to London I will write to you when I arrive You better not go If you don\\'t go , you don\\'t need to write You \\'d pay for my living , huh ? No big deal I don\\'t know what to say That\\'s rubbish Okay Take care Mister Postman Marble , are you alright ? Yes Marble ... It\\'s for you Is it good ? Do you like it ? \\r\\n'"
      ]
     },
     "execution_count": 8,
     "metadata": {},
     "output_type": "execute_result"
    }
   ],
   "source": [
    "clean_11[1]"
   ]
  },
  {
   "cell_type": "markdown",
   "metadata": {},
   "source": [
    "This method cleaned a few basic formatting errors. You are welcome to experiment and add your own code to expand on cleaning the text. Once it begins to look the way you want it to, we can start using spaCy to do some heavier cleaning. spaCy does this through the use of language models. Make sure you have the spaCy english language model loaded. "
   ]
  },
  {
   "cell_type": "code",
   "execution_count": 9,
   "metadata": {},
   "outputs": [],
   "source": [
    "nlp = spacy.load(\"en_core_web_sm\")"
   ]
  },
  {
   "cell_type": "markdown",
   "metadata": {},
   "source": [
    "This model is going to be the basis of most of the tasks which NLTK (the Natural Language Tool Kit) might have done otherwise. While NLTK uses a bunch of clunky models from multiple places, spacy neatly packs all functionality in one model. This deep trained model will start by doing our word tokenizing and normalising. These methods are already included in lucem illud, and here we will just demonstrate them outside the package so to explain what goes on under the hood.\n",
    "\n",
    "When we run text through a spacy model, it performs a lot of computation on each of the tokens. Each token is given certain attributes, such as a part of speech, information whether it is a number, a stop word, and so on. \n",
    "\n",
    "To perform a tokenization, we check if the string includes punctuation and add this token. "
   ]
  },
  {
   "cell_type": "code",
   "execution_count": 10,
   "metadata": {},
   "outputs": [],
   "source": [
    "def word_tokenize(word_list):\n",
    "    tokenized = []\n",
    "    # pass word list through language model.\n",
    "    doc = nlp(word_list)\n",
    "    for token in doc:\n",
    "        if not token.is_punct and len(token.text.strip()) > 0:\n",
    "            tokenized.append(token.text)\n",
    "    return tokenized"
   ]
  },
  {
   "cell_type": "code",
   "execution_count": 11,
   "metadata": {},
   "outputs": [
    {
     "data": {
      "text/plain": [
       "['@@216680',\n",
       " 'Hey',\n",
       " 'I',\n",
       " \"'m\",\n",
       " 'talking',\n",
       " 'to',\n",
       " 'you',\n",
       " 'Give',\n",
       " 'me',\n",
       " '600',\n",
       " 'dollars',\n",
       " 'You',\n",
       " 'wish',\n",
       " 'That',\n",
       " \"'s\",\n",
       " 'all',\n",
       " 'we',\n",
       " \"'ve\",\n",
       " 'left',\n",
       " 'And',\n",
       " 'you',\n",
       " 'still',\n",
       " 'go',\n",
       " 'to',\n",
       " 'gamble',\n",
       " 'Shut',\n",
       " 'up',\n",
       " 'I',\n",
       " 'earn',\n",
       " 'the',\n",
       " 'money',\n",
       " 'Even',\n",
       " 'that',\n",
       " 'you',\n",
       " 'ca',\n",
       " \"n't\",\n",
       " 'take',\n",
       " 'it',\n",
       " 'for',\n",
       " 'gamble',\n",
       " 'Shut',\n",
       " 'up',\n",
       " 'What',\n",
       " \"'re\",\n",
       " 'you',\n",
       " 'doing',\n",
       " 'Bastard',\n",
       " 'I',\n",
       " \"'m\",\n",
       " 'gon',\n",
       " 'na',\n",
       " 'beat',\n",
       " 'you',\n",
       " 'You',\n",
       " 'gambling',\n",
       " 'pig',\n",
       " 'I',\n",
       " \"'ll\",\n",
       " 'beat',\n",
       " 'the',\n",
       " 'shit',\n",
       " 'out',\n",
       " 'of',\n",
       " 'you',\n",
       " 'You',\n",
       " 'bitch',\n",
       " 'I',\n",
       " \"'ll\",\n",
       " 'beat',\n",
       " 'you',\n",
       " 'You',\n",
       " 'dare',\n",
       " 'to',\n",
       " 'hit',\n",
       " 'me',\n",
       " 'with',\n",
       " 'something',\n",
       " 'I',\n",
       " \"'ll\",\n",
       " 'kill',\n",
       " 'you',\n",
       " 'All',\n",
       " 'you',\n",
       " 'know',\n",
       " 'is',\n",
       " 'gambling',\n",
       " 'I',\n",
       " \"'ll\",\n",
       " 'beat',\n",
       " 'you',\n",
       " 'What',\n",
       " \"'re\",\n",
       " 'you',\n",
       " 'doing',\n",
       " 'Let',\n",
       " 'go',\n",
       " 'of',\n",
       " 'me',\n",
       " 'Stop',\n",
       " 'You',\n",
       " \"'ll\",\n",
       " 'kill',\n",
       " 'Mom',\n",
       " 'Mom',\n",
       " 'are',\n",
       " 'you',\n",
       " 'all',\n",
       " 'right',\n",
       " 'Do',\n",
       " \"n't\",\n",
       " 'touch',\n",
       " 'my',\n",
       " 'money',\n",
       " 'Dad',\n",
       " 'where',\n",
       " \"'re\",\n",
       " 'you',\n",
       " 'going',\n",
       " 'Go',\n",
       " 'away',\n",
       " 'Dad',\n",
       " 'do',\n",
       " \"n't\",\n",
       " 'go',\n",
       " 'Get',\n",
       " 'lost',\n",
       " 'Dad',\n",
       " 'come',\n",
       " 'back',\n",
       " 'You',\n",
       " 'take',\n",
       " 'Marble',\n",
       " 'with',\n",
       " 'you',\n",
       " 'The',\n",
       " 'way',\n",
       " 'she',\n",
       " \"'s\",\n",
       " 'now',\n",
       " 'Do',\n",
       " 'you',\n",
       " 'want',\n",
       " 'to',\n",
       " 'give',\n",
       " 'me',\n",
       " 'trouble',\n",
       " 'I',\n",
       " \"'m\",\n",
       " 'in',\n",
       " 'more',\n",
       " 'trouble',\n",
       " 'than',\n",
       " 'you',\n",
       " 'I',\n",
       " 'am',\n",
       " 'a',\n",
       " 'woman',\n",
       " 'I',\n",
       " \"'m\",\n",
       " 'a',\n",
       " 'sailor',\n",
       " 'You',\n",
       " 'take',\n",
       " 'care',\n",
       " 'of',\n",
       " 'Marble',\n",
       " 'Just',\n",
       " 'gamble',\n",
       " 'a',\n",
       " 'bit',\n",
       " 'less',\n",
       " 'is',\n",
       " 'enough',\n",
       " 'to',\n",
       " 'raise',\n",
       " 'the',\n",
       " 'kid',\n",
       " 'No',\n",
       " 'way',\n",
       " 'Raising',\n",
       " 'her',\n",
       " 'would',\n",
       " 'be',\n",
       " 'like',\n",
       " 'raising',\n",
       " 'others',\n",
       " 'take',\n",
       " 'care',\n",
       " 'of',\n",
       " 'her',\n",
       " 'Marry',\n",
       " 'her',\n",
       " 'when',\n",
       " 'she',\n",
       " 'grows',\n",
       " 'up',\n",
       " 'And',\n",
       " 'you',\n",
       " 'tell',\n",
       " 'her',\n",
       " 'to',\n",
       " 'be',\n",
       " 'smart',\n",
       " 'Do',\n",
       " \"n't\",\n",
       " 'marry',\n",
       " 'a',\n",
       " 'gambler',\n",
       " 'Hey',\n",
       " 'you',\n",
       " 'want',\n",
       " 'a',\n",
       " 'quarrel',\n",
       " 'No',\n",
       " 'never',\n",
       " 'This',\n",
       " 'is',\n",
       " 'the',\n",
       " 'last',\n",
       " 'time',\n",
       " 'You',\n",
       " \"'re\",\n",
       " 'SO',\n",
       " 'right',\n",
       " 'Do',\n",
       " \"n't\",\n",
       " 'rush',\n",
       " 'Everyone',\n",
       " 'will',\n",
       " 'have',\n",
       " 'a',\n",
       " 'share',\n",
       " 'Why',\n",
       " 'so',\n",
       " 'crowded',\n",
       " 'What',\n",
       " \"'re\",\n",
       " 'they',\n",
       " 'doing',\n",
       " 'Worshipping',\n",
       " 'ancestors',\n",
       " 'With',\n",
       " 'all',\n",
       " 'those',\n",
       " 'many',\n",
       " 'things',\n",
       " 'Hey',\n",
       " 'Granny',\n",
       " 'Come',\n",
       " 'on',\n",
       " 'Come',\n",
       " 'and',\n",
       " 'take',\n",
       " 'a',\n",
       " 'bite',\n",
       " 'The',\n",
       " 'dishes',\n",
       " 'are',\n",
       " 'good',\n",
       " 'this',\n",
       " 'year',\n",
       " 'Right',\n",
       " 'Marble',\n",
       " 'have',\n",
       " 'some',\n",
       " 'I',\n",
       " \"'ll\",\n",
       " 'go',\n",
       " 'get',\n",
       " 'my',\n",
       " 'share',\n",
       " 'of',\n",
       " 'pork',\n",
       " 'This',\n",
       " 'is',\n",
       " 'a',\n",
       " 'leg',\n",
       " 'washing',\n",
       " 'basin',\n",
       " 'Hey',\n",
       " 'how',\n",
       " 'can',\n",
       " 'you',\n",
       " 'say',\n",
       " 'that',\n",
       " 'Let',\n",
       " \"'s\",\n",
       " 'go',\n",
       " 'get',\n",
       " 'a',\n",
       " 'share',\n",
       " 'of',\n",
       " 'pork',\n",
       " 'Your',\n",
       " 'share',\n",
       " 'You',\n",
       " 'wish',\n",
       " 'That',\n",
       " \"'s\",\n",
       " 'only',\n",
       " 'for',\n",
       " 'boys',\n",
       " 'Yeah',\n",
       " 'I',\n",
       " 'have',\n",
       " 'a',\n",
       " 'wee',\n",
       " 'wee',\n",
       " 'Have',\n",
       " 'you',\n",
       " 'Aunty',\n",
       " 'Chiang',\n",
       " 'Lin',\n",
       " 'one',\n",
       " 'more',\n",
       " 'baby',\n",
       " 'this',\n",
       " 'year',\n",
       " 'Yes',\n",
       " 'You',\n",
       " 'are',\n",
       " 'the',\n",
       " 'best',\n",
       " 'in',\n",
       " 'your',\n",
       " 'family',\n",
       " 'Hey',\n",
       " 'you',\n",
       " 'think',\n",
       " 'it',\n",
       " \"'s\",\n",
       " 'my',\n",
       " 'will',\n",
       " 'I',\n",
       " 'was',\n",
       " 'compelled',\n",
       " 'by',\n",
       " 'my',\n",
       " 'stupid',\n",
       " 'husband',\n",
       " 'Come',\n",
       " 'on',\n",
       " 'Let',\n",
       " \"'s\",\n",
       " 'worship',\n",
       " 'first',\n",
       " 'Eat',\n",
       " 'some',\n",
       " 'roast',\n",
       " 'pork',\n",
       " 'We',\n",
       " 'have',\n",
       " 'a',\n",
       " 'lot',\n",
       " 'of',\n",
       " 'it',\n",
       " 'Honey',\n",
       " 'baby',\n",
       " 'Yes',\n",
       " 'Only',\n",
       " 'with',\n",
       " 'Chinese',\n",
       " 'blood',\n",
       " 'What',\n",
       " 'do',\n",
       " 'you',\n",
       " 'mean',\n",
       " 'It',\n",
       " 'means',\n",
       " 'I',\n",
       " 'give',\n",
       " 'you',\n",
       " 'a',\n",
       " 'green',\n",
       " 'hat',\n",
       " 'Oh',\n",
       " 'that',\n",
       " 'goes',\n",
       " 'with',\n",
       " 'my',\n",
       " 'clothes',\n",
       " 'then',\n",
       " 'Eat',\n",
       " 'no',\n",
       " 'more',\n",
       " 'talk',\n",
       " 'So',\n",
       " 'rude',\n",
       " 'Take',\n",
       " 'it',\n",
       " 'home',\n",
       " 'Get',\n",
       " 'up',\n",
       " 'go',\n",
       " 'We',\n",
       " \"'re\",\n",
       " 'going',\n",
       " 'back',\n",
       " 'home',\n",
       " 'Be',\n",
       " 'quick',\n",
       " 'Honey',\n",
       " 'Hey',\n",
       " 'make',\n",
       " 'a',\n",
       " 'stance',\n",
       " 'Hold',\n",
       " 'it',\n",
       " 'Master',\n",
       " 'every',\n",
       " 'time',\n",
       " 'we',\n",
       " \"'ve\",\n",
       " 'to',\n",
       " 'stand',\n",
       " 'in',\n",
       " 'a',\n",
       " 'pose',\n",
       " 'If',\n",
       " 'you',\n",
       " 'could',\n",
       " 'teach',\n",
       " 'us',\n",
       " 'something',\n",
       " 'else',\n",
       " 'please',\n",
       " 'Okay',\n",
       " 'Shaolin',\n",
       " 'Masters',\n",
       " 'learn',\n",
       " 'poses',\n",
       " 'for',\n",
       " 'years',\n",
       " 'Hold',\n",
       " 'it',\n",
       " 'Okay',\n",
       " 'I',\n",
       " \"'ll\",\n",
       " 'teach',\n",
       " 'you',\n",
       " 'something',\n",
       " 'new',\n",
       " 'Watch',\n",
       " 'me',\n",
       " 'See',\n",
       " 'Get',\n",
       " 'to',\n",
       " 'it',\n",
       " 'Seeing',\n",
       " 'Shanghai',\n",
       " 'Beach',\n",
       " 'in',\n",
       " 'Mainland',\n",
       " 'Here',\n",
       " 'I',\n",
       " \"'m\",\n",
       " 'still',\n",
       " 'watching',\n",
       " 'it',\n",
       " 'everyday',\n",
       " 'I',\n",
       " \"'m\",\n",
       " 'so',\n",
       " 'tired',\n",
       " 'Tired',\n",
       " 'Let',\n",
       " \"'s\",\n",
       " 'go',\n",
       " 'to',\n",
       " 'bed',\n",
       " 'for',\n",
       " 'rest',\n",
       " 'I',\n",
       " 'hate',\n",
       " 'Chau',\n",
       " 'Yun',\n",
       " 'Fa',\n",
       " 'the',\n",
       " 'most',\n",
       " 'He',\n",
       " 'did',\n",
       " \"n't\",\n",
       " 'marry',\n",
       " 'when',\n",
       " 'I',\n",
       " \"'m\",\n",
       " 'in',\n",
       " 'China',\n",
       " 'As',\n",
       " 'soon',\n",
       " 'as',\n",
       " 'I',\n",
       " \"'m\",\n",
       " 'here',\n",
       " 'he',\n",
       " 'got',\n",
       " 'married',\n",
       " 'You',\n",
       " 'ca',\n",
       " \"n't\",\n",
       " 'come',\n",
       " 'to',\n",
       " 'Hong',\n",
       " 'Kong',\n",
       " 'if',\n",
       " 'you',\n",
       " 'do',\n",
       " \"n't\",\n",
       " 'marry',\n",
       " 'me',\n",
       " 'You',\n",
       " 'said',\n",
       " 'you',\n",
       " 'are',\n",
       " 'big',\n",
       " 'boss',\n",
       " 'Having',\n",
       " 'a',\n",
       " 'big',\n",
       " 'business',\n",
       " 'Now',\n",
       " 'that',\n",
       " 'I',\n",
       " \"'m\",\n",
       " 'in',\n",
       " 'Hong',\n",
       " 'Kong',\n",
       " 'I',\n",
       " \"'m\",\n",
       " 'still',\n",
       " 'for',\n",
       " 'myself',\n",
       " 'Then',\n",
       " 'I',\n",
       " 'ought',\n",
       " 'to',\n",
       " 'feel',\n",
       " 'much',\n",
       " 'more',\n",
       " 'sorry',\n",
       " 'You',\n",
       " 'ca',\n",
       " \"n't\",\n",
       " 'even',\n",
       " 'lay',\n",
       " 'an',\n",
       " 'egg',\n",
       " 'This',\n",
       " 'year',\n",
       " 'I',\n",
       " 'can',\n",
       " 'only',\n",
       " 'get',\n",
       " 'one',\n",
       " 'share',\n",
       " 'of',\n",
       " 'pork',\n",
       " 'And',\n",
       " 'you',\n",
       " \"'re\",\n",
       " 'blaming',\n",
       " 'me',\n",
       " 'for',\n",
       " 'it',\n",
       " 'Damn',\n",
       " 'monkey',\n",
       " 'What',\n",
       " \"'s\",\n",
       " 'going',\n",
       " 'on',\n",
       " 'A',\n",
       " 'letter',\n",
       " 'for',\n",
       " 'you',\n",
       " 'Oh',\n",
       " 'it',\n",
       " \"'s\",\n",
       " 'you',\n",
       " 'Your',\n",
       " 'monkey',\n",
       " 'glared',\n",
       " 'at',\n",
       " 'me',\n",
       " 'fiercely',\n",
       " 'Will',\n",
       " 'you',\n",
       " 'open',\n",
       " 'it',\n",
       " 'for',\n",
       " 'me',\n",
       " 'Read',\n",
       " 'it',\n",
       " 'to',\n",
       " 'me',\n",
       " 'I',\n",
       " 'am',\n",
       " 'quite',\n",
       " 'illiterate',\n",
       " 'Stop',\n",
       " 'it',\n",
       " 'Do',\n",
       " \"n't\",\n",
       " 'bother',\n",
       " 'him',\n",
       " 'Let',\n",
       " 'me',\n",
       " 'help',\n",
       " 'you',\n",
       " 'Give',\n",
       " 'me',\n",
       " 'the',\n",
       " 'letter',\n",
       " 'Postman',\n",
       " \"'s\",\n",
       " 'duty',\n",
       " 'is',\n",
       " 'to',\n",
       " 'deliver',\n",
       " 'and',\n",
       " 'read',\n",
       " 'letters',\n",
       " 'He',\n",
       " 'reads',\n",
       " 'for',\n",
       " 'Aunt',\n",
       " 'Jiao',\n",
       " 'How',\n",
       " 'can',\n",
       " 'you',\n",
       " 'compare',\n",
       " 'to',\n",
       " 'her',\n",
       " 'Aunty',\n",
       " 'Jiao',\n",
       " 'is',\n",
       " '83',\n",
       " 'years',\n",
       " 'old',\n",
       " 'Hello',\n",
       " 'dubbing',\n",
       " 'room',\n",
       " 'Martin',\n",
       " 'Martin',\n",
       " 'is',\n",
       " 'working',\n",
       " 'Are',\n",
       " 'you',\n",
       " 'lying',\n",
       " 'to',\n",
       " 'me',\n",
       " 'Why',\n",
       " 'should',\n",
       " 'I',\n",
       " 'lie',\n",
       " 'I',\n",
       " 'know',\n",
       " 'he',\n",
       " \"'s\",\n",
       " 'free',\n",
       " 'Get',\n",
       " 'him',\n",
       " 'You',\n",
       " 'listen',\n",
       " 'yourself',\n",
       " 'then',\n",
       " 'Hello',\n",
       " 'what',\n",
       " \"'s\",\n",
       " 'the',\n",
       " 'noise',\n",
       " 'Is',\n",
       " 'someone',\n",
       " 'being',\n",
       " 'raped',\n",
       " 'Martin',\n",
       " 'your',\n",
       " 'telephone',\n",
       " 'Hello',\n",
       " 'What',\n",
       " 'took',\n",
       " 'you',\n",
       " 'so',\n",
       " 'long',\n",
       " 'Recording',\n",
       " 'is',\n",
       " 'going',\n",
       " 'on',\n",
       " 'Do',\n",
       " \"n't\",\n",
       " 'mess',\n",
       " 'around',\n",
       " 'Yes',\n",
       " 'I',\n",
       " 'know',\n",
       " 'I',\n",
       " 'wo',\n",
       " \"n't\",\n",
       " 'Honey',\n",
       " 'did',\n",
       " 'you',\n",
       " 'spend',\n",
       " 'so',\n",
       " 'much',\n",
       " 'I',\n",
       " 'was',\n",
       " 'late',\n",
       " 'for',\n",
       " 'work',\n",
       " 'so',\n",
       " 'I',\n",
       " 'took',\n",
       " 'a',\n",
       " 'taxi',\n",
       " 'On',\n",
       " 'your',\n",
       " 'way',\n",
       " 'back',\n",
       " 'do',\n",
       " \"n't\",\n",
       " 'forget',\n",
       " 'to',\n",
       " 'buy',\n",
       " 'vegetables',\n",
       " 'Okay',\n",
       " 'And',\n",
       " 'buy',\n",
       " 'a',\n",
       " 'pair',\n",
       " 'of',\n",
       " 'slippers',\n",
       " 'for',\n",
       " 'me',\n",
       " 'Got',\n",
       " 'it',\n",
       " 'honey',\n",
       " 'I',\n",
       " \"'ll\",\n",
       " 'hang',\n",
       " 'up',\n",
       " 'Bye',\n",
       " 'Would',\n",
       " \"n't\",\n",
       " 'marry',\n",
       " 'if',\n",
       " 'you',\n",
       " 'know',\n",
       " 'your',\n",
       " 'wife',\n",
       " 'is',\n",
       " 'so',\n",
       " 'bad',\n",
       " 'Take',\n",
       " 'pity',\n",
       " 'for',\n",
       " 'the',\n",
       " 'rest',\n",
       " 'of',\n",
       " 'my',\n",
       " 'life',\n",
       " 'Hey',\n",
       " 'what',\n",
       " \"'s\",\n",
       " 'on',\n",
       " 'your',\n",
       " 'neck',\n",
       " 'Nothing',\n",
       " 'You',\n",
       " 'look',\n",
       " 'piteous',\n",
       " 'She',\n",
       " \"'s\",\n",
       " 'the',\n",
       " 'piteous',\n",
       " 'one',\n",
       " 'The',\n",
       " 'vampire',\n",
       " 'is',\n",
       " 'here',\n",
       " 'Grandma',\n",
       " 'grandma',\n",
       " 'Someone',\n",
       " 'is',\n",
       " 'fighting',\n",
       " 'Grandma',\n",
       " 'grandma',\n",
       " 'Come',\n",
       " 'over',\n",
       " 'quickly',\n",
       " 'What',\n",
       " 'happened',\n",
       " 'Someone',\n",
       " 'is',\n",
       " 'fighting',\n",
       " 'Fighting',\n",
       " 'Yes',\n",
       " 'Where',\n",
       " 'Over',\n",
       " 'there',\n",
       " 'You',\n",
       " 'see',\n",
       " 'it',\n",
       " 'I',\n",
       " 'spare',\n",
       " 'you',\n",
       " 'this',\n",
       " 'time',\n",
       " 'No',\n",
       " 'next',\n",
       " 'time',\n",
       " 'Sorry',\n",
       " 'let',\n",
       " 'me',\n",
       " 'kiss',\n",
       " 'you',\n",
       " 'Cut',\n",
       " 'the',\n",
       " 'bullshit',\n",
       " 'Go',\n",
       " 'to',\n",
       " 'bed',\n",
       " 'I',\n",
       " 'need',\n",
       " 'to',\n",
       " 'work',\n",
       " 'tomorrow',\n",
       " 'Where',\n",
       " 'at',\n",
       " 'That',\n",
       " 'villa',\n",
       " 'over',\n",
       " 'there',\n",
       " 'Wow',\n",
       " 'it',\n",
       " 'looks',\n",
       " 'beautiful',\n",
       " 'Who',\n",
       " 'lives',\n",
       " 'there',\n",
       " 'Snow',\n",
       " 'White',\n",
       " 'Kidding',\n",
       " 'there',\n",
       " \"'s\",\n",
       " 'no',\n",
       " 'Snow',\n",
       " 'White',\n",
       " 'Oh',\n",
       " 'murder',\n",
       " 'That',\n",
       " \"'s\",\n",
       " 'the',\n",
       " 'pig',\n",
       " 'scream',\n",
       " 'Why',\n",
       " \"'s\",\n",
       " 'the',\n",
       " 'pig',\n",
       " 'screaming',\n",
       " 'so',\n",
       " 'late',\n",
       " 'at',\n",
       " 'night',\n",
       " 'Shorty',\n",
       " \"'s\",\n",
       " 'late',\n",
       " 'So',\n",
       " 'the',\n",
       " 'government',\n",
       " 'wo',\n",
       " \"n't\",\n",
       " 'know',\n",
       " 'But',\n",
       " 'how',\n",
       " 'could',\n",
       " 'a',\n",
       " 'pig',\n",
       " \"'s\",\n",
       " 'scream',\n",
       " 'be',\n",
       " 'so',\n",
       " 'terrible',\n",
       " 'Why',\n",
       " 'Why',\n",
       " 'are',\n",
       " \"n't\",\n",
       " 'you',\n",
       " 'tired',\n",
       " 'Why',\n",
       " 'are',\n",
       " \"n't\",\n",
       " 'you',\n",
       " 'sleepy',\n",
       " 'Why',\n",
       " 'have',\n",
       " \"n't\",\n",
       " 'you',\n",
       " 'gone',\n",
       " 'to',\n",
       " 'bed',\n",
       " 'Why',\n",
       " 'are',\n",
       " 'you',\n",
       " 'so',\n",
       " 'nosy',\n",
       " 'Go',\n",
       " 'to',\n",
       " 'sleep',\n",
       " 'Here',\n",
       " \"'s\",\n",
       " 'the',\n",
       " 'kitchen',\n",
       " 'Oil',\n",
       " 'Salt',\n",
       " 'Sauce',\n",
       " 'Vinegar',\n",
       " 'All',\n",
       " 'there',\n",
       " 'Go',\n",
       " 'tidy',\n",
       " 'up',\n",
       " 'Ask',\n",
       " 'me',\n",
       " 'if',\n",
       " 'you',\n",
       " 'have',\n",
       " 'any',\n",
       " 'question',\n",
       " 'Come',\n",
       " 'dance',\n",
       " 'with',\n",
       " 'me',\n",
       " 'Come',\n",
       " 'on',\n",
       " 'Come',\n",
       " 'Dance',\n",
       " 'I',\n",
       " \"'ll\",\n",
       " 'teach',\n",
       " 'you',\n",
       " 'Do',\n",
       " \"n't\",\n",
       " 'be',\n",
       " 'afraid',\n",
       " 'Damn',\n",
       " 'dog',\n",
       " 'Damn',\n",
       " 'it',\n",
       " 'What',\n",
       " \"'s\",\n",
       " 'such',\n",
       " 'a',\n",
       " 'big',\n",
       " 'deal',\n",
       " 'to',\n",
       " 'be',\n",
       " 'rich',\n",
       " 'Pay',\n",
       " 'for',\n",
       " 'my',\n",
       " 'pants',\n",
       " 'Sorry',\n",
       " 'I',\n",
       " 'do',\n",
       " \"n't\",\n",
       " 'mean',\n",
       " 'to',\n",
       " 'be',\n",
       " 'rude',\n",
       " 'Be',\n",
       " 'careful',\n",
       " 'next',\n",
       " 'time',\n",
       " 'Miss',\n",
       " 'it',\n",
       " 'seems',\n",
       " 'I',\n",
       " \"'ve\",\n",
       " 'seen',\n",
       " 'you',\n",
       " 'somewhere',\n",
       " 'Of',\n",
       " 'course',\n",
       " 'you',\n",
       " 'have',\n",
       " 'I',\n",
       " \"'ll\",\n",
       " 'be',\n",
       " 'the',\n",
       " 'Miss',\n",
       " 'Hong',\n",
       " 'Kong',\n",
       " 'in',\n",
       " 'next',\n",
       " 'contest',\n",
       " 'I',\n",
       " 'have',\n",
       " 'nine',\n",
       " 'posters',\n",
       " 'at',\n",
       " 'the',\n",
       " ...]"
      ]
     },
     "execution_count": 11,
     "metadata": {},
     "output_type": "execute_result"
    }
   ],
   "source": [
    "word_tokenize(clean_11[1])"
   ]
  },
  {
   "cell_type": "markdown",
   "metadata": {},
   "source": [
    "You can see how the sentence is broken into its constituent words. We can then do some analysis with this. \n",
    "\n",
    "Note: we still don't know which movie this is, just that it is raw movie text data. Maybe in the process of our text cleaning and counting we will come across something!"
   ]
  },
  {
   "cell_type": "markdown",
   "metadata": {},
   "source": [
    "# Counting words\n",
    "\n",
    "If we want to do some analysis we can start by simply counting the number of times each word occurs within the corpus."
   ]
  },
  {
   "cell_type": "code",
   "execution_count": 12,
   "metadata": {},
   "outputs": [],
   "source": [
    "def wordCounter(wordLst):\n",
    "    wordCounts = {}\n",
    "    for word in wordLst:\n",
    "        #We usually need to normalize the case\n",
    "        wLower = word.lower()\n",
    "        if wLower in wordCounts:\n",
    "            wordCounts[wLower] += 1\n",
    "        else:\n",
    "            wordCounts[wLower] = 1\n",
    "    #convert to DataFrame\n",
    "    countsForFrame = {'word' : [], 'count' : []}\n",
    "    for w, c in wordCounts.items():\n",
    "        countsForFrame['word'].append(w)\n",
    "        countsForFrame['count'].append(c)\n",
    "    return pandas.DataFrame(countsForFrame)"
   ]
  },
  {
   "cell_type": "code",
   "execution_count": 13,
   "metadata": {},
   "outputs": [
    {
     "data": {
      "text/html": [
       "<div>\n",
       "<style scoped>\n",
       "    .dataframe tbody tr th:only-of-type {\n",
       "        vertical-align: middle;\n",
       "    }\n",
       "\n",
       "    .dataframe tbody tr th {\n",
       "        vertical-align: top;\n",
       "    }\n",
       "\n",
       "    .dataframe thead th {\n",
       "        text-align: right;\n",
       "    }\n",
       "</style>\n",
       "<table border=\"1\" class=\"dataframe\">\n",
       "  <thead>\n",
       "    <tr style=\"text-align: right;\">\n",
       "      <th></th>\n",
       "      <th>word</th>\n",
       "      <th>count</th>\n",
       "    </tr>\n",
       "  </thead>\n",
       "  <tbody>\n",
       "    <tr>\n",
       "      <th>0</th>\n",
       "      <td>@@216680</td>\n",
       "      <td>1</td>\n",
       "    </tr>\n",
       "    <tr>\n",
       "      <th>1</th>\n",
       "      <td>hey</td>\n",
       "      <td>16</td>\n",
       "    </tr>\n",
       "    <tr>\n",
       "      <th>2</th>\n",
       "      <td>i</td>\n",
       "      <td>191</td>\n",
       "    </tr>\n",
       "    <tr>\n",
       "      <th>3</th>\n",
       "      <td>'m</td>\n",
       "      <td>24</td>\n",
       "    </tr>\n",
       "    <tr>\n",
       "      <th>4</th>\n",
       "      <td>talking</td>\n",
       "      <td>2</td>\n",
       "    </tr>\n",
       "    <tr>\n",
       "      <th>5</th>\n",
       "      <td>to</td>\n",
       "      <td>112</td>\n",
       "    </tr>\n",
       "    <tr>\n",
       "      <th>6</th>\n",
       "      <td>you</td>\n",
       "      <td>302</td>\n",
       "    </tr>\n",
       "    <tr>\n",
       "      <th>7</th>\n",
       "      <td>give</td>\n",
       "      <td>14</td>\n",
       "    </tr>\n",
       "    <tr>\n",
       "      <th>8</th>\n",
       "      <td>me</td>\n",
       "      <td>82</td>\n",
       "    </tr>\n",
       "    <tr>\n",
       "      <th>9</th>\n",
       "      <td>600</td>\n",
       "      <td>1</td>\n",
       "    </tr>\n",
       "  </tbody>\n",
       "</table>\n",
       "</div>"
      ],
      "text/plain": [
       "       word  count\n",
       "0  @@216680      1\n",
       "1       hey     16\n",
       "2         i    191\n",
       "3        'm     24\n",
       "4   talking      2\n",
       "5        to    112\n",
       "6       you    302\n",
       "7      give     14\n",
       "8        me     82\n",
       "9       600      1"
      ]
     },
     "execution_count": 13,
     "metadata": {},
     "output_type": "execute_result"
    }
   ],
   "source": [
    "countedWords = wordCounter(word_tokenize(clean_11[1]))\n",
    "countedWords[:10]"
   ]
  },
  {
   "cell_type": "markdown",
   "metadata": {},
   "source": [
    "Lets sort and plot our counts to investigate the shape of our word frequency distribution.\n",
    "\n",
    "First we need to sort the words by count."
   ]
  },
  {
   "cell_type": "code",
   "execution_count": 14,
   "metadata": {},
   "outputs": [
    {
     "data": {
      "text/html": [
       "<div>\n",
       "<style scoped>\n",
       "    .dataframe tbody tr th:only-of-type {\n",
       "        vertical-align: middle;\n",
       "    }\n",
       "\n",
       "    .dataframe tbody tr th {\n",
       "        vertical-align: top;\n",
       "    }\n",
       "\n",
       "    .dataframe thead th {\n",
       "        text-align: right;\n",
       "    }\n",
       "</style>\n",
       "<table border=\"1\" class=\"dataframe\">\n",
       "  <thead>\n",
       "    <tr style=\"text-align: right;\">\n",
       "      <th></th>\n",
       "      <th>word</th>\n",
       "      <th>count</th>\n",
       "    </tr>\n",
       "  </thead>\n",
       "  <tbody>\n",
       "    <tr>\n",
       "      <th>6</th>\n",
       "      <td>you</td>\n",
       "      <td>302</td>\n",
       "    </tr>\n",
       "    <tr>\n",
       "      <th>2</th>\n",
       "      <td>i</td>\n",
       "      <td>191</td>\n",
       "    </tr>\n",
       "    <tr>\n",
       "      <th>13</th>\n",
       "      <td>'s</td>\n",
       "      <td>126</td>\n",
       "    </tr>\n",
       "    <tr>\n",
       "      <th>5</th>\n",
       "      <td>to</td>\n",
       "      <td>112</td>\n",
       "    </tr>\n",
       "    <tr>\n",
       "      <th>31</th>\n",
       "      <td>it</td>\n",
       "      <td>109</td>\n",
       "    </tr>\n",
       "    <tr>\n",
       "      <th>...</th>\n",
       "      <td>...</td>\n",
       "      <td>...</td>\n",
       "    </tr>\n",
       "    <tr>\n",
       "      <th>248</th>\n",
       "      <td>postman</td>\n",
       "      <td>10</td>\n",
       "    </tr>\n",
       "    <tr>\n",
       "      <th>187</th>\n",
       "      <td>please</td>\n",
       "      <td>9</td>\n",
       "    </tr>\n",
       "    <tr>\n",
       "      <th>328</th>\n",
       "      <td>but</td>\n",
       "      <td>9</td>\n",
       "    </tr>\n",
       "    <tr>\n",
       "      <th>215</th>\n",
       "      <td>as</td>\n",
       "      <td>9</td>\n",
       "    </tr>\n",
       "    <tr>\n",
       "      <th>135</th>\n",
       "      <td>say</td>\n",
       "      <td>9</td>\n",
       "    </tr>\n",
       "  </tbody>\n",
       "</table>\n",
       "<p>100 rows × 2 columns</p>\n",
       "</div>"
      ],
      "text/plain": [
       "        word  count\n",
       "6        you    302\n",
       "2          i    191\n",
       "13        's    126\n",
       "5         to    112\n",
       "31        it    109\n",
       "..       ...    ...\n",
       "248  postman     10\n",
       "187   please      9\n",
       "328      but      9\n",
       "215       as      9\n",
       "135      say      9\n",
       "\n",
       "[100 rows x 2 columns]"
      ]
     },
     "execution_count": 14,
     "metadata": {},
     "output_type": "execute_result"
    }
   ],
   "source": [
    "#Doing this in place (changing the original DataFrame) as we don't need the unsorted DataFrame\n",
    "countedWords.sort_values('count', ascending=False, inplace=True)\n",
    "countedWords[:100]"
   ]
  },
  {
   "cell_type": "markdown",
   "metadata": {},
   "source": [
    "Punctuation and very common words (articles 'a' and 'the'; prepositions 'of' and 'to') make up the most common values, but this isn't very interesting and can actually get in the way of our analysis. We may remove these 'function words' by removing according to a stopword list, setting some frequency threshold, or using a weighting scheme (like tf.idf) to decrease their influence - we will look at these methods in more detail as we go through this tutorial. "
   ]
  },
  {
   "cell_type": "code",
   "execution_count": 15,
   "metadata": {},
   "outputs": [
    {
     "data": {
      "image/png": "[encoded data removed]",
      "text/plain": [
       "<Figure size 432x288 with 1 Axes>"
      ]
     },
     "metadata": {
      "needs_background": "light"
     },
     "output_type": "display_data"
    }
   ],
   "source": [
    "#Creating a figure and axis lets us do things like change the scaling or add a title\n",
    "fig = plt.figure()\n",
    "ax = fig.add_subplot(111)\n",
    "plt.plot(range(len(countedWords)), countedWords['count'])\n",
    "plt.show()"
   ]
  },
  {
   "cell_type": "markdown",
   "metadata": {},
   "source": [
    "This shows that likelihood of a word occurring is inversely proportional to its rank. This effect is called [Zipf's Law](https://en.wikipedia.org/wiki/Zipf%27s_law), and suggests that the most frequent word will occur approximately twice as often as the second most frequent word, three times as often as the third most frequent word, etc. Zipf's law is most easily observed by plotting the data on a log-log graph, with the axes being log (rank order) and log (frequency) resulting in a linear relationship."
   ]
  },
  {
   "cell_type": "code",
   "execution_count": 16,
   "metadata": {},
   "outputs": [
    {
     "data": {
      "image/png": "[encoded data removed]",
      "text/plain": [
       "<Figure size 432x288 with 1 Axes>"
      ]
     },
     "metadata": {
      "needs_background": "light"
     },
     "output_type": "display_data"
    }
   ],
   "source": [
    "fig = plt.figure()\n",
    "ax = fig.add_subplot(111)\n",
    "plt.plot(range(len(countedWords)), countedWords['count'])\n",
    "ax.set_yscale('log')\n",
    "ax.set_xscale('log')\n",
    "plt.show()"
   ]
  },
  {
   "cell_type": "markdown",
   "metadata": {},
   "source": [
    "(The same relationship occurs in many other rankings, such as population ranks of cities, corporation sizes, income rankings, etc.) \n",
    "\n",
    "The distribution was imagined by Zipf to be driven by a principle of 'least effort' where speakers did not work any harder than necessary to communicate a given idea, but the basis for this relationship is still not well understood and conforms at least as well to a process of [preferential attachment](https://en.wikipedia.org/wiki/Preferential_attachment) whereby people disproportionately attend to popular words.\n"
   ]
  },
  {
   "cell_type": "markdown",
   "metadata": {},
   "source": [
    "# Getting and working with raw text\n",
    "\n",
    "First, we will retrieve a collection of press releases from a *GitHub API* that archived them, based on a number of analyses by Justin Grimmer, a political scientist whose work we will read in two weeks!\n",
    "\n",
    "GitHub API requests are made to `'https://api.github.com/'` and responses are in JSON, similar to Tumblr's API.\n",
    "\n",
    "We will get the information on [github.com/lintool/GrimmerSenatePressReleases](https://github.com/lintool/GrimmerSenatePressReleases) as it contains a nice set documents."
   ]
  },
  {
   "cell_type": "code",
   "execution_count": 17,
   "metadata": {},
   "outputs": [
    {
     "name": "stdout",
     "output_type": "stream",
     "text": [
      "dict_keys(['id', 'node_id', 'name', 'full_name', 'private', 'owner', 'html_url', 'description', 'fork', 'url', 'forks_url', 'keys_url', 'collaborators_url', 'teams_url', 'hooks_url', 'issue_events_url', 'events_url', 'assignees_url', 'branches_url', 'tags_url', 'blobs_url', 'git_tags_url', 'git_refs_url', 'trees_url', 'statuses_url', 'languages_url', 'stargazers_url', 'contributors_url', 'subscribers_url', 'subscription_url', 'commits_url', 'git_commits_url', 'comments_url', 'issue_comment_url', 'contents_url', 'compare_url', 'merges_url', 'archive_url', 'downloads_url', 'issues_url', 'pulls_url', 'milestones_url', 'notifications_url', 'labels_url', 'releases_url', 'deployments_url', 'created_at', 'updated_at', 'pushed_at', 'git_url', 'ssh_url', 'clone_url', 'svn_url', 'homepage', 'size', 'stargazers_count', 'watchers_count', 'language', 'has_issues', 'has_projects', 'has_downloads', 'has_wiki', 'has_pages', 'forks_count', 'mirror_url', 'archived', 'disabled', 'open_issues_count', 'license', 'allow_forking', 'is_template', 'topics', 'visibility', 'forks', 'open_issues', 'watchers', 'default_branch', 'temp_clone_token', 'network_count', 'subscribers_count'])\n",
      "Grimmer's Senate Press Releases\n"
     ]
    }
   ],
   "source": [
    "r = requests.get('https://api.github.com/repos/lintool/GrimmerSenatePressReleases')\n",
    "senateReleasesData = json.loads(r.text)\n",
    "print(senateReleasesData.keys())\n",
    "print(senateReleasesData['description'])"
   ]
  },
  {
   "cell_type": "markdown",
   "metadata": {},
   "source": [
    "What we are interested in here is the `'contents_url'`"
   ]
  },
  {
   "cell_type": "code",
   "execution_count": 18,
   "metadata": {},
   "outputs": [
    {
     "name": "stdout",
     "output_type": "stream",
     "text": [
      "https://api.github.com/repos/lintool/GrimmerSenatePressReleases/contents/{+path}\n"
     ]
    }
   ],
   "source": [
    "print(senateReleasesData['contents_url'])"
   ]
  },
  {
   "cell_type": "markdown",
   "metadata": {},
   "source": [
    "We can use this to get any or all of the files from the repo."
   ]
  },
  {
   "cell_type": "code",
   "execution_count": 19,
   "metadata": {},
   "outputs": [
    {
     "data": {
      "text/plain": [
       "{'name': '10Apr2007Whitehouse123.txt',\n",
       " 'path': 'raw/Whitehouse/10Apr2007Whitehouse123.txt',\n",
       " 'sha': 'f524289ee563dca58690c8d36c23dce5dbd9962a',\n",
       " 'size': 2206,\n",
       " 'url': 'https://api.github.com/repos/lintool/GrimmerSenatePressReleases/contents/raw/Whitehouse/10Apr2007Whitehouse123.txt?ref=master',\n",
       " 'html_url': 'https://github.com/lintool/GrimmerSenatePressReleases/blob/master/raw/Whitehouse/10Apr2007Whitehouse123.txt',\n",
       " 'git_url': 'https://api.github.com/repos/lintool/GrimmerSenatePressReleases/git/blobs/f524289ee563dca58690c8d36c23dce5dbd9962a',\n",
       " 'download_url': 'https://raw.githubusercontent.com/lintool/GrimmerSenatePressReleases/master/raw/Whitehouse/10Apr2007Whitehouse123.txt',\n",
       " 'type': 'file',\n",
       " '_links': {'self': 'https://api.github.com/repos/lintool/GrimmerSenatePressReleases/contents/raw/Whitehouse/10Apr2007Whitehouse123.txt?ref=master',\n",
       "  'git': 'https://api.github.com/repos/lintool/GrimmerSenatePressReleases/git/blobs/f524289ee563dca58690c8d36c23dce5dbd9962a',\n",
       "  'html': 'https://github.com/lintool/GrimmerSenatePressReleases/blob/master/raw/Whitehouse/10Apr2007Whitehouse123.txt'}}"
      ]
     },
     "execution_count": 19,
     "metadata": {},
     "output_type": "execute_result"
    }
   ],
   "source": [
    "r = requests.get('https://api.github.com/repos/lintool/GrimmerSenatePressReleases/contents/raw/Whitehouse')\n",
    "whitehouseLinks = json.loads(r.text)\n",
    "whitehouseLinks[0]"
   ]
  },
  {
   "cell_type": "markdown",
   "metadata": {},
   "source": [
    "Now we have a list of information about Whitehouse press releases. Let's look at one of them."
   ]
  },
  {
   "cell_type": "code",
   "execution_count": 20,
   "metadata": {},
   "outputs": [
    {
     "name": "stdout",
     "output_type": "stream",
     "text": [
      "SEN. WHITEHOUSE SHARES WESTERLY GIRL'S STORY IN PUSH FOR STEM CELL RESEARCH\n",
      "  Sharing the story of Lila Barber, a 12 year old girl from Westerly, Sen. Sheldon Whitehouse (D-R.I.) on Tuesday, April 10, 2007, illustrated the hope stem cell research can offer in a speech on the Senate floor in favor of legislation to expand federal funding for stem cell research.  \n",
      "   Whitehouse met Lila two weeks ago. She was diagnosed two years ago with osteosarcoma, a cancerous bone condition, and last year underwent cadaver bone transplant surgery. The procedure saved her leg and is helping her remain cancer-free, but the transplanted tissue will not grow with her and likely will break down over time. Stem cell research, Whitehouse explained, could vastly improve the care of patients like Lila by allowing surgeons to enhance transplants with a patient's own stem cells, which could replace the lost bone and cartilage, or grow entirely new replacement bones and joints. \n",
      "   \"Stem cell research gives hope\n"
     ]
    },
    {
     "data": {
      "text/plain": [
       "2206"
      ]
     },
     "execution_count": 20,
     "metadata": {},
     "output_type": "execute_result"
    }
   ],
   "source": [
    "r = requests.get(whitehouseLinks[0]['download_url'])\n",
    "whitehouseRelease = r.text\n",
    "print(whitehouseRelease[:1000])\n",
    "len(whitehouseRelease)"
   ]
  },
  {
   "cell_type": "markdown",
   "metadata": {},
   "source": [
    "Now we have a string of correctly encoded text. For analysis of its words, next we need to tokenize it, or split it into a sequence of tokens or word instances."
   ]
  },
  {
   "cell_type": "code",
   "execution_count": 21,
   "metadata": {},
   "outputs": [
    {
     "data": {
      "text/plain": [
       "['STEM',\n",
       " 'CELL',\n",
       " 'RESEARCH',\n",
       " 'Sharing',\n",
       " 'the',\n",
       " 'story',\n",
       " 'of',\n",
       " 'Lila',\n",
       " 'Barber',\n",
       " 'a',\n",
       " '12',\n",
       " 'year',\n",
       " 'old',\n",
       " 'girl',\n",
       " 'from',\n",
       " 'Westerly',\n",
       " 'Sen.',\n",
       " 'Sheldon',\n",
       " 'Whitehouse',\n",
       " 'D']"
      ]
     },
     "execution_count": 21,
     "metadata": {},
     "output_type": "execute_result"
    }
   ],
   "source": [
    "whTokens = word_tokenize(whitehouseRelease)\n",
    "whTokens[10:30]"
   ]
  },
  {
   "cell_type": "markdown",
   "metadata": {},
   "source": [
    "Previous iterations of the course used `nltk`s tokenizer, but as we saw before, we used spaCy's model (https://spacy.io/api/tokenizer). We intend to avoid using NLTK when we can - for production level code, it is a lot faster and cleaner to use spaCy.\n",
    "\n",
    "That being said, `nltk` does have some useful methods for quick analysis of small corpora. We will explore a few here, and encourage you to figure out for yourself which other ones might be useful.\n",
    "\n",
    "To use the list of tokens in `nltk`, and take advantage of functions like `concordance`, shown above, we can convert it into a `Text`."
   ]
  },
  {
   "cell_type": "code",
   "execution_count": 22,
   "metadata": {},
   "outputs": [],
   "source": [
    "import nltk"
   ]
  },
  {
   "cell_type": "code",
   "execution_count": 23,
   "metadata": {},
   "outputs": [
    {
     "name": "stdout",
     "output_type": "stream",
     "text": [
      "Displaying 5 of 5 matches:\n",
      "ld girl from Westerly Sen. Sheldon Whitehouse D R.I. on Tuesday April 10 2007 il\n",
      "ral funding for stem cell research Whitehouse met Lila two weeks ago She was dia\n",
      " down over time Stem cell research Whitehouse explained could vastly improve the\n",
      "s research might help or even cure Whitehouse said Whitehouse also praised the e\n",
      " help or even cure Whitehouse said Whitehouse also praised the efforts of Rhode \n"
     ]
    }
   ],
   "source": [
    "whText = nltk.Text(whTokens)\n",
    "\n",
    "whitehouseIndex = nltk.text.ConcordanceIndex(whText) \n",
    "whitehouseIndex.print_concordance('Whitehouse')"
   ]
  },
  {
   "cell_type": "markdown",
   "metadata": {},
   "source": [
    "*Note* that the `Text` class is for doing rapid, exploratory analysis. It provides an easy interface to many of the operations we want to do, but it does not allow us much control over the particular operations it glosses. When you are doing a more complete analysis, you should be using the module specifically designed for that task instead of the shortcut method `Text` provides, e.g. use  [`collocations` Module](http://www.nltk.org/api/nltk.html#module-nltk.collocations) instead of `.collocations()`.\n",
    "\n",
    "Now that we have gotten this loaded, let's glance at few features we will delve into more deeply later.\n",
    "\n",
    "For example, we can find words that statistically tend to occur together and typically have a composite, idiomatic meaning irreducible to the semantics of its component words. We will do this later with more control over exactly how these are identified."
   ]
  },
  {
   "cell_type": "markdown",
   "metadata": {},
   "source": [
    "Or we can pick a word (or words) and find what words tend to occur around it."
   ]
  },
  {
   "cell_type": "code",
   "execution_count": 24,
   "metadata": {},
   "outputs": [
    {
     "name": "stdout",
     "output_type": "stream",
     "text": [
      "for_cell on_cells the_cell hope_cell time_cell own_cells joints_cell\n",
      "of_cell embryonic_cells\n"
     ]
    }
   ],
   "source": [
    "whText.common_contexts(['stem'])"
   ]
  },
  {
   "cell_type": "markdown",
   "metadata": {},
   "source": [
    "We can also just count the number of times the word occurs."
   ]
  },
  {
   "cell_type": "code",
   "execution_count": 25,
   "metadata": {},
   "outputs": [
    {
     "data": {
      "text/plain": [
       "5"
      ]
     },
     "execution_count": 25,
     "metadata": {},
     "output_type": "execute_result"
    }
   ],
   "source": [
    "whText.count('cell')"
   ]
  },
  {
   "cell_type": "markdown",
   "metadata": {},
   "source": [
    "\n",
    "We can also plot each time a set of words occurs."
   ]
  },
  {
   "cell_type": "code",
   "execution_count": 26,
   "metadata": {},
   "outputs": [
    {
     "data": {
      "image/png": "[encoded data removed]",
      "text/plain": [
       "<Figure size 432x288 with 1 Axes>"
      ]
     },
     "metadata": {
      "needs_background": "light"
     },
     "output_type": "display_data"
    }
   ],
   "source": [
    "sns.reset_orig() #Seaborn messes with this plot, disabling it\n",
    "whText.dispersion_plot(['Sen.','stem', 'cell', 'federal' ,'Lila', 'Barber', 'Whitehouse'])\n",
    "sns.set() #Re-enabling seaborn"
   ]
  },
  {
   "cell_type": "markdown",
   "metadata": {},
   "source": [
    "If we want to do an analysis of all the Whitehouse press releases we will first need to obtain them. By looking at the API we can see the the URL we want is [https://api.github.com/repos/lintool/GrimmerSenatePressReleases/contents/raw/Whitehouse](https://api.github.com/repos/lintool/GrimmerSenatePressReleases/contents/raw/Whitehouse), so we can create a function to scrape the individual files.\n",
    "\n",
    "If you want to know more about downloading from APIs, refer back to the 1st notebook."
   ]
  },
  {
   "cell_type": "code",
   "execution_count": 27,
   "metadata": {},
   "outputs": [
    {
     "data": {
      "text/html": [
       "<div>\n",
       "<style scoped>\n",
       "    .dataframe tbody tr th:only-of-type {\n",
       "        vertical-align: middle;\n",
       "    }\n",
       "\n",
       "    .dataframe tbody tr th {\n",
       "        vertical-align: top;\n",
       "    }\n",
       "\n",
       "    .dataframe thead th {\n",
       "        text-align: right;\n",
       "    }\n",
       "</style>\n",
       "<table border=\"1\" class=\"dataframe\">\n",
       "  <thead>\n",
       "    <tr style=\"text-align: right;\">\n",
       "      <th></th>\n",
       "      <th>name</th>\n",
       "      <th>text</th>\n",
       "      <th>path</th>\n",
       "      <th>html_url</th>\n",
       "      <th>download_url</th>\n",
       "    </tr>\n",
       "  </thead>\n",
       "  <tbody>\n",
       "    <tr>\n",
       "      <th>0</th>\n",
       "      <td>10Apr2007Whitehouse123.txt</td>\n",
       "      <td>SEN. WHITEHOUSE SHARES WESTERLY GIRL'S STORY I...</td>\n",
       "      <td>raw/Whitehouse/10Apr2007Whitehouse123.txt</td>\n",
       "      <td>https://github.com/lintool/GrimmerSenatePressR...</td>\n",
       "      <td>https://raw.githubusercontent.com/lintool/Grim...</td>\n",
       "    </tr>\n",
       "    <tr>\n",
       "      <th>1</th>\n",
       "      <td>10Apr2008Whitehouse2.txt</td>\n",
       "      <td>SEN. WHITEHOUSE SAYS PRESIDENT BUSH MUST BEGIN...</td>\n",
       "      <td>raw/Whitehouse/10Apr2008Whitehouse2.txt</td>\n",
       "      <td>https://github.com/lintool/GrimmerSenatePressR...</td>\n",
       "      <td>https://raw.githubusercontent.com/lintool/Grim...</td>\n",
       "    </tr>\n",
       "    <tr>\n",
       "      <th>2</th>\n",
       "      <td>10Apr2008Whitehouse3.txt</td>\n",
       "      <td>EPA MUST REVIEW LEGAL PROCESS TO ROOT OUT POLI...</td>\n",
       "      <td>raw/Whitehouse/10Apr2008Whitehouse3.txt</td>\n",
       "      <td>https://github.com/lintool/GrimmerSenatePressR...</td>\n",
       "      <td>https://raw.githubusercontent.com/lintool/Grim...</td>\n",
       "    </tr>\n",
       "    <tr>\n",
       "      <th>3</th>\n",
       "      <td>10Aug2007Whitehouse78.txt</td>\n",
       "      <td>R.I. SENATORS PRAISE SEN. DENIAL OF LNG FACILI...</td>\n",
       "      <td>raw/Whitehouse/10Aug2007Whitehouse78.txt</td>\n",
       "      <td>https://github.com/lintool/GrimmerSenatePressR...</td>\n",
       "      <td>https://raw.githubusercontent.com/lintool/Grim...</td>\n",
       "    </tr>\n",
       "    <tr>\n",
       "      <th>4</th>\n",
       "      <td>10Jan2008Whitehouse35.txt</td>\n",
       "      <td>SEN. WHITEHOUSE COMMENTS ON ONE-YEAR ANNIVERSA...</td>\n",
       "      <td>raw/Whitehouse/10Jan2008Whitehouse35.txt</td>\n",
       "      <td>https://github.com/lintool/GrimmerSenatePressR...</td>\n",
       "      <td>https://raw.githubusercontent.com/lintool/Grim...</td>\n",
       "    </tr>\n",
       "  </tbody>\n",
       "</table>\n",
       "</div>"
      ],
      "text/plain": [
       "                         name  \\\n",
       "0  10Apr2007Whitehouse123.txt   \n",
       "1    10Apr2008Whitehouse2.txt   \n",
       "2    10Apr2008Whitehouse3.txt   \n",
       "3   10Aug2007Whitehouse78.txt   \n",
       "4   10Jan2008Whitehouse35.txt   \n",
       "\n",
       "                                                text  \\\n",
       "0  SEN. WHITEHOUSE SHARES WESTERLY GIRL'S STORY I...   \n",
       "1  SEN. WHITEHOUSE SAYS PRESIDENT BUSH MUST BEGIN...   \n",
       "2  EPA MUST REVIEW LEGAL PROCESS TO ROOT OUT POLI...   \n",
       "3  R.I. SENATORS PRAISE SEN. DENIAL OF LNG FACILI...   \n",
       "4  SEN. WHITEHOUSE COMMENTS ON ONE-YEAR ANNIVERSA...   \n",
       "\n",
       "                                        path  \\\n",
       "0  raw/Whitehouse/10Apr2007Whitehouse123.txt   \n",
       "1    raw/Whitehouse/10Apr2008Whitehouse2.txt   \n",
       "2    raw/Whitehouse/10Apr2008Whitehouse3.txt   \n",
       "3   raw/Whitehouse/10Aug2007Whitehouse78.txt   \n",
       "4   raw/Whitehouse/10Jan2008Whitehouse35.txt   \n",
       "\n",
       "                                            html_url  \\\n",
       "0  https://github.com/lintool/GrimmerSenatePressR...   \n",
       "1  https://github.com/lintool/GrimmerSenatePressR...   \n",
       "2  https://github.com/lintool/GrimmerSenatePressR...   \n",
       "3  https://github.com/lintool/GrimmerSenatePressR...   \n",
       "4  https://github.com/lintool/GrimmerSenatePressR...   \n",
       "\n",
       "                                        download_url  \n",
       "0  https://raw.githubusercontent.com/lintool/Grim...  \n",
       "1  https://raw.githubusercontent.com/lintool/Grim...  \n",
       "2  https://raw.githubusercontent.com/lintool/Grim...  \n",
       "3  https://raw.githubusercontent.com/lintool/Grim...  \n",
       "4  https://raw.githubusercontent.com/lintool/Grim...  "
      ]
     },
     "execution_count": 27,
     "metadata": {},
     "output_type": "execute_result"
    }
   ],
   "source": [
    "def getGithubFiles(target, maxFiles = 100):\n",
    "    #We are setting a max so our examples don't take too long to run\n",
    "    #For converting to a DataFrame\n",
    "    releasesDict = {\n",
    "        'name' : [], #The name of the file\n",
    "        'text' : [], #The text of the file, watch out for binary files\n",
    "        'path' : [], #The path in the git repo to the file\n",
    "        'html_url' : [], #The url to see the file on Github\n",
    "        'download_url' : [], #The url to download the file\n",
    "    }\n",
    "\n",
    "    #Get the directory information from Github\n",
    "    r = requests.get(target)\n",
    "    filesLst = json.loads(r.text)\n",
    "\n",
    "    for fileDict in filesLst[:maxFiles]:\n",
    "        #These are provided by the directory\n",
    "        releasesDict['name'].append(fileDict['name'])\n",
    "        releasesDict['path'].append(fileDict['path'])\n",
    "        releasesDict['html_url'].append(fileDict['html_url'])\n",
    "        releasesDict['download_url'].append(fileDict['download_url'])\n",
    "\n",
    "        #We need to download the text though\n",
    "        text = requests.get(fileDict['download_url']).text\n",
    "        releasesDict['text'].append(text)\n",
    "\n",
    "    return pandas.DataFrame(releasesDict)\n",
    "\n",
    "whReleases = getGithubFiles('https://api.github.com/repos/lintool/GrimmerSenatePressReleases/contents/raw/Whitehouse', maxFiles = 10)\n",
    "whReleases[:5]"
   ]
  },
  {
   "cell_type": "markdown",
   "metadata": {},
   "source": [
    "If you are having trouble downloading the data uncomment this next cell"
   ]
  },
  {
   "cell_type": "code",
   "execution_count": 28,
   "metadata": {},
   "outputs": [],
   "source": [
    "#whReleases = pandas.read_csv('../data/whReleases.csv')"
   ]
  },
  {
   "cell_type": "markdown",
   "metadata": {},
   "source": [
    "Now we have all the texts in a DataFrame we can look at a few things.\n",
    "\n",
    "First let's tokenize the texts with the same tokenizer as we used before. We will just save the tokens as a list for now; no need to convert to `Text`s."
   ]
  },
  {
   "cell_type": "code",
   "execution_count": 29,
   "metadata": {},
   "outputs": [],
   "source": [
    "whReleases['tokenized_text'] = whReleases['text'].apply(lambda x: word_tokenize(x))"
   ]
  },
  {
   "cell_type": "markdown",
   "metadata": {},
   "source": [
    "Now lets see how long each of the press releases is:"
   ]
  },
  {
   "cell_type": "code",
   "execution_count": 30,
   "metadata": {},
   "outputs": [
    {
     "data": {
      "text/plain": [
       "0    350\n",
       "1    311\n",
       "2    497\n",
       "3    189\n",
       "4    236\n",
       "5    334\n",
       "6    241\n",
       "7    469\n",
       "8    443\n",
       "9    425\n",
       "Name: word_counts, dtype: int64"
      ]
     },
     "execution_count": 30,
     "metadata": {},
     "output_type": "execute_result"
    }
   ],
   "source": [
    "whReleases['word_counts'] = whReleases['tokenized_text'].apply(lambda x: len(x))\n",
    "whReleases['word_counts']"
   ]
  },
  {
   "cell_type": "markdown",
   "metadata": {},
   "source": [
    "----------------------"
   ]
  },
  {
   "cell_type": "markdown",
   "metadata": {},
   "source": [
    "## <font color=\"red\">*Exercise 1*</font>\n",
    "\n",
    "<font color=\"red\">Construct cells immediately below this that input and interrogate a corpus relating to your anticipated final project. This could include one of the Davies corpora or some other you have constructed. Turn your text into an nltk `Text` object, and explore all of the features examined above, and others that relate to better understanding your corpus in relation to your research question. </font>"
   ]
  },
  {
   "cell_type": "markdown",
   "metadata": {},
   "source": [
    "### Conclusions preview"
   ]
  },
  {
   "cell_type": "markdown",
   "metadata": {},
   "source": [
    "1. The most frequent words are just stopwords and provide few information.\n",
    "2. After removing stopwords, the plot for likelihood of word occuring both in absolute level and in logarithm form are very similar to the plots with movies data we've seen before.\n",
    "3. The word \"rape\" often occurs together with \"decriminalised\", \"victim\" and \"marital\"."
   ]
  },
  {
   "cell_type": "markdown",
   "metadata": {},
   "source": [
    "### Load the data"
   ]
  },
  {
   "cell_type": "markdown",
   "metadata": {},
   "source": [
    "I intend to explore social media misogyny for my final project. The data used here contains scrapped tweets with four misogyny words as the searching keywords: bitch, misandry, rape, harassment. I scrapped 1,000 tweets with each of the keyword and stored them as .json (also uploaded to this repository)."
   ]
  },
  {
   "cell_type": "code",
   "execution_count": 31,
   "metadata": {},
   "outputs": [],
   "source": [
    "# Reads the jsons and creates a pandas dataframe\n",
    "bitch_tweets_df = pandas.read_json('data/bitch-tweets.json', lines=True)\n",
    "bitch_tweets_df['keyword'] = 'bitch'\n",
    "misandry_tweets_df = pandas.read_json('data/misandry-tweets.json', lines=True)\n",
    "misandry_tweets_df['keyword'] = 'misandry'\n",
    "rape_tweets_df = pandas.read_json('data/rape-tweets.json', lines=True)\n",
    "rape_tweets_df['keyword'] = 'rape'\n",
    "harassment_tweets_df = pandas.read_json('data/harassment-tweets.json', lines=True)\n",
    "harassment_tweets_df['keyword'] = 'harassment'\n",
    "\n",
    "# Now append them together\n",
    "tweets_df = bitch_tweets_df.append(misandry_tweets_df, ignore_index=True).append(rape_tweets_df, ignore_index=True).append(harassment_tweets_df, ignore_index=True)"
   ]
  },
  {
   "cell_type": "code",
   "execution_count": 32,
   "metadata": {},
   "outputs": [
    {
     "data": {
      "text/html": [
       "<div>\n",
       "<style scoped>\n",
       "    .dataframe tbody tr th:only-of-type {\n",
       "        vertical-align: middle;\n",
       "    }\n",
       "\n",
       "    .dataframe tbody tr th {\n",
       "        vertical-align: top;\n",
       "    }\n",
       "\n",
       "    .dataframe thead th {\n",
       "        text-align: right;\n",
       "    }\n",
       "</style>\n",
       "<table border=\"1\" class=\"dataframe\">\n",
       "  <thead>\n",
       "    <tr style=\"text-align: right;\">\n",
       "      <th></th>\n",
       "      <th>_type</th>\n",
       "      <th>url</th>\n",
       "      <th>date</th>\n",
       "      <th>content</th>\n",
       "      <th>renderedContent</th>\n",
       "      <th>id</th>\n",
       "      <th>user</th>\n",
       "      <th>replyCount</th>\n",
       "      <th>retweetCount</th>\n",
       "      <th>likeCount</th>\n",
       "      <th>...</th>\n",
       "      <th>retweetedTweet</th>\n",
       "      <th>quotedTweet</th>\n",
       "      <th>inReplyToTweetId</th>\n",
       "      <th>inReplyToUser</th>\n",
       "      <th>mentionedUsers</th>\n",
       "      <th>coordinates</th>\n",
       "      <th>place</th>\n",
       "      <th>hashtags</th>\n",
       "      <th>cashtags</th>\n",
       "      <th>keyword</th>\n",
       "    </tr>\n",
       "  </thead>\n",
       "  <tbody>\n",
       "    <tr>\n",
       "      <th>0</th>\n",
       "      <td>snscrape.modules.twitter.Tweet</td>\n",
       "      <td>https://twitter.com/badd3tt/status/14861788354...</td>\n",
       "      <td>2022-01-26 03:27:00+00:00</td>\n",
       "      <td>Hoee sit ur lame ass down, BITCH YOU A LAMEEE ...</td>\n",
       "      <td>Hoee sit ur lame ass down, BITCH YOU A LAMEEE ...</td>\n",
       "      <td>1486178835406147588</td>\n",
       "      <td>{'_type': 'snscrape.modules.twitter.User', 'us...</td>\n",
       "      <td>0</td>\n",
       "      <td>0</td>\n",
       "      <td>0</td>\n",
       "      <td>...</td>\n",
       "      <td>NaN</td>\n",
       "      <td>None</td>\n",
       "      <td>NaN</td>\n",
       "      <td>None</td>\n",
       "      <td>None</td>\n",
       "      <td>None</td>\n",
       "      <td>None</td>\n",
       "      <td>None</td>\n",
       "      <td>None</td>\n",
       "      <td>bitch</td>\n",
       "    </tr>\n",
       "    <tr>\n",
       "      <th>1</th>\n",
       "      <td>snscrape.modules.twitter.Tweet</td>\n",
       "      <td>https://twitter.com/brookeel1se/status/1486178...</td>\n",
       "      <td>2022-01-26 03:27:00+00:00</td>\n",
       "      <td>i wont never quit bitch im kobe !</td>\n",
       "      <td>i wont never quit bitch im kobe !</td>\n",
       "      <td>1486178833854345220</td>\n",
       "      <td>{'_type': 'snscrape.modules.twitter.User', 'us...</td>\n",
       "      <td>0</td>\n",
       "      <td>0</td>\n",
       "      <td>0</td>\n",
       "      <td>...</td>\n",
       "      <td>NaN</td>\n",
       "      <td>None</td>\n",
       "      <td>NaN</td>\n",
       "      <td>None</td>\n",
       "      <td>None</td>\n",
       "      <td>None</td>\n",
       "      <td>None</td>\n",
       "      <td>None</td>\n",
       "      <td>None</td>\n",
       "      <td>bitch</td>\n",
       "    </tr>\n",
       "    <tr>\n",
       "      <th>2</th>\n",
       "      <td>snscrape.modules.twitter.Tweet</td>\n",
       "      <td>https://twitter.com/MiIesMalibu/status/1486178...</td>\n",
       "      <td>2022-01-26 03:26:59+00:00</td>\n",
       "      <td>“Your arms and legs don’t smell!” \\n\\nWell I’m...</td>\n",
       "      <td>“Your arms and legs don’t smell!” \\n\\nWell I’m...</td>\n",
       "      <td>1486178831421558788</td>\n",
       "      <td>{'_type': 'snscrape.modules.twitter.User', 'us...</td>\n",
       "      <td>0</td>\n",
       "      <td>0</td>\n",
       "      <td>0</td>\n",
       "      <td>...</td>\n",
       "      <td>NaN</td>\n",
       "      <td>None</td>\n",
       "      <td>1.486178e+18</td>\n",
       "      <td>{'_type': 'snscrape.modules.twitter.User', 'us...</td>\n",
       "      <td>None</td>\n",
       "      <td>None</td>\n",
       "      <td>None</td>\n",
       "      <td>None</td>\n",
       "      <td>None</td>\n",
       "      <td>bitch</td>\n",
       "    </tr>\n",
       "    <tr>\n",
       "      <th>3</th>\n",
       "      <td>snscrape.modules.twitter.Tweet</td>\n",
       "      <td>https://twitter.com/lecia_thareal/status/14861...</td>\n",
       "      <td>2022-01-26 03:26:58+00:00</td>\n",
       "      <td>I’m cool asf, ion know why bitches don’t like ...</td>\n",
       "      <td>I’m cool asf, ion know why bitches don’t like ...</td>\n",
       "      <td>1486178827046899713</td>\n",
       "      <td>{'_type': 'snscrape.modules.twitter.User', 'us...</td>\n",
       "      <td>0</td>\n",
       "      <td>0</td>\n",
       "      <td>0</td>\n",
       "      <td>...</td>\n",
       "      <td>NaN</td>\n",
       "      <td>None</td>\n",
       "      <td>NaN</td>\n",
       "      <td>None</td>\n",
       "      <td>None</td>\n",
       "      <td>None</td>\n",
       "      <td>None</td>\n",
       "      <td>None</td>\n",
       "      <td>None</td>\n",
       "      <td>bitch</td>\n",
       "    </tr>\n",
       "    <tr>\n",
       "      <th>4</th>\n",
       "      <td>snscrape.modules.twitter.Tweet</td>\n",
       "      <td>https://twitter.com/malikdavon/status/14861788...</td>\n",
       "      <td>2022-01-26 03:26:57+00:00</td>\n",
       "      <td>these 24 year olds be looking all of 30 in the...</td>\n",
       "      <td>these 24 year olds be looking all of 30 in the...</td>\n",
       "      <td>1486178822558863363</td>\n",
       "      <td>{'_type': 'snscrape.modules.twitter.User', 'us...</td>\n",
       "      <td>0</td>\n",
       "      <td>0</td>\n",
       "      <td>0</td>\n",
       "      <td>...</td>\n",
       "      <td>NaN</td>\n",
       "      <td>None</td>\n",
       "      <td>NaN</td>\n",
       "      <td>None</td>\n",
       "      <td>None</td>\n",
       "      <td>None</td>\n",
       "      <td>None</td>\n",
       "      <td>None</td>\n",
       "      <td>None</td>\n",
       "      <td>bitch</td>\n",
       "    </tr>\n",
       "    <tr>\n",
       "      <th>...</th>\n",
       "      <td>...</td>\n",
       "      <td>...</td>\n",
       "      <td>...</td>\n",
       "      <td>...</td>\n",
       "      <td>...</td>\n",
       "      <td>...</td>\n",
       "      <td>...</td>\n",
       "      <td>...</td>\n",
       "      <td>...</td>\n",
       "      <td>...</td>\n",
       "      <td>...</td>\n",
       "      <td>...</td>\n",
       "      <td>...</td>\n",
       "      <td>...</td>\n",
       "      <td>...</td>\n",
       "      <td>...</td>\n",
       "      <td>...</td>\n",
       "      <td>...</td>\n",
       "      <td>...</td>\n",
       "      <td>...</td>\n",
       "      <td>...</td>\n",
       "    </tr>\n",
       "    <tr>\n",
       "      <th>3995</th>\n",
       "      <td>snscrape.modules.twitter.Tweet</td>\n",
       "      <td>https://twitter.com/MainelyShooey/status/14861...</td>\n",
       "      <td>2022-01-25 23:28:35+00:00</td>\n",
       "      <td>@Jane_Doe82 Apologize, walk tf away and let he...</td>\n",
       "      <td>@Jane_Doe82 Apologize, walk tf away and let he...</td>\n",
       "      <td>1486118833496731653</td>\n",
       "      <td>{'_type': 'snscrape.modules.twitter.User', 'us...</td>\n",
       "      <td>0</td>\n",
       "      <td>0</td>\n",
       "      <td>0</td>\n",
       "      <td>...</td>\n",
       "      <td>NaN</td>\n",
       "      <td>None</td>\n",
       "      <td>1.485990e+18</td>\n",
       "      <td>{'_type': 'snscrape.modules.twitter.User', 'us...</td>\n",
       "      <td>[{'_type': 'snscrape.modules.twitter.User', 'u...</td>\n",
       "      <td>None</td>\n",
       "      <td>None</td>\n",
       "      <td>None</td>\n",
       "      <td>None</td>\n",
       "      <td>harassment</td>\n",
       "    </tr>\n",
       "    <tr>\n",
       "      <th>3996</th>\n",
       "      <td>snscrape.modules.twitter.Tweet</td>\n",
       "      <td>https://twitter.com/LoudAcid/status/1486118748...</td>\n",
       "      <td>2022-01-25 23:28:15+00:00</td>\n",
       "      <td>Oompf. Am I pulling a Not All Women? \\n\\nFeels...</td>\n",
       "      <td>Oompf. Am I pulling a Not All Women? \\n\\nFeels...</td>\n",
       "      <td>1486118748620824578</td>\n",
       "      <td>{'_type': 'snscrape.modules.twitter.User', 'us...</td>\n",
       "      <td>1</td>\n",
       "      <td>0</td>\n",
       "      <td>0</td>\n",
       "      <td>...</td>\n",
       "      <td>NaN</td>\n",
       "      <td>None</td>\n",
       "      <td>1.486119e+18</td>\n",
       "      <td>{'_type': 'snscrape.modules.twitter.User', 'us...</td>\n",
       "      <td>None</td>\n",
       "      <td>None</td>\n",
       "      <td>None</td>\n",
       "      <td>None</td>\n",
       "      <td>None</td>\n",
       "      <td>harassment</td>\n",
       "    </tr>\n",
       "    <tr>\n",
       "      <th>3997</th>\n",
       "      <td>snscrape.modules.twitter.Tweet</td>\n",
       "      <td>https://twitter.com/Patrizia3482/status/148611...</td>\n",
       "      <td>2022-01-25 23:28:03+00:00</td>\n",
       "      <td>@AnnaLogue75 @TraceKJ Thank you for keeping us...</td>\n",
       "      <td>@AnnaLogue75 @TraceKJ Thank you for keeping us...</td>\n",
       "      <td>1486118698515673090</td>\n",
       "      <td>{'_type': 'snscrape.modules.twitter.User', 'us...</td>\n",
       "      <td>0</td>\n",
       "      <td>0</td>\n",
       "      <td>3</td>\n",
       "      <td>...</td>\n",
       "      <td>NaN</td>\n",
       "      <td>None</td>\n",
       "      <td>1.486104e+18</td>\n",
       "      <td>{'_type': 'snscrape.modules.twitter.User', 'us...</td>\n",
       "      <td>[{'_type': 'snscrape.modules.twitter.User', 'u...</td>\n",
       "      <td>None</td>\n",
       "      <td>None</td>\n",
       "      <td>None</td>\n",
       "      <td>None</td>\n",
       "      <td>harassment</td>\n",
       "    </tr>\n",
       "    <tr>\n",
       "      <th>3998</th>\n",
       "      <td>snscrape.modules.twitter.Tweet</td>\n",
       "      <td>https://twitter.com/TheSewerRatGod/status/1486...</td>\n",
       "      <td>2022-01-25 23:27:53+00:00</td>\n",
       "      <td>@ogdiner I'm no lawyer so idk the difference b...</td>\n",
       "      <td>@ogdiner I'm no lawyer so idk the difference b...</td>\n",
       "      <td>1486118659005333504</td>\n",
       "      <td>{'_type': 'snscrape.modules.twitter.User', 'us...</td>\n",
       "      <td>1</td>\n",
       "      <td>0</td>\n",
       "      <td>2</td>\n",
       "      <td>...</td>\n",
       "      <td>NaN</td>\n",
       "      <td>None</td>\n",
       "      <td>1.486117e+18</td>\n",
       "      <td>{'_type': 'snscrape.modules.twitter.User', 'us...</td>\n",
       "      <td>[{'_type': 'snscrape.modules.twitter.User', 'u...</td>\n",
       "      <td>None</td>\n",
       "      <td>None</td>\n",
       "      <td>None</td>\n",
       "      <td>None</td>\n",
       "      <td>harassment</td>\n",
       "    </tr>\n",
       "    <tr>\n",
       "      <th>3999</th>\n",
       "      <td>snscrape.modules.twitter.Tweet</td>\n",
       "      <td>https://twitter.com/SciFiisHere/status/1486118...</td>\n",
       "      <td>2022-01-25 23:27:36+00:00</td>\n",
       "      <td>@matt_monies @Froskurinn She hasn't shown us t...</td>\n",
       "      <td>@matt_monies @Froskurinn She hasn't shown us t...</td>\n",
       "      <td>1486118585323995136</td>\n",
       "      <td>{'_type': 'snscrape.modules.twitter.User', 'us...</td>\n",
       "      <td>2</td>\n",
       "      <td>0</td>\n",
       "      <td>3</td>\n",
       "      <td>...</td>\n",
       "      <td>NaN</td>\n",
       "      <td>None</td>\n",
       "      <td>1.486096e+18</td>\n",
       "      <td>{'_type': 'snscrape.modules.twitter.User', 'us...</td>\n",
       "      <td>[{'_type': 'snscrape.modules.twitter.User', 'u...</td>\n",
       "      <td>None</td>\n",
       "      <td>None</td>\n",
       "      <td>None</td>\n",
       "      <td>None</td>\n",
       "      <td>harassment</td>\n",
       "    </tr>\n",
       "  </tbody>\n",
       "</table>\n",
       "<p>4000 rows × 29 columns</p>\n",
       "</div>"
      ],
      "text/plain": [
       "                               _type  \\\n",
       "0     snscrape.modules.twitter.Tweet   \n",
       "1     snscrape.modules.twitter.Tweet   \n",
       "2     snscrape.modules.twitter.Tweet   \n",
       "3     snscrape.modules.twitter.Tweet   \n",
       "4     snscrape.modules.twitter.Tweet   \n",
       "...                              ...   \n",
       "3995  snscrape.modules.twitter.Tweet   \n",
       "3996  snscrape.modules.twitter.Tweet   \n",
       "3997  snscrape.modules.twitter.Tweet   \n",
       "3998  snscrape.modules.twitter.Tweet   \n",
       "3999  snscrape.modules.twitter.Tweet   \n",
       "\n",
       "                                                    url  \\\n",
       "0     https://twitter.com/badd3tt/status/14861788354...   \n",
       "1     https://twitter.com/brookeel1se/status/1486178...   \n",
       "2     https://twitter.com/MiIesMalibu/status/1486178...   \n",
       "3     https://twitter.com/lecia_thareal/status/14861...   \n",
       "4     https://twitter.com/malikdavon/status/14861788...   \n",
       "...                                                 ...   \n",
       "3995  https://twitter.com/MainelyShooey/status/14861...   \n",
       "3996  https://twitter.com/LoudAcid/status/1486118748...   \n",
       "3997  https://twitter.com/Patrizia3482/status/148611...   \n",
       "3998  https://twitter.com/TheSewerRatGod/status/1486...   \n",
       "3999  https://twitter.com/SciFiisHere/status/1486118...   \n",
       "\n",
       "                          date  \\\n",
       "0    2022-01-26 03:27:00+00:00   \n",
       "1    2022-01-26 03:27:00+00:00   \n",
       "2    2022-01-26 03:26:59+00:00   \n",
       "3    2022-01-26 03:26:58+00:00   \n",
       "4    2022-01-26 03:26:57+00:00   \n",
       "...                        ...   \n",
       "3995 2022-01-25 23:28:35+00:00   \n",
       "3996 2022-01-25 23:28:15+00:00   \n",
       "3997 2022-01-25 23:28:03+00:00   \n",
       "3998 2022-01-25 23:27:53+00:00   \n",
       "3999 2022-01-25 23:27:36+00:00   \n",
       "\n",
       "                                                content  \\\n",
       "0     Hoee sit ur lame ass down, BITCH YOU A LAMEEE ...   \n",
       "1                     i wont never quit bitch im kobe !   \n",
       "2     “Your arms and legs don’t smell!” \\n\\nWell I’m...   \n",
       "3     I’m cool asf, ion know why bitches don’t like ...   \n",
       "4     these 24 year olds be looking all of 30 in the...   \n",
       "...                                                 ...   \n",
       "3995  @Jane_Doe82 Apologize, walk tf away and let he...   \n",
       "3996  Oompf. Am I pulling a Not All Women? \\n\\nFeels...   \n",
       "3997  @AnnaLogue75 @TraceKJ Thank you for keeping us...   \n",
       "3998  @ogdiner I'm no lawyer so idk the difference b...   \n",
       "3999  @matt_monies @Froskurinn She hasn't shown us t...   \n",
       "\n",
       "                                        renderedContent                   id  \\\n",
       "0     Hoee sit ur lame ass down, BITCH YOU A LAMEEE ...  1486178835406147588   \n",
       "1                     i wont never quit bitch im kobe !  1486178833854345220   \n",
       "2     “Your arms and legs don’t smell!” \\n\\nWell I’m...  1486178831421558788   \n",
       "3     I’m cool asf, ion know why bitches don’t like ...  1486178827046899713   \n",
       "4     these 24 year olds be looking all of 30 in the...  1486178822558863363   \n",
       "...                                                 ...                  ...   \n",
       "3995  @Jane_Doe82 Apologize, walk tf away and let he...  1486118833496731653   \n",
       "3996  Oompf. Am I pulling a Not All Women? \\n\\nFeels...  1486118748620824578   \n",
       "3997  @AnnaLogue75 @TraceKJ Thank you for keeping us...  1486118698515673090   \n",
       "3998  @ogdiner I'm no lawyer so idk the difference b...  1486118659005333504   \n",
       "3999  @matt_monies @Froskurinn She hasn't shown us t...  1486118585323995136   \n",
       "\n",
       "                                                   user  replyCount  \\\n",
       "0     {'_type': 'snscrape.modules.twitter.User', 'us...           0   \n",
       "1     {'_type': 'snscrape.modules.twitter.User', 'us...           0   \n",
       "2     {'_type': 'snscrape.modules.twitter.User', 'us...           0   \n",
       "3     {'_type': 'snscrape.modules.twitter.User', 'us...           0   \n",
       "4     {'_type': 'snscrape.modules.twitter.User', 'us...           0   \n",
       "...                                                 ...         ...   \n",
       "3995  {'_type': 'snscrape.modules.twitter.User', 'us...           0   \n",
       "3996  {'_type': 'snscrape.modules.twitter.User', 'us...           1   \n",
       "3997  {'_type': 'snscrape.modules.twitter.User', 'us...           0   \n",
       "3998  {'_type': 'snscrape.modules.twitter.User', 'us...           1   \n",
       "3999  {'_type': 'snscrape.modules.twitter.User', 'us...           2   \n",
       "\n",
       "      retweetCount  likeCount  ...  retweetedTweet  quotedTweet  \\\n",
       "0                0          0  ...             NaN         None   \n",
       "1                0          0  ...             NaN         None   \n",
       "2                0          0  ...             NaN         None   \n",
       "3                0          0  ...             NaN         None   \n",
       "4                0          0  ...             NaN         None   \n",
       "...            ...        ...  ...             ...          ...   \n",
       "3995             0          0  ...             NaN         None   \n",
       "3996             0          0  ...             NaN         None   \n",
       "3997             0          3  ...             NaN         None   \n",
       "3998             0          2  ...             NaN         None   \n",
       "3999             0          3  ...             NaN         None   \n",
       "\n",
       "     inReplyToTweetId                                      inReplyToUser  \\\n",
       "0                 NaN                                               None   \n",
       "1                 NaN                                               None   \n",
       "2        1.486178e+18  {'_type': 'snscrape.modules.twitter.User', 'us...   \n",
       "3                 NaN                                               None   \n",
       "4                 NaN                                               None   \n",
       "...               ...                                                ...   \n",
       "3995     1.485990e+18  {'_type': 'snscrape.modules.twitter.User', 'us...   \n",
       "3996     1.486119e+18  {'_type': 'snscrape.modules.twitter.User', 'us...   \n",
       "3997     1.486104e+18  {'_type': 'snscrape.modules.twitter.User', 'us...   \n",
       "3998     1.486117e+18  {'_type': 'snscrape.modules.twitter.User', 'us...   \n",
       "3999     1.486096e+18  {'_type': 'snscrape.modules.twitter.User', 'us...   \n",
       "\n",
       "                                         mentionedUsers coordinates place  \\\n",
       "0                                                  None        None  None   \n",
       "1                                                  None        None  None   \n",
       "2                                                  None        None  None   \n",
       "3                                                  None        None  None   \n",
       "4                                                  None        None  None   \n",
       "...                                                 ...         ...   ...   \n",
       "3995  [{'_type': 'snscrape.modules.twitter.User', 'u...        None  None   \n",
       "3996                                               None        None  None   \n",
       "3997  [{'_type': 'snscrape.modules.twitter.User', 'u...        None  None   \n",
       "3998  [{'_type': 'snscrape.modules.twitter.User', 'u...        None  None   \n",
       "3999  [{'_type': 'snscrape.modules.twitter.User', 'u...        None  None   \n",
       "\n",
       "     hashtags cashtags     keyword  \n",
       "0        None     None       bitch  \n",
       "1        None     None       bitch  \n",
       "2        None     None       bitch  \n",
       "3        None     None       bitch  \n",
       "4        None     None       bitch  \n",
       "...       ...      ...         ...  \n",
       "3995     None     None  harassment  \n",
       "3996     None     None  harassment  \n",
       "3997     None     None  harassment  \n",
       "3998     None     None  harassment  \n",
       "3999     None     None  harassment  \n",
       "\n",
       "[4000 rows x 29 columns]"
      ]
     },
     "execution_count": 32,
     "metadata": {},
     "output_type": "execute_result"
    }
   ],
   "source": [
    "tweets_df"
   ]
  },
  {
   "cell_type": "markdown",
   "metadata": {},
   "source": [
    "This dataframe contains abundant information, but for now I only want to use \"content\" to construct the corpora for further exploration."
   ]
  },
  {
   "cell_type": "code",
   "execution_count": 33,
   "metadata": {},
   "outputs": [
    {
     "data": {
      "text/plain": [
       "0       Hoee sit ur lame ass down, BITCH YOU A LAMEEE ...\n",
       "1                       i wont never quit bitch im kobe !\n",
       "2       “Your arms and legs don’t smell!” \\n\\nWell I’m...\n",
       "3       I’m cool asf, ion know why bitches don’t like ...\n",
       "4       these 24 year olds be looking all of 30 in the...\n",
       "                              ...                        \n",
       "3995    @Jane_Doe82 Apologize, walk tf away and let he...\n",
       "3996    Oompf. Am I pulling a Not All Women? \\n\\nFeels...\n",
       "3997    @AnnaLogue75 @TraceKJ Thank you for keeping us...\n",
       "3998    @ogdiner I'm no lawyer so idk the difference b...\n",
       "3999    @matt_monies @Froskurinn She hasn't shown us t...\n",
       "Name: content, Length: 4000, dtype: object"
      ]
     },
     "execution_count": 33,
     "metadata": {},
     "output_type": "execute_result"
    }
   ],
   "source": [
    "tweets_df['content']"
   ]
  },
  {
   "cell_type": "markdown",
   "metadata": {},
   "source": [
    "### Preprocessing"
   ]
  },
  {
   "cell_type": "markdown",
   "metadata": {},
   "source": [
    "I use the `tweet-preprocessor` package to delete urls and emojis (but keep mentions and hashtags for now). I also referred to [a question on StackOverflow](https://stackoverflow.com/questions/54396405/how-can-i-preprocess-nlp-text-lowercase-remove-special-characters-remove-numb) to write the preprocessing function."
   ]
  },
  {
   "cell_type": "code",
   "execution_count": 34,
   "metadata": {},
   "outputs": [],
   "source": [
    "import preprocessor as p\n",
    "import re\n",
    "\n",
    "p.set_options(p.OPT.URL, p.OPT.EMOJI)\n",
    "def clean(content):\n",
    "    cleaned_text = []\n",
    "    for s in content:\n",
    "        s = p.clean(s).lower()\n",
    "        cleanr = re.compile('[^\\w\\s]')\n",
    "        cleantext = re.sub(cleanr, '', s)\n",
    "        cleaned_text.append(cleantext)\n",
    "    return cleaned_text\n",
    "\n",
    "cleaned_content = clean(tweets_df['content'])"
   ]
  },
  {
   "cell_type": "code",
   "execution_count": 35,
   "metadata": {},
   "outputs": [
    {
     "data": {
      "text/plain": [
       "['hoee sit ur lame ass down bitch you a lameee  next callerrrr',\n",
       " 'i wont never quit bitch im kobe ',\n",
       " 'your arms and legs dont smell well im no skinny bitch so if i sweat my legs are gross and dont yall have arm pits',\n",
       " 'im cool asf ion know why bitches dont like me',\n",
       " 'these 24 year olds be looking all of 30 in the face omg thank u god for my mamas genes cause a bitch gonna be forever youthful youll think my ass a vampire',\n",
       " 'listen i love maddy but she a bitch but she care so hard but she also crazy and scare the fuck out of me maybe thats why i love her so much cause i like crazy bitches',\n",
       " 'listen if i dont have a relationship like these bitches then i dont want it thank you and goodnight',\n",
       " 'bitch meu iphone branco meu pau preto',\n",
       " 'you can tell jesus that the bitch is back',\n",
       " 'larryelder acosta cnn youre a dumb son of a bitch too']"
      ]
     },
     "execution_count": 35,
     "metadata": {},
     "output_type": "execute_result"
    }
   ],
   "source": [
    "cleaned_content[0:10]"
   ]
  },
  {
   "cell_type": "markdown",
   "metadata": {},
   "source": [
    "### Word tokenization"
   ]
  },
  {
   "cell_type": "code",
   "execution_count": 36,
   "metadata": {},
   "outputs": [],
   "source": [
    "cleaned_content = pandas.Series(cleaned_content)\n",
    "tokenized_content = cleaned_content.apply(word_tokenize)"
   ]
  },
  {
   "cell_type": "markdown",
   "metadata": {},
   "source": [
    "### Count words"
   ]
  },
  {
   "cell_type": "code",
   "execution_count": 37,
   "metadata": {},
   "outputs": [],
   "source": [
    "# Aggregate the tokenized tweets into four large corpora by keyword\n",
    "bitch_list = []\n",
    "for i in range(1000):\n",
    "    bitch_list = bitch_list + tokenized_content[i]\n",
    "misandry_list = []\n",
    "for i in range(1000,2000):\n",
    "    misandry_list = misandry_list + tokenized_content[i]\n",
    "rape_list = []\n",
    "for i in range(2000,3000):\n",
    "    rape_list = rape_list + tokenized_content[i]\n",
    "harassment_list = []\n",
    "for i in range(3000,4000):\n",
    "    harassment_list = harassment_list + tokenized_content[i]\n"
   ]
  },
  {
   "cell_type": "code",
   "execution_count": 38,
   "metadata": {},
   "outputs": [],
   "source": [
    "# Compile all of the tweets into a single corpora\n",
    "bitch_counted_words = wordCounter(bitch_list)\n",
    "misandry_counted_words = wordCounter(misandry_list)\n",
    "rape_counted_words = wordCounter(rape_list)\n",
    "harassment_counted_words = wordCounter(harassment_list)"
   ]
  },
  {
   "cell_type": "code",
   "execution_count": 39,
   "metadata": {},
   "outputs": [],
   "source": [
    "bitch_counted_words.sort_values('count',ascending=False, inplace=True)\n",
    "misandry_counted_words.sort_values('count',ascending=False, inplace=True)\n",
    "rape_counted_words.sort_values('count',ascending=False, inplace=True)\n",
    "harassment_counted_words.sort_values('count',ascending=False, inplace=True)"
   ]
  },
  {
   "cell_type": "code",
   "execution_count": 40,
   "metadata": {},
   "outputs": [
    {
     "data": {
      "text/html": [
       "<div>\n",
       "<style scoped>\n",
       "    .dataframe tbody tr th:only-of-type {\n",
       "        vertical-align: middle;\n",
       "    }\n",
       "\n",
       "    .dataframe tbody tr th {\n",
       "        vertical-align: top;\n",
       "    }\n",
       "\n",
       "    .dataframe thead th {\n",
       "        text-align: right;\n",
       "    }\n",
       "</style>\n",
       "<table border=\"1\" class=\"dataframe\">\n",
       "  <thead>\n",
       "    <tr style=\"text-align: right;\">\n",
       "      <th></th>\n",
       "      <th>word</th>\n",
       "      <th>count</th>\n",
       "    </tr>\n",
       "  </thead>\n",
       "  <tbody>\n",
       "    <tr>\n",
       "      <th>6</th>\n",
       "      <td>bitch</td>\n",
       "      <td>773</td>\n",
       "    </tr>\n",
       "    <tr>\n",
       "      <th>12</th>\n",
       "      <td>i</td>\n",
       "      <td>554</td>\n",
       "    </tr>\n",
       "    <tr>\n",
       "      <th>8</th>\n",
       "      <td>a</td>\n",
       "      <td>506</td>\n",
       "    </tr>\n",
       "    <tr>\n",
       "      <th>7</th>\n",
       "      <td>you</td>\n",
       "      <td>389</td>\n",
       "    </tr>\n",
       "    <tr>\n",
       "      <th>56</th>\n",
       "      <td>the</td>\n",
       "      <td>353</td>\n",
       "    </tr>\n",
       "    <tr>\n",
       "      <th>143</th>\n",
       "      <td>to</td>\n",
       "      <td>284</td>\n",
       "    </tr>\n",
       "    <tr>\n",
       "      <th>21</th>\n",
       "      <td>and</td>\n",
       "      <td>258</td>\n",
       "    </tr>\n",
       "    <tr>\n",
       "      <th>44</th>\n",
       "      <td>bitches</td>\n",
       "      <td>238</td>\n",
       "    </tr>\n",
       "    <tr>\n",
       "      <th>86</th>\n",
       "      <td>that</td>\n",
       "      <td>224</td>\n",
       "    </tr>\n",
       "    <tr>\n",
       "      <th>14</th>\n",
       "      <td>nt</td>\n",
       "      <td>223</td>\n",
       "    </tr>\n",
       "  </tbody>\n",
       "</table>\n",
       "</div>"
      ],
      "text/plain": [
       "        word  count\n",
       "6      bitch    773\n",
       "12         i    554\n",
       "8          a    506\n",
       "7        you    389\n",
       "56       the    353\n",
       "143       to    284\n",
       "21       and    258\n",
       "44   bitches    238\n",
       "86      that    224\n",
       "14        nt    223"
      ]
     },
     "execution_count": 40,
     "metadata": {},
     "output_type": "execute_result"
    }
   ],
   "source": [
    "bitch_counted_words[:10]"
   ]
  },
  {
   "cell_type": "code",
   "execution_count": 41,
   "metadata": {},
   "outputs": [
    {
     "data": {
      "text/html": [
       "<div>\n",
       "<style scoped>\n",
       "    .dataframe tbody tr th:only-of-type {\n",
       "        vertical-align: middle;\n",
       "    }\n",
       "\n",
       "    .dataframe tbody tr th {\n",
       "        vertical-align: top;\n",
       "    }\n",
       "\n",
       "    .dataframe thead th {\n",
       "        text-align: right;\n",
       "    }\n",
       "</style>\n",
       "<table border=\"1\" class=\"dataframe\">\n",
       "  <thead>\n",
       "    <tr style=\"text-align: right;\">\n",
       "      <th></th>\n",
       "      <th>word</th>\n",
       "      <th>count</th>\n",
       "    </tr>\n",
       "  </thead>\n",
       "  <tbody>\n",
       "    <tr>\n",
       "      <th>37</th>\n",
       "      <td>rape</td>\n",
       "      <td>1035</td>\n",
       "    </tr>\n",
       "    <tr>\n",
       "      <th>32</th>\n",
       "      <td>the</td>\n",
       "      <td>847</td>\n",
       "    </tr>\n",
       "    <tr>\n",
       "      <th>36</th>\n",
       "      <td>to</td>\n",
       "      <td>710</td>\n",
       "    </tr>\n",
       "    <tr>\n",
       "      <th>46</th>\n",
       "      <td>of</td>\n",
       "      <td>603</td>\n",
       "    </tr>\n",
       "    <tr>\n",
       "      <th>113</th>\n",
       "      <td>a</td>\n",
       "      <td>578</td>\n",
       "    </tr>\n",
       "    <tr>\n",
       "      <th>8</th>\n",
       "      <td>and</td>\n",
       "      <td>531</td>\n",
       "    </tr>\n",
       "    <tr>\n",
       "      <th>41</th>\n",
       "      <td>is</td>\n",
       "      <td>452</td>\n",
       "    </tr>\n",
       "    <tr>\n",
       "      <th>22</th>\n",
       "      <td>in</td>\n",
       "      <td>429</td>\n",
       "    </tr>\n",
       "    <tr>\n",
       "      <th>17</th>\n",
       "      <td>you</td>\n",
       "      <td>339</td>\n",
       "    </tr>\n",
       "    <tr>\n",
       "      <th>3</th>\n",
       "      <td>i</td>\n",
       "      <td>331</td>\n",
       "    </tr>\n",
       "  </tbody>\n",
       "</table>\n",
       "</div>"
      ],
      "text/plain": [
       "     word  count\n",
       "37   rape   1035\n",
       "32    the    847\n",
       "36     to    710\n",
       "46     of    603\n",
       "113     a    578\n",
       "8     and    531\n",
       "41     is    452\n",
       "22     in    429\n",
       "17    you    339\n",
       "3       i    331"
      ]
     },
     "execution_count": 41,
     "metadata": {},
     "output_type": "execute_result"
    }
   ],
   "source": [
    "rape_counted_words[:10]"
   ]
  },
  {
   "cell_type": "code",
   "execution_count": 42,
   "metadata": {},
   "outputs": [
    {
     "data": {
      "text/html": [
       "<div>\n",
       "<style scoped>\n",
       "    .dataframe tbody tr th:only-of-type {\n",
       "        vertical-align: middle;\n",
       "    }\n",
       "\n",
       "    .dataframe tbody tr th {\n",
       "        vertical-align: top;\n",
       "    }\n",
       "\n",
       "    .dataframe thead th {\n",
       "        text-align: right;\n",
       "    }\n",
       "</style>\n",
       "<table border=\"1\" class=\"dataframe\">\n",
       "  <thead>\n",
       "    <tr style=\"text-align: right;\">\n",
       "      <th></th>\n",
       "      <th>word</th>\n",
       "      <th>count</th>\n",
       "    </tr>\n",
       "  </thead>\n",
       "  <tbody>\n",
       "    <tr>\n",
       "      <th>26</th>\n",
       "      <td>the</td>\n",
       "      <td>579</td>\n",
       "    </tr>\n",
       "    <tr>\n",
       "      <th>23</th>\n",
       "      <td>misandry</td>\n",
       "      <td>562</td>\n",
       "    </tr>\n",
       "    <tr>\n",
       "      <th>38</th>\n",
       "      <td>to</td>\n",
       "      <td>400</td>\n",
       "    </tr>\n",
       "    <tr>\n",
       "      <th>12</th>\n",
       "      <td>is</td>\n",
       "      <td>383</td>\n",
       "    </tr>\n",
       "    <tr>\n",
       "      <th>17</th>\n",
       "      <td>a</td>\n",
       "      <td>379</td>\n",
       "    </tr>\n",
       "    <tr>\n",
       "      <th>4</th>\n",
       "      <td>i</td>\n",
       "      <td>370</td>\n",
       "    </tr>\n",
       "    <tr>\n",
       "      <th>48</th>\n",
       "      <td>and</td>\n",
       "      <td>357</td>\n",
       "    </tr>\n",
       "    <tr>\n",
       "      <th>20</th>\n",
       "      <td>of</td>\n",
       "      <td>329</td>\n",
       "    </tr>\n",
       "    <tr>\n",
       "      <th>65</th>\n",
       "      <td>you</td>\n",
       "      <td>260</td>\n",
       "    </tr>\n",
       "    <tr>\n",
       "      <th>89</th>\n",
       "      <td>that</td>\n",
       "      <td>244</td>\n",
       "    </tr>\n",
       "  </tbody>\n",
       "</table>\n",
       "</div>"
      ],
      "text/plain": [
       "        word  count\n",
       "26       the    579\n",
       "23  misandry    562\n",
       "38        to    400\n",
       "12        is    383\n",
       "17         a    379\n",
       "4          i    370\n",
       "48       and    357\n",
       "20        of    329\n",
       "65       you    260\n",
       "89      that    244"
      ]
     },
     "execution_count": 42,
     "metadata": {},
     "output_type": "execute_result"
    }
   ],
   "source": [
    "misandry_counted_words[:10]"
   ]
  },
  {
   "cell_type": "code",
   "execution_count": 43,
   "metadata": {},
   "outputs": [
    {
     "data": {
      "text/html": [
       "<div>\n",
       "<style scoped>\n",
       "    .dataframe tbody tr th:only-of-type {\n",
       "        vertical-align: middle;\n",
       "    }\n",
       "\n",
       "    .dataframe tbody tr th {\n",
       "        vertical-align: top;\n",
       "    }\n",
       "\n",
       "    .dataframe thead th {\n",
       "        text-align: right;\n",
       "    }\n",
       "</style>\n",
       "<table border=\"1\" class=\"dataframe\">\n",
       "  <thead>\n",
       "    <tr style=\"text-align: right;\">\n",
       "      <th></th>\n",
       "      <th>word</th>\n",
       "      <th>count</th>\n",
       "    </tr>\n",
       "  </thead>\n",
       "  <tbody>\n",
       "    <tr>\n",
       "      <th>11</th>\n",
       "      <td>harassment</td>\n",
       "      <td>966</td>\n",
       "    </tr>\n",
       "    <tr>\n",
       "      <th>16</th>\n",
       "      <td>the</td>\n",
       "      <td>791</td>\n",
       "    </tr>\n",
       "    <tr>\n",
       "      <th>56</th>\n",
       "      <td>to</td>\n",
       "      <td>752</td>\n",
       "    </tr>\n",
       "    <tr>\n",
       "      <th>36</th>\n",
       "      <td>and</td>\n",
       "      <td>685</td>\n",
       "    </tr>\n",
       "    <tr>\n",
       "      <th>19</th>\n",
       "      <td>of</td>\n",
       "      <td>544</td>\n",
       "    </tr>\n",
       "    <tr>\n",
       "      <th>140</th>\n",
       "      <td>a</td>\n",
       "      <td>495</td>\n",
       "    </tr>\n",
       "    <tr>\n",
       "      <th>40</th>\n",
       "      <td>i</td>\n",
       "      <td>478</td>\n",
       "    </tr>\n",
       "    <tr>\n",
       "      <th>101</th>\n",
       "      <td>is</td>\n",
       "      <td>463</td>\n",
       "    </tr>\n",
       "    <tr>\n",
       "      <th>120</th>\n",
       "      <td>you</td>\n",
       "      <td>367</td>\n",
       "    </tr>\n",
       "    <tr>\n",
       "      <th>5</th>\n",
       "      <td>for</td>\n",
       "      <td>337</td>\n",
       "    </tr>\n",
       "  </tbody>\n",
       "</table>\n",
       "</div>"
      ],
      "text/plain": [
       "           word  count\n",
       "11   harassment    966\n",
       "16          the    791\n",
       "56           to    752\n",
       "36          and    685\n",
       "19           of    544\n",
       "140           a    495\n",
       "40            i    478\n",
       "101          is    463\n",
       "120         you    367\n",
       "5           for    337"
      ]
     },
     "execution_count": 43,
     "metadata": {},
     "output_type": "execute_result"
    }
   ],
   "source": [
    "harassment_counted_words[:10]"
   ]
  },
  {
   "cell_type": "markdown",
   "metadata": {},
   "source": [
    "We can see that except for the keywords we used for search, the most frequent words are just stopwords."
   ]
  },
  {
   "cell_type": "markdown",
   "metadata": {},
   "source": [
    "### Removing stopwords"
   ]
  },
  {
   "cell_type": "code",
   "execution_count": 44,
   "metadata": {},
   "outputs": [],
   "source": [
    "from nltk.corpus import stopwords\n",
    "# nltk.download('stopwords')\n",
    "stop_words = set(stopwords.words('english'))"
   ]
  },
  {
   "cell_type": "code",
   "execution_count": 45,
   "metadata": {},
   "outputs": [],
   "source": [
    "def is_stop_word(word):\n",
    "    if word in stop_words:\n",
    "        return True\n",
    "    return False"
   ]
  },
  {
   "cell_type": "code",
   "execution_count": 46,
   "metadata": {},
   "outputs": [],
   "source": [
    "bitch_counted_words['is_stop_word'] = bitch_counted_words['word'].apply(is_stop_word)"
   ]
  },
  {
   "cell_type": "code",
   "execution_count": 47,
   "metadata": {},
   "outputs": [],
   "source": [
    "bitch_counted_words_filtered = bitch_counted_words[bitch_counted_words['is_stop_word'] == False]"
   ]
  },
  {
   "cell_type": "code",
   "execution_count": 48,
   "metadata": {},
   "outputs": [
    {
     "data": {
      "text/html": [
       "<div>\n",
       "<style scoped>\n",
       "    .dataframe tbody tr th:only-of-type {\n",
       "        vertical-align: middle;\n",
       "    }\n",
       "\n",
       "    .dataframe tbody tr th {\n",
       "        vertical-align: top;\n",
       "    }\n",
       "\n",
       "    .dataframe thead th {\n",
       "        text-align: right;\n",
       "    }\n",
       "</style>\n",
       "<table border=\"1\" class=\"dataframe\">\n",
       "  <thead>\n",
       "    <tr style=\"text-align: right;\">\n",
       "      <th></th>\n",
       "      <th>word</th>\n",
       "      <th>count</th>\n",
       "      <th>is_stop_word</th>\n",
       "    </tr>\n",
       "  </thead>\n",
       "  <tbody>\n",
       "    <tr>\n",
       "      <th>6</th>\n",
       "      <td>bitch</td>\n",
       "      <td>773</td>\n",
       "      <td>False</td>\n",
       "    </tr>\n",
       "    <tr>\n",
       "      <th>44</th>\n",
       "      <td>bitches</td>\n",
       "      <td>238</td>\n",
       "      <td>False</td>\n",
       "    </tr>\n",
       "    <tr>\n",
       "      <th>14</th>\n",
       "      <td>nt</td>\n",
       "      <td>223</td>\n",
       "      <td>False</td>\n",
       "    </tr>\n",
       "    <tr>\n",
       "      <th>45</th>\n",
       "      <td>like</td>\n",
       "      <td>106</td>\n",
       "      <td>False</td>\n",
       "    </tr>\n",
       "    <tr>\n",
       "      <th>4</th>\n",
       "      <td>ass</td>\n",
       "      <td>76</td>\n",
       "      <td>False</td>\n",
       "    </tr>\n",
       "    <tr>\n",
       "      <th>150</th>\n",
       "      <td>got</td>\n",
       "      <td>69</td>\n",
       "      <td>False</td>\n",
       "    </tr>\n",
       "    <tr>\n",
       "      <th>60</th>\n",
       "      <td>u</td>\n",
       "      <td>59</td>\n",
       "      <td>False</td>\n",
       "    </tr>\n",
       "    <tr>\n",
       "      <th>286</th>\n",
       "      <td>get</td>\n",
       "      <td>58</td>\n",
       "      <td>False</td>\n",
       "    </tr>\n",
       "    <tr>\n",
       "      <th>110</th>\n",
       "      <td>son</td>\n",
       "      <td>54</td>\n",
       "      <td>False</td>\n",
       "    </tr>\n",
       "    <tr>\n",
       "      <th>74</th>\n",
       "      <td>love</td>\n",
       "      <td>48</td>\n",
       "      <td>False</td>\n",
       "    </tr>\n",
       "  </tbody>\n",
       "</table>\n",
       "</div>"
      ],
      "text/plain": [
       "        word  count  is_stop_word\n",
       "6      bitch    773         False\n",
       "44   bitches    238         False\n",
       "14        nt    223         False\n",
       "45      like    106         False\n",
       "4        ass     76         False\n",
       "150      got     69         False\n",
       "60         u     59         False\n",
       "286      get     58         False\n",
       "110      son     54         False\n",
       "74      love     48         False"
      ]
     },
     "execution_count": 48,
     "metadata": {},
     "output_type": "execute_result"
    }
   ],
   "source": [
    "bitch_counted_words_filtered[:10]"
   ]
  },
  {
   "cell_type": "code",
   "execution_count": 49,
   "metadata": {},
   "outputs": [
    {
     "data": {
      "image/png": "[encoded data removed]",
      "text/plain": [
       "<Figure size 432x288 with 1 Axes>"
      ]
     },
     "metadata": {},
     "output_type": "display_data"
    }
   ],
   "source": [
    "#Creating a figure and axis lets us do things like change the scaling or add a title\n",
    "fig = plt.figure()\n",
    "ax = fig.add_subplot(111)\n",
    "plt.plot(range(len(bitch_counted_words_filtered)), bitch_counted_words_filtered['count'])\n",
    "plt.show()"
   ]
  },
  {
   "cell_type": "code",
   "execution_count": 50,
   "metadata": {},
   "outputs": [
    {
     "data": {
      "image/png": "[encoded data removed]",
      "text/plain": [
       "<Figure size 432x288 with 1 Axes>"
      ]
     },
     "metadata": {},
     "output_type": "display_data"
    }
   ],
   "source": [
    "fig = plt.figure()\n",
    "ax = fig.add_subplot(111)\n",
    "plt.plot(range(len(bitch_counted_words_filtered)), bitch_counted_words_filtered['count'])\n",
    "ax.set_yscale('log')\n",
    "ax.set_xscale('log')\n",
    "plt.show()"
   ]
  },
  {
   "cell_type": "markdown",
   "metadata": {},
   "source": [
    "### Common contexts"
   ]
  },
  {
   "cell_type": "code",
   "execution_count": 51,
   "metadata": {},
   "outputs": [
    {
     "name": "stdout",
     "output_type": "stream",
     "text": [
      "a_i a_and a_that a_but and_i to_about a_its this_bitches a_got a_who\n",
      "a_lol this_out a_with of_who like_i that_is a_this ass_bitches\n",
      "this_crying abby_nicooole_you\n"
     ]
    }
   ],
   "source": [
    "bitch_text = nltk.Text(bitch_list)\n",
    "bitch_text.common_contexts(['bitch'])"
   ]
  },
  {
   "cell_type": "code",
   "execution_count": 52,
   "metadata": {},
   "outputs": [
    {
     "name": "stdout",
     "output_type": "stream",
     "text": [
      "the_is of_and that_is and_are because_is if_does if_is the_in the_that\n",
      "womens_because thinks_is more_from your_and seeking_crazed\n",
      "of_blacktabletalk antiblack_has and_against say_is with_and your_just\n"
     ]
    }
   ],
   "source": [
    "misandry_text = nltk.Text(misandry_list)\n",
    "misandry_text.common_contexts(['misandry'])"
   ]
  },
  {
   "cell_type": "code",
   "execution_count": 53,
   "metadata": {},
   "outputs": [
    {
     "name": "stdout",
     "output_type": "stream",
     "text": [
      "decriminalised_victim marital_which the_of of_and stop_pnpkakampimo\n",
      "to_and the_and and_me in_case and_you experience_or a_in a_apologist\n",
      "of_as a_survivor a_victim rape_rape to_me gang_and and_of\n"
     ]
    }
   ],
   "source": [
    "rape_text = nltk.Text(rape_list)\n",
    "rape_text.common_contexts(['rape'])"
   ]
  },
  {
   "cell_type": "code",
   "execution_count": 54,
   "metadata": {},
   "outputs": [
    {
     "name": "stdout",
     "output_type": "stream",
     "text": [
      "sexual_and sexual_among sexual_is sexual_in sexual_an of_and sexual_i\n",
      "for_and to_sign from_and sexual_but of_is sexual_sexual is_and\n",
      "sexual_or sexual_will reduced_via for_sign the_of sexual_how\n"
     ]
    }
   ],
   "source": [
    "harassment_text = nltk.Text(harassment_list)\n",
    "harassment_text.common_contexts(['harassment'])"
   ]
  },
  {
   "cell_type": "code",
   "execution_count": 58,
   "metadata": {},
   "outputs": [
    {
     "data": {
      "image/png": "[encoded data removed]",
      "text/plain": [
       "<Figure size 432x288 with 1 Axes>"
      ]
     },
     "metadata": {
      "needs_background": "light"
     },
     "output_type": "display_data"
    }
   ],
   "source": [
    "# Plot each time a set of words occurs\n",
    "sns.reset_orig() #Seaborn messes with this plot, disabling it\n",
    "rape_text.dispersion_plot(['decriminalised', 'victim','marital','stop','pnpkakampimp','experience','apologist','survivor','gang'])\n",
    "sns.set() #Re-enabling seaborn"
   ]
  },
  {
   "cell_type": "markdown",
   "metadata": {},
   "source": [
    "------------------------"
   ]
  },
  {
   "cell_type": "markdown",
   "metadata": {},
   "source": [
    "# Filtering and normalizing text\n",
    "\n",
    "As we want to start comparing the different releases we may choose to do a bit of filtering and normalizing that will allow us to focus on what we most care about. We can first make all of the words lower case, then drop the non-word tokens. Next, we can remove some 'stop words', stem the remaining words to remove suffixes, prefixes and (in some languages) infixes, or lemmatize tokens by intelligently grouping inflected or variant forms of the same word (e.g., with a stemmer and a dictionary). \n",
    "\n",
    "To begin this process, we will first define a function to work over the tokenized lists, then another to add normalized tokens to a new column."
   ]
  },
  {
   "cell_type": "markdown",
   "metadata": {},
   "source": [
    "We will be using spaCy's built in stop words identifying capacity. When we run text through spaCy's language pipeline, it automatically tags it as a stop word. "
   ]
  },
  {
   "cell_type": "markdown",
   "metadata": {},
   "source": [
    "We can remove these stopwords from the analysis by fiat, but we could also take a more principled approach by looking at the frequency distribution of words and selecting a specific cut-off associated with the preservation of 'meaningful words' identified upon inspection. Alternatively, we could automatically set a cut-off by rule, such as removal of all words more frequent then the most frequent verb, or the most frequent noun (not pronoun), or some term of central interest. "
   ]
  },
  {
   "cell_type": "code",
   "execution_count": 55,
   "metadata": {},
   "outputs": [
    {
     "data": {
      "text/plain": [
       "[('the', 179),\n",
       " ('of', 112),\n",
       " ('to', 112),\n",
       " ('and', 108),\n",
       " ('in', 64),\n",
       " ('a', 61),\n",
       " (\"'s\", 50),\n",
       " ('that', 41),\n",
       " ('our', 39),\n",
       " ('for', 35),\n",
       " ('on', 33),\n",
       " ('is', 33),\n",
       " ('Whitehouse', 31),\n",
       " ('Iraq', 28),\n",
       " ('Bush', 27),\n",
       " ('President', 25),\n",
       " ('troops', 21),\n",
       " ('by', 19),\n",
       " ('American', 19),\n",
       " ('with', 18)]"
      ]
     },
     "execution_count": 55,
     "metadata": {},
     "output_type": "execute_result"
    }
   ],
   "source": [
    "countsDict = {}\n",
    "for word in whReleases['tokenized_text'].sum():\n",
    "    if word in countsDict:\n",
    "        countsDict[word] += 1\n",
    "    else:\n",
    "        countsDict[word] = 1\n",
    "word_counts = sorted(countsDict.items(), key = lambda x : x[1], reverse = True)\n",
    "word_counts[:20]"
   ]
  },
  {
   "cell_type": "markdown",
   "metadata": {},
   "source": [
    "We can look at this and pick the cutoff, often at the first noun. So we will cut all words before `'Whitehouse'`."
   ]
  },
  {
   "cell_type": "code",
   "execution_count": 56,
   "metadata": {},
   "outputs": [
    {
     "data": {
      "text/plain": [
       "['the', 'of', 'to', 'and', 'in', 'a', \"'s\", 'that', 'our', 'for', 'on', 'is']"
      ]
     },
     "execution_count": 56,
     "metadata": {},
     "output_type": "execute_result"
    }
   ],
   "source": [
    "#The stop list is then all words that occur before the first noun\n",
    "stop_words_freq = []\n",
    "for word, count in word_counts:\n",
    "    if word == 'Whitehouse':\n",
    "        break\n",
    "    else:\n",
    "        stop_words_freq.append(word)\n",
    "stop_words_freq"
   ]
  },
  {
   "cell_type": "markdown",
   "metadata": {},
   "source": [
    "If we did have any extra words to add as stop words apart from those normally considered as stop words, we would add it to our stop words by passing it to the normalize tokens method. "
   ]
  },
  {
   "cell_type": "markdown",
   "metadata": {},
   "source": [
    "Now we can create our function to normalize the tokens"
   ]
  },
  {
   "cell_type": "code",
   "execution_count": 57,
   "metadata": {},
   "outputs": [],
   "source": [
    "def normalizeTokens(word_list, extra_stop=[]):\n",
    "    #We can use a generator here as we just need to iterate over it\n",
    "    normalized = []\n",
    "    if type(word_list) == list and len(word_list) == 1:\n",
    "        word_list = word_list[0]\n",
    "\n",
    "    if type(word_list) == list:\n",
    "        word_list = ' '.join([str(elem) for elem in word_list]) \n",
    "\n",
    "    doc = nlp(word_list.lower())\n",
    "    \n",
    "    # add the property of stop word to words considered as stop words\n",
    "    if len(extra_stop) > 0:\n",
    "        for stopword in extra_stop:\n",
    "            lexeme = nlp.vocab[stopword]\n",
    "            lexeme.is_stop = True\n",
    "\n",
    "    for w in doc:\n",
    "        # if it's not a stop word or punctuation mark, add it to our article\n",
    "        if w.text != '\\n' and not w.is_stop and not w.is_punct and not w.like_num and len(w.text.strip()) > 0:\n",
    "            # we add the lematized version of the word\n",
    "            normalized.append(str(w.lemma_))\n",
    "\n",
    "    return normalized"
   ]
  },
  {
   "cell_type": "code",
   "execution_count": 58,
   "metadata": {},
   "outputs": [
    {
     "data": {
      "text/html": [
       "<div>\n",
       "<style scoped>\n",
       "    .dataframe tbody tr th:only-of-type {\n",
       "        vertical-align: middle;\n",
       "    }\n",
       "\n",
       "    .dataframe tbody tr th {\n",
       "        vertical-align: top;\n",
       "    }\n",
       "\n",
       "    .dataframe thead th {\n",
       "        text-align: right;\n",
       "    }\n",
       "</style>\n",
       "<table border=\"1\" class=\"dataframe\">\n",
       "  <thead>\n",
       "    <tr style=\"text-align: right;\">\n",
       "      <th></th>\n",
       "      <th>name</th>\n",
       "      <th>text</th>\n",
       "      <th>path</th>\n",
       "      <th>html_url</th>\n",
       "      <th>download_url</th>\n",
       "      <th>tokenized_text</th>\n",
       "      <th>word_counts</th>\n",
       "      <th>normalized_tokens</th>\n",
       "      <th>normalized_tokens_count</th>\n",
       "    </tr>\n",
       "  </thead>\n",
       "  <tbody>\n",
       "    <tr>\n",
       "      <th>0</th>\n",
       "      <td>10Apr2007Whitehouse123.txt</td>\n",
       "      <td>SEN. WHITEHOUSE SHARES WESTERLY GIRL'S STORY I...</td>\n",
       "      <td>raw/Whitehouse/10Apr2007Whitehouse123.txt</td>\n",
       "      <td>https://github.com/lintool/GrimmerSenatePressR...</td>\n",
       "      <td>https://raw.githubusercontent.com/lintool/Grim...</td>\n",
       "      <td>[SEN, WHITEHOUSE, SHARES, WESTERLY, GIRL, 'S, ...</td>\n",
       "      <td>350</td>\n",
       "      <td>[sen, whitehouse, share, westerly, girl, story...</td>\n",
       "      <td>224</td>\n",
       "    </tr>\n",
       "    <tr>\n",
       "      <th>1</th>\n",
       "      <td>10Apr2008Whitehouse2.txt</td>\n",
       "      <td>SEN. WHITEHOUSE SAYS PRESIDENT BUSH MUST BEGIN...</td>\n",
       "      <td>raw/Whitehouse/10Apr2008Whitehouse2.txt</td>\n",
       "      <td>https://github.com/lintool/GrimmerSenatePressR...</td>\n",
       "      <td>https://raw.githubusercontent.com/lintool/Grim...</td>\n",
       "      <td>[SEN, WHITEHOUSE, SAYS, PRESIDENT, BUSH, MUST,...</td>\n",
       "      <td>311</td>\n",
       "      <td>[sen, whitehouse, say, president, bush, begin,...</td>\n",
       "      <td>159</td>\n",
       "    </tr>\n",
       "    <tr>\n",
       "      <th>2</th>\n",
       "      <td>10Apr2008Whitehouse3.txt</td>\n",
       "      <td>EPA MUST REVIEW LEGAL PROCESS TO ROOT OUT POLI...</td>\n",
       "      <td>raw/Whitehouse/10Apr2008Whitehouse3.txt</td>\n",
       "      <td>https://github.com/lintool/GrimmerSenatePressR...</td>\n",
       "      <td>https://raw.githubusercontent.com/lintool/Grim...</td>\n",
       "      <td>[EPA, MUST, REVIEW, LEGAL, PROCESS, TO, ROOT, ...</td>\n",
       "      <td>497</td>\n",
       "      <td>[epa, review, legal, process, root, political,...</td>\n",
       "      <td>298</td>\n",
       "    </tr>\n",
       "    <tr>\n",
       "      <th>3</th>\n",
       "      <td>10Aug2007Whitehouse78.txt</td>\n",
       "      <td>R.I. SENATORS PRAISE SEN. DENIAL OF LNG FACILI...</td>\n",
       "      <td>raw/Whitehouse/10Aug2007Whitehouse78.txt</td>\n",
       "      <td>https://github.com/lintool/GrimmerSenatePressR...</td>\n",
       "      <td>https://raw.githubusercontent.com/lintool/Grim...</td>\n",
       "      <td>[R.I., SENATORS, PRAISE, SEN, DENIAL, OF, LNG,...</td>\n",
       "      <td>189</td>\n",
       "      <td>[r.i, senator, praise, sen, denial, lng, facil...</td>\n",
       "      <td>116</td>\n",
       "    </tr>\n",
       "    <tr>\n",
       "      <th>4</th>\n",
       "      <td>10Jan2008Whitehouse35.txt</td>\n",
       "      <td>SEN. WHITEHOUSE COMMENTS ON ONE-YEAR ANNIVERSA...</td>\n",
       "      <td>raw/Whitehouse/10Jan2008Whitehouse35.txt</td>\n",
       "      <td>https://github.com/lintool/GrimmerSenatePressR...</td>\n",
       "      <td>https://raw.githubusercontent.com/lintool/Grim...</td>\n",
       "      <td>[SEN, WHITEHOUSE, COMMENTS, ON, ONE, YEAR, ANN...</td>\n",
       "      <td>236</td>\n",
       "      <td>[sen, whitehouse, comment, year, anniversary, ...</td>\n",
       "      <td>125</td>\n",
       "    </tr>\n",
       "    <tr>\n",
       "      <th>5</th>\n",
       "      <td>10Mar2008Whitehouse8.txt</td>\n",
       "      <td>SENS. REED, WHITEHOUSE WELCOME RHODE ISLAND ST...</td>\n",
       "      <td>raw/Whitehouse/10Mar2008Whitehouse8.txt</td>\n",
       "      <td>https://github.com/lintool/GrimmerSenatePressR...</td>\n",
       "      <td>https://raw.githubusercontent.com/lintool/Grim...</td>\n",
       "      <td>[SENS, REED, WHITEHOUSE, WELCOME, RHODE, ISLAN...</td>\n",
       "      <td>334</td>\n",
       "      <td>[sens, reed, whitehouse, welcome, rhode, islan...</td>\n",
       "      <td>197</td>\n",
       "    </tr>\n",
       "    <tr>\n",
       "      <th>6</th>\n",
       "      <td>10Sep2007Whitehouse72.txt</td>\n",
       "      <td>REP. WHITEHOUSE ISSUES STATEMENT ON GEN. PETRA...</td>\n",
       "      <td>raw/Whitehouse/10Sep2007Whitehouse72.txt</td>\n",
       "      <td>https://github.com/lintool/GrimmerSenatePressR...</td>\n",
       "      <td>https://raw.githubusercontent.com/lintool/Grim...</td>\n",
       "      <td>[REP, WHITEHOUSE, ISSUES, STATEMENT, ON, GEN, ...</td>\n",
       "      <td>241</td>\n",
       "      <td>[rep, whitehouse, issue, statement, gen, petra...</td>\n",
       "      <td>118</td>\n",
       "    </tr>\n",
       "    <tr>\n",
       "      <th>7</th>\n",
       "      <td>11Apr2007Whitehouse122.txt</td>\n",
       "      <td>SEN. WHITEHOUSE URGES BUSH FOR NEW DIRECTION I...</td>\n",
       "      <td>raw/Whitehouse/11Apr2007Whitehouse122.txt</td>\n",
       "      <td>https://github.com/lintool/GrimmerSenatePressR...</td>\n",
       "      <td>https://raw.githubusercontent.com/lintool/Grim...</td>\n",
       "      <td>[SEN, WHITEHOUSE, URGES, BUSH, FOR, NEW, DIREC...</td>\n",
       "      <td>469</td>\n",
       "      <td>[sen, whitehouse, urge, bush, new, direction, ...</td>\n",
       "      <td>249</td>\n",
       "    </tr>\n",
       "    <tr>\n",
       "      <th>8</th>\n",
       "      <td>11Jan2007Whitehouse161.txt</td>\n",
       "      <td>SENS. REED, WHITEHOUSE URGE PORTUGAL TO RECONS...</td>\n",
       "      <td>raw/Whitehouse/11Jan2007Whitehouse161.txt</td>\n",
       "      <td>https://github.com/lintool/GrimmerSenatePressR...</td>\n",
       "      <td>https://raw.githubusercontent.com/lintool/Grim...</td>\n",
       "      <td>[SENS, REED, WHITEHOUSE, URGE, PORTUGAL, TO, R...</td>\n",
       "      <td>443</td>\n",
       "      <td>[sens, reed, whitehouse, urge, portugal, recon...</td>\n",
       "      <td>237</td>\n",
       "    </tr>\n",
       "    <tr>\n",
       "      <th>9</th>\n",
       "      <td>11Mar2008Whitehouse7.txt</td>\n",
       "      <td>WHITEHOUSE UNVEILS 'BUSH DEBT': $7.7 TRILLION ...</td>\n",
       "      <td>raw/Whitehouse/11Mar2008Whitehouse7.txt</td>\n",
       "      <td>https://github.com/lintool/GrimmerSenatePressR...</td>\n",
       "      <td>https://raw.githubusercontent.com/lintool/Grim...</td>\n",
       "      <td>[WHITEHOUSE, UNVEILS, BUSH, DEBT, $, 7.7, TRIL...</td>\n",
       "      <td>425</td>\n",
       "      <td>[whitehouse, unveil, bush, debt, $, foregone, ...</td>\n",
       "      <td>241</td>\n",
       "    </tr>\n",
       "  </tbody>\n",
       "</table>\n",
       "</div>"
      ],
      "text/plain": [
       "                         name  \\\n",
       "0  10Apr2007Whitehouse123.txt   \n",
       "1    10Apr2008Whitehouse2.txt   \n",
       "2    10Apr2008Whitehouse3.txt   \n",
       "3   10Aug2007Whitehouse78.txt   \n",
       "4   10Jan2008Whitehouse35.txt   \n",
       "5    10Mar2008Whitehouse8.txt   \n",
       "6   10Sep2007Whitehouse72.txt   \n",
       "7  11Apr2007Whitehouse122.txt   \n",
       "8  11Jan2007Whitehouse161.txt   \n",
       "9    11Mar2008Whitehouse7.txt   \n",
       "\n",
       "                                                text  \\\n",
       "0  SEN. WHITEHOUSE SHARES WESTERLY GIRL'S STORY I...   \n",
       "1  SEN. WHITEHOUSE SAYS PRESIDENT BUSH MUST BEGIN...   \n",
       "2  EPA MUST REVIEW LEGAL PROCESS TO ROOT OUT POLI...   \n",
       "3  R.I. SENATORS PRAISE SEN. DENIAL OF LNG FACILI...   \n",
       "4  SEN. WHITEHOUSE COMMENTS ON ONE-YEAR ANNIVERSA...   \n",
       "5  SENS. REED, WHITEHOUSE WELCOME RHODE ISLAND ST...   \n",
       "6  REP. WHITEHOUSE ISSUES STATEMENT ON GEN. PETRA...   \n",
       "7  SEN. WHITEHOUSE URGES BUSH FOR NEW DIRECTION I...   \n",
       "8  SENS. REED, WHITEHOUSE URGE PORTUGAL TO RECONS...   \n",
       "9  WHITEHOUSE UNVEILS 'BUSH DEBT': $7.7 TRILLION ...   \n",
       "\n",
       "                                        path  \\\n",
       "0  raw/Whitehouse/10Apr2007Whitehouse123.txt   \n",
       "1    raw/Whitehouse/10Apr2008Whitehouse2.txt   \n",
       "2    raw/Whitehouse/10Apr2008Whitehouse3.txt   \n",
       "3   raw/Whitehouse/10Aug2007Whitehouse78.txt   \n",
       "4   raw/Whitehouse/10Jan2008Whitehouse35.txt   \n",
       "5    raw/Whitehouse/10Mar2008Whitehouse8.txt   \n",
       "6   raw/Whitehouse/10Sep2007Whitehouse72.txt   \n",
       "7  raw/Whitehouse/11Apr2007Whitehouse122.txt   \n",
       "8  raw/Whitehouse/11Jan2007Whitehouse161.txt   \n",
       "9    raw/Whitehouse/11Mar2008Whitehouse7.txt   \n",
       "\n",
       "                                            html_url  \\\n",
       "0  https://github.com/lintool/GrimmerSenatePressR...   \n",
       "1  https://github.com/lintool/GrimmerSenatePressR...   \n",
       "2  https://github.com/lintool/GrimmerSenatePressR...   \n",
       "3  https://github.com/lintool/GrimmerSenatePressR...   \n",
       "4  https://github.com/lintool/GrimmerSenatePressR...   \n",
       "5  https://github.com/lintool/GrimmerSenatePressR...   \n",
       "6  https://github.com/lintool/GrimmerSenatePressR...   \n",
       "7  https://github.com/lintool/GrimmerSenatePressR...   \n",
       "8  https://github.com/lintool/GrimmerSenatePressR...   \n",
       "9  https://github.com/lintool/GrimmerSenatePressR...   \n",
       "\n",
       "                                        download_url  \\\n",
       "0  https://raw.githubusercontent.com/lintool/Grim...   \n",
       "1  https://raw.githubusercontent.com/lintool/Grim...   \n",
       "2  https://raw.githubusercontent.com/lintool/Grim...   \n",
       "3  https://raw.githubusercontent.com/lintool/Grim...   \n",
       "4  https://raw.githubusercontent.com/lintool/Grim...   \n",
       "5  https://raw.githubusercontent.com/lintool/Grim...   \n",
       "6  https://raw.githubusercontent.com/lintool/Grim...   \n",
       "7  https://raw.githubusercontent.com/lintool/Grim...   \n",
       "8  https://raw.githubusercontent.com/lintool/Grim...   \n",
       "9  https://raw.githubusercontent.com/lintool/Grim...   \n",
       "\n",
       "                                      tokenized_text  word_counts  \\\n",
       "0  [SEN, WHITEHOUSE, SHARES, WESTERLY, GIRL, 'S, ...          350   \n",
       "1  [SEN, WHITEHOUSE, SAYS, PRESIDENT, BUSH, MUST,...          311   \n",
       "2  [EPA, MUST, REVIEW, LEGAL, PROCESS, TO, ROOT, ...          497   \n",
       "3  [R.I., SENATORS, PRAISE, SEN, DENIAL, OF, LNG,...          189   \n",
       "4  [SEN, WHITEHOUSE, COMMENTS, ON, ONE, YEAR, ANN...          236   \n",
       "5  [SENS, REED, WHITEHOUSE, WELCOME, RHODE, ISLAN...          334   \n",
       "6  [REP, WHITEHOUSE, ISSUES, STATEMENT, ON, GEN, ...          241   \n",
       "7  [SEN, WHITEHOUSE, URGES, BUSH, FOR, NEW, DIREC...          469   \n",
       "8  [SENS, REED, WHITEHOUSE, URGE, PORTUGAL, TO, R...          443   \n",
       "9  [WHITEHOUSE, UNVEILS, BUSH, DEBT, $, 7.7, TRIL...          425   \n",
       "\n",
       "                                   normalized_tokens  normalized_tokens_count  \n",
       "0  [sen, whitehouse, share, westerly, girl, story...                      224  \n",
       "1  [sen, whitehouse, say, president, bush, begin,...                      159  \n",
       "2  [epa, review, legal, process, root, political,...                      298  \n",
       "3  [r.i, senator, praise, sen, denial, lng, facil...                      116  \n",
       "4  [sen, whitehouse, comment, year, anniversary, ...                      125  \n",
       "5  [sens, reed, whitehouse, welcome, rhode, islan...                      197  \n",
       "6  [rep, whitehouse, issue, statement, gen, petra...                      118  \n",
       "7  [sen, whitehouse, urge, bush, new, direction, ...                      249  \n",
       "8  [sens, reed, whitehouse, urge, portugal, recon...                      237  \n",
       "9  [whitehouse, unveil, bush, debt, $, foregone, ...                      241  "
      ]
     },
     "execution_count": 58,
     "metadata": {},
     "output_type": "execute_result"
    }
   ],
   "source": [
    "whReleases['normalized_tokens'] = whReleases['tokenized_text'].apply(lambda x: normalizeTokens(x))\n",
    "\n",
    "whReleases['normalized_tokens_count'] = whReleases['normalized_tokens'].apply(lambda x: len(x))\n",
    "\n",
    "whReleases"
   ]
  },
  {
   "cell_type": "markdown",
   "metadata": {},
   "source": [
    "You can see that in the final step of normalizing, we add the lemmatized form of the word. spaCy's built in lemmatizer does this (https://spacy.io/api/lemmatizer). Lemmatization can be thought of as finding the root or the base of the word after removing inflections and other variations of words. Another possible way of finding the roots of words is using NLTK's porting or stemming functionalities, but we will not be getting into them.\n",
    "\n",
    "Now that it is cleaned we start analyzing the dataset. We can start by finding frequency distributions for the dataset. Lets start looking at all the press releases together. The [`ConditionalFreqDist`](http://www.nltk.org/api/nltk.html#nltk.probability.ConditionalProbDist) class reads in an iterable of tuples, the first element is the condition and the second the focal word. For starters, we will use word lengths as the conditions, but tags or clusters will provide more useful results."
   ]
  },
  {
   "cell_type": "code",
   "execution_count": 128,
   "metadata": {},
   "outputs": [
    {
     "name": "stdout",
     "output_type": "stream",
     "text": [
      "1964\n"
     ]
    }
   ],
   "source": [
    "#.sum() adds together the lists from each row into a single list\n",
    "whcfdist = nltk.ConditionalFreqDist(((len(w), w) for w in whReleases['normalized_tokens'].sum()))\n",
    "\n",
    "#print the number of words\n",
    "print(whcfdist.N())"
   ]
  },
  {
   "cell_type": "markdown",
   "metadata": {},
   "source": [
    "From this we can lookup the distributions of different word lengths"
   ]
  },
  {
   "cell_type": "code",
   "execution_count": 60,
   "metadata": {},
   "outputs": [
    {
     "data": {
      "image/png": "[encoded data removed]",
      "text/plain": [
       "<Figure size 432x288 with 1 Axes>"
      ]
     },
     "metadata": {},
     "output_type": "display_data"
    },
    {
     "data": {
      "text/plain": [
       "<AxesSubplot:xlabel='Samples', ylabel='Counts'>"
      ]
     },
     "execution_count": 60,
     "metadata": {},
     "output_type": "execute_result"
    }
   ],
   "source": [
    "whcfdist[3].plot()"
   ]
  },
  {
   "cell_type": "markdown",
   "metadata": {},
   "source": [
    "We can also create a Conditional Probability Distribution or [`ConditionalProbDist`](http://www.nltk.org/api/nltk.html#nltk.probability.ConditionalProbDist) from the `ConditionalFreqDist`. To do this, however, we need a model for the probability distribution. A simple model is [`ELEProbDist`](http://www.nltk.org/api/nltk.html#nltk.probability.ELEProbDist) which gives the expected likelihood estimate for the probability distribution of the experiment used to generate the observed frequency distribution. "
   ]
  },
  {
   "cell_type": "code",
   "execution_count": 129,
   "metadata": {},
   "outputs": [
    {
     "name": "stdout",
     "output_type": "stream",
     "text": [
      "ri\n",
      "0.25\n"
     ]
    }
   ],
   "source": [
    "whcpdist = nltk.ConditionalProbDist(whcfdist, nltk.ELEProbDist)\n",
    "\n",
    "#print the most common 2 letter word\n",
    "print(whcpdist[2].max())\n",
    "\n",
    "#And its probability\n",
    "print(whcpdist[2].prob(whcpdist[2].max()))"
   ]
  },
  {
   "cell_type": "markdown",
   "metadata": {},
   "source": [
    "Length is one feature of a word, but there are many more important features we care about. Another critical feature is a word's role in the sentence, or its part of speech (POS). \n",
    "\n",
    "The method below works similarly to ```nltk.pos_text```, and can work with the conditional frequency distributions it provides."
   ]
  },
  {
   "cell_type": "code",
   "execution_count": 62,
   "metadata": {},
   "outputs": [],
   "source": [
    "def spacy_pos(word_list):\n",
    "    tags = []\n",
    "    doc = nlp(word_list.lower())\n",
    "    for w in doc:\n",
    "        tags.append((w.text, w.tag_))\n",
    "    return tags"
   ]
  },
  {
   "cell_type": "code",
   "execution_count": 63,
   "metadata": {},
   "outputs": [],
   "source": [
    "whReleases['normalized_tokens_POS'] = [spacy_pos(t) for t in whReleases['text']]"
   ]
  },
  {
   "cell_type": "markdown",
   "metadata": {},
   "source": [
    "This gives us a new column with the part of speech as a short initialism and the word in a tuple, exactly how the `nltk.ConditionalFreqDist()` function wants them. We can now construct another conditional frequency distribution."
   ]
  },
  {
   "cell_type": "code",
   "execution_count": 64,
   "metadata": {},
   "outputs": [
    {
     "data": {
      "text/plain": [
       "[('sen', FreqDist({'NNP': 9})),\n",
       " ('.', FreqDist({'.': 127, 'NNP': 39})),\n",
       " ('whitehouse', FreqDist({'NN': 27, 'NNP': 13})),\n",
       " ('shares', FreqDist({'NNS': 1})),\n",
       " ('westerly', FreqDist({'RB': 2})),\n",
       " ('girl', FreqDist({'NN': 2})),\n",
       " (\"'s\", FreqDist({'POS': 47, 'VBZ': 5})),\n",
       " ('story', FreqDist({'NN': 2})),\n",
       " ('in', FreqDist({'IN': 71, 'RP': 1})),\n",
       " ('push', FreqDist({'NN': 1}))]"
      ]
     },
     "execution_count": 64,
     "metadata": {},
     "output_type": "execute_result"
    }
   ],
   "source": [
    "whcfdist_WordtoPOS = nltk.ConditionalFreqDist(whReleases['normalized_tokens_POS'].sum())\n",
    "list(whcfdist_WordtoPOS.items())[:10]"
   ]
  },
  {
   "cell_type": "markdown",
   "metadata": {},
   "source": [
    "This gives the frequency of each word as each part of speech...which can be uninformative and boring. What we want is the converse; the frequency of each part of speech for each word."
   ]
  },
  {
   "cell_type": "code",
   "execution_count": 65,
   "metadata": {},
   "outputs": [],
   "source": [
    "whcfdist_POStoWord = nltk.ConditionalFreqDist((p, w) for w, p in whReleases['normalized_tokens_POS'].sum())"
   ]
  },
  {
   "cell_type": "markdown",
   "metadata": {},
   "source": [
    "We can now identify and collect all of the superlative adjectives"
   ]
  },
  {
   "cell_type": "code",
   "execution_count": 66,
   "metadata": {},
   "outputs": [
    {
     "data": {
      "text/plain": [
       "FreqDist({'american': 17, 'new': 10, 'portuguese': 9, 'political': 8, 'federal': 5, 'clear': 5, 'potential': 5, 'fiscal': 5, 'last': 4, 'several': 4, ...})"
      ]
     },
     "execution_count": 66,
     "metadata": {},
     "output_type": "execute_result"
    }
   ],
   "source": [
    "whcfdist_POStoWord['JJ']"
   ]
  },
  {
   "cell_type": "markdown",
   "metadata": {},
   "source": [
    "Or look at the most common nouns"
   ]
  },
  {
   "cell_type": "code",
   "execution_count": 67,
   "metadata": {},
   "outputs": [
    {
     "data": {
      "text/plain": [
       "[('whitehouse', 27), ('d', 17), ('today', 15), ('stem', 12), ('year', 12)]"
      ]
     },
     "execution_count": 67,
     "metadata": {},
     "output_type": "execute_result"
    }
   ],
   "source": [
    "whcfdist_POStoWord['NN'].most_common(5)"
   ]
  },
  {
   "cell_type": "markdown",
   "metadata": {},
   "source": [
    "Or plot the base form verbs against their number of occurrences"
   ]
  },
  {
   "cell_type": "code",
   "execution_count": 68,
   "metadata": {},
   "outputs": [
    {
     "data": {
      "image/png": "[encoded data removed]",
      "text/plain": [
       "<Figure size 432x288 with 1 Axes>"
      ]
     },
     "metadata": {},
     "output_type": "display_data"
    },
    {
     "data": {
      "text/plain": [
       "<AxesSubplot:xlabel='Samples', ylabel='Counts'>"
      ]
     },
     "execution_count": 68,
     "metadata": {},
     "output_type": "execute_result"
    }
   ],
   "source": [
    "whcfdist_POStoWord['VB'].plot()"
   ]
  },
  {
   "cell_type": "markdown",
   "metadata": {},
   "source": [
    "We can then do a similar analysis of the word probabilities"
   ]
  },
  {
   "cell_type": "code",
   "execution_count": 69,
   "metadata": {},
   "outputs": [
    {
     "name": "stdout",
     "output_type": "stream",
     "text": [
      "whitehouse\n",
      "0.032391048292108364\n"
     ]
    }
   ],
   "source": [
    "whcpdist_POStoWord = nltk.ConditionalProbDist(whcfdist_POStoWord, nltk.ELEProbDist)\n",
    "\n",
    "#print the most common nouns\n",
    "print(whcpdist_POStoWord['NN'].max())\n",
    "\n",
    "#And its probability\n",
    "print(whcpdist_POStoWord['NN'].prob(whcpdist_POStoWord['NN'].max()))"
   ]
  },
  {
   "cell_type": "markdown",
   "metadata": {},
   "source": [
    "We can even create a...wait for it...*WORD CLOUD* or Wordl to gaze at and draw mystical, approximate inferences about important nouns and verbs in our corpus:"
   ]
  },
  {
   "cell_type": "code",
   "execution_count": 70,
   "metadata": {},
   "outputs": [
    {
     "data": {
      "image/png": "[encoded data removed]",
      "text/plain": [
       "<Figure size 432x288 with 1 Axes>"
      ]
     },
     "metadata": {},
     "output_type": "display_data"
    }
   ],
   "source": [
    "wc = wordcloud.WordCloud(background_color=\"white\", max_words=500, width= 1000, height = 1000, mode ='RGBA', scale=.5).generate(' '.join(whReleases['normalized_tokens'].sum()))\n",
    "plt.imshow(wc)\n",
    "plt.axis(\"off\")\n",
    "plt.savefig(\"whitehouse_word_cloud.pdf\", format = 'pdf')"
   ]
  },
  {
   "cell_type": "markdown",
   "metadata": {},
   "source": [
    "--------------------"
   ]
  },
  {
   "cell_type": "markdown",
   "metadata": {},
   "source": [
    "## <font color=\"red\">*Exercise 2*</font>\n",
    "\n",
    "<font color=\"red\">Construct cells immediately below this that filter, stem and lemmatize the tokens in your corpus, and then creates plots (with titles and labels) that map the word frequency distribution, word probability distribution, and at least two conditional probability distributions that help us better understand the social and cultural game underlying the production of your corpus. Create a wordl of words (or normalized words) and add a few vague comments about what mysteries are revealed through it.</font>"
   ]
  },
  {
   "cell_type": "code",
   "execution_count": 82,
   "metadata": {},
   "outputs": [],
   "source": [
    "# Let's turn back to the tweets_df dataframe, instead of just subsequently generated lists. First, let's start with the `cleaned_content` and `tokenized_content` list. Now I merge them back to the dataframe.\n",
    "\n",
    "tweets_df['cleaned_content'] = cleaned_content\n",
    "tweets_df['tokenized_content'] = tokenized_content"
   ]
  },
  {
   "cell_type": "markdown",
   "metadata": {},
   "source": [
    "### Task 1: Filter, stem and lemmatize the tokens"
   ]
  },
  {
   "cell_type": "markdown",
   "metadata": {},
   "source": [
    "I used to apply the `countsDict` method described above to identify stopwords, but then I found that there are many trivial word, like \"does\" \"did\" \"would\" \"some\" even in the 60th-80th position of the word list ordered by frequency. Therefore, I'll just simply adopt NLTH's own stopwords dictionary for now."
   ]
  },
  {
   "cell_type": "code",
   "execution_count": 85,
   "metadata": {},
   "outputs": [],
   "source": [
    "tweets_df['normalized_tokens'] = tweets_df['tokenized_content'].apply(lambda x: normalizeTokens(x))\n",
    "\n",
    "tweets_df['normalized_tokens_count'] = tweets_df['normalized_tokens'].apply(lambda x: len(x))"
   ]
  },
  {
   "cell_type": "markdown",
   "metadata": {},
   "source": [
    "### Task 2: Word frequency distribution"
   ]
  },
  {
   "cell_type": "code",
   "execution_count": 145,
   "metadata": {},
   "outputs": [],
   "source": [
    "word_frequency = nltk.FreqDist(w for w in tweets_df['normalized_tokens'].sum())\n",
    "\n",
    "print(word_frequency.N())"
   ]
  },
  {
   "cell_type": "code",
   "execution_count": 150,
   "metadata": {},
   "outputs": [
    {
     "data": {
      "text/plain": [
       "FreqDist({'rape': 1093, 'bitch': 1022, 'harassment': 972, 'not': 925, 'misandry': 562, 'like': 375, 'man': 374, 's': 347, 'woman': 333, 'sexual': 328, ...})"
      ]
     },
     "execution_count": 150,
     "metadata": {},
     "output_type": "execute_result"
    }
   ],
   "source": [
    "word_frequency"
   ]
  },
  {
   "cell_type": "markdown",
   "metadata": {},
   "source": [
    "There are too many different words, and creating a complete word frequency plot would cause a lot of time. Therefore, here I only create a plot of 2000 most frequently occurred words."
   ]
  },
  {
   "cell_type": "code",
   "execution_count": 153,
   "metadata": {},
   "outputs": [],
   "source": [
    "word_freq_most_common = word_frequency.most_common(2000)"
   ]
  },
  {
   "cell_type": "code",
   "execution_count": 158,
   "metadata": {},
   "outputs": [
    {
     "data": {
      "text/plain": [
       "[<matplotlib.lines.Line2D at 0x1f04295fd30>]"
      ]
     },
     "execution_count": 158,
     "metadata": {},
     "output_type": "execute_result"
    },
    {
     "data": {
      "image/png": "[encoded data removed]",
      "text/plain": [
       "<Figure size 432x288 with 1 Axes>"
      ]
     },
     "metadata": {},
     "output_type": "display_data"
    }
   ],
   "source": [
    "plt.plot(*zip(*word_freq_most_common))\n",
    "plt.show()"
   ]
  },
  {
   "cell_type": "markdown",
   "metadata": {},
   "source": [
    "Again, the plot obeys Zipf's Law"
   ]
  },
  {
   "cell_type": "markdown",
   "metadata": {},
   "source": [
    "### Task 3: Conditional probability distribution 1 - Word Length"
   ]
  },
  {
   "cell_type": "code",
   "execution_count": 130,
   "metadata": {},
   "outputs": [
    {
     "name": "stdout",
     "output_type": "stream",
     "text": [
      "52822\n"
     ]
    }
   ],
   "source": [
    "#.sum() adds together the lists from each row into a single list\n",
    "tcfdist = nltk.ConditionalFreqDist(((len(w), w) for w in tweets_df['normalized_tokens'].sum()))"
   ]
  },
  {
   "cell_type": "code",
   "execution_count": 135,
   "metadata": {},
   "outputs": [
    {
     "data": {
      "image/png": "[encoded data removed]",
      "text/plain": [
       "<Figure size 432x288 with 1 Axes>"
      ]
     },
     "metadata": {},
     "output_type": "display_data"
    },
    {
     "data": {
      "text/plain": [
       "<AxesSubplot:title={'center':'Frequency of word with a length of 6'}, xlabel='Samples', ylabel='Counts'>"
      ]
     },
     "execution_count": 135,
     "metadata": {},
     "output_type": "execute_result"
    }
   ],
   "source": [
    "tcfdist[6].plot(title='Frequency of words with a length of 6')"
   ]
  },
  {
   "cell_type": "code",
   "execution_count": 96,
   "metadata": {},
   "outputs": [
    {
     "data": {
      "text/plain": [
       "31"
      ]
     },
     "execution_count": 96,
     "metadata": {},
     "output_type": "execute_result"
    }
   ],
   "source": [
    "len(tcfdist)"
   ]
  },
  {
   "cell_type": "markdown",
   "metadata": {},
   "source": [
    "Quite funny: the maximum length of words in the corpora is as large as 31!"
   ]
  },
  {
   "cell_type": "code",
   "execution_count": 104,
   "metadata": {},
   "outputs": [
    {
     "data": {
      "text/plain": [
       "FreqDist({'trackingsurvelingtorturingkille': 1})"
      ]
     },
     "execution_count": 104,
     "metadata": {},
     "output_type": "execute_result"
    }
   ],
   "source": [
    "# Just curious :)\n",
    "tcfdist[31]"
   ]
  },
  {
   "cell_type": "code",
   "execution_count": 131,
   "metadata": {},
   "outputs": [],
   "source": [
    "tcpdist = nltk.ConditionalProbDist(tcfdist, nltk.ELEProbDist)"
   ]
  },
  {
   "cell_type": "code",
   "execution_count": 134,
   "metadata": {},
   "outputs": [
    {
     "name": "stdout",
     "output_type": "stream",
     "text": [
      "sexual\n",
      "0.04677821288714845\n"
     ]
    }
   ],
   "source": [
    "#print the most common 6 letter word (I want to avoid 4, 5, 8, 10-- they are the length of the four keywords!)\n",
    "print(tcpdist[6].max())\n",
    "\n",
    "#And its probability\n",
    "print(tcpdist[6].prob(tcpdist[6].max()))"
   ]
  },
  {
   "cell_type": "markdown",
   "metadata": {},
   "source": [
    "### Task 4: Conditional probability distribution 2 - POS"
   ]
  },
  {
   "cell_type": "code",
   "execution_count": 136,
   "metadata": {},
   "outputs": [],
   "source": [
    "tweets_df['normalized_tokens_POS'] = [spacy_pos(t) for t in tweets_df['cleaned_content']]"
   ]
  },
  {
   "cell_type": "code",
   "execution_count": 138,
   "metadata": {},
   "outputs": [
    {
     "data": {
      "text/plain": [
       "[('hoee', FreqDist({'JJ': 1})),\n",
       " ('sit', FreqDist({'VB': 5, 'VBP': 3})),\n",
       " ('ur', FreqDist({'NNP': 16, 'UH': 11, 'IN': 6, 'VB': 2, 'PRP': 2, 'RP': 1})),\n",
       " ('lame', FreqDist({'JJ': 5, 'NN': 1, 'VBP': 1})),\n",
       " ('ass', FreqDist({'NN': 99, 'NNP': 2, 'NNS': 1})),\n",
       " ('down', FreqDist({'RP': 48, 'RB': 12, 'IN': 5, 'JJ': 2})),\n",
       " ('bitch', FreqDist({'NN': 666, 'VB': 45, 'NNP': 40, 'VBP': 28, 'JJ': 2})),\n",
       " ('you', FreqDist({'PRP': 1355})),\n",
       " ('a', FreqDist({'DT': 1957, 'NNP': 1})),\n",
       " ('lameee', FreqDist({'NN': 1}))]"
      ]
     },
     "execution_count": 138,
     "metadata": {},
     "output_type": "execute_result"
    }
   ],
   "source": [
    "tcfdist_WordtoPOS = nltk.ConditionalFreqDist(tweets_df['normalized_tokens_POS'].sum())\n",
    "list(tcfdist_WordtoPOS.items())[:10]"
   ]
  },
  {
   "cell_type": "code",
   "execution_count": 140,
   "metadata": {},
   "outputs": [],
   "source": [
    "tcfdist_POStoWord = nltk.ConditionalFreqDist((p, w) for w, p in tweets_df['normalized_tokens_POS'].sum())"
   ]
  },
  {
   "cell_type": "markdown",
   "metadata": {},
   "source": [
    "#### Most frequent superlative adjectives"
   ]
  },
  {
   "cell_type": "code",
   "execution_count": 172,
   "metadata": {},
   "outputs": [
    {
     "data": {
      "text/plain": [
       "[('sexual', 328),\n",
       " ('misandry', 195),\n",
       " ('marital', 118),\n",
       " ('other', 117),\n",
       " ('same', 106),\n",
       " ('bad', 94),\n",
       " ('good', 81),\n",
       " ('right', 80),\n",
       " ('social', 72),\n",
       " ('many', 63),\n",
       " ('criminal', 62),\n",
       " ('own', 56),\n",
       " ('stupid', 55),\n",
       " ('little', 53),\n",
       " ('real', 53),\n",
       " ('extra', 52),\n",
       " ('fr', 51),\n",
       " ('black', 46),\n",
       " ('wrong', 45),\n",
       " ('new', 44)]"
      ]
     },
     "execution_count": 172,
     "metadata": {},
     "output_type": "execute_result"
    }
   ],
   "source": [
    "tcfdist_POStoWord['JJ'].most_common(20)"
   ]
  },
  {
   "cell_type": "markdown",
   "metadata": {},
   "source": [
    "#### Most common nouns"
   ]
  },
  {
   "cell_type": "code",
   "execution_count": 143,
   "metadata": {},
   "outputs": [
    {
     "data": {
      "text/plain": [
       "[('harassment', 943),\n",
       " ('rape', 901),\n",
       " ('bitch', 666),\n",
       " ('amp', 208),\n",
       " ('misandry', 144),\n",
       " ('way', 141),\n",
       " ('someone', 116),\n",
       " ('man', 102),\n",
       " ('victim', 102),\n",
       " ('ass', 99)]"
      ]
     },
     "execution_count": 143,
     "metadata": {},
     "output_type": "execute_result"
    }
   ],
   "source": [
    "tcfdist_POStoWord['NN'].most_common(10)"
   ]
  },
  {
   "cell_type": "code",
   "execution_count": 170,
   "metadata": {},
   "outputs": [
    {
     "data": {
      "text/plain": [
       "FreqDist({'be': 490, 'get': 152, 'have': 123, 'rape': 117, 'go': 105, 'make': 97, 'do': 93, 'stop': 83, 'say': 81, 'misandry': 72, ...})"
      ]
     },
     "execution_count": 170,
     "metadata": {},
     "output_type": "execute_result"
    }
   ],
   "source": [
    "tcfdist_POStoWord['VB']"
   ]
  },
  {
   "cell_type": "markdown",
   "metadata": {},
   "source": [
    "#### Comment"
   ]
  },
  {
   "cell_type": "markdown",
   "metadata": {},
   "source": [
    " Shown by the most frequent superlative adjectives: the misogyny tweets often involves value judgements, as they occur with \"bad\", \"good\", \"social\", \"wrong\" veyy frequently. Besides, racial topics seem to be closely related with these misogyny tweets, as the word \"black\" also occurs very often."
   ]
  },
  {
   "cell_type": "markdown",
   "metadata": {},
   "source": [
    "### Task 4: Word cloud"
   ]
  },
  {
   "cell_type": "code",
   "execution_count": 173,
   "metadata": {},
   "outputs": [
    {
     "data": {
      "image/png": "[encoded data removed]",
      "text/plain": [
       "<Figure size 432x288 with 1 Axes>"
      ]
     },
     "metadata": {},
     "output_type": "display_data"
    }
   ],
   "source": [
    "wc = wordcloud.WordCloud(background_color=\"white\", max_words=500, width= 1000, height = 1000, mode ='RGBA', scale=.5).generate(' '.join(tweets_df['normalized_tokens'].sum()))\n",
    "plt.imshow(wc)\n",
    "plt.axis(\"off\")\n",
    "plt.savefig(\"tweets_word_cloud.pdf\", format = 'pdf')"
   ]
  },
  {
   "cell_type": "markdown",
   "metadata": {},
   "source": [
    "#### Comment"
   ]
  },
  {
   "cell_type": "markdown",
   "metadata": {},
   "source": [
    "1. The word \"harassment\" often comes along with \"sexual\".\n",
    "2. The word \"girl\" occurs far more often than \"boy\"."
   ]
  },
  {
   "cell_type": "markdown",
   "metadata": {},
   "source": [
    "## Davies Corpora\n",
    "\n",
    "Now that we have our basic cleaning down, we can arrange our Davies Corpora. Let us try this with the movies corpora we have already loaded.\n",
    "\n",
    "We'll use a smaller corpus of a 1000 movies for this demonstration."
   ]
  },
  {
   "cell_type": "code",
   "execution_count": 174,
   "metadata": {},
   "outputs": [],
   "source": [
    "zfile = zipfile.ZipFile(corpus_name + \"/sources_movies.zip\")\n",
    "source = []"
   ]
  },
  {
   "cell_type": "code",
   "execution_count": 175,
   "metadata": {},
   "outputs": [],
   "source": [
    "for file in zfile.namelist():\n",
    "    with zfile.open(file) as f:\n",
    "        for line in f:\n",
    "            source.append(line)"
   ]
  },
  {
   "cell_type": "code",
   "execution_count": 176,
   "metadata": {},
   "outputs": [
    {
     "data": {
      "text/plain": [
       "[b'textID\\tfileID\\t#words\\tgenre\\tyear\\tlanguage(s)\\tcountry\\timdb\\ttitle\\r\\n',\n",
       " b'-----\\t-----\\t-----\\t-----\\t-----\\t-----\\t-----\\t-----\\t-----\\r\\n',\n",
       " b'\\r\\n',\n",
       " b'290635\\t3547424\\t4722\\tShort, Musical\\t1930\\tUK\\tEnglish\\t0290635\\tGoodbye to All That\\r\\n',\n",
       " b'21165\\t6332374\\t10220\\tCrime, Mystery, Thriller\\t1930\\tUK\\tEnglish\\t0021165\\tMurder!\\r\\n',\n",
       " b'21191\\t6013789\\t5281\\tDrama, Romance\\t1930\\tUSA\\tEnglish\\t0021191\\tA Notorious Affair\\r\\n',\n",
       " b'20620\\t3660608\\t6724\\tBiography, Drama, History\\t1930\\tUSA\\tEnglish\\t0020620\\tAbraham Lincoln\\r\\n',\n",
       " b'20629\\t60053\\t9552\\tDrama, War\\t1930\\tUSA\\tEnglish, French, German, Latin\\t0020629\\tAll Quiet on the Western Front\\r\\n',\n",
       " b'20640\\t6850720\\t13862\\tComedy, Musical\\t1930\\tUSA\\tEnglish\\t0020640\\tAnimal Crackers\\r\\n',\n",
       " b'20641\\t176501\\t11140\\tDrama, Romance\\t1930\\tUSA\\tEnglish\\t0020641\\tAnna Christie\\r\\n',\n",
       " b'20643\\t3603861\\t1748\\tComedy, Short\\t1930\\tUSA\\tEnglish\\t0020643\\tAnother Fine Mess\\r\\n',\n",
       " b'20670\\t4159455\\t6966\\tComedy, Musical\\t1930\\tUSA\\tEnglish\\t0020670\\tBe Yourself!\\r\\n',\n",
       " b'20702\\t3435788\\t6870\\tCrime, Drama, Film-Noir\\t1930\\tUSA\\tEnglish, Italian, French\\t0020702\\tBorn Reckless\\r\\n',\n",
       " b'20768\\t3128644\\t1782\\tDrama, Romance\\t1930\\tUSA\\tEnglish\\t0020768\\tCity Girl\\r\\n',\n",
       " b'20876\\t105788\\t8463\\tComedy\\t1930\\tUSA\\tEnglish\\t0020876\\tFeet First\\r\\n',\n",
       " b'20945\\t6935753\\t8669\\tComedy, Musical\\t1930\\tUSA\\tEnglish, French\\t0020945\\tHalf Shot at Sunrise\\r\\n',\n",
       " b\"20960\\t5583644\\t7331\\tDrama, War\\t1930\\tUSA\\tEnglish, German, French\\t0020960\\tHell's Angels\\r\\n\",\n",
       " b'21025\\t6922578\\t4495\\tAnimation, Music\\t1930\\tUSA\\tEnglish\\t0021025\\tKing of Jazz\\r\\n',\n",
       " b'21040\\t4056770\\t9201\\tDrama, Romance\\t1930\\tUSA\\tEnglish\\t0021040\\tLadies of Leisure\\r\\n',\n",
       " b'22058\\t3445333\\t919\\tShort, Comedy\\t1930\\tUSA\\tEnglish\\t0022058\\tLaughing Gravy\\r\\n']"
      ]
     },
     "execution_count": 176,
     "metadata": {},
     "output_type": "execute_result"
    }
   ],
   "source": [
    "source[0:20]"
   ]
  },
  {
   "cell_type": "markdown",
   "metadata": {},
   "source": [
    "It looks dirty because the file is encoded as bytes, but we can certainly see the information there. The file id is also present in the original raw text data: as the first \"word\". Look back at the normalized/tokenized words to confirm that. We're going to use this to create a dataframe with: Fileid, movie name, genre, year, and country.\n",
    "\n",
    "It is advised that you run a similar check of the source file before you do other extraction.\n",
    "\n",
    "First, let us create a dictionary mapping file-id to all the text. Each movie will be mapped to a list of the tokenized words.\n",
    "\n",
    "In this example, I only use it to load 100 movies. You can comment this out or increase/decrease the number as you see fit.\n",
    "\n",
    "Note that in the following cells, we make use of the `lucem_illud` package's `word_tokenize` function. You can see that function on line 70 of [processing.py](https://github.com/UChicago-Computational-Content-Analysis/lucem_illud/blob/main/lucem_illud/processing.py), and we provide the code here for transparency. Since we put this folder in our helper package, you won't need to define this function every time you want to use it; you just `import lucem_illud`!"
   ]
  },
  {
   "cell_type": "code",
   "execution_count": 177,
   "metadata": {},
   "outputs": [],
   "source": [
    "# processing.py calls a spacy model called \"en\" (and sometimes called \"en_core_web_sm\") so we load that first.\n",
    "try:\n",
    "    nlp = spacy.load(\"en\")\n",
    "except OSError:\n",
    "    nlp = spacy.load(\"en_core_web_sm\")\n",
    "\n",
    "    \n",
    "#Here is the function from lucem_illud/lucem_illud/processing.py\n",
    "def word_tokenize(word_list, model=nlp, MAX_LEN=1500000):\n",
    "    \n",
    "    tokenized = []\n",
    "    if type(word_list) == list and len(word_list) == 1:\n",
    "        word_list = word_list[0]\n",
    "\n",
    "    if type(word_list) == list:\n",
    "        word_list = ' '.join([str(elem) for elem in word_list]) \n",
    "    # since we're only tokenizing, I remove RAM intensive operations and increase max text size\n",
    "\n",
    "    model.max_length = MAX_LEN\n",
    "    doc = model(word_list, disable=[\"parser\", \"tagger\", \"ner\"])\n",
    "    \n",
    "    for token in doc:\n",
    "        if not token.is_punct and len(token.text.strip()) > 0:\n",
    "            tokenized.append(token.text)\n",
    "    return tokenized"
   ]
  },
  {
   "cell_type": "code",
   "execution_count": 178,
   "metadata": {},
   "outputs": [],
   "source": [
    "movie_texts = {}"
   ]
  },
  {
   "cell_type": "code",
   "execution_count": 179,
   "metadata": {},
   "outputs": [
    {
     "name": "stderr",
     "output_type": "stream",
     "text": [
      "D:\\MySoftware\\python310\\lib\\site-packages\\spacy\\pipeline\\lemmatizer.py:211: UserWarning: [W108] The rule-based lemmatizer did not find POS annotation for one or more tokens. Check that your pipeline includes components that assign token.pos, typically 'tagger'+'attribute_ruler' or 'morphologizer'.\n",
      "  warnings.warn(Warnings.W108)\n"
     ]
    },
    {
     "ename": "KeyboardInterrupt",
     "evalue": "",
     "output_type": "error",
     "traceback": [
      "\u001b[1;31m---------------------------------------------------------------------------\u001b[0m",
      "\u001b[1;31mKeyboardInterrupt\u001b[0m                         Traceback (most recent call last)",
      "Input \u001b[1;32mIn [179]\u001b[0m, in \u001b[0;36m<module>\u001b[1;34m\u001b[0m\n\u001b[0;32m      4\u001b[0m movies \u001b[38;5;241m=\u001b[39m clean_raw_text(movie_raw[files][\u001b[38;5;241m1\u001b[39m:])\n\u001b[0;32m      5\u001b[0m \u001b[38;5;28;01mfor\u001b[39;00m movie \u001b[38;5;129;01min\u001b[39;00m movies:\n\u001b[0;32m      6\u001b[0m     \u001b[38;5;66;03m# We can run the following line of code with or without `lucem_illud.`, using the package or our code 2 cells above.\u001b[39;00m\n\u001b[1;32m----> 7\u001b[0m     txts \u001b[38;5;241m=\u001b[39m \u001b[43mlucem_illud\u001b[49m\u001b[38;5;241;43m.\u001b[39;49m\u001b[43mword_tokenize\u001b[49m\u001b[43m(\u001b[49m\u001b[43mmovie\u001b[49m\u001b[43m)\u001b[49m\n\u001b[0;32m      8\u001b[0m     \u001b[38;5;28;01mtry\u001b[39;00m:\n\u001b[0;32m      9\u001b[0m         movie_texts[txts[\u001b[38;5;241m0\u001b[39m][\u001b[38;5;241m2\u001b[39m:]] \u001b[38;5;241m=\u001b[39m txts[\u001b[38;5;241m1\u001b[39m:]\n",
      "File \u001b[1;32mD:\\MySoftware\\python310\\lib\\site-packages\\lucem_illud\\processing.py:81\u001b[0m, in \u001b[0;36mword_tokenize\u001b[1;34m(word_list, model, MAX_LEN)\u001b[0m\n\u001b[0;32m     78\u001b[0m \u001b[38;5;66;03m# since we're only tokenizing, I remove RAM intensive operations and increase max text size\u001b[39;00m\n\u001b[0;32m     80\u001b[0m model\u001b[38;5;241m.\u001b[39mmax_length \u001b[38;5;241m=\u001b[39m MAX_LEN\n\u001b[1;32m---> 81\u001b[0m doc \u001b[38;5;241m=\u001b[39m \u001b[43mmodel\u001b[49m\u001b[43m(\u001b[49m\u001b[43mword_list\u001b[49m\u001b[43m,\u001b[49m\u001b[43m \u001b[49m\u001b[43mdisable\u001b[49m\u001b[38;5;241;43m=\u001b[39;49m\u001b[43m[\u001b[49m\u001b[38;5;124;43m\"\u001b[39;49m\u001b[38;5;124;43mparser\u001b[39;49m\u001b[38;5;124;43m\"\u001b[39;49m\u001b[43m,\u001b[49m\u001b[43m \u001b[49m\u001b[38;5;124;43m\"\u001b[39;49m\u001b[38;5;124;43mtagger\u001b[39;49m\u001b[38;5;124;43m\"\u001b[39;49m\u001b[43m,\u001b[49m\u001b[43m \u001b[49m\u001b[38;5;124;43m\"\u001b[39;49m\u001b[38;5;124;43mner\u001b[39;49m\u001b[38;5;124;43m\"\u001b[39;49m\u001b[43m]\u001b[49m\u001b[43m)\u001b[49m\n\u001b[0;32m     83\u001b[0m \u001b[38;5;28;01mfor\u001b[39;00m token \u001b[38;5;129;01min\u001b[39;00m doc:\n\u001b[0;32m     84\u001b[0m     \u001b[38;5;28;01mif\u001b[39;00m \u001b[38;5;129;01mnot\u001b[39;00m token\u001b[38;5;241m.\u001b[39mis_punct \u001b[38;5;129;01mand\u001b[39;00m \u001b[38;5;28mlen\u001b[39m(token\u001b[38;5;241m.\u001b[39mtext\u001b[38;5;241m.\u001b[39mstrip()) \u001b[38;5;241m>\u001b[39m \u001b[38;5;241m0\u001b[39m:\n",
      "File \u001b[1;32mD:\\MySoftware\\python310\\lib\\site-packages\\spacy\\language.py:1014\u001b[0m, in \u001b[0;36mLanguage.__call__\u001b[1;34m(self, text, disable, component_cfg)\u001b[0m\n\u001b[0;32m   1012\u001b[0m     error_handler \u001b[38;5;241m=\u001b[39m proc\u001b[38;5;241m.\u001b[39mget_error_handler()\n\u001b[0;32m   1013\u001b[0m \u001b[38;5;28;01mtry\u001b[39;00m:\n\u001b[1;32m-> 1014\u001b[0m     doc \u001b[38;5;241m=\u001b[39m proc(doc, \u001b[38;5;241m*\u001b[39m\u001b[38;5;241m*\u001b[39mcomponent_cfg\u001b[38;5;241m.\u001b[39mget(name, {}))  \u001b[38;5;66;03m# type: ignore[call-arg]\u001b[39;00m\n\u001b[0;32m   1015\u001b[0m \u001b[38;5;28;01mexcept\u001b[39;00m \u001b[38;5;167;01mKeyError\u001b[39;00m \u001b[38;5;28;01mas\u001b[39;00m e:\n\u001b[0;32m   1016\u001b[0m     \u001b[38;5;66;03m# This typically happens if a component is not initialized\u001b[39;00m\n\u001b[0;32m   1017\u001b[0m     \u001b[38;5;28;01mraise\u001b[39;00m \u001b[38;5;167;01mValueError\u001b[39;00m(Errors\u001b[38;5;241m.\u001b[39mE109\u001b[38;5;241m.\u001b[39mformat(name\u001b[38;5;241m=\u001b[39mname)) \u001b[38;5;28;01mfrom\u001b[39;00m \u001b[38;5;21;01me\u001b[39;00m\n",
      "File \u001b[1;32mD:\\MySoftware\\python310\\lib\\site-packages\\spacy\\pipeline\\trainable_pipe.pyx:52\u001b[0m, in \u001b[0;36mspacy.pipeline.trainable_pipe.TrainablePipe.__call__\u001b[1;34m()\u001b[0m\n",
      "File \u001b[1;32mD:\\MySoftware\\python310\\lib\\site-packages\\spacy\\pipeline\\tok2vec.py:121\u001b[0m, in \u001b[0;36mTok2Vec.predict\u001b[1;34m(self, docs)\u001b[0m\n\u001b[0;32m    112\u001b[0m \u001b[38;5;28;01mdef\u001b[39;00m \u001b[38;5;21mpredict\u001b[39m(\u001b[38;5;28mself\u001b[39m, docs: Iterable[Doc]):\n\u001b[0;32m    113\u001b[0m     \u001b[38;5;124;03m\"\"\"Apply the pipeline's model to a batch of docs, without modifying them.\u001b[39;00m\n\u001b[0;32m    114\u001b[0m \u001b[38;5;124;03m    Returns a single tensor for a batch of documents.\u001b[39;00m\n\u001b[0;32m    115\u001b[0m \n\u001b[1;32m   (...)\u001b[0m\n\u001b[0;32m    119\u001b[0m \u001b[38;5;124;03m    DOCS: https://spacy.io/api/tok2vec#predict\u001b[39;00m\n\u001b[0;32m    120\u001b[0m \u001b[38;5;124;03m    \"\"\"\u001b[39;00m\n\u001b[1;32m--> 121\u001b[0m     tokvecs \u001b[38;5;241m=\u001b[39m \u001b[38;5;28;43mself\u001b[39;49m\u001b[38;5;241;43m.\u001b[39;49m\u001b[43mmodel\u001b[49m\u001b[38;5;241;43m.\u001b[39;49m\u001b[43mpredict\u001b[49m\u001b[43m(\u001b[49m\u001b[43mdocs\u001b[49m\u001b[43m)\u001b[49m\n\u001b[0;32m    122\u001b[0m     batch_id \u001b[38;5;241m=\u001b[39m Tok2VecListener\u001b[38;5;241m.\u001b[39mget_batch_id(docs)\n\u001b[0;32m    123\u001b[0m     \u001b[38;5;28;01mfor\u001b[39;00m listener \u001b[38;5;129;01min\u001b[39;00m \u001b[38;5;28mself\u001b[39m\u001b[38;5;241m.\u001b[39mlisteners:\n",
      "File \u001b[1;32mD:\\MySoftware\\python310\\lib\\site-packages\\thinc\\model.py:315\u001b[0m, in \u001b[0;36mModel.predict\u001b[1;34m(self, X)\u001b[0m\n\u001b[0;32m    311\u001b[0m \u001b[38;5;28;01mdef\u001b[39;00m \u001b[38;5;21mpredict\u001b[39m(\u001b[38;5;28mself\u001b[39m, X: InT) \u001b[38;5;241m-\u001b[39m\u001b[38;5;241m>\u001b[39m OutT:\n\u001b[0;32m    312\u001b[0m     \u001b[38;5;124;03m\"\"\"Call the model's `forward` function with `is_train=False`, and return\u001b[39;00m\n\u001b[0;32m    313\u001b[0m \u001b[38;5;124;03m    only the output, instead of the `(output, callback)` tuple.\u001b[39;00m\n\u001b[0;32m    314\u001b[0m \u001b[38;5;124;03m    \"\"\"\u001b[39;00m\n\u001b[1;32m--> 315\u001b[0m     \u001b[38;5;28;01mreturn\u001b[39;00m \u001b[38;5;28;43mself\u001b[39;49m\u001b[38;5;241;43m.\u001b[39;49m\u001b[43m_func\u001b[49m\u001b[43m(\u001b[49m\u001b[38;5;28;43mself\u001b[39;49m\u001b[43m,\u001b[49m\u001b[43m \u001b[49m\u001b[43mX\u001b[49m\u001b[43m,\u001b[49m\u001b[43m \u001b[49m\u001b[43mis_train\u001b[49m\u001b[38;5;241;43m=\u001b[39;49m\u001b[38;5;28;43;01mFalse\u001b[39;49;00m\u001b[43m)\u001b[49m[\u001b[38;5;241m0\u001b[39m]\n",
      "File \u001b[1;32mD:\\MySoftware\\python310\\lib\\site-packages\\thinc\\layers\\chain.py:54\u001b[0m, in \u001b[0;36mforward\u001b[1;34m(model, X, is_train)\u001b[0m\n\u001b[0;32m     52\u001b[0m callbacks \u001b[38;5;241m=\u001b[39m []\n\u001b[0;32m     53\u001b[0m \u001b[38;5;28;01mfor\u001b[39;00m layer \u001b[38;5;129;01min\u001b[39;00m model\u001b[38;5;241m.\u001b[39mlayers:\n\u001b[1;32m---> 54\u001b[0m     Y, inc_layer_grad \u001b[38;5;241m=\u001b[39m \u001b[43mlayer\u001b[49m\u001b[43m(\u001b[49m\u001b[43mX\u001b[49m\u001b[43m,\u001b[49m\u001b[43m \u001b[49m\u001b[43mis_train\u001b[49m\u001b[38;5;241;43m=\u001b[39;49m\u001b[43mis_train\u001b[49m\u001b[43m)\u001b[49m\n\u001b[0;32m     55\u001b[0m     callbacks\u001b[38;5;241m.\u001b[39mappend(inc_layer_grad)\n\u001b[0;32m     56\u001b[0m     X \u001b[38;5;241m=\u001b[39m Y\n",
      "File \u001b[1;32mD:\\MySoftware\\python310\\lib\\site-packages\\thinc\\model.py:291\u001b[0m, in \u001b[0;36mModel.__call__\u001b[1;34m(self, X, is_train)\u001b[0m\n\u001b[0;32m    288\u001b[0m \u001b[38;5;28;01mdef\u001b[39;00m \u001b[38;5;21m__call__\u001b[39m(\u001b[38;5;28mself\u001b[39m, X: InT, is_train: \u001b[38;5;28mbool\u001b[39m) \u001b[38;5;241m-\u001b[39m\u001b[38;5;241m>\u001b[39m Tuple[OutT, Callable]:\n\u001b[0;32m    289\u001b[0m     \u001b[38;5;124;03m\"\"\"Call the model's `forward` function, returning the output and a\u001b[39;00m\n\u001b[0;32m    290\u001b[0m \u001b[38;5;124;03m    callback to compute the gradients via backpropagation.\"\"\"\u001b[39;00m\n\u001b[1;32m--> 291\u001b[0m     \u001b[38;5;28;01mreturn\u001b[39;00m \u001b[38;5;28;43mself\u001b[39;49m\u001b[38;5;241;43m.\u001b[39;49m\u001b[43m_func\u001b[49m\u001b[43m(\u001b[49m\u001b[38;5;28;43mself\u001b[39;49m\u001b[43m,\u001b[49m\u001b[43m \u001b[49m\u001b[43mX\u001b[49m\u001b[43m,\u001b[49m\u001b[43m \u001b[49m\u001b[43mis_train\u001b[49m\u001b[38;5;241;43m=\u001b[39;49m\u001b[43mis_train\u001b[49m\u001b[43m)\u001b[49m\n",
      "File \u001b[1;32mD:\\MySoftware\\python310\\lib\\site-packages\\thinc\\layers\\with_array.py:40\u001b[0m, in \u001b[0;36mforward\u001b[1;34m(model, Xseq, is_train)\u001b[0m\n\u001b[0;32m     38\u001b[0m     \u001b[38;5;28;01mreturn\u001b[39;00m model\u001b[38;5;241m.\u001b[39mlayers[\u001b[38;5;241m0\u001b[39m](Xseq, is_train)\n\u001b[0;32m     39\u001b[0m \u001b[38;5;28;01melse\u001b[39;00m:\n\u001b[1;32m---> 40\u001b[0m     \u001b[38;5;28;01mreturn\u001b[39;00m \u001b[43m_list_forward\u001b[49m\u001b[43m(\u001b[49m\u001b[43mcast\u001b[49m\u001b[43m(\u001b[49m\u001b[43mModel\u001b[49m\u001b[43m[\u001b[49m\u001b[43mList2d\u001b[49m\u001b[43m,\u001b[49m\u001b[43m \u001b[49m\u001b[43mList2d\u001b[49m\u001b[43m]\u001b[49m\u001b[43m,\u001b[49m\u001b[43m \u001b[49m\u001b[43mmodel\u001b[49m\u001b[43m)\u001b[49m\u001b[43m,\u001b[49m\u001b[43m \u001b[49m\u001b[43mXseq\u001b[49m\u001b[43m,\u001b[49m\u001b[43m \u001b[49m\u001b[43mis_train\u001b[49m\u001b[43m)\u001b[49m\n",
      "File \u001b[1;32mD:\\MySoftware\\python310\\lib\\site-packages\\thinc\\layers\\with_array.py:76\u001b[0m, in \u001b[0;36m_list_forward\u001b[1;34m(model, Xs, is_train)\u001b[0m\n\u001b[0;32m     74\u001b[0m lengths \u001b[38;5;241m=\u001b[39m layer\u001b[38;5;241m.\u001b[39mops\u001b[38;5;241m.\u001b[39masarray1i([\u001b[38;5;28mlen\u001b[39m(seq) \u001b[38;5;28;01mfor\u001b[39;00m seq \u001b[38;5;129;01min\u001b[39;00m Xs])\n\u001b[0;32m     75\u001b[0m Xf \u001b[38;5;241m=\u001b[39m layer\u001b[38;5;241m.\u001b[39mops\u001b[38;5;241m.\u001b[39mflatten(Xs, pad\u001b[38;5;241m=\u001b[39mpad)  \u001b[38;5;66;03m# type: ignore\u001b[39;00m\n\u001b[1;32m---> 76\u001b[0m Yf, get_dXf \u001b[38;5;241m=\u001b[39m \u001b[43mlayer\u001b[49m\u001b[43m(\u001b[49m\u001b[43mXf\u001b[49m\u001b[43m,\u001b[49m\u001b[43m \u001b[49m\u001b[43mis_train\u001b[49m\u001b[43m)\u001b[49m\n\u001b[0;32m     78\u001b[0m \u001b[38;5;28;01mdef\u001b[39;00m \u001b[38;5;21mbackprop\u001b[39m(dYs: List2d) \u001b[38;5;241m-\u001b[39m\u001b[38;5;241m>\u001b[39m List2d:\n\u001b[0;32m     79\u001b[0m     dYf \u001b[38;5;241m=\u001b[39m layer\u001b[38;5;241m.\u001b[39mops\u001b[38;5;241m.\u001b[39mflatten(dYs, pad\u001b[38;5;241m=\u001b[39mpad)  \u001b[38;5;66;03m# type: ignore\u001b[39;00m\n",
      "File \u001b[1;32mD:\\MySoftware\\python310\\lib\\site-packages\\thinc\\model.py:291\u001b[0m, in \u001b[0;36mModel.__call__\u001b[1;34m(self, X, is_train)\u001b[0m\n\u001b[0;32m    288\u001b[0m \u001b[38;5;28;01mdef\u001b[39;00m \u001b[38;5;21m__call__\u001b[39m(\u001b[38;5;28mself\u001b[39m, X: InT, is_train: \u001b[38;5;28mbool\u001b[39m) \u001b[38;5;241m-\u001b[39m\u001b[38;5;241m>\u001b[39m Tuple[OutT, Callable]:\n\u001b[0;32m    289\u001b[0m     \u001b[38;5;124;03m\"\"\"Call the model's `forward` function, returning the output and a\u001b[39;00m\n\u001b[0;32m    290\u001b[0m \u001b[38;5;124;03m    callback to compute the gradients via backpropagation.\"\"\"\u001b[39;00m\n\u001b[1;32m--> 291\u001b[0m     \u001b[38;5;28;01mreturn\u001b[39;00m \u001b[38;5;28;43mself\u001b[39;49m\u001b[38;5;241;43m.\u001b[39;49m\u001b[43m_func\u001b[49m\u001b[43m(\u001b[49m\u001b[38;5;28;43mself\u001b[39;49m\u001b[43m,\u001b[49m\u001b[43m \u001b[49m\u001b[43mX\u001b[49m\u001b[43m,\u001b[49m\u001b[43m \u001b[49m\u001b[43mis_train\u001b[49m\u001b[38;5;241;43m=\u001b[39;49m\u001b[43mis_train\u001b[49m\u001b[43m)\u001b[49m\n",
      "File \u001b[1;32mD:\\MySoftware\\python310\\lib\\site-packages\\thinc\\layers\\chain.py:54\u001b[0m, in \u001b[0;36mforward\u001b[1;34m(model, X, is_train)\u001b[0m\n\u001b[0;32m     52\u001b[0m callbacks \u001b[38;5;241m=\u001b[39m []\n\u001b[0;32m     53\u001b[0m \u001b[38;5;28;01mfor\u001b[39;00m layer \u001b[38;5;129;01min\u001b[39;00m model\u001b[38;5;241m.\u001b[39mlayers:\n\u001b[1;32m---> 54\u001b[0m     Y, inc_layer_grad \u001b[38;5;241m=\u001b[39m \u001b[43mlayer\u001b[49m\u001b[43m(\u001b[49m\u001b[43mX\u001b[49m\u001b[43m,\u001b[49m\u001b[43m \u001b[49m\u001b[43mis_train\u001b[49m\u001b[38;5;241;43m=\u001b[39;49m\u001b[43mis_train\u001b[49m\u001b[43m)\u001b[49m\n\u001b[0;32m     55\u001b[0m     callbacks\u001b[38;5;241m.\u001b[39mappend(inc_layer_grad)\n\u001b[0;32m     56\u001b[0m     X \u001b[38;5;241m=\u001b[39m Y\n",
      "File \u001b[1;32mD:\\MySoftware\\python310\\lib\\site-packages\\thinc\\model.py:291\u001b[0m, in \u001b[0;36mModel.__call__\u001b[1;34m(self, X, is_train)\u001b[0m\n\u001b[0;32m    288\u001b[0m \u001b[38;5;28;01mdef\u001b[39;00m \u001b[38;5;21m__call__\u001b[39m(\u001b[38;5;28mself\u001b[39m, X: InT, is_train: \u001b[38;5;28mbool\u001b[39m) \u001b[38;5;241m-\u001b[39m\u001b[38;5;241m>\u001b[39m Tuple[OutT, Callable]:\n\u001b[0;32m    289\u001b[0m     \u001b[38;5;124;03m\"\"\"Call the model's `forward` function, returning the output and a\u001b[39;00m\n\u001b[0;32m    290\u001b[0m \u001b[38;5;124;03m    callback to compute the gradients via backpropagation.\"\"\"\u001b[39;00m\n\u001b[1;32m--> 291\u001b[0m     \u001b[38;5;28;01mreturn\u001b[39;00m \u001b[38;5;28;43mself\u001b[39;49m\u001b[38;5;241;43m.\u001b[39;49m\u001b[43m_func\u001b[49m\u001b[43m(\u001b[49m\u001b[38;5;28;43mself\u001b[39;49m\u001b[43m,\u001b[49m\u001b[43m \u001b[49m\u001b[43mX\u001b[49m\u001b[43m,\u001b[49m\u001b[43m \u001b[49m\u001b[43mis_train\u001b[49m\u001b[38;5;241;43m=\u001b[39;49m\u001b[43mis_train\u001b[49m\u001b[43m)\u001b[49m\n",
      "File \u001b[1;32mD:\\MySoftware\\python310\\lib\\site-packages\\thinc\\layers\\residual.py:40\u001b[0m, in \u001b[0;36mforward\u001b[1;34m(model, X, is_train)\u001b[0m\n\u001b[0;32m     37\u001b[0m     \u001b[38;5;28;01melse\u001b[39;00m:\n\u001b[0;32m     38\u001b[0m         \u001b[38;5;28;01mreturn\u001b[39;00m d_output \u001b[38;5;241m+\u001b[39m dX\n\u001b[1;32m---> 40\u001b[0m Y, backprop_layer \u001b[38;5;241m=\u001b[39m \u001b[43mmodel\u001b[49m\u001b[38;5;241;43m.\u001b[39;49m\u001b[43mlayers\u001b[49m\u001b[43m[\u001b[49m\u001b[38;5;241;43m0\u001b[39;49m\u001b[43m]\u001b[49m\u001b[43m(\u001b[49m\u001b[43mX\u001b[49m\u001b[43m,\u001b[49m\u001b[43m \u001b[49m\u001b[43mis_train\u001b[49m\u001b[43m)\u001b[49m\n\u001b[0;32m     41\u001b[0m \u001b[38;5;28;01mif\u001b[39;00m \u001b[38;5;28misinstance\u001b[39m(X, \u001b[38;5;28mlist\u001b[39m):\n\u001b[0;32m     42\u001b[0m     \u001b[38;5;28;01mreturn\u001b[39;00m [X[i] \u001b[38;5;241m+\u001b[39m Y[i] \u001b[38;5;28;01mfor\u001b[39;00m i \u001b[38;5;129;01min\u001b[39;00m \u001b[38;5;28mrange\u001b[39m(\u001b[38;5;28mlen\u001b[39m(X))], backprop\n",
      "File \u001b[1;32mD:\\MySoftware\\python310\\lib\\site-packages\\thinc\\model.py:291\u001b[0m, in \u001b[0;36mModel.__call__\u001b[1;34m(self, X, is_train)\u001b[0m\n\u001b[0;32m    288\u001b[0m \u001b[38;5;28;01mdef\u001b[39;00m \u001b[38;5;21m__call__\u001b[39m(\u001b[38;5;28mself\u001b[39m, X: InT, is_train: \u001b[38;5;28mbool\u001b[39m) \u001b[38;5;241m-\u001b[39m\u001b[38;5;241m>\u001b[39m Tuple[OutT, Callable]:\n\u001b[0;32m    289\u001b[0m     \u001b[38;5;124;03m\"\"\"Call the model's `forward` function, returning the output and a\u001b[39;00m\n\u001b[0;32m    290\u001b[0m \u001b[38;5;124;03m    callback to compute the gradients via backpropagation.\"\"\"\u001b[39;00m\n\u001b[1;32m--> 291\u001b[0m     \u001b[38;5;28;01mreturn\u001b[39;00m \u001b[38;5;28;43mself\u001b[39;49m\u001b[38;5;241;43m.\u001b[39;49m\u001b[43m_func\u001b[49m\u001b[43m(\u001b[49m\u001b[38;5;28;43mself\u001b[39;49m\u001b[43m,\u001b[49m\u001b[43m \u001b[49m\u001b[43mX\u001b[49m\u001b[43m,\u001b[49m\u001b[43m \u001b[49m\u001b[43mis_train\u001b[49m\u001b[38;5;241;43m=\u001b[39;49m\u001b[43mis_train\u001b[49m\u001b[43m)\u001b[49m\n",
      "File \u001b[1;32mD:\\MySoftware\\python310\\lib\\site-packages\\thinc\\layers\\chain.py:54\u001b[0m, in \u001b[0;36mforward\u001b[1;34m(model, X, is_train)\u001b[0m\n\u001b[0;32m     52\u001b[0m callbacks \u001b[38;5;241m=\u001b[39m []\n\u001b[0;32m     53\u001b[0m \u001b[38;5;28;01mfor\u001b[39;00m layer \u001b[38;5;129;01min\u001b[39;00m model\u001b[38;5;241m.\u001b[39mlayers:\n\u001b[1;32m---> 54\u001b[0m     Y, inc_layer_grad \u001b[38;5;241m=\u001b[39m \u001b[43mlayer\u001b[49m\u001b[43m(\u001b[49m\u001b[43mX\u001b[49m\u001b[43m,\u001b[49m\u001b[43m \u001b[49m\u001b[43mis_train\u001b[49m\u001b[38;5;241;43m=\u001b[39;49m\u001b[43mis_train\u001b[49m\u001b[43m)\u001b[49m\n\u001b[0;32m     55\u001b[0m     callbacks\u001b[38;5;241m.\u001b[39mappend(inc_layer_grad)\n\u001b[0;32m     56\u001b[0m     X \u001b[38;5;241m=\u001b[39m Y\n",
      "File \u001b[1;32mD:\\MySoftware\\python310\\lib\\site-packages\\thinc\\model.py:291\u001b[0m, in \u001b[0;36mModel.__call__\u001b[1;34m(self, X, is_train)\u001b[0m\n\u001b[0;32m    288\u001b[0m \u001b[38;5;28;01mdef\u001b[39;00m \u001b[38;5;21m__call__\u001b[39m(\u001b[38;5;28mself\u001b[39m, X: InT, is_train: \u001b[38;5;28mbool\u001b[39m) \u001b[38;5;241m-\u001b[39m\u001b[38;5;241m>\u001b[39m Tuple[OutT, Callable]:\n\u001b[0;32m    289\u001b[0m     \u001b[38;5;124;03m\"\"\"Call the model's `forward` function, returning the output and a\u001b[39;00m\n\u001b[0;32m    290\u001b[0m \u001b[38;5;124;03m    callback to compute the gradients via backpropagation.\"\"\"\u001b[39;00m\n\u001b[1;32m--> 291\u001b[0m     \u001b[38;5;28;01mreturn\u001b[39;00m \u001b[38;5;28;43mself\u001b[39;49m\u001b[38;5;241;43m.\u001b[39;49m\u001b[43m_func\u001b[49m\u001b[43m(\u001b[49m\u001b[38;5;28;43mself\u001b[39;49m\u001b[43m,\u001b[49m\u001b[43m \u001b[49m\u001b[43mX\u001b[49m\u001b[43m,\u001b[49m\u001b[43m \u001b[49m\u001b[43mis_train\u001b[49m\u001b[38;5;241;43m=\u001b[39;49m\u001b[43mis_train\u001b[49m\u001b[43m)\u001b[49m\n",
      "File \u001b[1;32mD:\\MySoftware\\python310\\lib\\site-packages\\thinc\\layers\\chain.py:54\u001b[0m, in \u001b[0;36mforward\u001b[1;34m(model, X, is_train)\u001b[0m\n\u001b[0;32m     52\u001b[0m callbacks \u001b[38;5;241m=\u001b[39m []\n\u001b[0;32m     53\u001b[0m \u001b[38;5;28;01mfor\u001b[39;00m layer \u001b[38;5;129;01min\u001b[39;00m model\u001b[38;5;241m.\u001b[39mlayers:\n\u001b[1;32m---> 54\u001b[0m     Y, inc_layer_grad \u001b[38;5;241m=\u001b[39m \u001b[43mlayer\u001b[49m\u001b[43m(\u001b[49m\u001b[43mX\u001b[49m\u001b[43m,\u001b[49m\u001b[43m \u001b[49m\u001b[43mis_train\u001b[49m\u001b[38;5;241;43m=\u001b[39;49m\u001b[43mis_train\u001b[49m\u001b[43m)\u001b[49m\n\u001b[0;32m     55\u001b[0m     callbacks\u001b[38;5;241m.\u001b[39mappend(inc_layer_grad)\n\u001b[0;32m     56\u001b[0m     X \u001b[38;5;241m=\u001b[39m Y\n",
      "    \u001b[1;31m[... skipping similar frames: Model.__call__ at line 291 (1 times)]\u001b[0m\n",
      "File \u001b[1;32mD:\\MySoftware\\python310\\lib\\site-packages\\thinc\\layers\\chain.py:54\u001b[0m, in \u001b[0;36mforward\u001b[1;34m(model, X, is_train)\u001b[0m\n\u001b[0;32m     52\u001b[0m callbacks \u001b[38;5;241m=\u001b[39m []\n\u001b[0;32m     53\u001b[0m \u001b[38;5;28;01mfor\u001b[39;00m layer \u001b[38;5;129;01min\u001b[39;00m model\u001b[38;5;241m.\u001b[39mlayers:\n\u001b[1;32m---> 54\u001b[0m     Y, inc_layer_grad \u001b[38;5;241m=\u001b[39m \u001b[43mlayer\u001b[49m\u001b[43m(\u001b[49m\u001b[43mX\u001b[49m\u001b[43m,\u001b[49m\u001b[43m \u001b[49m\u001b[43mis_train\u001b[49m\u001b[38;5;241;43m=\u001b[39;49m\u001b[43mis_train\u001b[49m\u001b[43m)\u001b[49m\n\u001b[0;32m     55\u001b[0m     callbacks\u001b[38;5;241m.\u001b[39mappend(inc_layer_grad)\n\u001b[0;32m     56\u001b[0m     X \u001b[38;5;241m=\u001b[39m Y\n",
      "File \u001b[1;32mD:\\MySoftware\\python310\\lib\\site-packages\\thinc\\model.py:291\u001b[0m, in \u001b[0;36mModel.__call__\u001b[1;34m(self, X, is_train)\u001b[0m\n\u001b[0;32m    288\u001b[0m \u001b[38;5;28;01mdef\u001b[39;00m \u001b[38;5;21m__call__\u001b[39m(\u001b[38;5;28mself\u001b[39m, X: InT, is_train: \u001b[38;5;28mbool\u001b[39m) \u001b[38;5;241m-\u001b[39m\u001b[38;5;241m>\u001b[39m Tuple[OutT, Callable]:\n\u001b[0;32m    289\u001b[0m     \u001b[38;5;124;03m\"\"\"Call the model's `forward` function, returning the output and a\u001b[39;00m\n\u001b[0;32m    290\u001b[0m \u001b[38;5;124;03m    callback to compute the gradients via backpropagation.\"\"\"\u001b[39;00m\n\u001b[1;32m--> 291\u001b[0m     \u001b[38;5;28;01mreturn\u001b[39;00m \u001b[38;5;28;43mself\u001b[39;49m\u001b[38;5;241;43m.\u001b[39;49m\u001b[43m_func\u001b[49m\u001b[43m(\u001b[49m\u001b[38;5;28;43mself\u001b[39;49m\u001b[43m,\u001b[49m\u001b[43m \u001b[49m\u001b[43mX\u001b[49m\u001b[43m,\u001b[49m\u001b[43m \u001b[49m\u001b[43mis_train\u001b[49m\u001b[38;5;241;43m=\u001b[39;49m\u001b[43mis_train\u001b[49m\u001b[43m)\u001b[49m\n",
      "File \u001b[1;32mD:\\MySoftware\\python310\\lib\\site-packages\\thinc\\layers\\maxout.py:49\u001b[0m, in \u001b[0;36mforward\u001b[1;34m(model, X, is_train)\u001b[0m\n\u001b[0;32m     47\u001b[0m W \u001b[38;5;241m=\u001b[39m model\u001b[38;5;241m.\u001b[39mget_param(\u001b[38;5;124m\"\u001b[39m\u001b[38;5;124mW\u001b[39m\u001b[38;5;124m\"\u001b[39m)\n\u001b[0;32m     48\u001b[0m W \u001b[38;5;241m=\u001b[39m model\u001b[38;5;241m.\u001b[39mops\u001b[38;5;241m.\u001b[39mreshape2f(W, nO \u001b[38;5;241m*\u001b[39m nP, nI)\n\u001b[1;32m---> 49\u001b[0m Y \u001b[38;5;241m=\u001b[39m \u001b[43mmodel\u001b[49m\u001b[38;5;241;43m.\u001b[39;49m\u001b[43mops\u001b[49m\u001b[38;5;241;43m.\u001b[39;49m\u001b[43mgemm\u001b[49m\u001b[43m(\u001b[49m\u001b[43mX\u001b[49m\u001b[43m,\u001b[49m\u001b[43m \u001b[49m\u001b[43mW\u001b[49m\u001b[43m,\u001b[49m\u001b[43m \u001b[49m\u001b[43mtrans2\u001b[49m\u001b[38;5;241;43m=\u001b[39;49m\u001b[38;5;28;43;01mTrue\u001b[39;49;00m\u001b[43m)\u001b[49m\n\u001b[0;32m     50\u001b[0m Y \u001b[38;5;241m+\u001b[39m\u001b[38;5;241m=\u001b[39m model\u001b[38;5;241m.\u001b[39mops\u001b[38;5;241m.\u001b[39mreshape1f(b, nO \u001b[38;5;241m*\u001b[39m nP)\n\u001b[0;32m     51\u001b[0m Z \u001b[38;5;241m=\u001b[39m model\u001b[38;5;241m.\u001b[39mops\u001b[38;5;241m.\u001b[39mreshape3f(Y, Y\u001b[38;5;241m.\u001b[39mshape[\u001b[38;5;241m0\u001b[39m], nO, nP)\n",
      "\u001b[1;31mKeyboardInterrupt\u001b[0m: "
     ]
    }
   ],
   "source": [
    "for files in movie_raw:\n",
    "    if len(movie_texts) > 100:\n",
    "        break\n",
    "    movies = clean_raw_text(movie_raw[files][1:])\n",
    "    for movie in movies:\n",
    "        # We can run the following line of code with or without `lucem_illud.`, using the package or our code 2 cells above.\n",
    "        txts = lucem_illud.word_tokenize(movie)\n",
    "        try:\n",
    "            movie_texts[txts[0][2:]] = txts[1:]\n",
    "        except IndexError:\n",
    "            continue"
   ]
  },
  {
   "cell_type": "code",
   "execution_count": 180,
   "metadata": {},
   "outputs": [],
   "source": [
    "import pandas as pd"
   ]
  },
  {
   "cell_type": "code",
   "execution_count": 181,
   "metadata": {},
   "outputs": [],
   "source": [
    "movie_df = pd.DataFrame(columns=[\"Movie Name\", \"Genre\", \"Year\", \"Country\", \"Tokenized Texts\"])"
   ]
  },
  {
   "cell_type": "code",
   "execution_count": 182,
   "metadata": {},
   "outputs": [],
   "source": [
    "for movie in source[3:]:\n",
    "    try:\n",
    "        tid, fileid, total_words, genre, year, lang, country, imdb, title = movie.decode(\"utf-8\").split(\"\\t\")\n",
    "    except UnicodeDecodeError:\n",
    "        continue\n",
    "    try:\n",
    "        movie_df.loc[fileid.strip()] = [title.strip(), genre.strip(), year.strip(), country.strip(), movie_texts[fileid.strip()]]\n",
    "    except KeyError:\n",
    "        continue"
   ]
  },
  {
   "cell_type": "code",
   "execution_count": 183,
   "metadata": {},
   "outputs": [
    {
     "data": {
      "text/html": [
       "<div>\n",
       "<style scoped>\n",
       "    .dataframe tbody tr th:only-of-type {\n",
       "        vertical-align: middle;\n",
       "    }\n",
       "\n",
       "    .dataframe tbody tr th {\n",
       "        vertical-align: top;\n",
       "    }\n",
       "\n",
       "    .dataframe thead th {\n",
       "        text-align: right;\n",
       "    }\n",
       "</style>\n",
       "<table border=\"1\" class=\"dataframe\">\n",
       "  <thead>\n",
       "    <tr style=\"text-align: right;\">\n",
       "      <th></th>\n",
       "      <th>Movie Name</th>\n",
       "      <th>Genre</th>\n",
       "      <th>Year</th>\n",
       "      <th>Country</th>\n",
       "      <th>Tokenized Texts</th>\n",
       "    </tr>\n",
       "  </thead>\n",
       "  <tbody>\n",
       "    <tr>\n",
       "      <th>3435788</th>\n",
       "      <td>Born Reckless</td>\n",
       "      <td>Crime, Drama, Film-Noir</td>\n",
       "      <td>1930</td>\n",
       "      <td>English, Italian, French</td>\n",
       "      <td>[Louis, Louis, Beretti, Shh, Put, that, out, y...</td>\n",
       "    </tr>\n",
       "    <tr>\n",
       "      <th>6880640</th>\n",
       "      <td>Dishonored</td>\n",
       "      <td>Drama, Romance, War</td>\n",
       "      <td>1931</td>\n",
       "      <td>English</td>\n",
       "      <td>[I, thought, I, smelled, gas, That, 's, three,...</td>\n",
       "    </tr>\n",
       "    <tr>\n",
       "      <th>5482259</th>\n",
       "      <td>Indiscreet</td>\n",
       "      <td>Comedy, Drama, Musical</td>\n",
       "      <td>1931</td>\n",
       "      <td>English</td>\n",
       "      <td>[Subtitles, Lu, s, Filipe, Bernardes, Wait, Yo...</td>\n",
       "    </tr>\n",
       "    <tr>\n",
       "      <th>5192597</th>\n",
       "      <td>The Stolen Jools</td>\n",
       "      <td>Comedy, Short</td>\n",
       "      <td>1931</td>\n",
       "      <td>English</td>\n",
       "      <td>[Subtitles, Lu, s, Filipe, Bernardes, Hello, W...</td>\n",
       "    </tr>\n",
       "    <tr>\n",
       "      <th>3982760</th>\n",
       "      <td>College Humor</td>\n",
       "      <td>Comedy</td>\n",
       "      <td>1933</td>\n",
       "      <td>English</td>\n",
       "      <td>[Play, ball, Although, the, game, seems, uphil...</td>\n",
       "    </tr>\n",
       "  </tbody>\n",
       "</table>\n",
       "</div>"
      ],
      "text/plain": [
       "               Movie Name                    Genre  Year  \\\n",
       "3435788     Born Reckless  Crime, Drama, Film-Noir  1930   \n",
       "6880640        Dishonored      Drama, Romance, War  1931   \n",
       "5482259        Indiscreet   Comedy, Drama, Musical  1931   \n",
       "5192597  The Stolen Jools            Comedy, Short  1931   \n",
       "3982760     College Humor                   Comedy  1933   \n",
       "\n",
       "                          Country  \\\n",
       "3435788  English, Italian, French   \n",
       "6880640                   English   \n",
       "5482259                   English   \n",
       "5192597                   English   \n",
       "3982760                   English   \n",
       "\n",
       "                                           Tokenized Texts  \n",
       "3435788  [Louis, Louis, Beretti, Shh, Put, that, out, y...  \n",
       "6880640  [I, thought, I, smelled, gas, That, 's, three,...  \n",
       "5482259  [Subtitles, Lu, s, Filipe, Bernardes, Wait, Yo...  \n",
       "5192597  [Subtitles, Lu, s, Filipe, Bernardes, Hello, W...  \n",
       "3982760  [Play, ball, Although, the, game, seems, uphil...  "
      ]
     },
     "execution_count": 183,
     "metadata": {},
     "output_type": "execute_result"
    }
   ],
   "source": [
    "movie_df.head()"
   ]
  },
  {
   "cell_type": "markdown",
   "metadata": {},
   "source": [
    "# Part-of-Speech (POS) tagging"
   ]
  },
  {
   "cell_type": "markdown",
   "metadata": {},
   "source": [
    "In POS tagging, we classify each word by its semantic role in a sentence. We will be using the in-built spaCy pos-tagging.\n",
    "\n",
    "https://spacy.io/usage/linguistic-features\n",
    "\n",
    "|#. |Tag |Description |\n",
    "|---|----|------------|\n",
    "|1.\t|CC\t|Coordinating conjunction\n",
    "|2.\t|CD\t|Cardinal number\n",
    "|3.\t|DT\t|Determiner\n",
    "|4.\t|EX\t|Existential there\n",
    "|5.\t|FW\t|Foreign word\n",
    "|6.\t|IN\t|Preposition or subordinating conjunction\n",
    "|7.\t|JJ\t|Adjective\n",
    "|8.\t|JJR|\tAdjective, comparative\n",
    "|9.\t|JJS|\tAdjective, superlative\n",
    "|10.|\tLS\t|List item marker\n",
    "|11.|\tMD\t|Modal\n",
    "|12.|\tNN\t|Noun, singular or mass\n",
    "|13.|\tNNS\t|Noun, plural\n",
    "|14.|\tNNP\t|Proper noun, singular\n",
    "|15.|\tNNPS|\tProper noun, plural\n",
    "|16.|\tPDT\t|Predeterminer\n",
    "|17.|\tPOS\t|Possessive ending\n",
    "|18.|\tPRP\t|Personal pronoun\n",
    "|19.|\tPRP\\$|\tPossessive pronoun\n",
    "|20.|\tRB\t|Adverb\n",
    "|21.|\tRBR\t|Adverb, comparative\n",
    "|22.|\tRBS\t|Adverb, superlative\n",
    "|23.|\tRP\t|Particle\n",
    "|24.|\tSYM\t|Symbol\n",
    "|25.|\tTO\t|to\n",
    "|26.|\tUH\t|Interjection\n",
    "|27.|\tVB\t|Verb, base form\n",
    "|28.|\tVBD\t|Verb, past tense\n",
    "|29.|\tVBG\t|Verb, gerund or present participle\n",
    "|30.|\tVBN\t|Verb, past participle\n",
    "|31.|\tVBP\t|Verb, non-3rd person singular present\n",
    "|32.|\tVBZ\t|Verb, 3rd person singular present\n",
    "|33.|\tWDT\t|Wh-determiner\n",
    "|34.|\tWP\t|Wh-pronoun\n",
    "|35.|\tWP$\t|Possessive wh-pronoun\n",
    "|36.|\tWRB\t|Wh-adverb\n",
    "\n",
    "spaCy pos-tags word as we run it through the english language model. A small example:"
   ]
  },
  {
   "cell_type": "code",
   "execution_count": 184,
   "metadata": {},
   "outputs": [],
   "source": [
    "sent = nlp(u\"Tom went to IKEA to get some of those delicious Swedish meatballs.\")"
   ]
  },
  {
   "cell_type": "code",
   "execution_count": 185,
   "metadata": {},
   "outputs": [
    {
     "name": "stdout",
     "output_type": "stream",
     "text": [
      "Tom PROPN NNP\n",
      "went VERB VBD\n",
      "to ADP IN\n",
      "IKEA NOUN NN\n",
      "to PART TO\n",
      "get VERB VB\n",
      "some PRON DT\n",
      "of ADP IN\n",
      "those DET DT\n",
      "delicious ADJ JJ\n",
      "Swedish ADJ JJ\n",
      "meatballs NOUN NNS\n",
      ". PUNCT .\n"
     ]
    }
   ],
   "source": [
    "for token in sent:\n",
    "    print(token.text, token.pos_, token.tag_)"
   ]
  },
  {
   "cell_type": "markdown",
   "metadata": {},
   "source": [
    "This looks quite good. Now we will try POS tagging with a somewhat larger corpus. We consider a few of the top posts from the reddit data we used last week."
   ]
  },
  {
   "cell_type": "code",
   "execution_count": 188,
   "metadata": {},
   "outputs": [],
   "source": [
    "redditDF = pd.read_csv('C:\\\\Users\\\\86188\\\\Desktop\\\\SOCI 40133\\\\Homework-Notebooks\\\\data\\\\reddit.csv')"
   ]
  },
  {
   "cell_type": "markdown",
   "metadata": {},
   "source": [
    "Grabbing the 10 highest scoring posts and tokenizing the sentences. Once again, notice that we aren't going to do any kind of stemming this week (although *semantic* normalization may be performed where we translate synonyms into the same focal word). Here, we will use sentences tokenized by spaCy. Like before, these methods can also be found in `lucem_illud`.\n",
    "\n"
   ]
  },
  {
   "cell_type": "code",
   "execution_count": 198,
   "metadata": {},
   "outputs": [],
   "source": [
    "def sent_tokenize(word_list):\n",
    "    doc = nlp(word_list)\n",
    "    sentences = [sent.text.strip() for sent in doc.sents]\n",
    "    return sentences"
   ]
  },
  {
   "cell_type": "code",
   "execution_count": 199,
   "metadata": {},
   "outputs": [
    {
     "name": "stderr",
     "output_type": "stream",
     "text": [
      "D:\\MySoftware\\python310\\lib\\site-packages\\spacy\\pipeline\\lemmatizer.py:211: UserWarning: [W108] The rule-based lemmatizer did not find POS annotation for one or more tokens. Check that your pipeline includes components that assign token.pos, typically 'tagger'+'attribute_ruler' or 'morphologizer'.\n",
      "  warnings.warn(Warnings.W108)\n"
     ]
    },
    {
     "data": {
      "text/html": [
       "<div>\n",
       "<style scoped>\n",
       "    .dataframe tbody tr th:only-of-type {\n",
       "        vertical-align: middle;\n",
       "    }\n",
       "\n",
       "    .dataframe tbody tr th {\n",
       "        vertical-align: top;\n",
       "    }\n",
       "\n",
       "    .dataframe thead th {\n",
       "        text-align: right;\n",
       "    }\n",
       "</style>\n",
       "<table border=\"1\" class=\"dataframe\">\n",
       "  <thead>\n",
       "    <tr style=\"text-align: right;\">\n",
       "      <th></th>\n",
       "      <th>Unnamed: 0</th>\n",
       "      <th>author</th>\n",
       "      <th>over_18</th>\n",
       "      <th>score</th>\n",
       "      <th>subreddit</th>\n",
       "      <th>text</th>\n",
       "      <th>title</th>\n",
       "      <th>url</th>\n",
       "      <th>sentences</th>\n",
       "    </tr>\n",
       "  </thead>\n",
       "  <tbody>\n",
       "    <tr>\n",
       "      <th>9</th>\n",
       "      <td>8</td>\n",
       "      <td>brenkelieshere</td>\n",
       "      <td>False</td>\n",
       "      <td>9448</td>\n",
       "      <td>Tales From Tech Support</td>\n",
       "      <td>Last year, Help Desk got a call from a user co...</td>\n",
       "      <td>How to fix a laptop that won't boot in under a...</td>\n",
       "      <td>https://www.reddit.com/r/talesfromtechsupport/...</td>\n",
       "      <td>[[Last, year, Help, Desk, got, a, call, from, ...</td>\n",
       "    </tr>\n",
       "    <tr>\n",
       "      <th>8</th>\n",
       "      <td>7</td>\n",
       "      <td>Bombadils</td>\n",
       "      <td>False</td>\n",
       "      <td>10528</td>\n",
       "      <td>Tales From Tech Support</td>\n",
       "      <td>First post in quite some time! I work at a loc...</td>\n",
       "      <td>OK, now the password is 'D35p41r'</td>\n",
       "      <td>https://www.reddit.com/r/talesfromtechsupport/...</td>\n",
       "      <td>[[First, post, in, quite, some, time], [I, wor...</td>\n",
       "    </tr>\n",
       "    <tr>\n",
       "      <th>7</th>\n",
       "      <td>1200</td>\n",
       "      <td>whenlifegivesyoushit</td>\n",
       "      <td>False</td>\n",
       "      <td>11003</td>\n",
       "      <td>Relationships</td>\n",
       "      <td>[Original Post](https://www.reddit.com/r/relat...</td>\n",
       "      <td>[UPDATE]My [26 F] with my husband [29 M] 1 yea...</td>\n",
       "      <td>https://www.reddit.com/r/relationships/comment...</td>\n",
       "      <td>[[Original, Post](https://www.reddit.com, r, r...</td>\n",
       "    </tr>\n",
       "    <tr>\n",
       "      <th>6</th>\n",
       "      <td>6</td>\n",
       "      <td>sfsdfd</td>\n",
       "      <td>False</td>\n",
       "      <td>11295</td>\n",
       "      <td>Tales From Tech Support</td>\n",
       "      <td>I witnessed this astounding IT meltdown around...</td>\n",
       "      <td>Company-wide email + 30,000 employees + auto-r...</td>\n",
       "      <td>https://www.reddit.com/r/talesfromtechsupport/...</td>\n",
       "      <td>[[I, witnessed, this, astounding, IT, meltdown...</td>\n",
       "    </tr>\n",
       "    <tr>\n",
       "      <th>5</th>\n",
       "      <td>5</td>\n",
       "      <td>Raitaro</td>\n",
       "      <td>False</td>\n",
       "      <td>12372</td>\n",
       "      <td>Tales From Tech Support</td>\n",
       "      <td>I work Helpdesk for a retail store chain in th...</td>\n",
       "      <td>I'm pretty sure I knocked a user out from near...</td>\n",
       "      <td>https://www.reddit.com/r/talesfromtechsupport/...</td>\n",
       "      <td>[[I, work, Helpdesk, for, a, retail, store, ch...</td>\n",
       "    </tr>\n",
       "    <tr>\n",
       "      <th>4</th>\n",
       "      <td>4</td>\n",
       "      <td>goldie-gold</td>\n",
       "      <td>False</td>\n",
       "      <td>12650</td>\n",
       "      <td>Tales From Tech Support</td>\n",
       "      <td>This just happened...  So, I had a laptop syst...</td>\n",
       "      <td>Engineer is doing drugs!! No. No they aren't.</td>\n",
       "      <td>https://www.reddit.com/r/talesfromtechsupport/...</td>\n",
       "      <td>[[This, just, happened], [So, I, had, a, lapto...</td>\n",
       "    </tr>\n",
       "    <tr>\n",
       "      <th>3</th>\n",
       "      <td>3</td>\n",
       "      <td>TheDroolinFool</td>\n",
       "      <td>False</td>\n",
       "      <td>13152</td>\n",
       "      <td>Tales From Tech Support</td>\n",
       "      <td>Another tale from the out of hours IT desk... ...</td>\n",
       "      <td>\"I need you to fix Google Bing immediately!\"</td>\n",
       "      <td>https://www.reddit.com/r/talesfromtechsupport/...</td>\n",
       "      <td>[[Another, tale, from, the, out, of, hours, IT...</td>\n",
       "    </tr>\n",
       "    <tr>\n",
       "      <th>2</th>\n",
       "      <td>2</td>\n",
       "      <td>Clickity_clickity</td>\n",
       "      <td>False</td>\n",
       "      <td>13404</td>\n",
       "      <td>Tales From Tech Support</td>\n",
       "      <td>[Part 1](http://www.reddit.com/r/talesfromtech...</td>\n",
       "      <td>Jack, the Worst End User, Part 4</td>\n",
       "      <td>https://www.reddit.com/r/talesfromtechsupport/...</td>\n",
       "      <td>[[Part, 1](http://www.reddit.com, r, talesfrom...</td>\n",
       "    </tr>\n",
       "    <tr>\n",
       "      <th>1</th>\n",
       "      <td>1</td>\n",
       "      <td>SECGaz</td>\n",
       "      <td>False</td>\n",
       "      <td>13724</td>\n",
       "      <td>Tales From Tech Support</td>\n",
       "      <td>&gt; $Me  - Hello, IT.   &gt; $Usr - Hi, I am still ...</td>\n",
       "      <td>Hi, I am still off sick but I am not.</td>\n",
       "      <td>https://www.reddit.com/r/talesfromtechsupport/...</td>\n",
       "      <td>[[&gt;, $, Me, Hello, IT, &gt;, $, Usr, Hi, I, am, s...</td>\n",
       "    </tr>\n",
       "    <tr>\n",
       "      <th>0</th>\n",
       "      <td>0</td>\n",
       "      <td>guitarsdontdance</td>\n",
       "      <td>False</td>\n",
       "      <td>14089</td>\n",
       "      <td>Tales From Tech Support</td>\n",
       "      <td>So my story starts on what was a normal day ta...</td>\n",
       "      <td>\"Don't bother sending a tech, I'll be dead by ...</td>\n",
       "      <td>https://www.reddit.com/r/talesfromtechsupport/...</td>\n",
       "      <td>[[So, my, story, starts, on, what, was, a, nor...</td>\n",
       "    </tr>\n",
       "  </tbody>\n",
       "</table>\n",
       "</div>"
      ],
      "text/plain": [
       "   Unnamed: 0                author  over_18  score                subreddit  \\\n",
       "9           8        brenkelieshere    False   9448  Tales From Tech Support   \n",
       "8           7             Bombadils    False  10528  Tales From Tech Support   \n",
       "7        1200  whenlifegivesyoushit    False  11003            Relationships   \n",
       "6           6                sfsdfd    False  11295  Tales From Tech Support   \n",
       "5           5               Raitaro    False  12372  Tales From Tech Support   \n",
       "4           4           goldie-gold    False  12650  Tales From Tech Support   \n",
       "3           3        TheDroolinFool    False  13152  Tales From Tech Support   \n",
       "2           2     Clickity_clickity    False  13404  Tales From Tech Support   \n",
       "1           1                SECGaz    False  13724  Tales From Tech Support   \n",
       "0           0      guitarsdontdance    False  14089  Tales From Tech Support   \n",
       "\n",
       "                                                text  \\\n",
       "9  Last year, Help Desk got a call from a user co...   \n",
       "8  First post in quite some time! I work at a loc...   \n",
       "7  [Original Post](https://www.reddit.com/r/relat...   \n",
       "6  I witnessed this astounding IT meltdown around...   \n",
       "5  I work Helpdesk for a retail store chain in th...   \n",
       "4  This just happened...  So, I had a laptop syst...   \n",
       "3  Another tale from the out of hours IT desk... ...   \n",
       "2  [Part 1](http://www.reddit.com/r/talesfromtech...   \n",
       "1  > $Me  - Hello, IT.   > $Usr - Hi, I am still ...   \n",
       "0  So my story starts on what was a normal day ta...   \n",
       "\n",
       "                                               title  \\\n",
       "9  How to fix a laptop that won't boot in under a...   \n",
       "8                  OK, now the password is 'D35p41r'   \n",
       "7  [UPDATE]My [26 F] with my husband [29 M] 1 yea...   \n",
       "6  Company-wide email + 30,000 employees + auto-r...   \n",
       "5  I'm pretty sure I knocked a user out from near...   \n",
       "4      Engineer is doing drugs!! No. No they aren't.   \n",
       "3       \"I need you to fix Google Bing immediately!\"   \n",
       "2                   Jack, the Worst End User, Part 4   \n",
       "1              Hi, I am still off sick but I am not.   \n",
       "0  \"Don't bother sending a tech, I'll be dead by ...   \n",
       "\n",
       "                                                 url  \\\n",
       "9  https://www.reddit.com/r/talesfromtechsupport/...   \n",
       "8  https://www.reddit.com/r/talesfromtechsupport/...   \n",
       "7  https://www.reddit.com/r/relationships/comment...   \n",
       "6  https://www.reddit.com/r/talesfromtechsupport/...   \n",
       "5  https://www.reddit.com/r/talesfromtechsupport/...   \n",
       "4  https://www.reddit.com/r/talesfromtechsupport/...   \n",
       "3  https://www.reddit.com/r/talesfromtechsupport/...   \n",
       "2  https://www.reddit.com/r/talesfromtechsupport/...   \n",
       "1  https://www.reddit.com/r/talesfromtechsupport/...   \n",
       "0  https://www.reddit.com/r/talesfromtechsupport/...   \n",
       "\n",
       "                                           sentences  \n",
       "9  [[Last, year, Help, Desk, got, a, call, from, ...  \n",
       "8  [[First, post, in, quite, some, time], [I, wor...  \n",
       "7  [[Original, Post](https://www.reddit.com, r, r...  \n",
       "6  [[I, witnessed, this, astounding, IT, meltdown...  \n",
       "5  [[I, work, Helpdesk, for, a, retail, store, ch...  \n",
       "4  [[This, just, happened], [So, I, had, a, lapto...  \n",
       "3  [[Another, tale, from, the, out, of, hours, IT...  \n",
       "2  [[Part, 1](http://www.reddit.com, r, talesfrom...  \n",
       "1  [[>, $, Me, Hello, IT, >, $, Usr, Hi, I, am, s...  \n",
       "0  [[So, my, story, starts, on, what, was, a, nor...  "
      ]
     },
     "execution_count": 199,
     "metadata": {},
     "output_type": "execute_result"
    }
   ],
   "source": [
    "redditTopScores = redditDF.sort_values('score')[-10:]\n",
    "redditTopScores['sentences'] = redditTopScores['text'].apply(lambda x: [word_tokenize(s) for s in sent_tokenize(x)])\n",
    "redditTopScores.index = range(len(redditTopScores) - 1, -1,-1) #Reindex to make things nice in the future\n",
    "redditTopScores"
   ]
  },
  {
   "cell_type": "code",
   "execution_count": 200,
   "metadata": {},
   "outputs": [],
   "source": [
    "def tag_sents_pos(sentences):\n",
    "    \"\"\"\n",
    "    function which replicates NLTK pos tagging on sentences.\n",
    "    \"\"\"\n",
    "    new_sents = []\n",
    "    for sentence in sentences:\n",
    "        new_sent = ' '.join(sentence)\n",
    "        new_sents.append(new_sent)\n",
    "    final_string = ' '.join(new_sents)\n",
    "    doc = nlp(final_string)\n",
    "    \n",
    "    pos_sents = []\n",
    "    for sent in doc.sents:\n",
    "        pos_sent = []\n",
    "        for token in sent:\n",
    "            pos_sent.append((token.text, token.tag_))\n",
    "        pos_sents.append(pos_sent)\n",
    "    \n",
    "    return pos_sents"
   ]
  },
  {
   "cell_type": "code",
   "execution_count": 201,
   "metadata": {},
   "outputs": [],
   "source": [
    "redditTopScores['POS_sents'] = redditTopScores['sentences'].apply(lambda x: tag_sents_pos(x))"
   ]
  },
  {
   "cell_type": "code",
   "execution_count": 202,
   "metadata": {},
   "outputs": [
    {
     "data": {
      "text/plain": [
       "9    [[(Last, JJ), (year, NN), (Help, NNP), (Desk, ...\n",
       "8    [[(First, JJ), (post, NN), (in, IN), (quite, P...\n",
       "7    [[(Original, JJ), (Post](https://www.reddit.co...\n",
       "6    [[(I, PRP), (witnessed, VBD), (this, DT), (ast...\n",
       "5    [[(I, PRP), (work, VBP), (Helpdesk, NNP), (for...\n",
       "4    [[(This, DT), (just, RB), (happened, VBD), (So...\n",
       "3    [[(Another, DT), (tale, NN), (from, IN), (the,...\n",
       "2    [[(Part, NNP), (1](http://www.reddit.com, CD),...\n",
       "1    [[(>, XX), ($, $), (Me, PRP), (Hello, UH), (IT...\n",
       "0    [[(So, RB), (my, PRP$), (story, NN), (starts, ...\n",
       "Name: POS_sents, dtype: object"
      ]
     },
     "execution_count": 202,
     "metadata": {},
     "output_type": "execute_result"
    }
   ],
   "source": [
    "redditTopScores['POS_sents']"
   ]
  },
  {
   "cell_type": "markdown",
   "metadata": {},
   "source": [
    "And count the number of `NN` (nouns)"
   ]
  },
  {
   "cell_type": "code",
   "execution_count": 203,
   "metadata": {},
   "outputs": [
    {
     "data": {
      "text/plain": [
       "[('password', 22),\n",
       " ('time', 14),\n",
       " ('computer', 13),\n",
       " ('lot', 12),\n",
       " ('life', 11),\n",
       " ('email', 11),\n",
       " ('system', 10),\n",
       " ('laptop', 9),\n",
       " ('message', 9),\n",
       " ('day', 9),\n",
       " ('auto', 9),\n",
       " ('call', 8),\n",
       " ('office', 8),\n",
       " ('part', 8),\n",
       " ('today', 8),\n",
       " ('story', 8),\n",
       " ('user', 7),\n",
       " ('job', 7),\n",
       " ('something', 7),\n",
       " ('problem', 7)]"
      ]
     },
     "execution_count": 203,
     "metadata": {},
     "output_type": "execute_result"
    }
   ],
   "source": [
    "countTarget = 'NN'\n",
    "targetCounts = {}\n",
    "for entry in redditTopScores['POS_sents']:\n",
    "    for sentence in entry:\n",
    "        for ent, kind in sentence:\n",
    "            if kind != countTarget:\n",
    "                continue\n",
    "            elif ent in targetCounts:\n",
    "                targetCounts[ent] += 1\n",
    "            else:\n",
    "                targetCounts[ent] = 1\n",
    "sortedTargets = sorted(targetCounts.items(), key = lambda x: x[1], reverse = True)\n",
    "sortedTargets[:20]"
   ]
  },
  {
   "cell_type": "markdown",
   "metadata": {},
   "source": [
    "What about the adjectives that modify the word, \"computer\"?"
   ]
  },
  {
   "cell_type": "code",
   "execution_count": 204,
   "metadata": {},
   "outputs": [
    {
     "name": "stdout",
     "output_type": "stream",
     "text": [
      "{'own', 'unrestricted'}\n"
     ]
    }
   ],
   "source": [
    "NTarget = 'JJ'\n",
    "Word = 'computer'\n",
    "NResults = set()\n",
    "for entry in redditTopScores['POS_sents']:\n",
    "    for sentence in entry:\n",
    "        for (ent1, kind1),(ent2,kind2) in zip(sentence[:-1], sentence[1:]):\n",
    "            if (kind1,ent2.lower())==(NTarget,Word):\n",
    "                NResults.add(ent1)\n",
    "            else:\n",
    "                continue\n",
    "\n",
    "print(NResults)     "
   ]
  },
  {
   "cell_type": "markdown",
   "metadata": {},
   "source": [
    "-------------------"
   ]
  },
  {
   "cell_type": "markdown",
   "metadata": {},
   "source": [
    "## <font color=\"red\">Exercise 3</font>\n",
    "\n",
    "<font color=\"red\">In the cells immediately following, perform POS tagging on a meaningful (but modest) subset of a corpus associated with your final project. Examine the list of words associated with at least three different parts of speech. Consider conditional associations (e.g., adjectives associated with nouns or adverbs with verbs of interest). What do these distributions suggest about your corpus?"
   ]
  },
  {
   "cell_type": "markdown",
   "metadata": {},
   "source": [
    "### Task 1: POS (already done)"
   ]
  },
  {
   "cell_type": "code",
   "execution_count": 205,
   "metadata": {},
   "outputs": [
    {
     "data": {
      "text/plain": [
       "0       [(hoee, JJ), (sit, VBP), (ur, UH), (lame, JJ),...\n",
       "1       [(i, PRP), (wo, MD), (nt, RB), (never, RB), (q...\n",
       "2       [(your, PRP$), (arms, NNS), (and, CC), (legs, ...\n",
       "3       [(i, PRP), (m, VBP), (cool, JJ), (asf, NN), (i...\n",
       "4       [(these, DT), (24, CD), (year, NN), (olds, NNS...\n",
       "                              ...                        \n",
       "3995    [(jane_doe82, NNP), (apologize, VBP), (walk, N...\n",
       "3996    [(oompf, NNS), (am, VBP), (i, PRP), (pulling, ...\n",
       "3997    [(annalogue75, NNP), (tracekj, NN), (thank, VB...\n",
       "3998    [(ogdiner, NN), (i, PRP), (m, VBP), (no, DT), ...\n",
       "3999    [(matt_monies, NNS), (froskurinn, VBP), (she, ...\n",
       "Name: normalized_tokens_POS, Length: 4000, dtype: object"
      ]
     },
     "execution_count": 205,
     "metadata": {},
     "output_type": "execute_result"
    }
   ],
   "source": [
    "tweets_df['normalized_tokens_POS']"
   ]
  },
  {
   "cell_type": "markdown",
   "metadata": {},
   "source": [
    "### Task 2: List of words associated with different POS"
   ]
  },
  {
   "cell_type": "markdown",
   "metadata": {},
   "source": [
    "#### (1) \"NN\""
   ]
  },
  {
   "cell_type": "code",
   "execution_count": 209,
   "metadata": {},
   "outputs": [],
   "source": [
    "def POS_target_tweets(countTarget):\n",
    "    targetCounts = {}\n",
    "    for entry in tweets_df['normalized_tokens_POS']:\n",
    "        for ent, kind in entry:\n",
    "            if kind != countTarget:\n",
    "                continue\n",
    "            elif ent in targetCounts:\n",
    "                targetCounts[ent] += 1\n",
    "            else:\n",
    "                targetCounts[ent] = 1\n",
    "    sortedTargets = sorted(targetCounts.items(), key=lambda x: x[1], reverse=True)\n",
    "    return sortedTargets"
   ]
  },
  {
   "cell_type": "code",
   "execution_count": null,
   "metadata": {},
   "outputs": [],
   "source": [
    "NN_sortedTargets = POS_target_tweets('NN')"
   ]
  },
  {
   "cell_type": "code",
   "execution_count": 212,
   "metadata": {},
   "outputs": [
    {
     "data": {
      "text/plain": [
       "[('harassment', 943),\n",
       " ('rape', 901),\n",
       " ('bitch', 666),\n",
       " ('amp', 208),\n",
       " ('misandry', 144),\n",
       " ('way', 141),\n",
       " ('someone', 116),\n",
       " ('man', 102),\n",
       " ('victim', 102),\n",
       " ('ass', 99),\n",
       " ('time', 93),\n",
       " ('shit', 91),\n",
       " ('misogyny', 86),\n",
       " ('abuse', 79),\n",
       " ('thing', 75),\n",
       " ('woman', 74),\n",
       " ('day', 70),\n",
       " ('rapist', 69),\n",
       " ('assault', 67),\n",
       " ('twitter', 64)]"
      ]
     },
     "execution_count": 212,
     "metadata": {},
     "output_type": "execute_result"
    }
   ],
   "source": [
    "NN_sortedTargets[:20]"
   ]
  },
  {
   "cell_type": "markdown",
   "metadata": {},
   "source": [
    "**Comment**: \n",
    "1. The word \"man\" somewhat occurs 37.8% more often than \"woman\"\n",
    "2. My choice of words for identifying misogyny seems to be reasonable, as the word \"misogyny\" itself occurs quite often with this set of corpora."
   ]
  },
  {
   "cell_type": "markdown",
   "metadata": {},
   "source": [
    "#### (2) \"NNP\""
   ]
  },
  {
   "cell_type": "code",
   "execution_count": 214,
   "metadata": {},
   "outputs": [],
   "source": [
    "NNP_sortedTargets = POS_target_tweets('NNP')"
   ]
  },
  {
   "cell_type": "code",
   "execution_count": 215,
   "metadata": {},
   "outputs": [
    {
     "data": {
      "text/plain": [
       "[('_', 69),\n",
       " ('justice', 52),\n",
       " ('la', 51),\n",
       " ('misandry', 49),\n",
       " ('u', 44),\n",
       " ('que', 42),\n",
       " ('bitch', 40),\n",
       " ('des', 38),\n",
       " ('pas', 37),\n",
       " ('de', 36),\n",
       " ('un', 35),\n",
       " ('trans', 28),\n",
       " ('tu', 27),\n",
       " ('bc', 27),\n",
       " ('india', 27),\n",
       " ('amp', 24),\n",
       " ('du', 24),\n",
       " ('god', 23),\n",
       " ('milady_oscar', 23),\n",
       " ('y', 22)]"
      ]
     },
     "execution_count": 215,
     "metadata": {},
     "output_type": "execute_result"
    }
   ],
   "source": [
    "NNP_sortedTargets[:20]"
   ]
  },
  {
   "cell_type": "markdown",
   "metadata": {},
   "source": [
    "**Comment**:\n",
    "1. Taking the lower version of words seem to amplify the difficulty of interpretation, but I guess the frequently occurred \"la\" is actually \"LA\". This is actually interesting, as identifying the place LA is quite associated with misogyny.\n",
    "2. Similarly, we can also notice the \"india\" below."
   ]
  },
  {
   "cell_type": "markdown",
   "metadata": {},
   "source": [
    "#### (3) \"JJ\""
   ]
  },
  {
   "cell_type": "code",
   "execution_count": 226,
   "metadata": {},
   "outputs": [],
   "source": [
    "JJ_sortedTargets = POS_target_tweets('JJ')"
   ]
  },
  {
   "cell_type": "code",
   "execution_count": 227,
   "metadata": {},
   "outputs": [
    {
     "data": {
      "text/plain": [
       "[('sexual', 328),\n",
       " ('misandry', 195),\n",
       " ('marital', 118),\n",
       " ('other', 117),\n",
       " ('same', 106),\n",
       " ('bad', 94),\n",
       " ('good', 81),\n",
       " ('right', 80),\n",
       " ('social', 72),\n",
       " ('many', 63),\n",
       " ('criminal', 62),\n",
       " ('own', 56),\n",
       " ('stupid', 55),\n",
       " ('little', 53),\n",
       " ('real', 53),\n",
       " ('extra', 52),\n",
       " ('fr', 51),\n",
       " ('black', 46),\n",
       " ('wrong', 45),\n",
       " ('new', 44)]"
      ]
     },
     "execution_count": 227,
     "metadata": {},
     "output_type": "execute_result"
    }
   ],
   "source": [
    "JJ_sortedTargets[:20]"
   ]
  },
  {
   "cell_type": "markdown",
   "metadata": {},
   "source": [
    "**Comment**:\n",
    "Same as what we've seen in the word cloud, the most frequent adjectives contain a lot of value judgements: 'bad', 'good', 'criminal', 'wrong'."
   ]
  },
  {
   "cell_type": "markdown",
   "metadata": {},
   "source": [
    "### Task 3: Conditional associations"
   ]
  },
  {
   "cell_type": "code",
   "execution_count": 229,
   "metadata": {},
   "outputs": [
    {
     "name": "stdout",
     "output_type": "stream",
     "text": [
      "{'workplace', 'auditory', 'personal', 'retaliatory', 'abusive', 'constant', 'daily', 'horrific', 'much', 'online', 'pictorial', 'ableist', 'financial', 'antisemitic', 'def', 'racial', 'past', 'blatant', 'unjustified', 'nanahaniy', 'public', 'deliberate', 'serious', 'twsexual', 'actual', 'such', 'performative', 'verbal', 'provocative', 'travestied', 'bureaucratic', 'physical', 'hrm', 'outright', 'aggravate', 'sexual', 'thst', 'presidential', 'psychotic', 'own', 'respective', 'metaverse', 'muslim', 'mental', 'ongoing', 'vicious', 'fucking', 'continual', 'inverse', 'shitty', 'insane', 'straight', 'childish', 'inconsiderate', 'targeted', 'stylishyoshi', 'petty', 'high', 'racist', 'other', 'wrong', 'uganda', 'organized', 'digital', 'electronic', 'dangerous'}\n"
     ]
    }
   ],
   "source": [
    "NTarget = 'JJ'\n",
    "Word = 'harassment'\n",
    "NResults = set()\n",
    "for entry in tweets_df['normalized_tokens_POS']:\n",
    "    for (ent1, kind1),(ent2,kind2) in zip(entry[:-1], entry[1:]):\n",
    "        if (kind1,ent2.lower())==(NTarget,Word):\n",
    "            NResults.add(ent1)\n",
    "        else:\n",
    "            continue\n",
    "\n",
    "print(NResults)     "
   ]
  },
  {
   "cell_type": "markdown",
   "metadata": {},
   "source": [
    "This is very interesting. We see words indicating the situation ('workplace','personal','public','physical'), extend ('constant','much','thst','metaverse','continual','inconsiderate'), reflection of the causes ('ableist','performative'), racial-related ('ratial'), method ('organized')."
   ]
  },
  {
   "cell_type": "markdown",
   "metadata": {},
   "source": [
    "----------------------"
   ]
  },
  {
   "cell_type": "markdown",
   "metadata": {},
   "source": [
    "# Collocations"
   ]
  },
  {
   "cell_type": "markdown",
   "metadata": {},
   "source": [
    "As illustrated above, we might want to find significant bigrams (two-word phrases), trigrams (three-word phrases), n-grams (*n*-word phrases) or skip-grams (noncontinguous 'phrases' with skip-length *n*). \n",
    "\n",
    "We will begin with the [`nltk.collocations.BigramCollocationFinder`](http://www.nltk.org/api/nltk.html?highlight=bigramcollocationfinder#nltk.collocations.BigramCollocationFinder) class, which can be given raw lists of strings with the `from_words()` method. By default it only looks at continuous bigrams but there is an option (`window_size`) to allow skip-grams."
   ]
  },
  {
   "cell_type": "code",
   "execution_count": 230,
   "metadata": {},
   "outputs": [
    {
     "name": "stdout",
     "output_type": "stream",
     "text": [
      "There are 1964 bigrams in the finder\n"
     ]
    }
   ],
   "source": [
    "whBigrams = nltk.collocations.BigramCollocationFinder.from_words(whReleases['normalized_tokens'].sum())\n",
    "print(\"There are {} bigrams in the finder\".format(whBigrams.N))"
   ]
  },
  {
   "cell_type": "markdown",
   "metadata": {},
   "source": [
    "To compare the bigrams we need to tell nltk what our score function is. Initially, we will look at the raw counts."
   ]
  },
  {
   "cell_type": "code",
   "execution_count": 231,
   "metadata": {},
   "outputs": [
    {
     "name": "stdout",
     "output_type": "stream",
     "text": [
      "[('president', 'bush'), ('rhode', 'island'), ('sheldon', 'whitehouse'), ('stem', 'cell'), ('whitehouse', 'd'), ('d', 'r.i'), ('bush', 'administration'), ('u.s', 'senator'), ('whitehouse', 'say'), ('american', 'people')]\n"
     ]
    }
   ],
   "source": [
    "def bigramScoring(count, wordsTuple, total):\n",
    "    return count\n",
    "\n",
    "print(whBigrams.nbest(bigramScoring, 10))"
   ]
  },
  {
   "cell_type": "markdown",
   "metadata": {},
   "source": [
    "One note about how `BigramCollocationFinder` works. It doesn't use the strings internally."
   ]
  },
  {
   "cell_type": "code",
   "execution_count": 232,
   "metadata": {},
   "outputs": [
    {
     "name": "stdout",
     "output_type": "stream",
     "text": [
      "The first word is:  28, The second word is: 31\n",
      "The first word is:  20, The second word is: 17\n",
      "The first word is:  12, The second word is: 12\n",
      "The first word is:  12, The second word is: 40\n",
      "The first word is:  40, The second word is: 17\n",
      "The first word is:  17, The second word is: 10\n",
      "The first word is:  40, The second word is: 17\n",
      "The first word is:  13, The second word is: 13\n",
      "The first word is:  31, The second word is: 11\n",
      "The first word is:  9, The second word is: 24\n"
     ]
    }
   ],
   "source": [
    "birgramScores = []\n",
    "\n",
    "def bigramPrinting(count, wordsTuple, total):\n",
    "    global birgramScores\n",
    "    birgramScores.append(\"The first word is:  {}, The second word is: {}\".format(*wordsTuple))\n",
    "    #Returns None so all the tuples are considered to have the same rank\n",
    "\n",
    "whBigrams.nbest(bigramPrinting, 10)\n",
    "print('\\n'.join(birgramScores[:10]))"
   ]
  },
  {
   "cell_type": "markdown",
   "metadata": {},
   "source": [
    "The words are each given numeric IDs and there is a dictionary that maps the IDs to the words they represent. This is a common performance optimization.\n",
    "\n",
    "Two words can appear together by chance. Recall from  Manning and Schütze's textbook that a t-value can be computed for each bigram to see how significant the association is. You may also want to try computing the $\\chi^2$, likelihood ratio, and pointwise mutual information statistics. "
   ]
  },
  {
   "cell_type": "code",
   "execution_count": 233,
   "metadata": {},
   "outputs": [
    {
     "data": {
      "text/plain": [
       "[(('rhode', 'island'), 178.42791632631025),\n",
       " (('stem', 'cell'), 146.27449459815534),\n",
       " (('president', 'bush'), 126.23062149808423),\n",
       " (('sheldon', 'whitehouse'), 97.40535043376386),\n",
       " (('d', 'r.i'), 84.89634183337617),\n",
       " (('united', 'states'), 81.47339960284599),\n",
       " (('whitehouse', 'd'), 57.74744623651276),\n",
       " (('u.s', 'senator'), 57.03786703770191),\n",
       " (('senator', 'sheldon'), 46.93608358543005),\n",
       " (('jack', 'reed'), 46.47304595760241),\n",
       " (('american', 'people'), 45.62466065629863),\n",
       " (('bush', 'administration'), 45.4509557751863),\n",
       " (('honor', 'society'), 44.900172381728815),\n",
       " (('bring', 'troop'), 43.07951375003984),\n",
       " (('cell', 'research'), 41.08298559892974),\n",
       " (('d', 'ri'), 39.013185331609264),\n",
       " (('potential', 'closing'), 38.17005571163625),\n",
       " (('youth', 'program'), 38.17005571163625),\n",
       " (('troop', 'home'), 36.666015832295386),\n",
       " (('come', 'home'), 36.52029777577777),\n",
       " (('epw', 'committee'), 34.315160571201105),\n",
       " (('whitehouse', 'say'), 33.09869922194955),\n",
       " (('budget', 'resolution'), 32.08678784585971),\n",
       " (('district', 'columbia'), 31.556327881857438),\n",
       " (('greenhouse', 'gas'), 31.556327881857438),\n",
       " (('humpty', 'dumpty'), 31.556327881857438),\n",
       " (('prime', 'minister'), 31.556327881857438),\n",
       " (('weaver', 'cove'), 31.556327881857438),\n",
       " (('change', 'course'), 31.444022758433917),\n",
       " (('send', 'clear'), 31.444022758433917),\n",
       " (('new', 'direction'), 30.35193688607352),\n",
       " (('senate', 'youth'), 29.888099675583184),\n",
       " (('rhode', 'islander'), 27.991808869489184),\n",
       " (('enhancement', 'act'), 27.73724287208856),\n",
       " (('harm', 'way'), 27.73724287208856),\n",
       " (('interest', 'payment'), 27.73724287208856),\n",
       " (('million', 'americans'), 27.73724287208856),\n",
       " (('sen', 'whitehouse'), 27.35771561959485),\n",
       " (('foregone', 'surplus'), 26.01115043737788),\n",
       " (('direction', 'iraq'), 24.987906473769613)]"
      ]
     },
     "execution_count": 233,
     "metadata": {},
     "output_type": "execute_result"
    }
   ],
   "source": [
    "bigram_measures = nltk.collocations.BigramAssocMeasures()\n",
    "whBigrams.score_ngrams(bigram_measures.likelihood_ratio)[:40]\n",
    "# other options include student_t, chi_sq, likelihood_ratio, pmi"
   ]
  },
  {
   "cell_type": "markdown",
   "metadata": {},
   "source": [
    "There are a few other available measures"
   ]
  },
  {
   "cell_type": "code",
   "execution_count": 234,
   "metadata": {},
   "outputs": [
    {
     "data": {
      "text/plain": [
       "['chi_sq',\n",
       " 'dice',\n",
       " 'fisher',\n",
       " 'jaccard',\n",
       " 'likelihood_ratio',\n",
       " 'mi_like',\n",
       " 'phi_sq',\n",
       " 'pmi',\n",
       " 'poisson_stirling',\n",
       " 'raw_freq',\n",
       " 'student_t']"
      ]
     },
     "execution_count": 234,
     "metadata": {},
     "output_type": "execute_result"
    }
   ],
   "source": [
    "[s for s in dir(bigram_measures) if s[0] != '_']"
   ]
  },
  {
   "cell_type": "markdown",
   "metadata": {},
   "source": [
    "We can also look at trigrams"
   ]
  },
  {
   "cell_type": "code",
   "execution_count": 235,
   "metadata": {},
   "outputs": [
    {
     "data": {
      "text/plain": [
       "[(('sheldon', 'whitehouse', 'd'), 3.1616086893217816),\n",
       " (('whitehouse', 'd', 'r.i'), 2.6450850001523705),\n",
       " (('bring', 'troop', 'home'), 2.449192549827382),\n",
       " (('senator', 'sheldon', 'whitehouse'), 2.448829313992519),\n",
       " (('stem', 'cell', 'research'), 2.235917719697493),\n",
       " (('u.s', 'senator', 'sheldon'), 2.235832851864714),\n",
       " (('senate', 'youth', 'program'), 1.7320171301402933),\n",
       " (('united', 'states', 'senator'), 1.7319807585174225),\n",
       " (('jack', 'reed', 'd'), 1.7319693830304341),\n",
       " (('new', 'direction', 'iraq'), 1.7318496410621351),\n",
       " (('rhode', 'island', 'state'), 1.731694575213188),\n",
       " (('whitehouse', 'd', 'ri'), 1.731643684876661),\n",
       " (('sen', 'sheldon', 'whitehouse'), 1.731404200940063),\n",
       " (('reconsider', 'potential', 'closing'), 1.4142080628720362),\n",
       " (('responsibility', 'security', 'governance'), 1.4142047631714012),\n",
       " (('$', 'foregone', 'surplus'), 1.4142018301041699),\n",
       " (('v.', 'epa', 'decide'), 1.4142018301041699),\n",
       " (('cell', 'enhancement', 'act'), 1.4142003635705542),\n",
       " (('select', 'committee', 'intelligence'), 1.4142003635705542),\n",
       " (('send', 'clear', 'message'), 1.4141998136204483)]"
      ]
     },
     "execution_count": 235,
     "metadata": {},
     "output_type": "execute_result"
    }
   ],
   "source": [
    "trigram_measures = nltk.collocations.TrigramAssocMeasures()\n",
    "whTrigrams = nltk.collocations.TrigramCollocationFinder.from_words(whReleases['normalized_tokens'].sum())\n",
    "whTrigrams.score_ngrams(trigram_measures.student_t)[:20]"
   ]
  },
  {
   "cell_type": "markdown",
   "metadata": {},
   "source": [
    "Or n-grams (for any number n)"
   ]
  },
  {
   "cell_type": "code",
   "execution_count": 236,
   "metadata": {},
   "outputs": [
    {
     "name": "stdout",
     "output_type": "stream",
     "text": [
      "{('sen', 'sheldon', 'whitehouse', 'd'): 2, ('sheldon', 'whitehouse', 'd', 'r.i'): 7, ('stem', 'cell', 'research', 'whitehouse'): 2, ('stem', 'cell', 'enhancement', 'act'): 2, ('begin', 'bring', 'troop', 'home'): 2, ('bring', 'troop', 'home', 'iraq'): 2, ('u.s', 'senator', 'sheldon', 'whitehouse'): 5, ('senator', 'sheldon', 'whitehouse', 'd'): 5, ('sheldon', 'whitehouse', 'd', 'ri'): 3, ('whitehouse', 'd', 'ri', 'say'): 2, ('d', 'ri', 'say', 'today'): 2, ('member', 'senate', 'select', 'committee'): 2, ('senate', 'select', 'committee', 'intelligence'): 2, ('california', 'rhode', 'island', 'state'): 2, ('u.s', 'senator', 'jack', 'reed'): 2, ('senator', 'jack', 'reed', 'd'): 2, ('jack', 'reed', 'd', 'r.i'): 2, ('reed', 'd', 'r.i', 'sheldon'): 2, ('d', 'r.i', 'sheldon', 'whitehouse'): 2, ('r.i', 'sheldon', 'whitehouse', 'd'): 2, ('iraq', 'sen', 'sheldon', 'whitehouse'): 2, ('portuguese', 'american', 'citizen', 'rhode'): 2, ('american', 'citizen', 'rhode', 'island'): 2}\n"
     ]
    }
   ],
   "source": [
    "Ngrams = nltk.ngrams(whReleases['normalized_tokens'].sum(), 4)\n",
    "Counts = {}\n",
    "for ngram in list(Ngrams):\n",
    "    if ngram in Counts.keys():\n",
    "        Counts[ngram] += 1\n",
    "    else:\n",
    "        Counts[ngram] = 1\n",
    "Filtered = {}\n",
    "for key in Counts.keys():\n",
    "    if Counts[key] < 2:\n",
    "        pass\n",
    "    else:\n",
    "        Filtered[key] = Counts[key]\n",
    "print(Filtered)"
   ]
  },
  {
   "cell_type": "markdown",
   "metadata": {},
   "source": [
    "Gensim is another important python text processing package which allows us to use collocations, among other cool methods (which we will explore later weeks)."
   ]
  },
  {
   "cell_type": "code",
   "execution_count": 237,
   "metadata": {},
   "outputs": [],
   "source": [
    "import gensim"
   ]
  },
  {
   "cell_type": "code",
   "execution_count": 238,
   "metadata": {},
   "outputs": [],
   "source": [
    "bigram = gensim.models.Phrases(whReleases['normalized_tokens'])"
   ]
  },
  {
   "cell_type": "code",
   "execution_count": 239,
   "metadata": {},
   "outputs": [],
   "source": [
    "texts = [bigram[line] for line in whReleases['normalized_tokens']]"
   ]
  },
  {
   "cell_type": "code",
   "execution_count": 240,
   "metadata": {},
   "outputs": [
    {
     "data": {
      "text/plain": [
       "['sen',\n",
       " 'whitehouse',\n",
       " 'share',\n",
       " 'westerly',\n",
       " 'girl',\n",
       " 'story',\n",
       " 'push',\n",
       " 'stem_cell',\n",
       " 'research',\n",
       " 'share',\n",
       " 'story',\n",
       " 'lila',\n",
       " 'barber',\n",
       " 'year',\n",
       " 'old',\n",
       " 'girl',\n",
       " 'westerly',\n",
       " 'sen',\n",
       " 'sheldon_whitehouse',\n",
       " 'd_r.i',\n",
       " 'tuesday',\n",
       " 'april',\n",
       " 'illustrate',\n",
       " 'hope',\n",
       " 'stem_cell',\n",
       " 'research',\n",
       " 'offer',\n",
       " 'speech',\n",
       " 'senate',\n",
       " 'floor',\n",
       " 'favor',\n",
       " 'legislation',\n",
       " 'expand',\n",
       " 'federal',\n",
       " 'funding',\n",
       " 'stem_cell',\n",
       " 'research',\n",
       " 'whitehouse',\n",
       " 'meet',\n",
       " 'lila',\n",
       " 'week',\n",
       " 'ago',\n",
       " 'diagnose',\n",
       " 'year',\n",
       " 'ago',\n",
       " 'osteosarcoma',\n",
       " 'cancerous',\n",
       " 'bone',\n",
       " 'condition',\n",
       " 'year',\n",
       " 'undergo',\n",
       " 'cadaver',\n",
       " 'bone',\n",
       " 'transplant',\n",
       " 'surgery',\n",
       " 'procedure',\n",
       " 'save',\n",
       " 'leg',\n",
       " 'help',\n",
       " 'remain',\n",
       " 'cancer',\n",
       " 'free',\n",
       " 'transplanted',\n",
       " 'tissue',\n",
       " 'grow',\n",
       " 'likely',\n",
       " 'break',\n",
       " 'time',\n",
       " 'stem_cell',\n",
       " 'research',\n",
       " 'whitehouse',\n",
       " 'explain',\n",
       " 'vastly',\n",
       " 'improve',\n",
       " 'care',\n",
       " 'patient',\n",
       " 'like',\n",
       " 'lila',\n",
       " 'allow',\n",
       " 'surgeon',\n",
       " 'enhance',\n",
       " 'transplant',\n",
       " 'patient',\n",
       " 'stem_cell',\n",
       " 'replace',\n",
       " 'lose',\n",
       " 'bone',\n",
       " 'cartilage',\n",
       " 'grow',\n",
       " 'entirely',\n",
       " 'new',\n",
       " 'replacement',\n",
       " 'bone',\n",
       " 'joint',\n",
       " 'stem_cell',\n",
       " 'research',\n",
       " 'give',\n",
       " 'hope',\n",
       " 'lila',\n",
       " 'million',\n",
       " 'americans',\n",
       " 'challenge',\n",
       " 'osteosarcoma',\n",
       " 'diabetes',\n",
       " 'heart',\n",
       " 'disease',\n",
       " 'alzheimer',\n",
       " 'parkinson',\n",
       " 'spinal',\n",
       " 'cord',\n",
       " 'injury',\n",
       " 'stroke',\n",
       " 'myriad',\n",
       " 'disease',\n",
       " 'condition',\n",
       " 'research',\n",
       " 'help',\n",
       " 'cure',\n",
       " 'whitehouse',\n",
       " 'say',\n",
       " 'whitehouse',\n",
       " 'praise',\n",
       " 'effort',\n",
       " 'rhode_island',\n",
       " 'congressman',\n",
       " 'jim',\n",
       " 'langevin',\n",
       " 'd',\n",
       " 'champion',\n",
       " 'stem_cell',\n",
       " 'legislation',\n",
       " 'nationally',\n",
       " 'rhode_island',\n",
       " 'rhode_island',\n",
       " 'lieutenant',\n",
       " 'governor',\n",
       " 'elizabeth',\n",
       " 'roberts',\n",
       " 'robert',\n",
       " 'today',\n",
       " 'release',\n",
       " 'statewide',\n",
       " 'report',\n",
       " 'stem_cell',\n",
       " 'step',\n",
       " 'develop',\n",
       " 'comprehensive',\n",
       " 'plan',\n",
       " 'research',\n",
       " 'initiative',\n",
       " 'rhode_island',\n",
       " 'stem_cell',\n",
       " 'enhancement',\n",
       " 'act',\n",
       " 's.',\n",
       " 'expand',\n",
       " 'number',\n",
       " 'human',\n",
       " 'embryonic',\n",
       " 'stem_cell',\n",
       " 'eligible',\n",
       " 'federally',\n",
       " 'fund',\n",
       " 'research',\n",
       " 'arbitrary',\n",
       " 'limit',\n",
       " 'impose',\n",
       " 'president_bush',\n",
       " 'august',\n",
       " 'bill',\n",
       " 'direct',\n",
       " 'department',\n",
       " 'health',\n",
       " 'human',\n",
       " 'service',\n",
       " 'hhs',\n",
       " 'conduct',\n",
       " 'research',\n",
       " 'stem_cell',\n",
       " 'derive',\n",
       " 'embryo',\n",
       " 'currently',\n",
       " 'store',\n",
       " 'fertility',\n",
       " 'clinic',\n",
       " 'destroy',\n",
       " 'year',\n",
       " 'senator',\n",
       " 'vote',\n",
       " 'pass',\n",
       " 'stem_cell',\n",
       " 'enhancement',\n",
       " 'act',\n",
       " 'h.r',\n",
       " 'legislation',\n",
       " 'similar',\n",
       " 's.',\n",
       " 'president_bush',\n",
       " 'issue',\n",
       " 'veto',\n",
       " 'presidency',\n",
       " 'block',\n",
       " 'bipartisan',\n",
       " 'measure']"
      ]
     },
     "execution_count": 240,
     "metadata": {},
     "output_type": "execute_result"
    }
   ],
   "source": [
    "texts[0]"
   ]
  },
  {
   "cell_type": "markdown",
   "metadata": {},
   "source": [
    "--------"
   ]
  },
  {
   "cell_type": "markdown",
   "metadata": {},
   "source": [
    "## <font color=\"red\">*Exercise 4*</font>\n",
    "\n",
    "<font color=\"red\">Construct cells immediately below this that identify statistically significant bigrams, trigrams, quadgrams, higher-order *n*grams and skipgrams. Explore whether these collocations are idiomatic and so irreducible to the semantic sum of their component words. You can do this by examination of conditional frequencies (e.g., what else is 'united' besides the 'United States'). If these phrases are idiomatic, what do they suggest about the culture of the world producing them?\n",
    "\n",
    "<font color=\"red\">**Stretch**: In Manning and Schütze's textbook, there Section 5.3.2 explores how to use the *t*-test to find words whose co-occurance patterns best distinguish two words. Implement that and use it to explore phrases in your corpus. For instance, you could tell what words come after \"America\" much more often than after \"Iraq\"?</font> "
   ]
  },
  {
   "cell_type": "code",
   "execution_count": 256,
   "metadata": {},
   "outputs": [
    {
     "name": "stdout",
     "output_type": "stream",
     "text": [
      "[('sexual', 'harassment'), ('rape', 'victim'), ('marital', 'rape'), ('target', 'harassment'), ('right', 'equality')]\n"
     ]
    }
   ],
   "source": [
    "tBigrams = nltk.collocations.BigramCollocationFinder.from_words(tweets_df['normalized_tokens'].sum())\n",
    "print(tBigrams.nbest(bigramScoring, 5))"
   ]
  },
  {
   "cell_type": "markdown",
   "metadata": {},
   "source": [
    "The collocations are all plausibly idiomatic. My tweets collection successfully pictures the misogyny of our time, all put it in another way, the realization and reflection of misogyny of our time. This is why \"harassment\" is frequently modified by \"sexual\", and \"rape\" is frequently modified by \"marital\". ('rape', 'victim') and ('target', 'harassment') occur may has something to do with my choice of searching keywords. And \"right for equality\", great! Another theme of our time!"
   ]
  },
  {
   "cell_type": "code",
   "execution_count": 243,
   "metadata": {},
   "outputs": [
    {
     "data": {
      "text/plain": [
       "[(('rape', 'victim', 'justice'), 7.279382987475852),\n",
       " (('fr', 'right', 'equality'), 7.2110658677142325),\n",
       " (('bail', 'marriage', 'destabilize'), 7.141420424981329),\n",
       " (('head', 'garbage', 'skew'), 7.14141780711305),\n",
       " (('allow', 'adultery', 'decriminalise'), 7.141416183887169)]"
      ]
     },
     "execution_count": 243,
     "metadata": {},
     "output_type": "execute_result"
    }
   ],
   "source": [
    "trigram_measures = nltk.collocations.TrigramAssocMeasures()\n",
    "tTrigrams = nltk.collocations.TrigramCollocationFinder.from_words(tweets_df['normalized_tokens'].sum())\n",
    "tTrigrams.score_ngrams(trigram_measures.student_t)[:5]"
   ]
  },
  {
   "cell_type": "markdown",
   "metadata": {},
   "source": [
    "The words in each of the trigram tuple are highly relevant, but I would say that they are not as plausibly idiomatic as the bigram tuples. In particular, I personally can't see why \"head\", \"garbage\" and \"skew\" occurs together.\n",
    "\n",
    "Out of curiosity, I searched in Twitter, and it occurs that a sentence containing \"head\", \"garbage\" and \"skew\" looks like:\n",
    "> pundits/talking heads that skew heavily to either side are still total garbage."
   ]
  },
  {
   "cell_type": "code",
   "execution_count": 252,
   "metadata": {},
   "outputs": [
    {
     "name": "stdout",
     "output_type": "stream",
     "text": [
      "{('extra', 'marital', 'affair', 'criminal'): 51, ('marital', 'affair', 'criminal', 'live'): 51, ('affair', 'criminal', 'live', 'allow'): 51, ('criminal', 'live', 'allow', 'adultery'): 51, ('live', 'allow', 'adultery', 'decriminalise'): 51, ('allow', 'adultery', 'decriminalise', 'rape'): 51, ('adultery', 'decriminalise', 'rape', 'victim'): 51, ('decriminalise', 'rape', 'victim', 'justice'): 51, ('rape', 'victim', 'justice', 'delay'): 51, ('victim', 'justice', 'delay', 'rapist'): 51, ('justice', 'delay', 'rapist', 'get'): 51, ('delay', 'rapist', 'get', 'bail'): 51, ('rapist', 'get', 'bail', 'marriage'): 51, ('get', 'bail', 'marriage', 'destabilize'): 51, ('bail', 'marriage', 'destabilize', 'marital'): 51, ('marriage', 'destabilize', 'marital', 'rape'): 51, ('destabilize', 'marital', 'rape', 'way'): 51, ('marital', 'rape', 'way', 'head'): 51, ('rape', 'way', 'head', 'garbage'): 51, ('way', 'head', 'garbage', 'skew'): 51, ('head', 'garbage', 'skew', 'law'): 51, ('garbage', 'skew', 'law', 'social'): 51, ('skew', 'law', 'social', 'destruction'): 51, ('law', 'social', 'destruction', 'fr'): 51, ('social', 'destruction', 'fr', 'right'): 51, ('destruction', 'fr', 'right', 'equality'): 51}\n"
     ]
    }
   ],
   "source": [
    "Ngrams = nltk.ngrams(tweets_df['normalized_tokens'].sum(), 4)\n",
    "Counts = {}\n",
    "for ngram in list(Ngrams):\n",
    "    if ngram in Counts.keys():\n",
    "        Counts[ngram] += 1\n",
    "    else:\n",
    "        Counts[ngram] = 1\n",
    "Filtered = {}\n",
    "for key in Counts.keys():\n",
    "    if Counts[key] < 50:\n",
    "        pass\n",
    "    else:\n",
    "        Filtered[key] = Counts[key]\n",
    "print(Filtered)"
   ]
  },
  {
   "cell_type": "markdown",
   "metadata": {},
   "source": [
    "It's abnormal! Why these gradgrams all occur exactly 51 times! I guess there's a quote being used in multiple tweets."
   ]
  },
  {
   "cell_type": "code",
   "execution_count": 254,
   "metadata": {},
   "outputs": [
    {
     "name": "stdout",
     "output_type": "stream",
     "text": [
      "{('extra', 'marital', 'affair', 'criminal', 'live'): 51, ('marital', 'affair', 'criminal', 'live', 'allow'): 51, ('affair', 'criminal', 'live', 'allow', 'adultery'): 51, ('criminal', 'live', 'allow', 'adultery', 'decriminalise'): 51, ('live', 'allow', 'adultery', 'decriminalise', 'rape'): 51, ('allow', 'adultery', 'decriminalise', 'rape', 'victim'): 51, ('adultery', 'decriminalise', 'rape', 'victim', 'justice'): 51, ('decriminalise', 'rape', 'victim', 'justice', 'delay'): 51, ('rape', 'victim', 'justice', 'delay', 'rapist'): 51, ('victim', 'justice', 'delay', 'rapist', 'get'): 51, ('justice', 'delay', 'rapist', 'get', 'bail'): 51, ('delay', 'rapist', 'get', 'bail', 'marriage'): 51, ('rapist', 'get', 'bail', 'marriage', 'destabilize'): 51, ('get', 'bail', 'marriage', 'destabilize', 'marital'): 51, ('bail', 'marriage', 'destabilize', 'marital', 'rape'): 51, ('marriage', 'destabilize', 'marital', 'rape', 'way'): 51, ('destabilize', 'marital', 'rape', 'way', 'head'): 51, ('marital', 'rape', 'way', 'head', 'garbage'): 51, ('rape', 'way', 'head', 'garbage', 'skew'): 51, ('way', 'head', 'garbage', 'skew', 'law'): 51, ('head', 'garbage', 'skew', 'law', 'social'): 51, ('garbage', 'skew', 'law', 'social', 'destruction'): 51, ('skew', 'law', 'social', 'destruction', 'fr'): 51, ('law', 'social', 'destruction', 'fr', 'right'): 51, ('social', 'destruction', 'fr', 'right', 'equality'): 51}\n"
     ]
    }
   ],
   "source": [
    "Ngrams = nltk.ngrams(tweets_df['normalized_tokens'].sum(), 5)\n",
    "Counts = {}\n",
    "for ngram in list(Ngrams):\n",
    "    if ngram in Counts.keys():\n",
    "        Counts[ngram] += 1\n",
    "    else:\n",
    "        Counts[ngram] = 1\n",
    "Filtered = {}\n",
    "for key in Counts.keys():\n",
    "    if Counts[key] < 50:\n",
    "        pass\n",
    "    else:\n",
    "        Filtered[key] = Counts[key]\n",
    "print(Filtered)"
   ]
  },
  {
   "cell_type": "markdown",
   "metadata": {},
   "source": [
    "Again, the 51 curse..."
   ]
  },
  {
   "cell_type": "markdown",
   "metadata": {},
   "source": [
    "--------"
   ]
  },
  {
   "cell_type": "markdown",
   "metadata": {},
   "source": [
    "# Named-Entity Recognition\n",
    "\n",
    "Named Entity Recognition (NER) is also a classification task, which identifies named objects. \n",
    "Like every other part of the pipeline, spaCy also tags words with their tagged entity (https://spacy.io/api/entityrecognizer). You can see the full capacity of what spaCy does by checking out: https://spacy.io/usage/linguistic-features.\n",
    "\n",
    "For training the identification of such entities, spaCy uses a deep learning model."
   ]
  },
  {
   "cell_type": "markdown",
   "metadata": {},
   "source": [
    "Let's try it on a basic sentence:"
   ]
  },
  {
   "cell_type": "code",
   "execution_count": 257,
   "metadata": {},
   "outputs": [],
   "source": [
    "sent = nlp(u\"Tom went to IKEA to get some of those delicious Swedish meatballs.\")"
   ]
  },
  {
   "cell_type": "code",
   "execution_count": 258,
   "metadata": {},
   "outputs": [
    {
     "name": "stdout",
     "output_type": "stream",
     "text": [
      "Tom PERSON\n",
      "went \n",
      "to \n",
      "IKEA \n",
      "to \n",
      "get \n",
      "some \n",
      "of \n",
      "those \n",
      "delicious \n",
      "Swedish NORP\n",
      "meatballs \n",
      ". \n"
     ]
    }
   ],
   "source": [
    "for token in sent:\n",
    "    print(token.text, token.ent_type_)"
   ]
  },
  {
   "cell_type": "markdown",
   "metadata": {},
   "source": [
    "For only finding ents-"
   ]
  },
  {
   "cell_type": "code",
   "execution_count": 259,
   "metadata": {},
   "outputs": [
    {
     "name": "stdout",
     "output_type": "stream",
     "text": [
      "Tom PERSON\n",
      "Swedish NORP\n"
     ]
    }
   ],
   "source": [
    "for ent in sent.ents:\n",
    "    print(ent.text, ent.label_)"
   ]
  },
  {
   "cell_type": "code",
   "execution_count": 260,
   "metadata": {},
   "outputs": [],
   "source": [
    "def tag_sents_ner(sentences):\n",
    "    \"\"\"\n",
    "    function which replicates NLTK ner tagging on sentences.\n",
    "    \"\"\"\n",
    "    new_sents = []\n",
    "    for sentence in sentences:\n",
    "        new_sent = ' '.join(sentence)\n",
    "        new_sents.append(new_sent)\n",
    "    final_string = ' '.join(new_sents)\n",
    "    doc = nlp(final_string)\n",
    "    \n",
    "    pos_sents = []\n",
    "    for sent in doc.sents:\n",
    "        pos_sent = []\n",
    "        for ent in sent.ents:\n",
    "            pos_sent.append((ent.text, ent.label_))\n",
    "        pos_sents.append(pos_sent)\n",
    "    \n",
    "    return pos_sents"
   ]
  },
  {
   "cell_type": "markdown",
   "metadata": {},
   "source": [
    "We can also run NER over our entire corpus:"
   ]
  },
  {
   "cell_type": "code",
   "execution_count": 261,
   "metadata": {},
   "outputs": [],
   "source": [
    "redditTopScores['classified_sents'] = redditTopScores['sentences'].apply(lambda x: tag_sents_ner(x))"
   ]
  },
  {
   "cell_type": "code",
   "execution_count": 262,
   "metadata": {},
   "outputs": [
    {
     "data": {
      "text/plain": [
       "9    [[(Last year, DATE), (Help Desk, PERSON)], [(a...\n",
       "8    [[(First, ORDINAL)], [(today, DATE)], [(Citrix...\n",
       "7    [[], [(about a month, DATE), (a few days ago, ...\n",
       "6    [[], [(30,000, CARDINAL), (30,000, CARDINAL), ...\n",
       "5    [[(Helpdesk, PERSON), (UK, GPE)], [], [], [], ...\n",
       "4    [[], [(Engineer, PERSON), (10 minutes later, T...\n",
       "3    [[(hours, TIME), (Desk Caller, PERSON)], [], [...\n",
       "2    [[(1](http://www.reddit.com, CARDINAL), (comme...\n",
       "1    [[], [], [], [], [], [], [(today, DATE)], [], ...\n",
       "0    [[(recently past few years, DATE)], [], [], [(...\n",
       "Name: classified_sents, dtype: object"
      ]
     },
     "execution_count": 262,
     "metadata": {},
     "output_type": "execute_result"
    }
   ],
   "source": [
    "redditTopScores['classified_sents']"
   ]
  },
  {
   "cell_type": "markdown",
   "metadata": {},
   "source": [
    "Find the most common entities (which are, of course, boring):"
   ]
  },
  {
   "cell_type": "code",
   "execution_count": 263,
   "metadata": {},
   "outputs": [
    {
     "data": {
      "text/plain": [
       "[('Jack', 14),\n",
       " ('today', 6),\n",
       " ('9', 4),\n",
       " ('Boss', 4),\n",
       " ('Smith', 4),\n",
       " ('4', 3),\n",
       " ('one', 3),\n",
       " ('second', 3),\n",
       " ('30,000', 3),\n",
       " ('Google Bing', 3)]"
      ]
     },
     "execution_count": 263,
     "metadata": {},
     "output_type": "execute_result"
    }
   ],
   "source": [
    "entityCounts = {}\n",
    "for entry in redditTopScores['classified_sents']:\n",
    "    for sentence in entry:\n",
    "        for ent, kind in sentence:\n",
    "            if ent in entityCounts:\n",
    "                entityCounts[ent] += 1\n",
    "            else:\n",
    "                entityCounts[ent] = 1\n",
    "sortedEntities = sorted(entityCounts.items(), key = lambda x: x[1], reverse = True)\n",
    "sortedEntities[:10]"
   ]
  },
  {
   "cell_type": "markdown",
   "metadata": {},
   "source": [
    "Or those occurring only twice:"
   ]
  },
  {
   "cell_type": "code",
   "execution_count": 264,
   "metadata": {},
   "outputs": [
    {
     "data": {
      "text/plain": [
       "['two',\n",
       " 'first',\n",
       " '5',\n",
       " '10',\n",
       " 'Edit 2',\n",
       " '30k',\n",
       " '20',\n",
       " 'hours',\n",
       " 'Caller',\n",
       " 'last week',\n",
       " 'three',\n",
       " 'last Thursday']"
      ]
     },
     "execution_count": 264,
     "metadata": {},
     "output_type": "execute_result"
    }
   ],
   "source": [
    "[x[0] for x in sortedEntities if x[1] == 2]"
   ]
  },
  {
   "cell_type": "markdown",
   "metadata": {},
   "source": [
    "We could also list the most common \"non-objects\". (We note that we're not graphing these because there are so few here.)"
   ]
  },
  {
   "cell_type": "code",
   "execution_count": 265,
   "metadata": {},
   "outputs": [
    {
     "data": {
      "text/plain": [
       "[('Jack', 14),\n",
       " ('today', 6),\n",
       " ('9', 4),\n",
       " ('Smith', 4),\n",
       " ('4', 3),\n",
       " ('one', 3),\n",
       " ('second', 3),\n",
       " ('30,000', 3),\n",
       " ('two', 2),\n",
       " ('first', 2)]"
      ]
     },
     "execution_count": 265,
     "metadata": {},
     "output_type": "execute_result"
    }
   ],
   "source": [
    "nonObjCounts = {}\n",
    "for entry in redditTopScores['classified_sents']:\n",
    "    for sentence in entry:\n",
    "        for ent, kind in sentence:\n",
    "            if kind == 'ORG':\n",
    "                continue\n",
    "            elif ent in nonObjCounts:\n",
    "                nonObjCounts[ent] += 1\n",
    "            else:\n",
    "                nonObjCounts[ent] = 1\n",
    "sortedNonObj = sorted(nonObjCounts.items(), key = lambda x: x[1], reverse = True)\n",
    "sortedNonObj[:10]"
   ]
  },
  {
   "cell_type": "markdown",
   "metadata": {},
   "source": [
    "What about the Organizations?"
   ]
  },
  {
   "cell_type": "code",
   "execution_count": 266,
   "metadata": {},
   "outputs": [
    {
     "name": "stdout",
     "output_type": "stream",
     "text": [
      "HDD\n",
      "Citrix\n",
      "R. Computer\n",
      "Fair\n",
      "Milestone\n",
      "Bing Search\n",
      "Google Chrome\n",
      "Google Bing\n",
      "Caller\n",
      "Boss\n",
      "Boss\n",
      "Boss\n",
      "Bing\n",
      "Buzzfeed\n",
      "Boss\n"
     ]
    }
   ],
   "source": [
    "OrgCounts = {}\n",
    "for entry in redditTopScores['classified_sents']:\n",
    "    for sentence in entry:\n",
    "        for ent, kind in sentence:\n",
    "            if kind == 'ORG':\n",
    "                print(ent)"
   ]
  },
  {
   "cell_type": "markdown",
   "metadata": {},
   "source": [
    "These, of course, have much smaller counts.\n",
    "\n",
    "In this particular example we didn't find the most interesting entities - you can remedy that in exercise 4!"
   ]
  },
  {
   "cell_type": "markdown",
   "metadata": {},
   "source": [
    "## <font color=\"red\">*Exercise 5*</font>\n",
    "\n",
    "<font color=\"red\">In the cells immediately following, perform NER on a (modest) subset of your corpus of interest. List all of the different kinds of entities tagged? What does their distribution suggest about the focus of your corpus? For a subset of your corpus, tally at least one type of named entity and calculate the Precision, Recall and F-score for the NER classification just performed."
   ]
  },
  {
   "cell_type": "markdown",
   "metadata": {},
   "source": [
    "### Task 1: NER"
   ]
  },
  {
   "cell_type": "code",
   "execution_count": 273,
   "metadata": {},
   "outputs": [],
   "source": [
    "def tag_sents_ner(sentences):\n",
    "    \"\"\"\n",
    "    function which replicates NLTK ner tagging on sentences.\n",
    "    \"\"\"\n",
    "    final_string = ' '.join(sentences)\n",
    "    doc = nlp(final_string)\n",
    "    \n",
    "    pos_sents = []\n",
    "    for sent in doc.sents:\n",
    "        pos_sent = []\n",
    "        for ent in sent.ents:\n",
    "            pos_sent.append((ent.text, ent.label_))\n",
    "        pos_sents.append(pos_sent)\n",
    "    \n",
    "    return pos_sents"
   ]
  },
  {
   "cell_type": "code",
   "execution_count": 275,
   "metadata": {},
   "outputs": [],
   "source": [
    "# Use a small sample of the dataframe to save some time\n",
    "tweets_df_small = tweets_df.sample(frac=0.1)"
   ]
  },
  {
   "cell_type": "code",
   "execution_count": 276,
   "metadata": {},
   "outputs": [],
   "source": [
    "tweets_df_small['classified_sents'] = tweets_df_small['tokenized_content'].apply(tag_sents_ner)"
   ]
  },
  {
   "cell_type": "code",
   "execution_count": 278,
   "metadata": {},
   "outputs": [
    {
     "data": {
      "text/plain": [
       "3125                                   [[]]\n",
       "3926                                   [[]]\n",
       "3731                                   [[]]\n",
       "1990                                   [[]]\n",
       "1045                               [[], []]\n",
       "                       ...                 \n",
       "1928    [[(lyzl lyz, PERSON), (iowa, GPE)]]\n",
       "2276                     [[(13, CARDINAL)]]\n",
       "3379                                   [[]]\n",
       "1747                [[(iamvandal617, ORG)]]\n",
       "472       [[(one, CARDINAL), (ho, PERSON)]]\n",
       "Name: classified_sents, Length: 400, dtype: object"
      ]
     },
     "execution_count": 278,
     "metadata": {},
     "output_type": "execute_result"
    }
   ],
   "source": [
    "tweets_df_small['classified_sents']"
   ]
  },
  {
   "cell_type": "markdown",
   "metadata": {},
   "source": [
    "### Task 2: List all the entities being tagged"
   ]
  },
  {
   "cell_type": "code",
   "execution_count": 281,
   "metadata": {},
   "outputs": [
    {
     "data": {
      "text/plain": [
       "[('2', 13),\n",
       " ('un', 10),\n",
       " ('india', 5),\n",
       " ('one', 5),\n",
       " ('utah', 4),\n",
       " ('216', 4),\n",
       " ('christian', 3),\n",
       " ('hbourj milady_oscar', 3),\n",
       " ('5thgrade', 3),\n",
       " ('1', 3),\n",
       " ('taylor', 2),\n",
       " ('nine', 2),\n",
       " ('three', 2),\n",
       " ('2019', 2),\n",
       " ('yesterday', 2),\n",
       " ('3', 2),\n",
       " ('last week', 2),\n",
       " ('hai koi', 2),\n",
       " ('first', 2),\n",
       " ('14', 2),\n",
       " ('4', 2),\n",
       " ('dans', 2),\n",
       " ('5th', 2),\n",
       " ('2018', 2),\n",
       " ('2022', 2),\n",
       " ('australian', 2),\n",
       " ('20', 2),\n",
       " ('hai ye', 2),\n",
       " ('japanese', 2),\n",
       " ('12', 1),\n",
       " ('markunreadsfm monkey_xdd', 1),\n",
       " ('22 year old', 1),\n",
       " ('two', 1),\n",
       " ('child day', 1),\n",
       " ('nationalgirlchildday', 1),\n",
       " ('johncornyn greg abbott', 1),\n",
       " ('medboardofca', 1),\n",
       " ('117', 1),\n",
       " ('thousands of years', 1),\n",
       " ('5050', 1),\n",
       " ('geoff johns fanboys', 1),\n",
       " ('1900s', 1),\n",
       " ('over a year', 1),\n",
       " ('mexonu', 1),\n",
       " ('16daysofactivism2021', 1),\n",
       " ('artsy_justin', 1),\n",
       " ('adam93452', 1),\n",
       " ('martycohen55 whywouldyou_uk', 1),\n",
       " ('deathto2022', 1),\n",
       " ('hanneyangel mxrevenge1', 1),\n",
       " ('relaxin60', 1),\n",
       " ('fran__jacobs', 1),\n",
       " ('mayanotbfor7da1', 1),\n",
       " ('israel', 1),\n",
       " ('pythonesqueis', 1),\n",
       " ('prezlives2022', 1),\n",
       " ('shewolf792 se_7777777_en', 1),\n",
       " ('mario84281697', 1),\n",
       " ('oclocal_ami skybluern', 1),\n",
       " ('36_global', 1),\n",
       " ('marthalt', 1),\n",
       " ('darnell5958', 1),\n",
       " ('86', 1),\n",
       " ('webster misogyny', 1),\n",
       " ('snapchats', 1),\n",
       " ('2million dollars', 1),\n",
       " ('a few years', 1),\n",
       " ('luisassardo rsf_inter', 1),\n",
       " ('notre pic de mortalit', 1),\n",
       " ('lil wayne', 1),\n",
       " ('5', 1),\n",
       " ('30 days', 1),\n",
       " ('joegreg19', 1),\n",
       " ('1830', 1),\n",
       " ('1833', 1),\n",
       " ('1835', 1),\n",
       " ('4s', 1),\n",
       " ('gazza56721349', 1),\n",
       " ('sbkaufman', 1),\n",
       " ('chockky', 1),\n",
       " ('donald trump', 1),\n",
       " ('yummybunnyy juicygiri misandry', 1),\n",
       " ('emmabarnett', 1),\n",
       " ('sweden', 1),\n",
       " ('a_anderson3_3 jack_royston', 1),\n",
       " ('kristenmeinzer', 1),\n",
       " ('x7gaming91 montyg0 couplehourhapp1', 1),\n",
       " ('nicolechaison', 1),\n",
       " ('gcw', 1),\n",
       " ('mhsantiesteban monerorape milenio', 1),\n",
       " ('el', 1),\n",
       " ('entre tu y yo y tiene', 1),\n",
       " ('suzbbie brokenredheels ludicrous_bitch', 1),\n",
       " ('notlloomer81 grazbruno', 1),\n",
       " ('jacelala', 1),\n",
       " ('era 10x', 1),\n",
       " ('arc bc', 1),\n",
       " ('99', 1),\n",
       " ('eastcoaststoat finlaysongail', 1),\n",
       " ('the days', 1),\n",
       " ('onegirlmelissa laurie penny', 1),\n",
       " ('the 1880s', 1),\n",
       " ('inosukfight bitch bicth', 1),\n",
       " ('aah', 1),\n",
       " ('khristine_julie', 1),\n",
       " ('ayatosdick normalise', 1),\n",
       " ('covid arvindkejriwal', 1),\n",
       " ('12 years', 1),\n",
       " ('7 years', 1),\n",
       " ('st charles', 1),\n",
       " ('15 miles', 1),\n",
       " ('tcburkejr nooo', 1),\n",
       " ('al principio le consegu todo lo', 1),\n",
       " ('darle para', 1),\n",
       " ('sirf', 1),\n",
       " ('ko baantne wala', 1),\n",
       " ('ladki', 1),\n",
       " ('hai piddi', 1),\n",
       " ('ke liye sirf', 1),\n",
       " ('ko nishana', 1),\n",
       " ('fembub', 1),\n",
       " ('quyanaanaana bclj199', 1),\n",
       " ('mightydavros clementine_ford', 1),\n",
       " ('noyaut par des tendances', 1),\n",
       " ('nosungnovia', 1),\n",
       " ('el pene', 1),\n",
       " ('tucker carlson sean', 1),\n",
       " ('hindu muslim', 1),\n",
       " ('article 47 and', 1),\n",
       " ('48', 1),\n",
       " ('bc', 1),\n",
       " ('shilderi', 1),\n",
       " ('247', 1),\n",
       " ('miacarlsonwa', 1),\n",
       " ('pepsi', 1),\n",
       " ('misandry', 1),\n",
       " ('smu', 1),\n",
       " ('his 7th season', 1),\n",
       " ('melo', 1),\n",
       " ('tuer des jeunes de cet ge', 1),\n",
       " ('100', 1),\n",
       " ('lankistermerrin', 1),\n",
       " ('daily', 1),\n",
       " ('moun space veso', 1),\n",
       " ('l pranm', 1),\n",
       " ('vre li pran anba space', 1),\n",
       " ('mikro', 1),\n",
       " ('tombstonedoc jamesfr29299422 carrielbjohnson borisjohnson', 1),\n",
       " ('264', 1),\n",
       " ('68', 1),\n",
       " ('the past 18 years', 1),\n",
       " ('boydmurdoch malescotland', 1),\n",
       " ('jigokkun', 1),\n",
       " ('ethiopian', 1),\n",
       " ('21th century', 1),\n",
       " ('2 years', 1),\n",
       " ('thedailyshow doozy', 1),\n",
       " ('10 years ago', 1),\n",
       " ('anya', 1),\n",
       " ('1dislike', 1),\n",
       " ('willowbyte tankmansteve bubblegum bitch', 1),\n",
       " ('lmergence de nouveaux', 1),\n",
       " ('rebecca john tellshc', 1),\n",
       " ('prison justice', 1),\n",
       " ('865', 1),\n",
       " ('months', 1),\n",
       " ('1021', 1),\n",
       " ('third', 1),\n",
       " ('every 16 minutes', 1),\n",
       " ('201937', 1),\n",
       " ('15 minutes', 1),\n",
       " ('201838', 1),\n",
       " ('100000', 1),\n",
       " ('49', 1),\n",
       " ('less than 52', 1),\n",
       " ('2017fakeunionofindia', 1),\n",
       " ('biden', 1),\n",
       " ('tomorrow', 1),\n",
       " ('the white house', 1),\n",
       " ('ko kyu', 1),\n",
       " ('kep1er', 1),\n",
       " ('naukari nahi milnay', 1),\n",
       " ('kay leya', 1),\n",
       " ('aisa ho', 1),\n",
       " ('baday', 1),\n",
       " ('ko', 1),\n",
       " ('laga de jai', 1),\n",
       " ('hai na jo', 1),\n",
       " ('kay', 1),\n",
       " ('nahi ki', 1),\n",
       " ('1111', 1),\n",
       " ('seum2riemann', 1),\n",
       " ('second', 1),\n",
       " ('boballard13', 1),\n",
       " ('jennie_sc1', 1),\n",
       " ('scouple222', 1),\n",
       " ('south africa', 1),\n",
       " ('african', 1),\n",
       " ('greve_generale bhe', 1),\n",
       " ('de se', 1),\n",
       " ('jamais', 1),\n",
       " ('qui pourrait', 1),\n",
       " ('more than 500', 1),\n",
       " ('senate', 1),\n",
       " ('3 year old', 1),\n",
       " ('kerrs bitch', 1),\n",
       " ('13year', 1),\n",
       " ('a couple years ago', 1),\n",
       " ('1st', 1),\n",
       " ('late at night', 1),\n",
       " ('zainaslaycore', 1),\n",
       " ('only one', 1),\n",
       " ('dgbrodie lovatic5hdores7', 1),\n",
       " ('texas', 1),\n",
       " ('today', 1),\n",
       " ('76 years', 1),\n",
       " ('50 years', 1),\n",
       " ('baker reiss', 1),\n",
       " ('age three to', 1),\n",
       " ('thomas karen', 1),\n",
       " ('2015', 1),\n",
       " ('the year', 1),\n",
       " ('anaconda', 1),\n",
       " ('youn wanna', 1),\n",
       " ('fairfax county', 1),\n",
       " ('supreme court', 1),\n",
       " ('millions', 1),\n",
       " ('khud ke yaar', 1),\n",
       " ('logon se', 1),\n",
       " ('ko dekh kar', 1),\n",
       " ('muje ni samaj aata', 1),\n",
       " ('atempt ki baat kar kaise', 1),\n",
       " ('nah', 1),\n",
       " ('bien par le', 1),\n",
       " ('de combattre la pandmie', 1),\n",
       " ('24', 1),\n",
       " ('jordaannnpg', 1),\n",
       " ('a day', 1),\n",
       " ('this winter', 1),\n",
       " ('peter van', 1),\n",
       " ('scotland scotland', 1),\n",
       " ('57', 1),\n",
       " ('101', 1),\n",
       " ('ktuluadam cheers', 1),\n",
       " ('2009', 1),\n",
       " ('500', 1),\n",
       " ('11xx', 1),\n",
       " ('1252022', 1),\n",
       " ('715 pm', 1),\n",
       " ('110 4', 1),\n",
       " ('00', 1),\n",
       " ('burgerking elonmusk mcdonalds', 1),\n",
       " ('transjesse', 1),\n",
       " ('6nab', 1),\n",
       " ('kya hua supreme court', 1),\n",
       " ('k saat', 1),\n",
       " ('hai 7 agar', 1),\n",
       " ('hai tu hajab', 1),\n",
       " ('rape hua tha', 1),\n",
       " ('tha', 1),\n",
       " ('bana k', 1),\n",
       " ('cnn', 1),\n",
       " ('dollarsigntionn', 1),\n",
       " ('pakistan', 1),\n",
       " ('america', 1),\n",
       " ('colorado', 1),\n",
       " ('the day', 1),\n",
       " ('sponson andersweinstein', 1),\n",
       " ('thebroker2005', 1),\n",
       " ('dandavistn jambalayaaaaaa1', 1),\n",
       " ('michaelcarley', 1),\n",
       " ('msnbc', 1),\n",
       " ('weeks', 1),\n",
       " ('dandoulakimaria cocacola', 1),\n",
       " ('indians', 1),\n",
       " ('10 on march 29th', 1),\n",
       " ('zero', 1),\n",
       " ('an3sth3sia', 1),\n",
       " ('indian', 1),\n",
       " ('lyzl lyz', 1),\n",
       " ('iowa', 1),\n",
       " ('13', 1),\n",
       " ('iamvandal617', 1),\n",
       " ('ho', 1)]"
      ]
     },
     "execution_count": 281,
     "metadata": {},
     "output_type": "execute_result"
    }
   ],
   "source": [
    "entityCounts = {}\n",
    "for entry in tweets_df_small['classified_sents']:\n",
    "    for sentence in entry:\n",
    "        for ent, kind in sentence:\n",
    "            if ent in entityCounts:\n",
    "                entityCounts[ent] += 1\n",
    "            else:\n",
    "                entityCounts[ent] = 1\n",
    "sortedEntities = sorted(entityCounts.items(), key = lambda x: x[1], reverse = True)\n",
    "sortedEntities"
   ]
  },
  {
   "cell_type": "code",
   "execution_count": 285,
   "metadata": {},
   "outputs": [
    {
     "data": {
      "text/plain": [
       "[('2', 13), ('un', 10), ('india', 5), ('one', 5), ('utah', 4)]"
      ]
     },
     "execution_count": 285,
     "metadata": {},
     "output_type": "execute_result"
    }
   ],
   "source": [
    "# Let's focus on the most frequent 5\n",
    "sortedEntities[:5]"
   ]
  },
  {
   "cell_type": "markdown",
   "metadata": {},
   "source": [
    "#### Comment"
   ]
  },
  {
   "cell_type": "markdown",
   "metadata": {},
   "source": [
    "Among the top 5 most frequent entities, two of them are nonsense numbers ('2','one'). Two are places ('India','Utah'). I guess 'un' is actually 'UN'. This may implies India and Utah are two places \"identified\" by Twitter users to be mysogyny, or at least in a stereotype sense. \"UN\" may have been mentioned so many times for its assistance to women who are suffering."
   ]
  },
  {
   "cell_type": "markdown",
   "metadata": {},
   "source": [
    "### Task 2: Tally one type of named entity, Precision, Recall, and F-score for the NER classification"
   ]
  },
  {
   "cell_type": "markdown",
   "metadata": {},
   "source": [
    "Let's do this manually, with \"un\"."
   ]
  },
  {
   "cell_type": "code",
   "execution_count": 292,
   "metadata": {},
   "outputs": [
    {
     "name": "stdout",
     "output_type": "stream",
     "text": [
      "Why has the @UN allowed weaponized rape with impunity? For over a year, we have pleaded for the @UN to #StopRapeInTigray. Women in western Tigray are still under attack by invading forces. @MexOnu @UKUN_NewYork @franceonu @UNGeneva #16DaysofActivism2021 https://t.co/86cSLX6ueQ\n",
      "\n",
      "Personnellement, je sèche.\n",
      "Quelqu'un a un exemple? https://t.co/0ibas6jVCj\n",
      "\n",
      "@mhsantiesteban @monerorape @Milenio Jajajaj no pues el rape si lo esta criticando 🤷🏻‍♂️ yo no opino donde no se, lo que si se es entre tu y yo🥰 y tiene que ver con un aeropuerto✈️✈️ #hastalavistaputines\n",
      "\n",
      "@meryrose32 Hasta con ese doloroso detalle hay que luchar. Y es pasajero. ¡Fuerzas!😉🤗.\n",
      "A mi madre la rapé yo...lloramos. \n",
      "Al principio le conseguí todo lo necesario para que pueda cubrir su cabeza. Un tiempo fue. \n",
      "Pero es parte del proceso. \n",
      "Se sale...a darle para adelante.\n",
      "\n",
      "@greve_generale À tous les coups c'est un machin de gros confus noyauté par des tendances zob ou quelque chose. Il y a juste personne côté libertaire insurrectionnel qui arrache les affiches de Poutou\n",
      "\n",
      "@Mister_Misandry @lovebescherelle C'est tout simplement parce qu'ils sont dans la fleur de l'âge et que ce n'est pas un petit virus comme le COVID qui va tuer des jeunes de cet âge\n",
      "On a l'impression en te lisant que ta religion est le Pfizerisme. \n",
      "Quand aux chiffres des réas, falsifiés. \n",
      "Va voir ceux de la DREES\n",
      "\n",
      "If call of duty un ironically releases “warzone 2” sexual harassment cases will be the least of their worries when I walk through those doors https://t.co/BetgrgVtrx\n",
      "\n",
      "@iqinisoleqiniso @lovebescherelle Il ne faut pas négliger ce qu'il se passe dans la tête des gens. Créer des troubles anxieux n'est pas un risque acceptable pour les personnes concernées. Déclencher des épisodes dépressifs non plus.\n",
      "Ce pourquoi le principe de base de l'AEC est de convaincre.\n",
      "\n",
      "@hbourj @Milady_Oscar @ConDecepti L'autre raison de ne pas laisser circuler le virus, et donc de mettre en place des mesures à hauteur du risque d'aggravation de la circulation, est que c'est la circulation qui permet l'émergence de nouveaux variants.\n",
      "Nous allons d'ailleurs probablement repartir pour un tour.\n",
      "\n"
     ]
    }
   ],
   "source": [
    "# Find sentences that contains \"un\"\n",
    "\n",
    "for index, line in tweets_df_small.iterrows():\n",
    "    if 'un' in line['tokenized_content']:\n",
    "        print(line['content'])\n",
    "        print()"
   ]
  },
  {
   "cell_type": "markdown",
   "metadata": {},
   "source": [
    "It turns out only the \"un\" in the first sentence is actually \"UN\"! 8 other cases are because the language is not English, and 1 because of typo.\n",
    "**Precision**: 0.1\n",
    "**Recall**: 1/(1+390) = 0.00256\n",
    "**F-score**: 2 * 0.1 * 0.00256 / (0.1 + 0.00256) = 0.005"
   ]
  },
  {
   "cell_type": "markdown",
   "metadata": {},
   "source": [
    "------"
   ]
  },
  {
   "cell_type": "markdown",
   "metadata": {},
   "source": [
    "## Dependency parsing and graph representations\n",
    "\n",
    "Dependency parsing was developed to robustly capture linguistic dependencies from text. The complex tags associated with these parses are detailed [here]('http://universaldependencies.org/u/overview/syntax.html'). When parsing with the dependency parser, we will work directly from the untokenized text. Note that no *processing* takes place before parsing sentences--we do not remove so-called stop words or anything that plays a syntactic role in the sentence, although anaphora resolution and related normalization may be performed before or after parsing to enhance the value of information extraction. "
   ]
  },
  {
   "cell_type": "markdown",
   "metadata": {},
   "source": [
    "We will be using spaCy's built in dependancy parser to go about exploring the tree.\n",
    "Note that unlike previous examples, large corpuses or collections of sentences don't give us as much information, so we will be navigating smaller sentences.\n",
    "\n",
    "Let us start by exploring noun chunks. Noun chunks are “base noun phrases” – flat phrases that have a noun as their head. You can think of noun chunks as a noun plus the words describing the noun – for example, “the lavish green grass” or “the world’s largest tech fund”. To get the noun chunks in a document, simply iterate over the sentences noun chunks."
   ]
  },
  {
   "cell_type": "code",
   "execution_count": 293,
   "metadata": {},
   "outputs": [],
   "source": [
    "from spacy import displacy"
   ]
  },
  {
   "cell_type": "code",
   "execution_count": 294,
   "metadata": {},
   "outputs": [],
   "source": [
    "doc = nlp(\"Autonomous cars shift insurance liability toward manufacturers\")"
   ]
  },
  {
   "cell_type": "code",
   "execution_count": 295,
   "metadata": {},
   "outputs": [
    {
     "data": {
      "text/html": [
       "<span class=\"tex2jax_ignore\"><svg xmlns=\"http://www.w3.org/2000/svg\" xmlns:xlink=\"http://www.w3.org/1999/xlink\" xml:lang=\"en\" id=\"6e225505da164db5a44a78df56833940-0\" class=\"displacy\" width=\"1275\" height=\"399.5\" direction=\"ltr\" style=\"max-width: none; height: 399.5px; color: #000000; background: #ffffff; font-family: Arial; direction: ltr\">\n",
       "<text class=\"displacy-token\" fill=\"currentColor\" text-anchor=\"middle\" y=\"309.5\">\n",
       "    <tspan class=\"displacy-word\" fill=\"currentColor\" x=\"50\">Autonomous</tspan>\n",
       "    <tspan class=\"displacy-tag\" dy=\"2em\" fill=\"currentColor\" x=\"50\">ADJ</tspan>\n",
       "</text>\n",
       "\n",
       "<text class=\"displacy-token\" fill=\"currentColor\" text-anchor=\"middle\" y=\"309.5\">\n",
       "    <tspan class=\"displacy-word\" fill=\"currentColor\" x=\"225\">cars</tspan>\n",
       "    <tspan class=\"displacy-tag\" dy=\"2em\" fill=\"currentColor\" x=\"225\">NOUN</tspan>\n",
       "</text>\n",
       "\n",
       "<text class=\"displacy-token\" fill=\"currentColor\" text-anchor=\"middle\" y=\"309.5\">\n",
       "    <tspan class=\"displacy-word\" fill=\"currentColor\" x=\"400\">shift</tspan>\n",
       "    <tspan class=\"displacy-tag\" dy=\"2em\" fill=\"currentColor\" x=\"400\">VERB</tspan>\n",
       "</text>\n",
       "\n",
       "<text class=\"displacy-token\" fill=\"currentColor\" text-anchor=\"middle\" y=\"309.5\">\n",
       "    <tspan class=\"displacy-word\" fill=\"currentColor\" x=\"575\">insurance</tspan>\n",
       "    <tspan class=\"displacy-tag\" dy=\"2em\" fill=\"currentColor\" x=\"575\">NOUN</tspan>\n",
       "</text>\n",
       "\n",
       "<text class=\"displacy-token\" fill=\"currentColor\" text-anchor=\"middle\" y=\"309.5\">\n",
       "    <tspan class=\"displacy-word\" fill=\"currentColor\" x=\"750\">liability</tspan>\n",
       "    <tspan class=\"displacy-tag\" dy=\"2em\" fill=\"currentColor\" x=\"750\">NOUN</tspan>\n",
       "</text>\n",
       "\n",
       "<text class=\"displacy-token\" fill=\"currentColor\" text-anchor=\"middle\" y=\"309.5\">\n",
       "    <tspan class=\"displacy-word\" fill=\"currentColor\" x=\"925\">toward</tspan>\n",
       "    <tspan class=\"displacy-tag\" dy=\"2em\" fill=\"currentColor\" x=\"925\">ADP</tspan>\n",
       "</text>\n",
       "\n",
       "<text class=\"displacy-token\" fill=\"currentColor\" text-anchor=\"middle\" y=\"309.5\">\n",
       "    <tspan class=\"displacy-word\" fill=\"currentColor\" x=\"1100\">manufacturers</tspan>\n",
       "    <tspan class=\"displacy-tag\" dy=\"2em\" fill=\"currentColor\" x=\"1100\">NOUN</tspan>\n",
       "</text>\n",
       "\n",
       "<g class=\"displacy-arrow\">\n",
       "    <path class=\"displacy-arc\" id=\"arrow-6e225505da164db5a44a78df56833940-0-0\" stroke-width=\"2px\" d=\"M70,264.5 C70,177.0 215.0,177.0 215.0,264.5\" fill=\"none\" stroke=\"currentColor\"/>\n",
       "    <text dy=\"1.25em\" style=\"font-size: 0.8em; letter-spacing: 1px\">\n",
       "        <textPath xlink:href=\"#arrow-6e225505da164db5a44a78df56833940-0-0\" class=\"displacy-label\" startOffset=\"50%\" side=\"left\" fill=\"currentColor\" text-anchor=\"middle\">amod</textPath>\n",
       "    </text>\n",
       "    <path class=\"displacy-arrowhead\" d=\"M70,266.5 L62,254.5 78,254.5\" fill=\"currentColor\"/>\n",
       "</g>\n",
       "\n",
       "<g class=\"displacy-arrow\">\n",
       "    <path class=\"displacy-arc\" id=\"arrow-6e225505da164db5a44a78df56833940-0-1\" stroke-width=\"2px\" d=\"M245,264.5 C245,177.0 390.0,177.0 390.0,264.5\" fill=\"none\" stroke=\"currentColor\"/>\n",
       "    <text dy=\"1.25em\" style=\"font-size: 0.8em; letter-spacing: 1px\">\n",
       "        <textPath xlink:href=\"#arrow-6e225505da164db5a44a78df56833940-0-1\" class=\"displacy-label\" startOffset=\"50%\" side=\"left\" fill=\"currentColor\" text-anchor=\"middle\">nsubj</textPath>\n",
       "    </text>\n",
       "    <path class=\"displacy-arrowhead\" d=\"M245,266.5 L237,254.5 253,254.5\" fill=\"currentColor\"/>\n",
       "</g>\n",
       "\n",
       "<g class=\"displacy-arrow\">\n",
       "    <path class=\"displacy-arc\" id=\"arrow-6e225505da164db5a44a78df56833940-0-2\" stroke-width=\"2px\" d=\"M595,264.5 C595,177.0 740.0,177.0 740.0,264.5\" fill=\"none\" stroke=\"currentColor\"/>\n",
       "    <text dy=\"1.25em\" style=\"font-size: 0.8em; letter-spacing: 1px\">\n",
       "        <textPath xlink:href=\"#arrow-6e225505da164db5a44a78df56833940-0-2\" class=\"displacy-label\" startOffset=\"50%\" side=\"left\" fill=\"currentColor\" text-anchor=\"middle\">compound</textPath>\n",
       "    </text>\n",
       "    <path class=\"displacy-arrowhead\" d=\"M595,266.5 L587,254.5 603,254.5\" fill=\"currentColor\"/>\n",
       "</g>\n",
       "\n",
       "<g class=\"displacy-arrow\">\n",
       "    <path class=\"displacy-arc\" id=\"arrow-6e225505da164db5a44a78df56833940-0-3\" stroke-width=\"2px\" d=\"M420,264.5 C420,89.5 745.0,89.5 745.0,264.5\" fill=\"none\" stroke=\"currentColor\"/>\n",
       "    <text dy=\"1.25em\" style=\"font-size: 0.8em; letter-spacing: 1px\">\n",
       "        <textPath xlink:href=\"#arrow-6e225505da164db5a44a78df56833940-0-3\" class=\"displacy-label\" startOffset=\"50%\" side=\"left\" fill=\"currentColor\" text-anchor=\"middle\">dobj</textPath>\n",
       "    </text>\n",
       "    <path class=\"displacy-arrowhead\" d=\"M745.0,266.5 L753.0,254.5 737.0,254.5\" fill=\"currentColor\"/>\n",
       "</g>\n",
       "\n",
       "<g class=\"displacy-arrow\">\n",
       "    <path class=\"displacy-arc\" id=\"arrow-6e225505da164db5a44a78df56833940-0-4\" stroke-width=\"2px\" d=\"M420,264.5 C420,2.0 925.0,2.0 925.0,264.5\" fill=\"none\" stroke=\"currentColor\"/>\n",
       "    <text dy=\"1.25em\" style=\"font-size: 0.8em; letter-spacing: 1px\">\n",
       "        <textPath xlink:href=\"#arrow-6e225505da164db5a44a78df56833940-0-4\" class=\"displacy-label\" startOffset=\"50%\" side=\"left\" fill=\"currentColor\" text-anchor=\"middle\">prep</textPath>\n",
       "    </text>\n",
       "    <path class=\"displacy-arrowhead\" d=\"M925.0,266.5 L933.0,254.5 917.0,254.5\" fill=\"currentColor\"/>\n",
       "</g>\n",
       "\n",
       "<g class=\"displacy-arrow\">\n",
       "    <path class=\"displacy-arc\" id=\"arrow-6e225505da164db5a44a78df56833940-0-5\" stroke-width=\"2px\" d=\"M945,264.5 C945,177.0 1090.0,177.0 1090.0,264.5\" fill=\"none\" stroke=\"currentColor\"/>\n",
       "    <text dy=\"1.25em\" style=\"font-size: 0.8em; letter-spacing: 1px\">\n",
       "        <textPath xlink:href=\"#arrow-6e225505da164db5a44a78df56833940-0-5\" class=\"displacy-label\" startOffset=\"50%\" side=\"left\" fill=\"currentColor\" text-anchor=\"middle\">pobj</textPath>\n",
       "    </text>\n",
       "    <path class=\"displacy-arrowhead\" d=\"M1090.0,266.5 L1098.0,254.5 1082.0,254.5\" fill=\"currentColor\"/>\n",
       "</g>\n",
       "</svg></span>"
      ],
      "text/plain": [
       "<IPython.core.display.HTML object>"
      ]
     },
     "metadata": {},
     "output_type": "display_data"
    }
   ],
   "source": [
    "displacy.render(doc, style='dep')"
   ]
  },
  {
   "cell_type": "code",
   "execution_count": 296,
   "metadata": {},
   "outputs": [
    {
     "name": "stdout",
     "output_type": "stream",
     "text": [
      "Autonomous cars cars nsubj shift\n",
      "insurance liability liability dobj shift\n",
      "manufacturers manufacturers pobj toward\n"
     ]
    }
   ],
   "source": [
    "for chunk in doc.noun_chunks:\n",
    "    print(chunk.text, chunk.root.text, chunk.root.dep_, chunk.root.head.text)"
   ]
  },
  {
   "cell_type": "markdown",
   "metadata": {},
   "source": [
    "spaCy uses the terms head and child to describe the words connected by a single arc in the dependency tree. The term dep is used for the arc label, which describes the type of syntactic relation that connects the child to the head. As with other attributes, the value of .dep is a hash value. You can get the string value with .dep_.\n",
    "\n",
    "For your reference:\n",
    "\n",
    "Text: The original token text.\n",
    "\n",
    "Dep: The syntactic relation connecting child to head.\n",
    "\n",
    "Head text: The original text of the token head.\n",
    "\n",
    "Head POS: The part-of-speech tag of the token head.\n",
    "\n",
    "Children: The immediate syntactic dependents of the token."
   ]
  },
  {
   "cell_type": "code",
   "execution_count": 297,
   "metadata": {},
   "outputs": [
    {
     "name": "stdout",
     "output_type": "stream",
     "text": [
      "Autonomous amod cars NOUN []\n",
      "cars nsubj shift VERB [Autonomous]\n",
      "shift ROOT shift VERB [cars, liability, toward]\n",
      "insurance compound liability NOUN []\n",
      "liability dobj shift VERB [insurance]\n",
      "toward prep shift VERB [manufacturers]\n",
      "manufacturers pobj toward ADP []\n"
     ]
    }
   ],
   "source": [
    "for token in doc:\n",
    "    print(token.text, token.dep_, token.head.text, token.head.pos_,\n",
    "            [child for child in token.children])"
   ]
  },
  {
   "cell_type": "markdown",
   "metadata": {},
   "source": [
    "Because the syntactic relations form a tree, every word has exactly one head. You can therefore iterate over the arcs in the tree by iterating over the words in the sentence. This is usually the best way to match an arc of interest — from below:"
   ]
  },
  {
   "cell_type": "code",
   "execution_count": 298,
   "metadata": {},
   "outputs": [],
   "source": [
    "from spacy.symbols import nsubj, VERB"
   ]
  },
  {
   "cell_type": "code",
   "execution_count": 299,
   "metadata": {},
   "outputs": [
    {
     "name": "stdout",
     "output_type": "stream",
     "text": [
      "{shift}\n"
     ]
    }
   ],
   "source": [
    "verbs = set()\n",
    "for possible_subject in doc:\n",
    "    if possible_subject.dep == nsubj and possible_subject.head.pos == VERB:\n",
    "        verbs.add(possible_subject.head)\n",
    "print(verbs)"
   ]
  },
  {
   "cell_type": "markdown",
   "metadata": {},
   "source": [
    "You can *also* navigate from above. It isn't as efficient though."
   ]
  },
  {
   "cell_type": "code",
   "execution_count": 300,
   "metadata": {},
   "outputs": [],
   "source": [
    "verbs = []\n",
    "for possible_verb in doc:\n",
    "    if possible_verb.pos == VERB:\n",
    "        for possible_subject in possible_verb.children:\n",
    "            if possible_subject.dep == nsubj:\n",
    "                verbs.append(possible_verb)\n",
    "                break"
   ]
  },
  {
   "cell_type": "code",
   "execution_count": 301,
   "metadata": {},
   "outputs": [
    {
     "name": "stdout",
     "output_type": "stream",
     "text": [
      "[shift]\n"
     ]
    }
   ],
   "source": [
    "print(verbs)"
   ]
  },
  {
   "cell_type": "markdown",
   "metadata": {},
   "source": [
    "### Iterating around the local tree\n",
    "A few more convenience attributes are provided for iterating around the local tree from the token. Token.lefts and Token.rights attributes provide sequences of syntactic children that occur before and after the token. Both sequences are in sentence order. There are also two integer-typed attributes, Token.n_lefts and Token.n_rights that give the number of left and right children."
   ]
  },
  {
   "cell_type": "code",
   "execution_count": 302,
   "metadata": {},
   "outputs": [
    {
     "name": "stdout",
     "output_type": "stream",
     "text": [
      "['bright', 'red']\n",
      "['on']\n",
      "2\n",
      "1\n"
     ]
    }
   ],
   "source": [
    "doc = nlp(\"bright red apples on the tree\")\n",
    "print([token.text for token in doc[2].lefts])  # ['bright', 'red']\n",
    "print([token.text for token in doc[2].rights])  # ['on']\n",
    "print(doc[2].n_lefts)  # 2\n",
    "print(doc[2].n_rights)  # 1"
   ]
  },
  {
   "cell_type": "markdown",
   "metadata": {},
   "source": [
    "You can get a whole phrase by its syntactic head using the Token.subtree attribute. This returns an ordered sequence of tokens. You can walk up the tree with the Token.ancestors attribute, and check dominance with Token.is_ancestor"
   ]
  },
  {
   "cell_type": "code",
   "execution_count": 303,
   "metadata": {},
   "outputs": [
    {
     "name": "stdout",
     "output_type": "stream",
     "text": [
      "Credit nmod 0 2 ['holders', 'submit']\n",
      "and cc 0 0 ['Credit', 'holders', 'submit']\n",
      "mortgage compound 0 0 ['account', 'Credit', 'holders', 'submit']\n",
      "account conj 1 0 ['Credit', 'holders', 'submit']\n",
      "holders nsubj 1 0 ['submit']\n"
     ]
    }
   ],
   "source": [
    "doc = nlp(\"Credit and mortgage account holders must submit their requests\")\n",
    "\n",
    "root = [token for token in doc if token.head == token][0]\n",
    "subject = list(root.lefts)[0]\n",
    "for descendant in subject.subtree:\n",
    "    assert subject is descendant or subject.is_ancestor(descendant)\n",
    "    print(descendant.text, descendant.dep_, descendant.n_lefts,\n",
    "            descendant.n_rights,\n",
    "            [ancestor.text for ancestor in descendant.ancestors])"
   ]
  },
  {
   "cell_type": "markdown",
   "metadata": {},
   "source": [
    "Finally, the .left_edge and .right_edge attributes can be especially useful, because they give you the first and last token of the subtree. This is the easiest way to create a Span object for a syntactic phrase. Note that .right_edge gives a token within the subtree — so if you use it as the end-point of a range, don’t forget to +1!"
   ]
  },
  {
   "cell_type": "code",
   "execution_count": 304,
   "metadata": {},
   "outputs": [
    {
     "name": "stdout",
     "output_type": "stream",
     "text": [
      "Credit and mortgage account holders NOUN nsubj submit\n",
      "must AUX aux submit\n",
      "submit VERB ROOT submit\n",
      "their PRON poss requests\n",
      "requests NOUN dobj submit\n"
     ]
    }
   ],
   "source": [
    "span = doc[doc[4].left_edge.i : doc[4].right_edge.i+1]\n",
    "with doc.retokenize() as retokenizer:\n",
    "    retokenizer.merge(span)\n",
    "for token in doc:\n",
    "    print(token.text, token.pos_, token.dep_, token.head.text)"
   ]
  },
  {
   "cell_type": "code",
   "execution_count": 305,
   "metadata": {},
   "outputs": [
    {
     "data": {
      "text/html": [
       "<span class=\"tex2jax_ignore\"><svg xmlns=\"http://www.w3.org/2000/svg\" xmlns:xlink=\"http://www.w3.org/1999/xlink\" xml:lang=\"en\" id=\"eeeb45ec41a14dcba011e3596c4cd5d0-0\" class=\"displacy\" width=\"925\" height=\"312.0\" direction=\"ltr\" style=\"max-width: none; height: 312.0px; color: #000000; background: #ffffff; font-family: Arial; direction: ltr\">\n",
       "<text class=\"displacy-token\" fill=\"currentColor\" text-anchor=\"middle\" y=\"222.0\">\n",
       "    <tspan class=\"displacy-word\" fill=\"currentColor\" x=\"50\">Credit and mortgage account holders</tspan>\n",
       "    <tspan class=\"displacy-tag\" dy=\"2em\" fill=\"currentColor\" x=\"50\">NOUN</tspan>\n",
       "</text>\n",
       "\n",
       "<text class=\"displacy-token\" fill=\"currentColor\" text-anchor=\"middle\" y=\"222.0\">\n",
       "    <tspan class=\"displacy-word\" fill=\"currentColor\" x=\"225\">must</tspan>\n",
       "    <tspan class=\"displacy-tag\" dy=\"2em\" fill=\"currentColor\" x=\"225\">AUX</tspan>\n",
       "</text>\n",
       "\n",
       "<text class=\"displacy-token\" fill=\"currentColor\" text-anchor=\"middle\" y=\"222.0\">\n",
       "    <tspan class=\"displacy-word\" fill=\"currentColor\" x=\"400\">submit</tspan>\n",
       "    <tspan class=\"displacy-tag\" dy=\"2em\" fill=\"currentColor\" x=\"400\">VERB</tspan>\n",
       "</text>\n",
       "\n",
       "<text class=\"displacy-token\" fill=\"currentColor\" text-anchor=\"middle\" y=\"222.0\">\n",
       "    <tspan class=\"displacy-word\" fill=\"currentColor\" x=\"575\">their</tspan>\n",
       "    <tspan class=\"displacy-tag\" dy=\"2em\" fill=\"currentColor\" x=\"575\">PRON</tspan>\n",
       "</text>\n",
       "\n",
       "<text class=\"displacy-token\" fill=\"currentColor\" text-anchor=\"middle\" y=\"222.0\">\n",
       "    <tspan class=\"displacy-word\" fill=\"currentColor\" x=\"750\">requests</tspan>\n",
       "    <tspan class=\"displacy-tag\" dy=\"2em\" fill=\"currentColor\" x=\"750\">NOUN</tspan>\n",
       "</text>\n",
       "\n",
       "<g class=\"displacy-arrow\">\n",
       "    <path class=\"displacy-arc\" id=\"arrow-eeeb45ec41a14dcba011e3596c4cd5d0-0-0\" stroke-width=\"2px\" d=\"M70,177.0 C70,2.0 400.0,2.0 400.0,177.0\" fill=\"none\" stroke=\"currentColor\"/>\n",
       "    <text dy=\"1.25em\" style=\"font-size: 0.8em; letter-spacing: 1px\">\n",
       "        <textPath xlink:href=\"#arrow-eeeb45ec41a14dcba011e3596c4cd5d0-0-0\" class=\"displacy-label\" startOffset=\"50%\" side=\"left\" fill=\"currentColor\" text-anchor=\"middle\">nsubj</textPath>\n",
       "    </text>\n",
       "    <path class=\"displacy-arrowhead\" d=\"M70,179.0 L62,167.0 78,167.0\" fill=\"currentColor\"/>\n",
       "</g>\n",
       "\n",
       "<g class=\"displacy-arrow\">\n",
       "    <path class=\"displacy-arc\" id=\"arrow-eeeb45ec41a14dcba011e3596c4cd5d0-0-1\" stroke-width=\"2px\" d=\"M245,177.0 C245,89.5 395.0,89.5 395.0,177.0\" fill=\"none\" stroke=\"currentColor\"/>\n",
       "    <text dy=\"1.25em\" style=\"font-size: 0.8em; letter-spacing: 1px\">\n",
       "        <textPath xlink:href=\"#arrow-eeeb45ec41a14dcba011e3596c4cd5d0-0-1\" class=\"displacy-label\" startOffset=\"50%\" side=\"left\" fill=\"currentColor\" text-anchor=\"middle\">aux</textPath>\n",
       "    </text>\n",
       "    <path class=\"displacy-arrowhead\" d=\"M245,179.0 L237,167.0 253,167.0\" fill=\"currentColor\"/>\n",
       "</g>\n",
       "\n",
       "<g class=\"displacy-arrow\">\n",
       "    <path class=\"displacy-arc\" id=\"arrow-eeeb45ec41a14dcba011e3596c4cd5d0-0-2\" stroke-width=\"2px\" d=\"M595,177.0 C595,89.5 745.0,89.5 745.0,177.0\" fill=\"none\" stroke=\"currentColor\"/>\n",
       "    <text dy=\"1.25em\" style=\"font-size: 0.8em; letter-spacing: 1px\">\n",
       "        <textPath xlink:href=\"#arrow-eeeb45ec41a14dcba011e3596c4cd5d0-0-2\" class=\"displacy-label\" startOffset=\"50%\" side=\"left\" fill=\"currentColor\" text-anchor=\"middle\">poss</textPath>\n",
       "    </text>\n",
       "    <path class=\"displacy-arrowhead\" d=\"M595,179.0 L587,167.0 603,167.0\" fill=\"currentColor\"/>\n",
       "</g>\n",
       "\n",
       "<g class=\"displacy-arrow\">\n",
       "    <path class=\"displacy-arc\" id=\"arrow-eeeb45ec41a14dcba011e3596c4cd5d0-0-3\" stroke-width=\"2px\" d=\"M420,177.0 C420,2.0 750.0,2.0 750.0,177.0\" fill=\"none\" stroke=\"currentColor\"/>\n",
       "    <text dy=\"1.25em\" style=\"font-size: 0.8em; letter-spacing: 1px\">\n",
       "        <textPath xlink:href=\"#arrow-eeeb45ec41a14dcba011e3596c4cd5d0-0-3\" class=\"displacy-label\" startOffset=\"50%\" side=\"left\" fill=\"currentColor\" text-anchor=\"middle\">dobj</textPath>\n",
       "    </text>\n",
       "    <path class=\"displacy-arrowhead\" d=\"M750.0,179.0 L758.0,167.0 742.0,167.0\" fill=\"currentColor\"/>\n",
       "</g>\n",
       "</svg></span>"
      ],
      "text/plain": [
       "<IPython.core.display.HTML object>"
      ]
     },
     "metadata": {},
     "output_type": "display_data"
    }
   ],
   "source": [
    "displacy.render(doc, style='dep')"
   ]
  },
  {
   "cell_type": "markdown",
   "metadata": {},
   "source": [
    "### Information Extraction\n",
    "\n",
    "How can dependancy graphs be useful? We can extract information from the sentences based on relationships between words within parsed phrases. Let us see if we can do this to glean any information, from, say, our movies dataset. \n",
    "\n",
    "How violent are the movies? Who is killing who?"
   ]
  },
  {
   "cell_type": "code",
   "execution_count": 306,
   "metadata": {},
   "outputs": [],
   "source": [
    "movie_violences = {}"
   ]
  },
  {
   "cell_type": "code",
   "execution_count": 307,
   "metadata": {},
   "outputs": [
    {
     "name": "stderr",
     "output_type": "stream",
     "text": [
      "<>:15: SyntaxWarning: \"is not\" with a literal. Did you mean \"!=\"?\n",
      "<>:17: SyntaxWarning: \"is not\" with a literal. Did you mean \"!=\"?\n",
      "<>:15: SyntaxWarning: \"is not\" with a literal. Did you mean \"!=\"?\n",
      "<>:17: SyntaxWarning: \"is not\" with a literal. Did you mean \"!=\"?\n",
      "C:\\Users\\86188\\AppData\\Local\\Temp\\ipykernel_76000\\2435811195.py:15: SyntaxWarning: \"is not\" with a literal. Did you mean \"!=\"?\n",
      "  if subject is not 0:\n",
      "C:\\Users\\86188\\AppData\\Local\\Temp\\ipykernel_76000\\2435811195.py:17: SyntaxWarning: \"is not\" with a literal. Did you mean \"!=\"?\n",
      "  if object_ is not 0:\n"
     ]
    }
   ],
   "source": [
    "for index, row in movie_df.iterrows():\n",
    "    text = ' '.join(row['Tokenized Texts'])\n",
    "    movie_violences[row['Movie Name']] = ([], [])\n",
    "    doc = nlp(text)\n",
    "    for chunk in doc.noun_chunks:\n",
    "        subject = 0\n",
    "        object_ = 0\n",
    "        # if the verb or the root of the sentence is kill\n",
    "        if chunk.root.head.text == 'kill':\n",
    "            # we find the subjects and objects around the word, and if it does exist, add it to the tuple\n",
    "            if chunk.root.dep_ == 'nsubj':\n",
    "                subject = chunk.root.text\n",
    "            if chunk.root.dep_ == 'dobj':\n",
    "                object_ = chunk.root.text\n",
    "            if subject is not 0:\n",
    "                movie_violences[row['Movie Name']][0].append(subject)\n",
    "            if object_ is not 0:\n",
    "                movie_violences[row['Movie Name']][1].append(object_)"
   ]
  },
  {
   "cell_type": "code",
   "execution_count": 308,
   "metadata": {},
   "outputs": [
    {
     "data": {
      "text/plain": [
       "{'Born Reckless': ([], ['somebody']),\n",
       " 'Dishonored': (['I', 'I'], ['woman', 'men']),\n",
       " 'Indiscreet': ([], []),\n",
       " 'The Stolen Jools': ([], []),\n",
       " 'College Humor': (['I'], ['him']),\n",
       " \"Man's Castle\": ([], ['man']),\n",
       " 'Sons of the Desert': ([], []),\n",
       " 'Tugboat Annie': ([], []),\n",
       " 'Zoo in Budapest': (['I', 'They', 'Vandor', 'lions'],\n",
       "  ['you', 'animals', 'tiger', 'me', 'him']),\n",
       " 'Blue Steel': ([], []),\n",
       " 'Imitation of Life': (['it'], ['me', 'Nothing']),\n",
       " 'One More River': ([], []),\n",
       " 'Ready for Love': (['I'], ['them']),\n",
       " 'The Grasshopper and the Ants': ([], []),\n",
       " 'Three Orphan Kittens': ([], []),\n",
       " 'Westward Ho': ([], []),\n",
       " 'Anthony Adverse': (['that'], ['you', 'him']),\n",
       " 'The Green Pastures': ([], []),\n",
       " 'The Invisible Ray': (['touch', 'I'], ['us', 'you']),\n",
       " 'The Trail of the Lonesome Pine': (['I', 'I', 'I'],\n",
       "  ['All', 'you', 'you', 'you']),\n",
       " 'Just Around the Corner': ([], []),\n",
       " 'The Great Waltz': (['you'], ['him']),\n",
       " 'The Young in Heart': ([], []),\n",
       " \"Donald's Dog Laundry\": ([], []),\n",
       " 'Phantom Raiders': (['I', 'I'],\n",
       "  ['me', 'you', 'bungler', 'you', 'you', 'you', 'work', 'man']),\n",
       " 'The Letter': (['you'], ['Hammond']),\n",
       " 'Words for Battle': ([], []),\n",
       " 'Ladies in Retirement': ([], []),\n",
       " 'Men of Boys Town': (['I', 'I'], ['him', 'him']),\n",
       " 'The Men in Her Life': (['I'], ['myself', 'myself']),\n",
       " 'Secret Mission': ([], []),\n",
       " 'My Favorite Blonde': (['you', 'you', 'I'], ['em', 'me', 'anybody', 'ya']),\n",
       " 'Murder, My Sweet': (['I', 'I', 'it', 'me', 'you'],\n",
       "  ['Marriott',\n",
       "   'him',\n",
       "   'him',\n",
       "   'him',\n",
       "   'him',\n",
       "   'Amthor',\n",
       "   'him',\n",
       "   'him',\n",
       "   'detective']),\n",
       " \"'I Know Where I'm Going!'\": ([], []),\n",
       " 'Dark Passage': (['he',\n",
       "   'I',\n",
       "   'I',\n",
       "   'you',\n",
       "   'anybody',\n",
       "   'he',\n",
       "   'he',\n",
       "   'you',\n",
       "   'They'],\n",
       "  ['stepmother',\n",
       "   'her',\n",
       "   'her',\n",
       "   'her',\n",
       "   'guy',\n",
       "   'me',\n",
       "   'me',\n",
       "   'me',\n",
       "   'you',\n",
       "   'me',\n",
       "   'Fellsinger',\n",
       "   'him',\n",
       "   'you']),\n",
       " 'It Had to Be You': ([], []),\n",
       " 'It Happened in Brooklyn': ([], []),\n",
       " 'It Happened on Fifth Avenue': (['I', 'I'], ['him', 'him']),\n",
       " 'The Woman on the Beach': ([], ['her', 'me']),\n",
       " 'The Fugitive': (['you'], ['somebody', 'God']),\n",
       " \"A Woman's Vengeance\": (['they', 'I'], ['her', 'herself', 'myself', 'you']),\n",
       " 'Call Northside 777': ([], ['it', 'it']),\n",
       " 'Green Grass of Wyoming': (['em'], []),\n",
       " 'Not Wanted': ([], []),\n",
       " 'Madeleine': ([], []),\n",
       " 'Annie Get Your Gun': ([], ['Grant']),\n",
       " 'Outcast of the Islands': (['you', 'you', 'I'],\n",
       "  ['him', 'anybody', 'somebody', 'you', 'you', 'him', 'anyone', 'me']),\n",
       " 'Chicago Calling': (['He'], ['himself', 'Bill', 'yourself', 'myself']),\n",
       " 'Clash by Night': (['You', 'I'], ['me', 'somebody']),\n",
       " 'The Limping Man': ([], ['me', 'Pauline', 'me']),\n",
       " 'Ambush at Tomahawk Gap': (['He', 'they', 'we'],\n",
       "  ['ya', 'her', 'us', 'her', 'her']),\n",
       " 'Lili': (['I'], ['him', 'boss']),\n",
       " 'Human Desire': (['I'], ['you']),\n",
       " 'Red Garters': (['me', 'I', 'who', 'me', 'I'],\n",
       "  ['son',\n",
       "   'brother',\n",
       "   'Pete',\n",
       "   'him',\n",
       "   'Carberry',\n",
       "   'man',\n",
       "   'man',\n",
       "   'man',\n",
       "   'brother',\n",
       "   'you',\n",
       "   'man',\n",
       "   'man',\n",
       "   'you',\n",
       "   'man',\n",
       "   'lot',\n",
       "   'Yep',\n",
       "   'me',\n",
       "   'Calaveras',\n",
       "   'me']),\n",
       " 'The Mad Magician': (['he', 'he', 'gallico'], ['one', 'her', 'her', 'him']),\n",
       " 'A Life in the Balance': (['She', 'He', 'I', 'I'],\n",
       "  ['me', 'Senor', 'you', 'boy', 'you']),\n",
       " 'The Bespoke Overcoat': (['It'], ['you']),\n",
       " 'My Sister Eileen': (['you'], ['these']),\n",
       " \"We're No Angels\": ([], ['guard', 'wife', 'myself']),\n",
       " 'A Cowboy Needs a Horse': ([], []),\n",
       " 'Helen of Troy': (['They', 'I'], ['him']),\n",
       " 'Patterns': ([], []),\n",
       " 'Storm Center': (['I', 'I'], ['them', 'them']),\n",
       " 'The Fastest Gun Alive': ([], []),\n",
       " 'The Rising of the Moon': ([], []),\n",
       " 'Paradise Lagoon': ([], []),\n",
       " 'Blood of Dracula': ([], []),\n",
       " 'Hellcats of the Navy': ([], []),\n",
       " 'The Delicate Delinquent': ([], ['me']),\n",
       " 'Witness for the Prosecution': (['I', 'I'], ['goose', 'her', 'her']),\n",
       " 'Cry Terror!': (['I', 'they', 'they', 'I', 'I', 'it', 'He', 'He', 'he'],\n",
       "  ['you',\n",
       "   'us',\n",
       "   'honey',\n",
       "   'penalty',\n",
       "   'us',\n",
       "   'us',\n",
       "   'us',\n",
       "   'you',\n",
       "   'you',\n",
       "   'them',\n",
       "   'them',\n",
       "   'people',\n",
       "   'him',\n",
       "   'her',\n",
       "   'her',\n",
       "   'her',\n",
       "   'her',\n",
       "   'him',\n",
       "   'him',\n",
       "   'me']),\n",
       " 'Too Many Crooks': (['I', 'You', 'I', 'he', 'he', 'I', 'He', 'he', 'they'],\n",
       "  ['him', 'me', 'myself', 'him', 'you', 'me', 'fly', 'me']),\n",
       " 'No Name on the Bullet': (['I',\n",
       "   'men',\n",
       "   'I',\n",
       "   'you',\n",
       "   'He',\n",
       "   'you',\n",
       "   'I',\n",
       "   'that',\n",
       "   'I'],\n",
       "  ['somebody',\n",
       "   'em',\n",
       "   'me',\n",
       "   'me',\n",
       "   'Stricker',\n",
       "   'him',\n",
       "   'Hastings',\n",
       "   'him',\n",
       "   'themselves',\n",
       "   'him',\n",
       "   'me',\n",
       "   'me',\n",
       "   'friend',\n",
       "   'me',\n",
       "   'me',\n",
       "   'me',\n",
       "   'me',\n",
       "   'you',\n",
       "   'Stricker',\n",
       "   'you',\n",
       "   'them',\n",
       "   'him',\n",
       "   'you',\n",
       "   'Gant',\n",
       "   'father',\n",
       "   'you',\n",
       "   'Gant']),\n",
       " 'The Bat': (['you', 'who', 'I', 'he'], ['me', 'me', 'me']),\n",
       " 'The Horse Soldiers': ([], []),\n",
       " 'Esther and the King': (['I', 'I'], ['you', 'him']),\n",
       " 'The Angel Wore Red': (['men', 'they'], ['you']),\n",
       " 'Hell Is a City': ([], ['cop', 'man']),\n",
       " 'The Angry Silence': ([], ['us', 'it']),\n",
       " 'Hell to Eternity': (['who'], ['him', 'men', 'Japs', 'man', 'Japs', 'them']),\n",
       " 'Heller in Pink Tights': (['He', 'them', 'you', 'I', 'He'],\n",
       "  ['people',\n",
       "   'him',\n",
       "   'us',\n",
       "   'you',\n",
       "   'you',\n",
       "   'You',\n",
       "   'some',\n",
       "   'Indians',\n",
       "   'you',\n",
       "   'you',\n",
       "   'Healy']),\n",
       " 'Murder, Inc.': (['you', 'I', 'He'],\n",
       "  ['him', 'him', 'us', 'him', 'anyone', 'you']),\n",
       " 'Ada': (['You'], ['you', 'You', 'me', 'him']),\n",
       " 'Lover Come Back': ([\"Dad'll\"], ['me']),\n",
       " 'Mr. Sardonicus': (['Some', 'It'], ['you']),\n",
       " 'Pirates of Tortuga': ([], []),\n",
       " 'Paranoiac': ([], ['herself', 'brother', 'him']),\n",
       " '55 Days at Peking': (['I'], ['Boxer']),\n",
       " 'Johnny Cool': (['They', 'men'], ['you', 'Cool', 'you']),\n",
       " \"Papa's Delicate Condition\": (['cosgrove'], ['me', 'husband']),\n",
       " 'Sahara Today Gone Tomorrow': (['I'], ['man', 'you']),\n",
       " 'First Men in the Moon': (['who'], ['others']),\n",
       " 'The Pumpkin Eater': (['It'], ['us']),\n",
       " 'The Last Man on Earth': ([], ['you', 'Morgan', 'me', 'you']),\n",
       " 'Thunderball': (['you', 'I', 'I', 'you'], ['him', 'pool', 'her', 'Largo']),\n",
       " 'Gunman Called Nebraska': (['he', 'I', 'I', 'Nebraska'],\n",
       "  ['you', 'you', 'those', 'Nebraska', 'you', 'you', 'Donato', 'him', 'you']),\n",
       " 'After the Fox': (['I', 'I', 'I', 'I', 'they', 'She', 'he', 'I', 'he'],\n",
       "  ['you',\n",
       "   'you',\n",
       "   'Everybody',\n",
       "   'her',\n",
       "   'you',\n",
       "   'me',\n",
       "   'SNORTS',\n",
       "   'her',\n",
       "   'himself',\n",
       "   'RADIO']),\n",
       " 'The Comedians': (['bullets', 'they', 'They'], ['devil']),\n",
       " 'Woman Times Seven': (['I'], ['you', 'me']),\n",
       " \"The St. Valentine's Day Massacre\": (['you', 'bullets'], ['mother', 'you']),\n",
       " 'Vienna': ([], []),\n",
       " 'How to Save a Marriage and Ruin Your Life': (['Kill'], ['Harry']),\n",
       " 'Where Angels Go Trouble Follows!': ([], []),\n",
       " 'Where Were You When the Lights Went Out?': (['you'], ['me', 'him', 'Men']),\n",
       " 'Hamlet': (['you', 'I'],\n",
       "  ['me', 'capital', 'calf', 'heart', 'life', 'lord', 'king', 'king', 'lady']),\n",
       " \"Alice's Restaurant\": (['I'], ['anybody']),\n",
       " 'Bob & Carol & Ted & Alice': (['I', 'I'], ['him', 'son']),\n",
       " 'It Was a Short Summer, Charlie Brown': ([], []),\n",
       " 'The Looking Glass War': (['it', 'they'],\n",
       "  ['man', 'Go', 'me', 'I', 'man', 'me']),\n",
       " 'The Rise and Rise of Michael Rimmer': ([], []),\n",
       " 'Rio Lobo': (['I', 'we', 'I'],\n",
       "  ['him', 'him', 'him', 'him', 'him', 'you', 'him', 'him']),\n",
       " 'Start the Revolution Without Me': (['I',\n",
       "   'You',\n",
       "   'We',\n",
       "   'we',\n",
       "   'You',\n",
       "   'They',\n",
       "   'they',\n",
       "   'you',\n",
       "   'I'],\n",
       "  ['you',\n",
       "   'Excuse',\n",
       "   'them',\n",
       "   'Christina',\n",
       "   'Louis',\n",
       "   'Escargot',\n",
       "   'Christina',\n",
       "   'kill',\n",
       "   'Louis',\n",
       "   'Christina',\n",
       "   'Marie',\n",
       "   'us',\n",
       "   'them',\n",
       "   'Louis',\n",
       "   'man',\n",
       "   'Louis']),\n",
       " 'The Angel Levine': (['I', 'I', 'Mishkin'],\n",
       "  ['myself', 'you', 'me', 'you', 'me', 'me']),\n",
       " 'Zabriskie Point': (['winner'], ['looser']),\n",
       " 'Animal Treasure Island': (['they', 'Captain', 'They'], ['us', 'her', 'you']),\n",
       " 'Dr Jekyll & Sister Hyde': ([], []),\n",
       " 'Kidnapped': (['you', 'He', 'you', 'He', 'He'],\n",
       "  ['Campbell', 'us', 'Alan', 'Campbell', 'Gunshot']),\n",
       " 'Catlow': (['I', 'I', 'I', 'you', 'who', 'I'],\n",
       "  ['you', 'you', 'man', 'you', 'man', 'Seris', 'you']),\n",
       " 'Mary, Queen of Scots': (['you', 'you', 'which', 'They'],\n",
       "  ['you',\n",
       "   'me',\n",
       "   'King',\n",
       "   'me',\n",
       "   'me',\n",
       "   'man',\n",
       "   'Riccio',\n",
       "   'King',\n",
       "   'him',\n",
       "   'you',\n",
       "   'you',\n",
       "   'me']),\n",
       " 'Straw Dogs': (['I', 'I', 'rat', 'I', 'They', 'I'],\n",
       "  ['her', 'em', 'rat', 'em', 'all', 'ya']),\n",
       " 'Clerow Wilson and the Miracle of P.S. 14': (['touch'], ['faith']),\n",
       " 'Double Indemnity': (['he', 'they'], ['himself', 'him']),\n",
       " \"Lemora: A Child's Tale of the Supernatural\": (['you', 'him', 'You'],\n",
       "  ['father', 'you', 'you', 'me', 'me']),\n",
       " 'The Night Strangler': (['Brown', 'I'], ['me', 'me', 'em', 'story']),\n",
       " 'Wattstax': ([], []),\n",
       " 'Death Wish': (['I', 'I'], ['cunts', 'you']),\n",
       " 'Overlord': (['You'], ['yourself']),\n",
       " 'The Wilby Conspiracy': (['they'], ['me', 'you']),\n",
       " 'Race with the Devil': (['they'], ['cats']),\n",
       " 'Three Days of the Condor': ([], ['me']),\n",
       " 'Mikey and Nicky': (['I', 'I'],\n",
       "  ['me', 'me', 'you', 'me', 'you', 'you', 'What', 'us', 'me']),\n",
       " 'The Quest: The Longest Drive': ([], []),\n",
       " 'The Shaggy D.A.': ([], []),\n",
       " 'Grand Theft Auto': ([], ['us', 'you']),\n",
       " 'The Late Show': (['I', 'I', 'You', 'He', 'it'],\n",
       "  ['it', 'him', 'him', 'him', 'wife', 'me', 'one', 'him', 'you']),\n",
       " 'The Biggest Battle': (['you'], ['me', 'me', 'Shut']),\n",
       " 'Carry On Emmannuelle': ([], []),\n",
       " 'How to Pick Up Girls!': (['I', 'I', 'I', 'you', 'you'],\n",
       "  ['you', 'you', 'himself', 'you', 'you', 'her', 'me', 'you', 'you', 'me']),\n",
       " 'Dawn of the Dead': (['They', 'They'], ['stations', 'supers']),\n",
       " 'Mad Max': (['I', 'they', 'You'], ['me', 'me']),\n",
       " 'Killer Fish': ([], []),\n",
       " 'The Visitor': (['You'],\n",
       "  ['set', 'her', 'me', 'you', 'her', 'children', 'part']),\n",
       " 'Ashanti': (['me', 'I', 'you'],\n",
       "  ['you',\n",
       "   'husband',\n",
       "   'Pilot',\n",
       "   'man',\n",
       "   'girl',\n",
       "   'Jamil',\n",
       "   'Faid',\n",
       "   'her',\n",
       "   'her',\n",
       "   'myself',\n",
       "   'me',\n",
       "   'him',\n",
       "   'bastard']),\n",
       " 'The Kids Are Alright': ([], []),\n",
       " 'Breaking Away': ([], []),\n",
       " 'The Corn Is Green': (['you', 'I'], ['myself', 'myself', 'birds', 'you']),\n",
       " 'The Electric Horseman': (['they', 'they'], ['ya', 'ya']),\n",
       " 'The Gods Must Be Crazy': (['you'], ['him', 'them']),\n",
       " 'The Awakening': ([], []),\n",
       " 'The Godsend': ([], ['you', 'me']),\n",
       " 'Raise the Titanic': ([], []),\n",
       " 'Valentine Magic on Love Island': (['we'], ['ourselves']),\n",
       " 'The Return of the King': (['I', 'I'], ['you', 'abomination']),\n",
       " 'Road Games': (['you'], ['music']),\n",
       " 'Continental Divide': (['I', 'I', 'they'], ['guy', 'her', 'you']),\n",
       " 'Fort Apache the Bronx': (['He', 'It', 'He'], ['her', 'ya', 'me', 'me']),\n",
       " 'Neighbors': ([], []),\n",
       " 'Peter and Paul': (['They', 'we'], ['you', 'men', 'them']),\n",
       " \"Huie's Sermon\": (['I'], []),\n",
       " 'Deadly Eyes': ([], ['you']),\n",
       " 'The Snowman': ([], []),\n",
       " 'The Hunchback of Notre Dame': ([], ['him', 'you']),\n",
       " \"Bugs Bunny's 3rd Movie: 1001 Rabbit Tales\": ([], []),\n",
       " 'Rocky III': ([\"guy'll\", 'He', 'I', 'he'],\n",
       "  ['you', 'ya', 'guy', 'ya', 'you', 'man', 'him', 'him', 'you']),\n",
       " 'The Escape Artist': (['guys', 'I', 'I', 'You', 'I'],\n",
       "  ['birds', 'bird', 'you', 'him', 'father', 'mine']),\n",
       " 'Phar Lap': (['I', 'You', 'I', 'I', 'I'],\n",
       "  ['What', 'him', 'him', 'him', 'him', 'you', 'Woodcock', 'you', 'Flores']),\n",
       " 'In the White City': (['he'], ['me', 'you']),\n",
       " 'The Hunger': (['I', 'I'], ['him', 'me']),\n",
       " 'Risky Business': (['I'], ['you', 'Miles']),\n",
       " 'The Mikado': (['you', 'I', 'I', 'I', 'I'],\n",
       "  ['yourself', 'you', 'anything', 'anybody', 'you']),\n",
       " 'Shaolin Temple 2: Kids from Shaolin': (['You',\n",
       "   'Yung',\n",
       "   'I',\n",
       "   'I',\n",
       "   'I',\n",
       "   'Brothers'],\n",
       "  ['son', 'Majesty', 'Hu', 'everyone', 'him', 'him', 'you', 'you', 'Shan']),\n",
       " 'A Nightmare on Elm Street': (['I', 'I', 'him', 'I'],\n",
       "  ['you', 'her', 'me', 'you', 'her', 'Daddy', 'Tina', 'me', 'me', 'you']),\n",
       " 'Crimes of Passion': (['I'], ['mine']),\n",
       " 'Ghoulies': ([], []),\n",
       " 'Little Ears: The Velveteen Rabbit': ([], []),\n",
       " 'Revenge of the Nerds': (['I', 'I'], ['parents']),\n",
       " 'Odds Are!: The Smothers Brothers Show You How to Gamble and Win': (['I'],\n",
       "  ['Wh', 'nicole', 'nicole']),\n",
       " 'Remo Williams: The Adventure Begins': (['I', 'you', 'Fear', 'I', 'you'],\n",
       "  ['you',\n",
       "   'truck',\n",
       "   'Meat',\n",
       "   'you',\n",
       "   'me',\n",
       "   'me',\n",
       "   'us',\n",
       "   'Rayner',\n",
       "   'me',\n",
       "   'me',\n",
       "   'you',\n",
       "   'you',\n",
       "   'Purge',\n",
       "   'truck',\n",
       "   'Meat',\n",
       "   'assassins',\n",
       "   'you',\n",
       "   'me',\n",
       "   'me',\n",
       "   'you',\n",
       "   'us',\n",
       "   'Rayner',\n",
       "   'me']),\n",
       " 'Treasure of the Amazon': (['that'], []),\n",
       " \"Footrot Flats: The Dog's Tale\": (['Somebody'],\n",
       "  ['yourself', 'Safe', 'ref', 'anybody']),\n",
       " \"Let's Get Harry\": (['They'], ['him']),\n",
       " 'Sweet Lies': ([], ['Dongshik']),\n",
       " 'Cross My Heart': (['I'], []),\n",
       " 'Jaws: The Revenge': (['who'], ['it', 'shark', 'one']),\n",
       " 'Plutonium Baby': ([\"'s\", 'I'], ['him', 'me', 'boy']),\n",
       " 'Bagdad Cafe': ([], []),\n",
       " 'The Bear': ([], []),\n",
       " 'High Hopes': ([], ['it']),\n",
       " 'Above the Law': (['motherfucker', 'we', 'we', 'pride', 'we'],\n",
       "  ['me',\n",
       "   'me',\n",
       "   'you',\n",
       "   'senator',\n",
       "   'him',\n",
       "   'senator',\n",
       "   'Phase',\n",
       "   'all',\n",
       "   'senators']),\n",
       " 'Bad Dreams': (['I', 'I', 'She', 'they', 'you', 'He', 'you', 'you'],\n",
       "  ['you',\n",
       "   'herself',\n",
       "   'themselves',\n",
       "   'himself',\n",
       "   'HARRIS',\n",
       "   'me',\n",
       "   'yourself',\n",
       "   'yourself',\n",
       "   'him',\n",
       "   'us']),\n",
       " 'Laura Lansing Slept Here': (['I', 'she'], ['myself', 'yourself', 'herself']),\n",
       " 'Short Circuit 2': (['things'], ['make', 'me', 'you']),\n",
       " 'The Glass Jungle': (['They'],\n",
       "  ['everyone', 'her', 'family', 'All', 'people']),\n",
       " 'Nocturne indien': ([], []),\n",
       " 'Shag': ([], ['myself', 'Luanne', 'you', 'him']),\n",
       " 'C.H.U.D. II: Bud the Chud': (['I', 'guys', 'C.H.U.D.s', 'we'],\n",
       "  ['you', 'God', 'me', 'victims', 'us', 'them', 'him']),\n",
       " 'Robot Jox': (['I', 'I'], ['him', 'that', 'Go', 'you']),\n",
       " 'The Disney-MGM Studios Theme Park Grand Opening': ([], []),\n",
       " 'The Toxic Avenger Part III: The Last Temptation of Toxie': ([], []),\n",
       " 'Communion': (['I', 'I', 'I'], ['it', 'you', 'you', 'you']),\n",
       " 'Beyond Darkness': (['you'], ['child']),\n",
       " 'A Shock to the System': ([], []),\n",
       " 'Forgotten Prisoners: The Amnesty Files': ([], []),\n",
       " 'Gremlins 2: The New Batch': ([], []),\n",
       " 'House Party': (['I'], ['him', 'him', 'him']),\n",
       " 'Mr. Destiny': (['you', 'mother'], ['me']),\n",
       " 'Opportunity Knocks': (['I', 'I'], ['music', 'you', 'you', 'you', 'me']),\n",
       " 'RoboCop 2': (['I', 'I', 'I', 'fuckin', 'I', 'He', 'He', 'He'],\n",
       "  ['you', 'bitches', 'it', 'it', 'you', 'him', 'you', 'anybody', 'you']),\n",
       " 'Total Recall': (['girl', 'They', 'You'],\n",
       "  ['you',\n",
       "   'guys',\n",
       "   'you',\n",
       "   'me',\n",
       "   'Muggers',\n",
       "   'you',\n",
       "   'me',\n",
       "   'you',\n",
       "   'Quaid',\n",
       "   'me',\n",
       "   'me',\n",
       "   'What',\n",
       "   'us',\n",
       "   'me',\n",
       "   'somebody']),\n",
       " 'Once a Thief 2': ([], ['kid', 'me']),\n",
       " 'All I Want for Christmas': ([], []),\n",
       " 'All Night Long': (['it', 'I', 'I'], ['bear', 'them', 'you', 'them']),\n",
       " 'Committed': (['them', 'I'],\n",
       "  ['you', 'nurses', 'you', 'you', 'nurses', 'them', 'nurses']),\n",
       " 'Convicts': (['sheriff',\n",
       "   'he',\n",
       "   'I',\n",
       "   'I',\n",
       "   'I',\n",
       "   'we',\n",
       "   'I',\n",
       "   'you',\n",
       "   'man',\n",
       "   'you',\n",
       "   'you',\n",
       "   'I',\n",
       "   'Somebody'],\n",
       "  ['me',\n",
       "   'me',\n",
       "   'you',\n",
       "   'yourself',\n",
       "   'myself',\n",
       "   'you',\n",
       "   'me',\n",
       "   'one',\n",
       "   'me',\n",
       "   'him',\n",
       "   'son',\n",
       "   'it',\n",
       "   'all',\n",
       "   'me',\n",
       "   'you',\n",
       "   'him',\n",
       "   'brother',\n",
       "   'him',\n",
       "   'him',\n",
       "   'him',\n",
       "   'him',\n",
       "   'me',\n",
       "   'you',\n",
       "   'son',\n",
       "   'place',\n",
       "   'cane',\n",
       "   'him']),\n",
       " 'Delirious': (['You', 'Paul', 'I'],\n",
       "  ['show', 'mother', 'her', 'me', 'Janet', 'you']),\n",
       " 'For the Boys': (['Margaret'], ['me']),\n",
       " 'Kickboxer 2: The Road Back': ([], []),\n",
       " 'Mystery Date': (['I', 'he', 'I', 'You'],\n",
       "  ['us', 'you', 'us', 'McHugh', 'you', 'us', 'you', 'us', 'you', 'yourself']),\n",
       " 'Shattered': (['I'], ['you', 'me', 'Jenny', 'you', 'her']),\n",
       " \"She Says She's Innocent\": ([], []),\n",
       " 'Subspecies': ([], []),\n",
       " 'The Mambo Kings': ([], []),\n",
       " 'In the Line of Duty: Street War': (['you'], ['me', 'Me', 'Carter', 'him']),\n",
       " 'Sidekicks': ([], []),\n",
       " 'Honor and Glory': (['I', 'me', 'I'],\n",
       "  ['people', 'Mickey', 'me', 'you', 'them', 'man', 'her']),\n",
       " 'Shadowlands': ([], []),\n",
       " 'Tales from Vienna Woods: Stille Nacht III.': ([], []),\n",
       " 'CB4': (['He'], ['me', 'Gusto', 'me']),\n",
       " 'Dennis the Menace': ([], ['you']),\n",
       " 'Kalifornia': (['people', 'she', 'he', 'Adele', 'me', 'him'],\n",
       "  ['victim',\n",
       "   'being',\n",
       "   'you',\n",
       "   'him',\n",
       "   'us',\n",
       "   'people',\n",
       "   'None',\n",
       "   'what',\n",
       "   'guy',\n",
       "   'man',\n",
       "   'Carrie',\n",
       "   'him',\n",
       "   'him']),\n",
       " 'Rudy': ([], []),\n",
       " 'The Beverly Hillbillies': ([], ['me', 'you', 'you', 'anyone']),\n",
       " 'The Man from Left Field': (['mom', 'mom', 'We', 'you'],\n",
       "  ['me', 'me', 'them', 'kids', 'me', 'me', 'you']),\n",
       " 'The Man Without a Face': (['he', 'you'], ['wife', 'I', 'me']),\n",
       " 'Sirens': ([], []),\n",
       " 'Emmanuelle 6: One Final Fling': ([], []),\n",
       " 'Giorgino': (['It', 'they', 'I'], ['you', 'Obey']),\n",
       " 'Maruta 3 ... Destroy all Evidence': (['I', 'You'],\n",
       "  ['him', 'you', 'me', 'idiot']),\n",
       " 'Street Fighter': (['you', 'I', 'you', 'I', 'I', 'I'],\n",
       "  ['Tsurugi', 'her', 'him', 'Tsurugi', 'you', 'you', 'you', 'me']),\n",
       " 'Bloodlust: Subspecies III': (['sunlight', 'What'], ['us', 'things']),\n",
       " 'Confessions of a Sorority Girl': (['I', 'parents', 'I', 'I'],\n",
       "  ['me', 'you', 'man', 'you']),\n",
       " 'Roadracers': (['I', 'you'], ['you', 'you']),\n",
       " 'The Chase': (['God', 'I', 'either'],\n",
       "  ['me', 'me', 'them', 'you', 'anybody', 'you', 'you', 'you']),\n",
       " 'The Road to Wellville': (['they', 'thing'], ['us', 'all', 'you']),\n",
       " 'White Fang 2: Myth of the White Wolf': ([], []),\n",
       " 'Terminal Velocity': (['I'], ['yourself', 'yourself', 'em']),\n",
       " 'Mystery of the Maya': ([], []),\n",
       " 'Assassins': (['you', 'you', 'you'],\n",
       "  ['her', 'mark', 'you', 'you', 'her', 'You', 'me', 'you']),\n",
       " 'Two Much': ([], ['you', 'rent']),\n",
       " 'Cold Comfort Farm': ([], []),\n",
       " 'The Wind in the Willows': ([], []),\n",
       " 'Total Eclipse': (['you', 'I'], ['me', 'you']),\n",
       " 'Bushwhacked': (['you', 'he', 'answers', 'I', 'I', 'you'],\n",
       "  ['somebody', 'lion', 'us', 'Max', 'anybody', 'him', 'kids', 'scouts']),\n",
       " 'Four Rooms': ([], ['me']),\n",
       " 'Jury Duty': (['Gon'],\n",
       "  ['spring',\n",
       "   'you',\n",
       "   'you',\n",
       "   'I',\n",
       "   'you',\n",
       "   'you',\n",
       "   'ButIdon',\n",
       "   'you',\n",
       "   'man',\n",
       "   'you',\n",
       "   'SHOUTINGANGRILY',\n",
       "   'me',\n",
       "   'Willy']),\n",
       " 'Just Cause': (['who', 'who', 'you', 'you', 'you', \"I'i\", 'it'],\n",
       "  ['whites',\n",
       "   'blacks',\n",
       "   'boy',\n",
       "   'Speak',\n",
       "   'Shriver',\n",
       "   'Shriver',\n",
       "   'her',\n",
       "   'her',\n",
       "   \"I'i\"]),\n",
       " 'Tom and Huck': ([], ['you', 'tom', 'you', 'you', 'Judge']),\n",
       " 'The Thorn Birds: The Missing Years': ([], ['him']),\n",
       " 'Different for Girls': ([], ['you']),\n",
       " 'Norma Jean & Marilyn': (['I', 'combination'],\n",
       "  ['him', 'yourself', 'you', 'you', 'motor', 'you', 'Quick']),\n",
       " 'D3: The Mighty Ducks': ([], ['guys']),\n",
       " 'Head Above Water': (['we'],\n",
       "  ['him', 'herself', 'me', 'yourself', 'me', 'me', 'me']),\n",
       " \"I'm Not Rappaport\": ([], []),\n",
       " 'Janet Jackson: Design of a Decade 1986/1996': (['film', 'mouth', 'I'],\n",
       "  ['someone',\n",
       "   'attack',\n",
       "   'me',\n",
       "   'inches',\n",
       "   'you',\n",
       "   'phone',\n",
       "   'them',\n",
       "   'us',\n",
       "   'him',\n",
       "   'me',\n",
       "   'me',\n",
       "   'me',\n",
       "   'me',\n",
       "   'you',\n",
       "   'her']),\n",
       " 'Normal Life': (['you', 'you', 'Pem', 'I'], ['him', 'him', 'you', 'him']),\n",
       " 'Swingers': ([], ['bunny', 'bunny', 'bunny']),\n",
       " 'The Rock': (['teaspoon'], ['organism', 'you', 'people', 'people']),\n",
       " 'Two If by Sea': ([], ['you']),\n",
       " 'Unnaturally Born Killers': (['he', 'I', 'fire', 'they', 'love', 'she', \"'s\"],\n",
       "  ['you',\n",
       "   'my',\n",
       "   'you',\n",
       "   'camera',\n",
       "   'somebody',\n",
       "   'you',\n",
       "   'father',\n",
       "   'scars',\n",
       "   'I',\n",
       "   'you',\n",
       "   'you',\n",
       "   'you',\n",
       "   'us',\n",
       "   'me']),\n",
       " 'Mary Reilly': ([], ['eels']),\n",
       " 'Critical Care': (['you', 'it'], ['him', 'father', 'father']),\n",
       " 'The Ugly': (['who', 'you', 'me', 'you'],\n",
       "  ['us', 'you', 'her', 'mum', 'her', 'them']),\n",
       " 'Gang Related': (['I', \"'s\", 'we', 'he'],\n",
       "  ['Who',\n",
       "   'George',\n",
       "   'her',\n",
       "   'her',\n",
       "   'Frank',\n",
       "   'What',\n",
       "   'witness',\n",
       "   'somebody',\n",
       "   'partner']),\n",
       " 'Last Stand at Saber River': (['he', 'I', 'Kidston', 'I', 'You', 'we'],\n",
       "  ['you',\n",
       "   'Mexican',\n",
       "   'you',\n",
       "   'you',\n",
       "   'Vern',\n",
       "   'you',\n",
       "   'you',\n",
       "   'you',\n",
       "   'horses',\n",
       "   'friend',\n",
       "   'you']),\n",
       " 'Starship Troopers': (['us', 'You', 'they', 'I', 'they'],\n",
       "  ['em',\n",
       "   'thing',\n",
       "   'attitude',\n",
       "   'guys',\n",
       "   'Bugs',\n",
       "   'warrior',\n",
       "   'Bugs',\n",
       "   'it',\n",
       "   'Bugs',\n",
       "   'us',\n",
       "   'Roughnecks',\n",
       "   'you',\n",
       "   'us',\n",
       "   'you',\n",
       "   'race',\n",
       "   'Bugs',\n",
       "   'sir']),\n",
       " \"Ulee's Gold\": ([], []),\n",
       " 'Under Wraps': ([], []),\n",
       " 'Best Men': (['I'], ['me', 'her']),\n",
       " 'Seven Years in Tibet': (['he'], ['You']),\n",
       " 'American Dragons': (['you', 'you'], ['me', 'her', 'him', 'us', 'me']),\n",
       " 'Wrongfully Accused': (['we'], ['myself', 'him', 'father', 'father', 'me']),\n",
       " \"Tess of the D'Urbervilles\": (['sin'], ['him', 'me']),\n",
       " 'Brave New World': (['Marx', 'they'], ['liar', 'luck', 'themselves', 'me']),\n",
       " 'Dead Man on Campus': ([], []),\n",
       " 'Holy Man': (['I'], ['department', 'ya']),\n",
       " 'Strangeland': (['we', 'I', 'I'],\n",
       "  ['her', 'music', 'him', 'him', 'you', 'it']),\n",
       " 'The Magic Sword: Quest for Camelot': (['chicken'], []),\n",
       " 'Thursday': ([], ['you', 'me', 'you', 'man', 'time', 'you']),\n",
       " 'Crazy in Alabama': (['Dove', 'they', 'they', 'them', 'you', 'you'],\n",
       "  ['me',\n",
       "   'us',\n",
       "   'some',\n",
       "   'us',\n",
       "   'somebody',\n",
       "   'her',\n",
       "   'rat',\n",
       "   'that',\n",
       "   'person',\n",
       "   'it']),\n",
       " 'The Secret Laughter of Women': ([], ['brains']),\n",
       " '10 Things I Hate About You': ([], []),\n",
       " 'Being John Malkovich': (['we'], ['Maxine', 'wife', 'her', 'you', 'Maxine']),\n",
       " 'Deuce Bigalow: Male Gigolo': (['I', 'I'], ['counsellor', 'you', 'you']),\n",
       " \"Don't Look Under the Bed\": ([], []),\n",
       " 'Error in Judgment': ([], ['wife', 'wife', 'wife']),\n",
       " 'Healing the Wounded Heart': (['I', 'who'], ['yourself', 'her', 'friend']),\n",
       " 'Long Strange Trip, or The Writer, the Naked Girl, and the Guy with a Hole in His Head': (['that'],\n",
       "  ['him', 'him']),\n",
       " 'Moving Targets': (['I'],\n",
       "  ['me', 'you', 'him', 'him', 'me', 'None', 'Arrest', 'me', 'brother']),\n",
       " 'The Best Man': ([], []),\n",
       " 'The Wood': (['I'], ['you', 'him']),\n",
       " 'Two Thousand and None': ([], ['anybody']),\n",
       " 'Murder at the Cannes Film Festival': ([], []),\n",
       " 'State and Main': (['You'], ['horse']),\n",
       " 'The Coconut Revolution': ([], ['orders', 'villagers']),\n",
       " 'The Sight': (['He'], ['her', 'them', 'you', 'you']),\n",
       " 'The Photographer': ([], []),\n",
       " 'Timecode': ([], ['herself', 'Lincoln', 'us', 'yourself', 'man']),\n",
       " 'What Women Want': ([], []),\n",
       " 'Whatever It Takes': ([], ['man', 'Cosmo']),\n",
       " 'Crocodile Dundee in Los Angeles': (['I'],\n",
       "  ['boar', 'crocodiles', 'em', 'anything', 'lion']),\n",
       " 'Public Eminem #1': ([], []),\n",
       " 'Last Orders': ([], []),\n",
       " 'All Over the Guy': (['I', 'silence'],\n",
       "  ['you', 'you', 'Rachel', 'guys', 'you', 'it']),\n",
       " 'American Outlaws': (['I', 'you', 'he', 'I', 'I', \"here'll\", 'I', 'I', 'I'],\n",
       "  ['brothers',\n",
       "   'son',\n",
       "   'anybody',\n",
       "   'number',\n",
       "   'Cole',\n",
       "   'Cole',\n",
       "   'Pinkertons',\n",
       "   'men',\n",
       "   'detectives',\n",
       "   'em',\n",
       "   'you',\n",
       "   'I',\n",
       "   'man',\n",
       "   'you',\n",
       "   'JesseJames',\n",
       "   'you']),\n",
       " 'Brigham City': ([], ['you']),\n",
       " 'Green Dragon': ([], []),\n",
       " 'Hearts in Atlantis': ([], []),\n",
       " 'Kingdom Come': (['I', 'it'],\n",
       "  ['us', 'us', 'nobody', 'us', 'you', 'you', 'him', 'Lucille']),\n",
       " 'The Center of the World': ([], []),\n",
       " 'The Magic Kingdom and the Magic of Television': ([], []),\n",
       " 'Things Behind the Sun': (['I', 'I'], ['will', 'you', 'man']),\n",
       " \"The Caveman's Valentine\": (['he', 'He', 'me', 'He', 'Lulu', 'me'],\n",
       "  ['me',\n",
       "   'him',\n",
       "   'me',\n",
       "   'me',\n",
       "   'me',\n",
       "   'you',\n",
       "   'you',\n",
       "   'you',\n",
       "   'us',\n",
       "   'cop',\n",
       "   'him',\n",
       "   'father']),\n",
       " 'Who Is Cletis Tout?': (['You', 'I', 'I', 'Virago', 'You', 'you'],\n",
       "  ['you',\n",
       "   'him',\n",
       "   'him',\n",
       "   'Micah',\n",
       "   'associates',\n",
       "   'me',\n",
       "   'them',\n",
       "   'shit',\n",
       "   'This',\n",
       "   'you',\n",
       "   'you',\n",
       "   'somebody',\n",
       "   'me',\n",
       "   'them',\n",
       "   'them',\n",
       "   'you']),\n",
       " 'The Fast and the Furious': ([], []),\n",
       " 'The Others': (['you', 'light', 't'],\n",
       "  ['anyone', 'me', 'children', 'them', 'Children']),\n",
       " 'Slackers': (['I', 'me'], ['Who']),\n",
       " 'The Future Is Not What It Used to Be': ([], []),\n",
       " 'Swept Away': (['I'], ['bitch', 'bitch', 'myself']),\n",
       " 'The Importance of Being Earnest': ([], []),\n",
       " \"Charlie Brown's Christmas Tales\": ([], []),\n",
       " 'Home Alone 4': ([], ['him', 'Uuh']),\n",
       " 'Jackass: The Movie': ([], ['myself']),\n",
       " 'Panic Room': (['You', 'I', \"they'II\", 'I'],\n",
       "  ['phones',\n",
       "   'them',\n",
       "   'him',\n",
       "   'Lie',\n",
       "   'motherfucker',\n",
       "   'you',\n",
       "   'both',\n",
       "   'her',\n",
       "   'her',\n",
       "   'us',\n",
       "   'shit',\n",
       "   'She',\n",
       "   'police']),\n",
       " 'Run Ronnie Run': (['What', \"'s\"], ['me', 'son', 'kid', 'man']),\n",
       " 'xXx': (['you', 'cigarette', 'it', 'It', 'cigarette'],\n",
       "  ['bottle', 'you', 'number', 'mayhem', 'everybody', 'millions', 'cop']),\n",
       " 'Cowards Bend the Knee': ([], []),\n",
       " 'Mambo Italiano': (['food', 'parents', 'They'],\n",
       "  ['you', 'them', 'them', 'me', 'me', 'me']),\n",
       " 'The Poet': ([], ['me', 'Ching', 'myself']),\n",
       " 'Traces of a Dragon': (['they', 'they'], ['her', 'yourself', 'them']),\n",
       " '12/09/01': ([], []),\n",
       " 'Acid Dreams': (['I', 'they'], ['that', 'Me', 'It', 'rdete']),\n",
       " 'Eroica': ([], []),\n",
       " 'Absolon': (['He', 'I', 'you', 'you'],\n",
       "  ['anyone', 'us', 'me', 'girl', 'him', 'cure']),\n",
       " 'A Painted House': (['I', 'I'], ['nobody', 'boy', 'him', 'mother', 'hours']),\n",
       " 'Good Boy!': ([], []),\n",
       " 'I Love Your Work': ([], ['you', 'Yehud']),\n",
       " 'I Want a Dog for Christmas, Charlie Brown': ([], []),\n",
       " 'Linkin Park: Live in Texas': ([], []),\n",
       " 'Open Water': (['I'], ['fuckers']),\n",
       " 'The Thorn Birds: Old Friends New Stories': ([], []),\n",
       " 'Freddy vs. Jason': (['I', 'dad', 'him'], ['choices', 'him', 'mom', 'her']),\n",
       " 'Wrong Turn': ([], []),\n",
       " 'The Foreigner': (['he', 'you'],\n",
       "  ['me', 'me', 'legend', 'me', 'me', 'me', 'me', 'husband']),\n",
       " 'Jimmywork': ([], []),\n",
       " 'The Blue Butterfly': (['it'], ['me']),\n",
       " 'The Purifiers': ([], ['you']),\n",
       " 'Wimbledon': (['I'], ['father', 'friends', 'him', 'me']),\n",
       " 'Meet the Fockers': ([], ['me']),\n",
       " 'Napoleon Dynamite': ([], []),\n",
       " 'Song of the Dead': ([], ['me']),\n",
       " 'Suburban Madness': (['things', 'you'], ['you']),\n",
       " 'Weezer: Video Capture Device - Treasures from the Vault 1991-2002': (['I',\n",
       "   'he',\n",
       "   'you',\n",
       "   'you'],\n",
       "  ['you', 'women', 'people', 'me', 'whom', 'me', 'me', 'me']),\n",
       " 'Single Santa Seeks Mrs. Claus': ([], []),\n",
       " 'Out of Reach': (['they', 'I'], ['who', 'l', 'you']),\n",
       " 'Audition': (['I', 'it'], ['you', 'you', 'Cause']),\n",
       " 'Memory for Max, Claire, Ida and Company': (['I', 'I', 'I', 'I'],\n",
       "  ['you', 'him', 'him', 'somebody']),\n",
       " 'Darshan: The Embrace': (['we'], ['them']),\n",
       " 'Just Friends': ([], ['you', 'man', 'you']),\n",
       " 'Off Screen': ([], []),\n",
       " 'Karol: A Man Who Became Pope': (['them', 'They', 'that'],\n",
       "  ['me', 'souls', 'I', 'anyone', 'you', 'Nowak']),\n",
       " 'The Werewolf Cult Chronicles: Vietnam 1969': ([], []),\n",
       " 'On a Clear Day': ([], []),\n",
       " \"Don't Come Knocking\": ([], []),\n",
       " 'Beyond the Gates': (['they', 'him', 'they', 'bullets'],\n",
       "  ['anyone', 'soldiers', 'people', 'us', 'pain', 'I']),\n",
       " 'Beauty Shop': ([], ['me']),\n",
       " 'Brotherhood': (['he'], ['it']),\n",
       " 'Drop Dead Sexy': (['Some', 'spider', 'bite', 'I', 'he', 'he', 'I'],\n",
       "  ['you', 'dog', 'you', 'us', 'her', 'anyone', 'you', 'you', 'both', 'both']),\n",
       " 'Must Love Dogs': (['me'], ['you']),\n",
       " 'Sorry, Haters': (['it'], ['themselves', 'me', 'you', 'themselves', 'me']),\n",
       " 'Stuart Little 3: Call of the Wild': ([], ['me']),\n",
       " 'The Hunt for the BTK Killer': (['I', 'I', 'I', 'I', 'them'],\n",
       "  ['dog', 'people']),\n",
       " 'The Island': (['they'], ['you', 'us', 'us', 'reason', 'me', 'her']),\n",
       " 'The Notorious Bettie Page': (['you'], ['me']),\n",
       " 'Through the Fire': ([], []),\n",
       " 'Waterparks 2005': ([], ['Who']),\n",
       " 'Lords of Dogtown': ([], ['him', 'motherfucker']),\n",
       " 'The Skeleton Key': (['her', 'I'],\n",
       "  ['himself', 'him', 'me', 'you', 'me', 'you']),\n",
       " 'The Cave': ([], []),\n",
       " 'Slipstream': (['I', 'I'], ['Call', 'ambulance', 'people']),\n",
       " 'Green Street Hooligans': (['you', 'I', 'We'],\n",
       "  ['soldiers', 'me', 'Kill', 'brother', 'Tommy', 'son']),\n",
       " 'Solar Attack': ([], []),\n",
       " 'Trailer Park Boys: The Movie': ([], []),\n",
       " 'Grimm Love': ([], []),\n",
       " 'I Want to Be a Pilot': ([], []),\n",
       " 'Exclusive Interview with Melissa Sue Anderson': ([], []),\n",
       " 'New York Waiting': ([], []),\n",
       " 'Johnny Was': (['I', 'I', 'fuckin', 'we'],\n",
       "  ['him', 'ya', 'people', 'you', 'customer']),\n",
       " 'Secrets of the Deep': (['They'], ['pod', 'it']),\n",
       " \"Sharpe's Challenge\": (['we', 'I', 'patience', 'which'],\n",
       "  ['daughter', 'him', 'him', 'us', 'you', 'you', 'soldiers', 'Madame']),\n",
       " 'Akeelah and the Bee': ([], []),\n",
       " 'Black Snake Moan': (['you'], ['him', 'somebody', 'man', 'man']),\n",
       " 'Creatures from the Pink Lagoon': ([], ['you']),\n",
       " 'Day for Night: Whitney Biennial 2006': (['you', 'I', 'I'],\n",
       "  ['anyone', 'whom', 'All']),\n",
       " 'Debbie Rochon Confidential: My Years in Tromaville Exposed!': (['We',\n",
       "   'I',\n",
       "   'Mom'],\n",
       "  ['him', 'child', 'him', 'him', 'baby', 'me', 'ourselves']),\n",
       " 'Factory Girl': (['folks', 'He'], ['me', 'What', 'me', 'you']),\n",
       " \"Getting Into Grey's Anatomy\": ([], []),\n",
       " 'Hatchet': (['I', 'you', 'I', 'we', 'he'],\n",
       "  ['you', 'him', 'you', 'us', 'all', 'him', 'all', 'me']),\n",
       " 'Jeff Dunham: Arguing with Myself': (['Someone'], ['me']),\n",
       " 'Rampage: The Hillside Strangler Murders': (['you', 'He', 'Who', 'Woman'],\n",
       "  ['girls', 'me', 'you', 'me', 'sister', 'anybody', 'me']),\n",
       " 'Relentless Enemies': (['lions'], ['newborn', 'hyenas', 'them']),\n",
       " 'The Godfather: Money, Power, Respect': ([], []),\n",
       " 'The Lost': (['me', 'Ray', 'We', 'I', 'I', 'I', 'I', 'you'],\n",
       "  ['me', 'you', 'us', 'people', 'ass', 'you', 'me', 'you', 'horses']),\n",
       " 'UFC: Fight Night 7': (['Snakebacks', 'Vandals'], ['Vandal']),\n",
       " 'Wicked Little Things': (['they', 'I', 'I', 'They'],\n",
       "  ['us', 'all', 'him', 'em', 'you', 'all', 'him']),\n",
       " 'Boarding Gate': (['I'], []),\n",
       " \"A West Texas Children's Story\": (['you'], ['people', 'you']),\n",
       " 'American Loser': ([], ['me', 'me']),\n",
       " 'Boat': ([], []),\n",
       " 'Careless': (['fellows'], ['COUGHING', 'someone', 'yourself']),\n",
       " 'Chris & Don. A Love Story': ([], []),\n",
       " 'High School Musical 2': ([], []),\n",
       " \"I'm Through with White Girls (The Inevitable Undoing of Jay Brooks)\": ([],\n",
       "  ['me', 'man', 'you']),\n",
       " 'In Search of a Midnight Kiss': (['I'], ['it', 'you']),\n",
       " 'La cucina': ([], []),\n",
       " 'Nancy Drew': (['you', 'you'], ['us', 'me', 'me', 'Dehlia', 'me', 'Dehlia']),\n",
       " \"Shoot 'Em Up\": (['me', \"'s\", 'I', 'I'],\n",
       "  ['woman',\n",
       "   'you',\n",
       "   'it',\n",
       "   'mother',\n",
       "   'baby',\n",
       "   'man',\n",
       "   'you',\n",
       "   'people',\n",
       "   'him',\n",
       "   'Rutledge']),\n",
       " 'The Babysitters': ([], []),\n",
       " 'The Beast': ([], []),\n",
       " 'The Final Curtain': (['you', 'I'],\n",
       "  ['me', 'Loretta', 'life', 'girl', 'anyone', 'us']),\n",
       " 'Vacancy': (['Anything'], ['us', 'me', 'us', 'people', 'me', 'us']),\n",
       " 'September Dawn': (['You', 'He', 'He', 'He', 'I'],\n",
       "  ['Indians',\n",
       "   'Young',\n",
       "   'apostles',\n",
       "   'her',\n",
       "   'him',\n",
       "   'her',\n",
       "   'her',\n",
       "   'l',\n",
       "   'her',\n",
       "   'women',\n",
       "   'her']),\n",
       " 'Taken': (['I'], ['luck', 'you']),\n",
       " 'Daylight Robbery': (['I'], ['you']),\n",
       " 'Franklyn': (['I'], ['man', 'myself', 'us', 'both']),\n",
       " 'Ian Hislop Goes Off the Rails': ([], []),\n",
       " 'Incendiary': ([], ['mother', 'that']),\n",
       " 'The Other Boleyn Girl': ([], []),\n",
       " 'Baghead': ([], ['me', 'you']),\n",
       " 'Bald': (['I', 'I', 'fuckin', 'I', 'I'],\n",
       "  ['him',\n",
       "   'man',\n",
       "   'you',\n",
       "   'him',\n",
       "   'me',\n",
       "   'slits',\n",
       "   'him',\n",
       "   'us',\n",
       "   'Help',\n",
       "   'kid',\n",
       "   'kid']),\n",
       " 'Deep Winter': (['brother'], ['me', 'me']),\n",
       " 'Delgo': ([], []),\n",
       " 'Explicit Ills': ([], []),\n",
       " 'Good Dick': ([], []),\n",
       " 'Lakeview Terrace': ([], ['them', 'us']),\n",
       " 'Living Hell': (['we', 'I'], ['nucleus', 'nucleus', 'word']),\n",
       " 'Pistol Whipped': (['you', 'we', 'me', 'you', 'I', 'you', 'I'],\n",
       "  ['you',\n",
       "   'asset',\n",
       "   'people',\n",
       "   'you',\n",
       "   'them',\n",
       "   'him',\n",
       "   'priest',\n",
       "   'priest',\n",
       "   'motherfucker',\n",
       "   'mama',\n",
       "   'brother',\n",
       "   'daddy',\n",
       "   'partner',\n",
       "   'you',\n",
       "   'you']),\n",
       " 'True Confessions of a Hollywood Starlet': (['you'], ['me', 'yourself']),\n",
       " 'The X Files: I Want to Believe': ([], []),\n",
       " 'Igor': (['kind', 'you', 'It', 'him', 'him', 'I', 'it'],\n",
       "  ['you', 'anyone', 'me', 'fly', 'me', 'me']),\n",
       " 'My Zinc Bed': ([], ['bastard']),\n",
       " 'The Band': ([], []),\n",
       " 'Grown Up Movie Star': (['you', 'fuckin', 'you'],\n",
       "  ['me', 'Buzz', 'all', 'shit', 'him', 'you', 'him']),\n",
       " \"The Devil's Ground\": (['He', 'you', 'we', 'we'],\n",
       "  ['you', 'one', 'them', 'me', 'me', 'them', 'Tobey']),\n",
       " 'The Perfect Game': ([], ['me', 'giants']),\n",
       " 'The Secret of Kells': ([], []),\n",
       " 'Karma, Confessions and Holi': (['I'], ['him']),\n",
       " 'Doghouse': ([], ['her']),\n",
       " 'My Last Five Girlfriends': ([], []),\n",
       " 'Skellig: The Owl Man': (['I'], ['it']),\n",
       " 'The Cry of the Owl': (['I'],\n",
       "  ['me', 'wife', 'me', 'her', 'wife', 'him', 'you']),\n",
       " 'Ben 10: Alien Swarm': ([], []),\n",
       " 'Big River Man': (['which'], ['animal', 'us', 'him']),\n",
       " 'Chain Letter': (['Dahmer'], ['us', 'people']),\n",
       " 'Command Performance': (['you', 'They', 'They'],\n",
       "  ['brother', 'people', 'hostages', 'me', 'us']),\n",
       " 'Double Identity': (['I'],\n",
       "  ['him', 'you', 'you', 'him', 'her', 'cartel', 'you']),\n",
       " 'Endless Bummer': (['I', 'I', 'I', 'fuckin', 'I', 'He', 'fuckin', 'Whatever'],\n",
       "  ['me',\n",
       "   'him',\n",
       "   'him',\n",
       "   'him',\n",
       "   'him',\n",
       "   'guy',\n",
       "   'you',\n",
       "   'him',\n",
       "   'anyone',\n",
       "   'you',\n",
       "   'you',\n",
       "   'myself',\n",
       "   'me',\n",
       "   'what',\n",
       "   'you']),\n",
       " 'Fighting': (['He', 'I'], ['me', 'man', 'someone', 'somebody', 'you', 'Lot']),\n",
       " 'Handsome Harry': ([], []),\n",
       " 'Hole in One': (['I'], ['you', 'you', 'you', 'you']),\n",
       " 'Homecoming': ([], ['me', 'Shelby']),\n",
       " 'Invictus': ([], ['us', 'him']),\n",
       " 'Land of the Lost': ([], ['him']),\n",
       " 'Madea Goes to Jail': ([], []),\n",
       " 'Mercy': ([], []),\n",
       " 'Outrage': ([], []),\n",
       " \"Someone's Knocking at the Door\": ([], []),\n",
       " 'The Big Gay Musical': ([], ['Abel']),\n",
       " 'Wrong Turn at Tahoe': (['you', 'you', 'stress', 'you', 'you'],\n",
       "  ['me', 'Tahoe', 'you', 'me', 'me', 'you', 'me']),\n",
       " 'Youth in Revolt': ([], []),\n",
       " 'Underworld: Rise of the Lycans': (['you', 'He', 'I'],\n",
       "  ['kind', 'lord', 'them', 'her', 'you', 'All']),\n",
       " 'Kites': (['You', 'I'], ['him', 'me', 'i', 'him']),\n",
       " 'The Big I Am': ([], ['you', 'You']),\n",
       " 'The Reeds': (['you'], ['it', 'me']),\n",
       " 'For Colored Girls': (['I'], ['you']),\n",
       " 'Howl': ([], []),\n",
       " 'Mob Rules': (['I', 'Guns'], ['me', 'bitch', 'you', 'people']),\n",
       " 'The Lazarus Papers': (['I', 'I', 'I', 'I'], ['you', 'you', 'you', 'you']),\n",
       " 'The Tempest': (['I'], ['witch', 'daughter']),\n",
       " 'TRON: Legacy': ([], []),\n",
       " 'Tinker Tailor Soldier Spy': (['Dolphin'], ['me', 'me']),\n",
       " 'Ironclad': (['you', 'you', 'You', 'you', 'I'],\n",
       "  ['woman', 'me', 'women', 'women']),\n",
       " 'The Resident': ([], ['you']),\n",
       " 'Extremely Loud & Incredibly Close': (['I'], ['son', 'you', 'OSKAR']),\n",
       " \"That's My Boy\": (['I'], ['you', 'you', 'you', 'you']),\n",
       " 'Star Trek: Into Darkness': (['you', 'which', 'you', 'I', 'radiation'],\n",
       "  ['us',\n",
       "   'us',\n",
       "   'people',\n",
       "   'him',\n",
       "   'thing',\n",
       "   'us',\n",
       "   'us',\n",
       "   'me',\n",
       "   'you',\n",
       "   'Captain',\n",
       "   'you',\n",
       "   'crew',\n",
       "   'us']),\n",
       " 'The Pardon': (['You', 'you'],\n",
       "  ['policeman', 'me', 'me', 'Galloway', 'honor', 'him', 'Pick']),\n",
       " 'Something Wicked': (['I', 'she', 'you'], ['you', 'Susie', 'me', 'me']),\n",
       " 'Ghostbusters: Answer the Call': (['ghosts'],\n",
       "  ['you', 'Erin', 'him', 'shirt'])}"
      ]
     },
     "execution_count": 308,
     "metadata": {},
     "output_type": "execute_result"
    }
   ],
   "source": [
    "movie_violences"
   ]
  },
  {
   "cell_type": "markdown",
   "metadata": {},
   "source": [
    "That's pretty neat: we can see who tried to kill who, or at least talked about it. A lot of 'I' killing 'you', as we'd imagine. What else can we see?\n",
    "\n",
    "The movie, about time, which is about time travel, funnily enough has:\n",
    "`'About Time': (['I'], ['Hitler'])`"
   ]
  },
  {
   "cell_type": "markdown",
   "metadata": {},
   "source": [
    "------"
   ]
  },
  {
   "cell_type": "markdown",
   "metadata": {},
   "source": [
    "## <font color=\"red\">*Exercise 6*</font>\n",
    "\n",
    "<font color=\"red\">In the cells immediately following, parse a (modest) subset of your corpus of interest. How deep are the phrase structure and dependency parse trees nested? How does parse depth relate to perceived sentence complexity? What are five things you can extract from these parses for subsequent analysis? (e.g., nouns collocated in a noun phrase; adjectives that modify a noun; etc.) Capture these sets of things for a focal set of words (e.g., \"Bush\", \"Obama\", \"Trump\"). What do they reveal about the roles that these entities are perceive to play in the social world inscribed by your texts?"
   ]
  },
  {
   "cell_type": "markdown",
   "metadata": {},
   "source": [
    "### Task 1: Dependency parsing of a sentence"
   ]
  },
  {
   "cell_type": "markdown",
   "metadata": {},
   "source": [
    "Let's just pick a random tweets."
   ]
  },
  {
   "cell_type": "code",
   "execution_count": 316,
   "metadata": {},
   "outputs": [
    {
     "data": {
      "text/plain": [
       "'childofzami the institutionalized rape of black women has never been as powerful a symbol of black oppression as the spectacle of lynching rape has always involved patriarchal notions of women being at best not entirely unwilling'"
      ]
     },
     "execution_count": 316,
     "metadata": {},
     "output_type": "execute_result"
    }
   ],
   "source": [
    "tweets_df['cleaned_content'][2189]"
   ]
  },
  {
   "cell_type": "code",
   "execution_count": 377,
   "metadata": {},
   "outputs": [
    {
     "data": {
      "text/html": [
       "<span class=\"tex2jax_ignore\"><svg xmlns=\"http://www.w3.org/2000/svg\" xmlns:xlink=\"http://www.w3.org/1999/xlink\" xml:lang=\"en\" id=\"34431eb5c6234eb0923b22584ed653f7-0\" class=\"displacy\" width=\"6350\" height=\"749.5\" direction=\"ltr\" style=\"max-width: none; height: 749.5px; color: #000000; background: #ffffff; font-family: Arial; direction: ltr\">\n",
       "<text class=\"displacy-token\" fill=\"currentColor\" text-anchor=\"middle\" y=\"659.5\">\n",
       "    <tspan class=\"displacy-word\" fill=\"currentColor\" x=\"50\">childofzami</tspan>\n",
       "    <tspan class=\"displacy-tag\" dy=\"2em\" fill=\"currentColor\" x=\"50\">VERB</tspan>\n",
       "</text>\n",
       "\n",
       "<text class=\"displacy-token\" fill=\"currentColor\" text-anchor=\"middle\" y=\"659.5\">\n",
       "    <tspan class=\"displacy-word\" fill=\"currentColor\" x=\"225\">the</tspan>\n",
       "    <tspan class=\"displacy-tag\" dy=\"2em\" fill=\"currentColor\" x=\"225\">DET</tspan>\n",
       "</text>\n",
       "\n",
       "<text class=\"displacy-token\" fill=\"currentColor\" text-anchor=\"middle\" y=\"659.5\">\n",
       "    <tspan class=\"displacy-word\" fill=\"currentColor\" x=\"400\">institutionalized</tspan>\n",
       "    <tspan class=\"displacy-tag\" dy=\"2em\" fill=\"currentColor\" x=\"400\">ADJ</tspan>\n",
       "</text>\n",
       "\n",
       "<text class=\"displacy-token\" fill=\"currentColor\" text-anchor=\"middle\" y=\"659.5\">\n",
       "    <tspan class=\"displacy-word\" fill=\"currentColor\" x=\"575\">rape</tspan>\n",
       "    <tspan class=\"displacy-tag\" dy=\"2em\" fill=\"currentColor\" x=\"575\">NOUN</tspan>\n",
       "</text>\n",
       "\n",
       "<text class=\"displacy-token\" fill=\"currentColor\" text-anchor=\"middle\" y=\"659.5\">\n",
       "    <tspan class=\"displacy-word\" fill=\"currentColor\" x=\"750\">of</tspan>\n",
       "    <tspan class=\"displacy-tag\" dy=\"2em\" fill=\"currentColor\" x=\"750\">ADP</tspan>\n",
       "</text>\n",
       "\n",
       "<text class=\"displacy-token\" fill=\"currentColor\" text-anchor=\"middle\" y=\"659.5\">\n",
       "    <tspan class=\"displacy-word\" fill=\"currentColor\" x=\"925\">black</tspan>\n",
       "    <tspan class=\"displacy-tag\" dy=\"2em\" fill=\"currentColor\" x=\"925\">ADJ</tspan>\n",
       "</text>\n",
       "\n",
       "<text class=\"displacy-token\" fill=\"currentColor\" text-anchor=\"middle\" y=\"659.5\">\n",
       "    <tspan class=\"displacy-word\" fill=\"currentColor\" x=\"1100\">women</tspan>\n",
       "    <tspan class=\"displacy-tag\" dy=\"2em\" fill=\"currentColor\" x=\"1100\">NOUN</tspan>\n",
       "</text>\n",
       "\n",
       "<text class=\"displacy-token\" fill=\"currentColor\" text-anchor=\"middle\" y=\"659.5\">\n",
       "    <tspan class=\"displacy-word\" fill=\"currentColor\" x=\"1275\">has</tspan>\n",
       "    <tspan class=\"displacy-tag\" dy=\"2em\" fill=\"currentColor\" x=\"1275\">AUX</tspan>\n",
       "</text>\n",
       "\n",
       "<text class=\"displacy-token\" fill=\"currentColor\" text-anchor=\"middle\" y=\"659.5\">\n",
       "    <tspan class=\"displacy-word\" fill=\"currentColor\" x=\"1450\">never</tspan>\n",
       "    <tspan class=\"displacy-tag\" dy=\"2em\" fill=\"currentColor\" x=\"1450\">ADV</tspan>\n",
       "</text>\n",
       "\n",
       "<text class=\"displacy-token\" fill=\"currentColor\" text-anchor=\"middle\" y=\"659.5\">\n",
       "    <tspan class=\"displacy-word\" fill=\"currentColor\" x=\"1625\">been</tspan>\n",
       "    <tspan class=\"displacy-tag\" dy=\"2em\" fill=\"currentColor\" x=\"1625\">AUX</tspan>\n",
       "</text>\n",
       "\n",
       "<text class=\"displacy-token\" fill=\"currentColor\" text-anchor=\"middle\" y=\"659.5\">\n",
       "    <tspan class=\"displacy-word\" fill=\"currentColor\" x=\"1800\">as</tspan>\n",
       "    <tspan class=\"displacy-tag\" dy=\"2em\" fill=\"currentColor\" x=\"1800\">ADV</tspan>\n",
       "</text>\n",
       "\n",
       "<text class=\"displacy-token\" fill=\"currentColor\" text-anchor=\"middle\" y=\"659.5\">\n",
       "    <tspan class=\"displacy-word\" fill=\"currentColor\" x=\"1975\">powerful</tspan>\n",
       "    <tspan class=\"displacy-tag\" dy=\"2em\" fill=\"currentColor\" x=\"1975\">ADJ</tspan>\n",
       "</text>\n",
       "\n",
       "<text class=\"displacy-token\" fill=\"currentColor\" text-anchor=\"middle\" y=\"659.5\">\n",
       "    <tspan class=\"displacy-word\" fill=\"currentColor\" x=\"2150\">a</tspan>\n",
       "    <tspan class=\"displacy-tag\" dy=\"2em\" fill=\"currentColor\" x=\"2150\">DET</tspan>\n",
       "</text>\n",
       "\n",
       "<text class=\"displacy-token\" fill=\"currentColor\" text-anchor=\"middle\" y=\"659.5\">\n",
       "    <tspan class=\"displacy-word\" fill=\"currentColor\" x=\"2325\">symbol</tspan>\n",
       "    <tspan class=\"displacy-tag\" dy=\"2em\" fill=\"currentColor\" x=\"2325\">NOUN</tspan>\n",
       "</text>\n",
       "\n",
       "<text class=\"displacy-token\" fill=\"currentColor\" text-anchor=\"middle\" y=\"659.5\">\n",
       "    <tspan class=\"displacy-word\" fill=\"currentColor\" x=\"2500\">of</tspan>\n",
       "    <tspan class=\"displacy-tag\" dy=\"2em\" fill=\"currentColor\" x=\"2500\">ADP</tspan>\n",
       "</text>\n",
       "\n",
       "<text class=\"displacy-token\" fill=\"currentColor\" text-anchor=\"middle\" y=\"659.5\">\n",
       "    <tspan class=\"displacy-word\" fill=\"currentColor\" x=\"2675\">black</tspan>\n",
       "    <tspan class=\"displacy-tag\" dy=\"2em\" fill=\"currentColor\" x=\"2675\">ADJ</tspan>\n",
       "</text>\n",
       "\n",
       "<text class=\"displacy-token\" fill=\"currentColor\" text-anchor=\"middle\" y=\"659.5\">\n",
       "    <tspan class=\"displacy-word\" fill=\"currentColor\" x=\"2850\">oppression</tspan>\n",
       "    <tspan class=\"displacy-tag\" dy=\"2em\" fill=\"currentColor\" x=\"2850\">NOUN</tspan>\n",
       "</text>\n",
       "\n",
       "<text class=\"displacy-token\" fill=\"currentColor\" text-anchor=\"middle\" y=\"659.5\">\n",
       "    <tspan class=\"displacy-word\" fill=\"currentColor\" x=\"3025\">as</tspan>\n",
       "    <tspan class=\"displacy-tag\" dy=\"2em\" fill=\"currentColor\" x=\"3025\">ADP</tspan>\n",
       "</text>\n",
       "\n",
       "<text class=\"displacy-token\" fill=\"currentColor\" text-anchor=\"middle\" y=\"659.5\">\n",
       "    <tspan class=\"displacy-word\" fill=\"currentColor\" x=\"3200\">the</tspan>\n",
       "    <tspan class=\"displacy-tag\" dy=\"2em\" fill=\"currentColor\" x=\"3200\">DET</tspan>\n",
       "</text>\n",
       "\n",
       "<text class=\"displacy-token\" fill=\"currentColor\" text-anchor=\"middle\" y=\"659.5\">\n",
       "    <tspan class=\"displacy-word\" fill=\"currentColor\" x=\"3375\">spectacle</tspan>\n",
       "    <tspan class=\"displacy-tag\" dy=\"2em\" fill=\"currentColor\" x=\"3375\">NOUN</tspan>\n",
       "</text>\n",
       "\n",
       "<text class=\"displacy-token\" fill=\"currentColor\" text-anchor=\"middle\" y=\"659.5\">\n",
       "    <tspan class=\"displacy-word\" fill=\"currentColor\" x=\"3550\">of</tspan>\n",
       "    <tspan class=\"displacy-tag\" dy=\"2em\" fill=\"currentColor\" x=\"3550\">ADP</tspan>\n",
       "</text>\n",
       "\n",
       "<text class=\"displacy-token\" fill=\"currentColor\" text-anchor=\"middle\" y=\"659.5\">\n",
       "    <tspan class=\"displacy-word\" fill=\"currentColor\" x=\"3725\">lynching</tspan>\n",
       "    <tspan class=\"displacy-tag\" dy=\"2em\" fill=\"currentColor\" x=\"3725\">ADJ</tspan>\n",
       "</text>\n",
       "\n",
       "<text class=\"displacy-token\" fill=\"currentColor\" text-anchor=\"middle\" y=\"659.5\">\n",
       "    <tspan class=\"displacy-word\" fill=\"currentColor\" x=\"3900\">rape</tspan>\n",
       "    <tspan class=\"displacy-tag\" dy=\"2em\" fill=\"currentColor\" x=\"3900\">NOUN</tspan>\n",
       "</text>\n",
       "\n",
       "<text class=\"displacy-token\" fill=\"currentColor\" text-anchor=\"middle\" y=\"659.5\">\n",
       "    <tspan class=\"displacy-word\" fill=\"currentColor\" x=\"4075\">has</tspan>\n",
       "    <tspan class=\"displacy-tag\" dy=\"2em\" fill=\"currentColor\" x=\"4075\">AUX</tspan>\n",
       "</text>\n",
       "\n",
       "<text class=\"displacy-token\" fill=\"currentColor\" text-anchor=\"middle\" y=\"659.5\">\n",
       "    <tspan class=\"displacy-word\" fill=\"currentColor\" x=\"4250\">always</tspan>\n",
       "    <tspan class=\"displacy-tag\" dy=\"2em\" fill=\"currentColor\" x=\"4250\">ADV</tspan>\n",
       "</text>\n",
       "\n",
       "<text class=\"displacy-token\" fill=\"currentColor\" text-anchor=\"middle\" y=\"659.5\">\n",
       "    <tspan class=\"displacy-word\" fill=\"currentColor\" x=\"4425\">involved</tspan>\n",
       "    <tspan class=\"displacy-tag\" dy=\"2em\" fill=\"currentColor\" x=\"4425\">VERB</tspan>\n",
       "</text>\n",
       "\n",
       "<text class=\"displacy-token\" fill=\"currentColor\" text-anchor=\"middle\" y=\"659.5\">\n",
       "    <tspan class=\"displacy-word\" fill=\"currentColor\" x=\"4600\">patriarchal</tspan>\n",
       "    <tspan class=\"displacy-tag\" dy=\"2em\" fill=\"currentColor\" x=\"4600\">ADJ</tspan>\n",
       "</text>\n",
       "\n",
       "<text class=\"displacy-token\" fill=\"currentColor\" text-anchor=\"middle\" y=\"659.5\">\n",
       "    <tspan class=\"displacy-word\" fill=\"currentColor\" x=\"4775\">notions</tspan>\n",
       "    <tspan class=\"displacy-tag\" dy=\"2em\" fill=\"currentColor\" x=\"4775\">NOUN</tspan>\n",
       "</text>\n",
       "\n",
       "<text class=\"displacy-token\" fill=\"currentColor\" text-anchor=\"middle\" y=\"659.5\">\n",
       "    <tspan class=\"displacy-word\" fill=\"currentColor\" x=\"4950\">of</tspan>\n",
       "    <tspan class=\"displacy-tag\" dy=\"2em\" fill=\"currentColor\" x=\"4950\">ADP</tspan>\n",
       "</text>\n",
       "\n",
       "<text class=\"displacy-token\" fill=\"currentColor\" text-anchor=\"middle\" y=\"659.5\">\n",
       "    <tspan class=\"displacy-word\" fill=\"currentColor\" x=\"5125\">women</tspan>\n",
       "    <tspan class=\"displacy-tag\" dy=\"2em\" fill=\"currentColor\" x=\"5125\">NOUN</tspan>\n",
       "</text>\n",
       "\n",
       "<text class=\"displacy-token\" fill=\"currentColor\" text-anchor=\"middle\" y=\"659.5\">\n",
       "    <tspan class=\"displacy-word\" fill=\"currentColor\" x=\"5300\">being</tspan>\n",
       "    <tspan class=\"displacy-tag\" dy=\"2em\" fill=\"currentColor\" x=\"5300\">AUX</tspan>\n",
       "</text>\n",
       "\n",
       "<text class=\"displacy-token\" fill=\"currentColor\" text-anchor=\"middle\" y=\"659.5\">\n",
       "    <tspan class=\"displacy-word\" fill=\"currentColor\" x=\"5475\">at</tspan>\n",
       "    <tspan class=\"displacy-tag\" dy=\"2em\" fill=\"currentColor\" x=\"5475\">ADV</tspan>\n",
       "</text>\n",
       "\n",
       "<text class=\"displacy-token\" fill=\"currentColor\" text-anchor=\"middle\" y=\"659.5\">\n",
       "    <tspan class=\"displacy-word\" fill=\"currentColor\" x=\"5650\">best</tspan>\n",
       "    <tspan class=\"displacy-tag\" dy=\"2em\" fill=\"currentColor\" x=\"5650\">ADJ</tspan>\n",
       "</text>\n",
       "\n",
       "<text class=\"displacy-token\" fill=\"currentColor\" text-anchor=\"middle\" y=\"659.5\">\n",
       "    <tspan class=\"displacy-word\" fill=\"currentColor\" x=\"5825\">not</tspan>\n",
       "    <tspan class=\"displacy-tag\" dy=\"2em\" fill=\"currentColor\" x=\"5825\">PART</tspan>\n",
       "</text>\n",
       "\n",
       "<text class=\"displacy-token\" fill=\"currentColor\" text-anchor=\"middle\" y=\"659.5\">\n",
       "    <tspan class=\"displacy-word\" fill=\"currentColor\" x=\"6000\">entirely</tspan>\n",
       "    <tspan class=\"displacy-tag\" dy=\"2em\" fill=\"currentColor\" x=\"6000\">ADV</tspan>\n",
       "</text>\n",
       "\n",
       "<text class=\"displacy-token\" fill=\"currentColor\" text-anchor=\"middle\" y=\"659.5\">\n",
       "    <tspan class=\"displacy-word\" fill=\"currentColor\" x=\"6175\">unwilling</tspan>\n",
       "    <tspan class=\"displacy-tag\" dy=\"2em\" fill=\"currentColor\" x=\"6175\">ADJ</tspan>\n",
       "</text>\n",
       "\n",
       "<g class=\"displacy-arrow\">\n",
       "    <path class=\"displacy-arc\" id=\"arrow-34431eb5c6234eb0923b22584ed653f7-0-0\" stroke-width=\"2px\" d=\"M70,614.5 C70,89.5 1620.0,89.5 1620.0,614.5\" fill=\"none\" stroke=\"currentColor\"/>\n",
       "    <text dy=\"1.25em\" style=\"font-size: 0.8em; letter-spacing: 1px\">\n",
       "        <textPath xlink:href=\"#arrow-34431eb5c6234eb0923b22584ed653f7-0-0\" class=\"displacy-label\" startOffset=\"50%\" side=\"left\" fill=\"currentColor\" text-anchor=\"middle\">advcl</textPath>\n",
       "    </text>\n",
       "    <path class=\"displacy-arrowhead\" d=\"M70,616.5 L62,604.5 78,604.5\" fill=\"currentColor\"/>\n",
       "</g>\n",
       "\n",
       "<g class=\"displacy-arrow\">\n",
       "    <path class=\"displacy-arc\" id=\"arrow-34431eb5c6234eb0923b22584ed653f7-0-1\" stroke-width=\"2px\" d=\"M245,614.5 C245,439.5 550.0,439.5 550.0,614.5\" fill=\"none\" stroke=\"currentColor\"/>\n",
       "    <text dy=\"1.25em\" style=\"font-size: 0.8em; letter-spacing: 1px\">\n",
       "        <textPath xlink:href=\"#arrow-34431eb5c6234eb0923b22584ed653f7-0-1\" class=\"displacy-label\" startOffset=\"50%\" side=\"left\" fill=\"currentColor\" text-anchor=\"middle\">det</textPath>\n",
       "    </text>\n",
       "    <path class=\"displacy-arrowhead\" d=\"M245,616.5 L237,604.5 253,604.5\" fill=\"currentColor\"/>\n",
       "</g>\n",
       "\n",
       "<g class=\"displacy-arrow\">\n",
       "    <path class=\"displacy-arc\" id=\"arrow-34431eb5c6234eb0923b22584ed653f7-0-2\" stroke-width=\"2px\" d=\"M420,614.5 C420,527.0 545.0,527.0 545.0,614.5\" fill=\"none\" stroke=\"currentColor\"/>\n",
       "    <text dy=\"1.25em\" style=\"font-size: 0.8em; letter-spacing: 1px\">\n",
       "        <textPath xlink:href=\"#arrow-34431eb5c6234eb0923b22584ed653f7-0-2\" class=\"displacy-label\" startOffset=\"50%\" side=\"left\" fill=\"currentColor\" text-anchor=\"middle\">amod</textPath>\n",
       "    </text>\n",
       "    <path class=\"displacy-arrowhead\" d=\"M420,616.5 L412,604.5 428,604.5\" fill=\"currentColor\"/>\n",
       "</g>\n",
       "\n",
       "<g class=\"displacy-arrow\">\n",
       "    <path class=\"displacy-arc\" id=\"arrow-34431eb5c6234eb0923b22584ed653f7-0-3\" stroke-width=\"2px\" d=\"M70,614.5 C70,352.0 555.0,352.0 555.0,614.5\" fill=\"none\" stroke=\"currentColor\"/>\n",
       "    <text dy=\"1.25em\" style=\"font-size: 0.8em; letter-spacing: 1px\">\n",
       "        <textPath xlink:href=\"#arrow-34431eb5c6234eb0923b22584ed653f7-0-3\" class=\"displacy-label\" startOffset=\"50%\" side=\"left\" fill=\"currentColor\" text-anchor=\"middle\">dobj</textPath>\n",
       "    </text>\n",
       "    <path class=\"displacy-arrowhead\" d=\"M555.0,616.5 L563.0,604.5 547.0,604.5\" fill=\"currentColor\"/>\n",
       "</g>\n",
       "\n",
       "<g class=\"displacy-arrow\">\n",
       "    <path class=\"displacy-arc\" id=\"arrow-34431eb5c6234eb0923b22584ed653f7-0-4\" stroke-width=\"2px\" d=\"M595,614.5 C595,527.0 720.0,527.0 720.0,614.5\" fill=\"none\" stroke=\"currentColor\"/>\n",
       "    <text dy=\"1.25em\" style=\"font-size: 0.8em; letter-spacing: 1px\">\n",
       "        <textPath xlink:href=\"#arrow-34431eb5c6234eb0923b22584ed653f7-0-4\" class=\"displacy-label\" startOffset=\"50%\" side=\"left\" fill=\"currentColor\" text-anchor=\"middle\">prep</textPath>\n",
       "    </text>\n",
       "    <path class=\"displacy-arrowhead\" d=\"M720.0,616.5 L728.0,604.5 712.0,604.5\" fill=\"currentColor\"/>\n",
       "</g>\n",
       "\n",
       "<g class=\"displacy-arrow\">\n",
       "    <path class=\"displacy-arc\" id=\"arrow-34431eb5c6234eb0923b22584ed653f7-0-5\" stroke-width=\"2px\" d=\"M945,614.5 C945,527.0 1070.0,527.0 1070.0,614.5\" fill=\"none\" stroke=\"currentColor\"/>\n",
       "    <text dy=\"1.25em\" style=\"font-size: 0.8em; letter-spacing: 1px\">\n",
       "        <textPath xlink:href=\"#arrow-34431eb5c6234eb0923b22584ed653f7-0-5\" class=\"displacy-label\" startOffset=\"50%\" side=\"left\" fill=\"currentColor\" text-anchor=\"middle\">amod</textPath>\n",
       "    </text>\n",
       "    <path class=\"displacy-arrowhead\" d=\"M945,616.5 L937,604.5 953,604.5\" fill=\"currentColor\"/>\n",
       "</g>\n",
       "\n",
       "<g class=\"displacy-arrow\">\n",
       "    <path class=\"displacy-arc\" id=\"arrow-34431eb5c6234eb0923b22584ed653f7-0-6\" stroke-width=\"2px\" d=\"M770,614.5 C770,439.5 1075.0,439.5 1075.0,614.5\" fill=\"none\" stroke=\"currentColor\"/>\n",
       "    <text dy=\"1.25em\" style=\"font-size: 0.8em; letter-spacing: 1px\">\n",
       "        <textPath xlink:href=\"#arrow-34431eb5c6234eb0923b22584ed653f7-0-6\" class=\"displacy-label\" startOffset=\"50%\" side=\"left\" fill=\"currentColor\" text-anchor=\"middle\">pobj</textPath>\n",
       "    </text>\n",
       "    <path class=\"displacy-arrowhead\" d=\"M1075.0,616.5 L1083.0,604.5 1067.0,604.5\" fill=\"currentColor\"/>\n",
       "</g>\n",
       "\n",
       "<g class=\"displacy-arrow\">\n",
       "    <path class=\"displacy-arc\" id=\"arrow-34431eb5c6234eb0923b22584ed653f7-0-7\" stroke-width=\"2px\" d=\"M1295,614.5 C1295,439.5 1600.0,439.5 1600.0,614.5\" fill=\"none\" stroke=\"currentColor\"/>\n",
       "    <text dy=\"1.25em\" style=\"font-size: 0.8em; letter-spacing: 1px\">\n",
       "        <textPath xlink:href=\"#arrow-34431eb5c6234eb0923b22584ed653f7-0-7\" class=\"displacy-label\" startOffset=\"50%\" side=\"left\" fill=\"currentColor\" text-anchor=\"middle\">aux</textPath>\n",
       "    </text>\n",
       "    <path class=\"displacy-arrowhead\" d=\"M1295,616.5 L1287,604.5 1303,604.5\" fill=\"currentColor\"/>\n",
       "</g>\n",
       "\n",
       "<g class=\"displacy-arrow\">\n",
       "    <path class=\"displacy-arc\" id=\"arrow-34431eb5c6234eb0923b22584ed653f7-0-8\" stroke-width=\"2px\" d=\"M1470,614.5 C1470,527.0 1595.0,527.0 1595.0,614.5\" fill=\"none\" stroke=\"currentColor\"/>\n",
       "    <text dy=\"1.25em\" style=\"font-size: 0.8em; letter-spacing: 1px\">\n",
       "        <textPath xlink:href=\"#arrow-34431eb5c6234eb0923b22584ed653f7-0-8\" class=\"displacy-label\" startOffset=\"50%\" side=\"left\" fill=\"currentColor\" text-anchor=\"middle\">neg</textPath>\n",
       "    </text>\n",
       "    <path class=\"displacy-arrowhead\" d=\"M1470,616.5 L1462,604.5 1478,604.5\" fill=\"currentColor\"/>\n",
       "</g>\n",
       "\n",
       "<g class=\"displacy-arrow\">\n",
       "    <path class=\"displacy-arc\" id=\"arrow-34431eb5c6234eb0923b22584ed653f7-0-9\" stroke-width=\"2px\" d=\"M1820,614.5 C1820,527.0 1945.0,527.0 1945.0,614.5\" fill=\"none\" stroke=\"currentColor\"/>\n",
       "    <text dy=\"1.25em\" style=\"font-size: 0.8em; letter-spacing: 1px\">\n",
       "        <textPath xlink:href=\"#arrow-34431eb5c6234eb0923b22584ed653f7-0-9\" class=\"displacy-label\" startOffset=\"50%\" side=\"left\" fill=\"currentColor\" text-anchor=\"middle\">advmod</textPath>\n",
       "    </text>\n",
       "    <path class=\"displacy-arrowhead\" d=\"M1820,616.5 L1812,604.5 1828,604.5\" fill=\"currentColor\"/>\n",
       "</g>\n",
       "\n",
       "<g class=\"displacy-arrow\">\n",
       "    <path class=\"displacy-arc\" id=\"arrow-34431eb5c6234eb0923b22584ed653f7-0-10\" stroke-width=\"2px\" d=\"M1645,614.5 C1645,439.5 1950.0,439.5 1950.0,614.5\" fill=\"none\" stroke=\"currentColor\"/>\n",
       "    <text dy=\"1.25em\" style=\"font-size: 0.8em; letter-spacing: 1px\">\n",
       "        <textPath xlink:href=\"#arrow-34431eb5c6234eb0923b22584ed653f7-0-10\" class=\"displacy-label\" startOffset=\"50%\" side=\"left\" fill=\"currentColor\" text-anchor=\"middle\">acomp</textPath>\n",
       "    </text>\n",
       "    <path class=\"displacy-arrowhead\" d=\"M1950.0,616.5 L1958.0,604.5 1942.0,604.5\" fill=\"currentColor\"/>\n",
       "</g>\n",
       "\n",
       "<g class=\"displacy-arrow\">\n",
       "    <path class=\"displacy-arc\" id=\"arrow-34431eb5c6234eb0923b22584ed653f7-0-11\" stroke-width=\"2px\" d=\"M2170,614.5 C2170,527.0 2295.0,527.0 2295.0,614.5\" fill=\"none\" stroke=\"currentColor\"/>\n",
       "    <text dy=\"1.25em\" style=\"font-size: 0.8em; letter-spacing: 1px\">\n",
       "        <textPath xlink:href=\"#arrow-34431eb5c6234eb0923b22584ed653f7-0-11\" class=\"displacy-label\" startOffset=\"50%\" side=\"left\" fill=\"currentColor\" text-anchor=\"middle\">det</textPath>\n",
       "    </text>\n",
       "    <path class=\"displacy-arrowhead\" d=\"M2170,616.5 L2162,604.5 2178,604.5\" fill=\"currentColor\"/>\n",
       "</g>\n",
       "\n",
       "<g class=\"displacy-arrow\">\n",
       "    <path class=\"displacy-arc\" id=\"arrow-34431eb5c6234eb0923b22584ed653f7-0-12\" stroke-width=\"2px\" d=\"M1645,614.5 C1645,264.5 2310.0,264.5 2310.0,614.5\" fill=\"none\" stroke=\"currentColor\"/>\n",
       "    <text dy=\"1.25em\" style=\"font-size: 0.8em; letter-spacing: 1px\">\n",
       "        <textPath xlink:href=\"#arrow-34431eb5c6234eb0923b22584ed653f7-0-12\" class=\"displacy-label\" startOffset=\"50%\" side=\"left\" fill=\"currentColor\" text-anchor=\"middle\">attr</textPath>\n",
       "    </text>\n",
       "    <path class=\"displacy-arrowhead\" d=\"M2310.0,616.5 L2318.0,604.5 2302.0,604.5\" fill=\"currentColor\"/>\n",
       "</g>\n",
       "\n",
       "<g class=\"displacy-arrow\">\n",
       "    <path class=\"displacy-arc\" id=\"arrow-34431eb5c6234eb0923b22584ed653f7-0-13\" stroke-width=\"2px\" d=\"M2345,614.5 C2345,527.0 2470.0,527.0 2470.0,614.5\" fill=\"none\" stroke=\"currentColor\"/>\n",
       "    <text dy=\"1.25em\" style=\"font-size: 0.8em; letter-spacing: 1px\">\n",
       "        <textPath xlink:href=\"#arrow-34431eb5c6234eb0923b22584ed653f7-0-13\" class=\"displacy-label\" startOffset=\"50%\" side=\"left\" fill=\"currentColor\" text-anchor=\"middle\">prep</textPath>\n",
       "    </text>\n",
       "    <path class=\"displacy-arrowhead\" d=\"M2470.0,616.5 L2478.0,604.5 2462.0,604.5\" fill=\"currentColor\"/>\n",
       "</g>\n",
       "\n",
       "<g class=\"displacy-arrow\">\n",
       "    <path class=\"displacy-arc\" id=\"arrow-34431eb5c6234eb0923b22584ed653f7-0-14\" stroke-width=\"2px\" d=\"M2695,614.5 C2695,527.0 2820.0,527.0 2820.0,614.5\" fill=\"none\" stroke=\"currentColor\"/>\n",
       "    <text dy=\"1.25em\" style=\"font-size: 0.8em; letter-spacing: 1px\">\n",
       "        <textPath xlink:href=\"#arrow-34431eb5c6234eb0923b22584ed653f7-0-14\" class=\"displacy-label\" startOffset=\"50%\" side=\"left\" fill=\"currentColor\" text-anchor=\"middle\">amod</textPath>\n",
       "    </text>\n",
       "    <path class=\"displacy-arrowhead\" d=\"M2695,616.5 L2687,604.5 2703,604.5\" fill=\"currentColor\"/>\n",
       "</g>\n",
       "\n",
       "<g class=\"displacy-arrow\">\n",
       "    <path class=\"displacy-arc\" id=\"arrow-34431eb5c6234eb0923b22584ed653f7-0-15\" stroke-width=\"2px\" d=\"M2520,614.5 C2520,439.5 2825.0,439.5 2825.0,614.5\" fill=\"none\" stroke=\"currentColor\"/>\n",
       "    <text dy=\"1.25em\" style=\"font-size: 0.8em; letter-spacing: 1px\">\n",
       "        <textPath xlink:href=\"#arrow-34431eb5c6234eb0923b22584ed653f7-0-15\" class=\"displacy-label\" startOffset=\"50%\" side=\"left\" fill=\"currentColor\" text-anchor=\"middle\">pobj</textPath>\n",
       "    </text>\n",
       "    <path class=\"displacy-arrowhead\" d=\"M2825.0,616.5 L2833.0,604.5 2817.0,604.5\" fill=\"currentColor\"/>\n",
       "</g>\n",
       "\n",
       "<g class=\"displacy-arrow\">\n",
       "    <path class=\"displacy-arc\" id=\"arrow-34431eb5c6234eb0923b22584ed653f7-0-16\" stroke-width=\"2px\" d=\"M2345,614.5 C2345,264.5 3010.0,264.5 3010.0,614.5\" fill=\"none\" stroke=\"currentColor\"/>\n",
       "    <text dy=\"1.25em\" style=\"font-size: 0.8em; letter-spacing: 1px\">\n",
       "        <textPath xlink:href=\"#arrow-34431eb5c6234eb0923b22584ed653f7-0-16\" class=\"displacy-label\" startOffset=\"50%\" side=\"left\" fill=\"currentColor\" text-anchor=\"middle\">prep</textPath>\n",
       "    </text>\n",
       "    <path class=\"displacy-arrowhead\" d=\"M3010.0,616.5 L3018.0,604.5 3002.0,604.5\" fill=\"currentColor\"/>\n",
       "</g>\n",
       "\n",
       "<g class=\"displacy-arrow\">\n",
       "    <path class=\"displacy-arc\" id=\"arrow-34431eb5c6234eb0923b22584ed653f7-0-17\" stroke-width=\"2px\" d=\"M3220,614.5 C3220,527.0 3345.0,527.0 3345.0,614.5\" fill=\"none\" stroke=\"currentColor\"/>\n",
       "    <text dy=\"1.25em\" style=\"font-size: 0.8em; letter-spacing: 1px\">\n",
       "        <textPath xlink:href=\"#arrow-34431eb5c6234eb0923b22584ed653f7-0-17\" class=\"displacy-label\" startOffset=\"50%\" side=\"left\" fill=\"currentColor\" text-anchor=\"middle\">det</textPath>\n",
       "    </text>\n",
       "    <path class=\"displacy-arrowhead\" d=\"M3220,616.5 L3212,604.5 3228,604.5\" fill=\"currentColor\"/>\n",
       "</g>\n",
       "\n",
       "<g class=\"displacy-arrow\">\n",
       "    <path class=\"displacy-arc\" id=\"arrow-34431eb5c6234eb0923b22584ed653f7-0-18\" stroke-width=\"2px\" d=\"M3045,614.5 C3045,439.5 3350.0,439.5 3350.0,614.5\" fill=\"none\" stroke=\"currentColor\"/>\n",
       "    <text dy=\"1.25em\" style=\"font-size: 0.8em; letter-spacing: 1px\">\n",
       "        <textPath xlink:href=\"#arrow-34431eb5c6234eb0923b22584ed653f7-0-18\" class=\"displacy-label\" startOffset=\"50%\" side=\"left\" fill=\"currentColor\" text-anchor=\"middle\">pobj</textPath>\n",
       "    </text>\n",
       "    <path class=\"displacy-arrowhead\" d=\"M3350.0,616.5 L3358.0,604.5 3342.0,604.5\" fill=\"currentColor\"/>\n",
       "</g>\n",
       "\n",
       "<g class=\"displacy-arrow\">\n",
       "    <path class=\"displacy-arc\" id=\"arrow-34431eb5c6234eb0923b22584ed653f7-0-19\" stroke-width=\"2px\" d=\"M3395,614.5 C3395,527.0 3520.0,527.0 3520.0,614.5\" fill=\"none\" stroke=\"currentColor\"/>\n",
       "    <text dy=\"1.25em\" style=\"font-size: 0.8em; letter-spacing: 1px\">\n",
       "        <textPath xlink:href=\"#arrow-34431eb5c6234eb0923b22584ed653f7-0-19\" class=\"displacy-label\" startOffset=\"50%\" side=\"left\" fill=\"currentColor\" text-anchor=\"middle\">prep</textPath>\n",
       "    </text>\n",
       "    <path class=\"displacy-arrowhead\" d=\"M3520.0,616.5 L3528.0,604.5 3512.0,604.5\" fill=\"currentColor\"/>\n",
       "</g>\n",
       "\n",
       "<g class=\"displacy-arrow\">\n",
       "    <path class=\"displacy-arc\" id=\"arrow-34431eb5c6234eb0923b22584ed653f7-0-20\" stroke-width=\"2px\" d=\"M3745,614.5 C3745,527.0 3870.0,527.0 3870.0,614.5\" fill=\"none\" stroke=\"currentColor\"/>\n",
       "    <text dy=\"1.25em\" style=\"font-size: 0.8em; letter-spacing: 1px\">\n",
       "        <textPath xlink:href=\"#arrow-34431eb5c6234eb0923b22584ed653f7-0-20\" class=\"displacy-label\" startOffset=\"50%\" side=\"left\" fill=\"currentColor\" text-anchor=\"middle\">amod</textPath>\n",
       "    </text>\n",
       "    <path class=\"displacy-arrowhead\" d=\"M3745,616.5 L3737,604.5 3753,604.5\" fill=\"currentColor\"/>\n",
       "</g>\n",
       "\n",
       "<g class=\"displacy-arrow\">\n",
       "    <path class=\"displacy-arc\" id=\"arrow-34431eb5c6234eb0923b22584ed653f7-0-21\" stroke-width=\"2px\" d=\"M3570,614.5 C3570,439.5 3875.0,439.5 3875.0,614.5\" fill=\"none\" stroke=\"currentColor\"/>\n",
       "    <text dy=\"1.25em\" style=\"font-size: 0.8em; letter-spacing: 1px\">\n",
       "        <textPath xlink:href=\"#arrow-34431eb5c6234eb0923b22584ed653f7-0-21\" class=\"displacy-label\" startOffset=\"50%\" side=\"left\" fill=\"currentColor\" text-anchor=\"middle\">pobj</textPath>\n",
       "    </text>\n",
       "    <path class=\"displacy-arrowhead\" d=\"M3875.0,616.5 L3883.0,604.5 3867.0,604.5\" fill=\"currentColor\"/>\n",
       "</g>\n",
       "\n",
       "<g class=\"displacy-arrow\">\n",
       "    <path class=\"displacy-arc\" id=\"arrow-34431eb5c6234eb0923b22584ed653f7-0-22\" stroke-width=\"2px\" d=\"M4095,614.5 C4095,439.5 4400.0,439.5 4400.0,614.5\" fill=\"none\" stroke=\"currentColor\"/>\n",
       "    <text dy=\"1.25em\" style=\"font-size: 0.8em; letter-spacing: 1px\">\n",
       "        <textPath xlink:href=\"#arrow-34431eb5c6234eb0923b22584ed653f7-0-22\" class=\"displacy-label\" startOffset=\"50%\" side=\"left\" fill=\"currentColor\" text-anchor=\"middle\">aux</textPath>\n",
       "    </text>\n",
       "    <path class=\"displacy-arrowhead\" d=\"M4095,616.5 L4087,604.5 4103,604.5\" fill=\"currentColor\"/>\n",
       "</g>\n",
       "\n",
       "<g class=\"displacy-arrow\">\n",
       "    <path class=\"displacy-arc\" id=\"arrow-34431eb5c6234eb0923b22584ed653f7-0-23\" stroke-width=\"2px\" d=\"M4270,614.5 C4270,527.0 4395.0,527.0 4395.0,614.5\" fill=\"none\" stroke=\"currentColor\"/>\n",
       "    <text dy=\"1.25em\" style=\"font-size: 0.8em; letter-spacing: 1px\">\n",
       "        <textPath xlink:href=\"#arrow-34431eb5c6234eb0923b22584ed653f7-0-23\" class=\"displacy-label\" startOffset=\"50%\" side=\"left\" fill=\"currentColor\" text-anchor=\"middle\">advmod</textPath>\n",
       "    </text>\n",
       "    <path class=\"displacy-arrowhead\" d=\"M4270,616.5 L4262,604.5 4278,604.5\" fill=\"currentColor\"/>\n",
       "</g>\n",
       "\n",
       "<g class=\"displacy-arrow\">\n",
       "    <path class=\"displacy-arc\" id=\"arrow-34431eb5c6234eb0923b22584ed653f7-0-24\" stroke-width=\"2px\" d=\"M1645,614.5 C1645,2.0 4425.0,2.0 4425.0,614.5\" fill=\"none\" stroke=\"currentColor\"/>\n",
       "    <text dy=\"1.25em\" style=\"font-size: 0.8em; letter-spacing: 1px\">\n",
       "        <textPath xlink:href=\"#arrow-34431eb5c6234eb0923b22584ed653f7-0-24\" class=\"displacy-label\" startOffset=\"50%\" side=\"left\" fill=\"currentColor\" text-anchor=\"middle\">conj</textPath>\n",
       "    </text>\n",
       "    <path class=\"displacy-arrowhead\" d=\"M4425.0,616.5 L4433.0,604.5 4417.0,604.5\" fill=\"currentColor\"/>\n",
       "</g>\n",
       "\n",
       "<g class=\"displacy-arrow\">\n",
       "    <path class=\"displacy-arc\" id=\"arrow-34431eb5c6234eb0923b22584ed653f7-0-25\" stroke-width=\"2px\" d=\"M4620,614.5 C4620,527.0 4745.0,527.0 4745.0,614.5\" fill=\"none\" stroke=\"currentColor\"/>\n",
       "    <text dy=\"1.25em\" style=\"font-size: 0.8em; letter-spacing: 1px\">\n",
       "        <textPath xlink:href=\"#arrow-34431eb5c6234eb0923b22584ed653f7-0-25\" class=\"displacy-label\" startOffset=\"50%\" side=\"left\" fill=\"currentColor\" text-anchor=\"middle\">amod</textPath>\n",
       "    </text>\n",
       "    <path class=\"displacy-arrowhead\" d=\"M4620,616.5 L4612,604.5 4628,604.5\" fill=\"currentColor\"/>\n",
       "</g>\n",
       "\n",
       "<g class=\"displacy-arrow\">\n",
       "    <path class=\"displacy-arc\" id=\"arrow-34431eb5c6234eb0923b22584ed653f7-0-26\" stroke-width=\"2px\" d=\"M4445,614.5 C4445,439.5 4750.0,439.5 4750.0,614.5\" fill=\"none\" stroke=\"currentColor\"/>\n",
       "    <text dy=\"1.25em\" style=\"font-size: 0.8em; letter-spacing: 1px\">\n",
       "        <textPath xlink:href=\"#arrow-34431eb5c6234eb0923b22584ed653f7-0-26\" class=\"displacy-label\" startOffset=\"50%\" side=\"left\" fill=\"currentColor\" text-anchor=\"middle\">dobj</textPath>\n",
       "    </text>\n",
       "    <path class=\"displacy-arrowhead\" d=\"M4750.0,616.5 L4758.0,604.5 4742.0,604.5\" fill=\"currentColor\"/>\n",
       "</g>\n",
       "\n",
       "<g class=\"displacy-arrow\">\n",
       "    <path class=\"displacy-arc\" id=\"arrow-34431eb5c6234eb0923b22584ed653f7-0-27\" stroke-width=\"2px\" d=\"M4795,614.5 C4795,527.0 4920.0,527.0 4920.0,614.5\" fill=\"none\" stroke=\"currentColor\"/>\n",
       "    <text dy=\"1.25em\" style=\"font-size: 0.8em; letter-spacing: 1px\">\n",
       "        <textPath xlink:href=\"#arrow-34431eb5c6234eb0923b22584ed653f7-0-27\" class=\"displacy-label\" startOffset=\"50%\" side=\"left\" fill=\"currentColor\" text-anchor=\"middle\">prep</textPath>\n",
       "    </text>\n",
       "    <path class=\"displacy-arrowhead\" d=\"M4920.0,616.5 L4928.0,604.5 4912.0,604.5\" fill=\"currentColor\"/>\n",
       "</g>\n",
       "\n",
       "<g class=\"displacy-arrow\">\n",
       "    <path class=\"displacy-arc\" id=\"arrow-34431eb5c6234eb0923b22584ed653f7-0-28\" stroke-width=\"2px\" d=\"M4970,614.5 C4970,527.0 5095.0,527.0 5095.0,614.5\" fill=\"none\" stroke=\"currentColor\"/>\n",
       "    <text dy=\"1.25em\" style=\"font-size: 0.8em; letter-spacing: 1px\">\n",
       "        <textPath xlink:href=\"#arrow-34431eb5c6234eb0923b22584ed653f7-0-28\" class=\"displacy-label\" startOffset=\"50%\" side=\"left\" fill=\"currentColor\" text-anchor=\"middle\">pobj</textPath>\n",
       "    </text>\n",
       "    <path class=\"displacy-arrowhead\" d=\"M5095.0,616.5 L5103.0,604.5 5087.0,604.5\" fill=\"currentColor\"/>\n",
       "</g>\n",
       "\n",
       "<g class=\"displacy-arrow\">\n",
       "    <path class=\"displacy-arc\" id=\"arrow-34431eb5c6234eb0923b22584ed653f7-0-29\" stroke-width=\"2px\" d=\"M4445,614.5 C4445,177.0 5290.0,177.0 5290.0,614.5\" fill=\"none\" stroke=\"currentColor\"/>\n",
       "    <text dy=\"1.25em\" style=\"font-size: 0.8em; letter-spacing: 1px\">\n",
       "        <textPath xlink:href=\"#arrow-34431eb5c6234eb0923b22584ed653f7-0-29\" class=\"displacy-label\" startOffset=\"50%\" side=\"left\" fill=\"currentColor\" text-anchor=\"middle\">advcl</textPath>\n",
       "    </text>\n",
       "    <path class=\"displacy-arrowhead\" d=\"M5290.0,616.5 L5298.0,604.5 5282.0,604.5\" fill=\"currentColor\"/>\n",
       "</g>\n",
       "\n",
       "<g class=\"displacy-arrow\">\n",
       "    <path class=\"displacy-arc\" id=\"arrow-34431eb5c6234eb0923b22584ed653f7-0-30\" stroke-width=\"2px\" d=\"M5495,614.5 C5495,527.0 5620.0,527.0 5620.0,614.5\" fill=\"none\" stroke=\"currentColor\"/>\n",
       "    <text dy=\"1.25em\" style=\"font-size: 0.8em; letter-spacing: 1px\">\n",
       "        <textPath xlink:href=\"#arrow-34431eb5c6234eb0923b22584ed653f7-0-30\" class=\"displacy-label\" startOffset=\"50%\" side=\"left\" fill=\"currentColor\" text-anchor=\"middle\">advmod</textPath>\n",
       "    </text>\n",
       "    <path class=\"displacy-arrowhead\" d=\"M5495,616.5 L5487,604.5 5503,604.5\" fill=\"currentColor\"/>\n",
       "</g>\n",
       "\n",
       "<g class=\"displacy-arrow\">\n",
       "    <path class=\"displacy-arc\" id=\"arrow-34431eb5c6234eb0923b22584ed653f7-0-31\" stroke-width=\"2px\" d=\"M5670,614.5 C5670,352.0 6155.0,352.0 6155.0,614.5\" fill=\"none\" stroke=\"currentColor\"/>\n",
       "    <text dy=\"1.25em\" style=\"font-size: 0.8em; letter-spacing: 1px\">\n",
       "        <textPath xlink:href=\"#arrow-34431eb5c6234eb0923b22584ed653f7-0-31\" class=\"displacy-label\" startOffset=\"50%\" side=\"left\" fill=\"currentColor\" text-anchor=\"middle\">advmod</textPath>\n",
       "    </text>\n",
       "    <path class=\"displacy-arrowhead\" d=\"M5670,616.5 L5662,604.5 5678,604.5\" fill=\"currentColor\"/>\n",
       "</g>\n",
       "\n",
       "<g class=\"displacy-arrow\">\n",
       "    <path class=\"displacy-arc\" id=\"arrow-34431eb5c6234eb0923b22584ed653f7-0-32\" stroke-width=\"2px\" d=\"M5845,614.5 C5845,439.5 6150.0,439.5 6150.0,614.5\" fill=\"none\" stroke=\"currentColor\"/>\n",
       "    <text dy=\"1.25em\" style=\"font-size: 0.8em; letter-spacing: 1px\">\n",
       "        <textPath xlink:href=\"#arrow-34431eb5c6234eb0923b22584ed653f7-0-32\" class=\"displacy-label\" startOffset=\"50%\" side=\"left\" fill=\"currentColor\" text-anchor=\"middle\">neg</textPath>\n",
       "    </text>\n",
       "    <path class=\"displacy-arrowhead\" d=\"M5845,616.5 L5837,604.5 5853,604.5\" fill=\"currentColor\"/>\n",
       "</g>\n",
       "\n",
       "<g class=\"displacy-arrow\">\n",
       "    <path class=\"displacy-arc\" id=\"arrow-34431eb5c6234eb0923b22584ed653f7-0-33\" stroke-width=\"2px\" d=\"M6020,614.5 C6020,527.0 6145.0,527.0 6145.0,614.5\" fill=\"none\" stroke=\"currentColor\"/>\n",
       "    <text dy=\"1.25em\" style=\"font-size: 0.8em; letter-spacing: 1px\">\n",
       "        <textPath xlink:href=\"#arrow-34431eb5c6234eb0923b22584ed653f7-0-33\" class=\"displacy-label\" startOffset=\"50%\" side=\"left\" fill=\"currentColor\" text-anchor=\"middle\">advmod</textPath>\n",
       "    </text>\n",
       "    <path class=\"displacy-arrowhead\" d=\"M6020,616.5 L6012,604.5 6028,604.5\" fill=\"currentColor\"/>\n",
       "</g>\n",
       "\n",
       "<g class=\"displacy-arrow\">\n",
       "    <path class=\"displacy-arc\" id=\"arrow-34431eb5c6234eb0923b22584ed653f7-0-34\" stroke-width=\"2px\" d=\"M5320,614.5 C5320,177.0 6165.0,177.0 6165.0,614.5\" fill=\"none\" stroke=\"currentColor\"/>\n",
       "    <text dy=\"1.25em\" style=\"font-size: 0.8em; letter-spacing: 1px\">\n",
       "        <textPath xlink:href=\"#arrow-34431eb5c6234eb0923b22584ed653f7-0-34\" class=\"displacy-label\" startOffset=\"50%\" side=\"left\" fill=\"currentColor\" text-anchor=\"middle\">acomp</textPath>\n",
       "    </text>\n",
       "    <path class=\"displacy-arrowhead\" d=\"M6165.0,616.5 L6173.0,604.5 6157.0,604.5\" fill=\"currentColor\"/>\n",
       "</g>\n",
       "</svg></span>"
      ],
      "text/plain": [
       "<IPython.core.display.HTML object>"
      ]
     },
     "metadata": {},
     "output_type": "display_data"
    }
   ],
   "source": [
    "doc = nlp(tweets_df['cleaned_content'][2189])\n",
    "displacy.render(doc, style='dep')"
   ]
  },
  {
   "cell_type": "markdown",
   "metadata": {},
   "source": [
    "**How deep are the phrase structure and dependency parse trees nested?**\n",
    "\n",
    "There are four trees in the forest, and the deepest contains 4 nested layers\n",
    "\n",
    "**How does parse depth relate to perceived sentence complexity?**\n",
    "\n",
    "The depth rate is clearly positively related with the sentence complexity. The sample sentence here is quite long, and I, as a language learner, has to read two times to parse it and figure out its meaning.\n"
   ]
  },
  {
   "cell_type": "markdown",
   "metadata": {},
   "source": [
    "### Task 2: Information extraction"
   ]
  },
  {
   "cell_type": "markdown",
   "metadata": {},
   "source": [
    "#### (1) The NOUN modified by \"black\""
   ]
  },
  {
   "cell_type": "markdown",
   "metadata": {},
   "source": [
    "Let's experiment again with the small random sample of tweets_df.\n",
    "\n",
    "Let's look around the word \"black\" in the above sentence. "
   ]
  },
  {
   "cell_type": "code",
   "execution_count": 372,
   "metadata": {},
   "outputs": [
    {
     "name": "stdout",
     "output_type": "stream",
     "text": [
      "black amod ADJ\n",
      "['women', 'of', 'rape', 'childofzami', 'been']\n",
      "women\n"
     ]
    }
   ],
   "source": [
    "print(doc[5].text, doc[5].dep_, doc[5].pos_)\n",
    "print([ancestor.text for ancestor in doc[5].ancestors])\n",
    "print(doc[5].head.text)"
   ]
  },
  {
   "cell_type": "markdown",
   "metadata": {},
   "source": [
    "Let's find the word modified by \"black\" by looking at its `.head.text`."
   ]
  },
  {
   "cell_type": "code",
   "execution_count": 374,
   "metadata": {},
   "outputs": [],
   "source": [
    "tweets_black = []\n",
    "for index, row in tweets_df_small.iterrows():\n",
    "    text = row['cleaned_content']\n",
    "    doc = nlp(text)\n",
    "    for word in doc:\n",
    "        subject = 0\n",
    "        # if the adj of the sentence is black\n",
    "        if word.text == 'black':\n",
    "            # we find the subjects and objects around the word, and if it does exist, add it to the tuple\n",
    "            if word.head.pos_ == 'NOUN':\n",
    "                subject = word.head.text\n",
    "            if subject != 0:\n",
    "                tweets_black.append(subject)"
   ]
  },
  {
   "cell_type": "code",
   "execution_count": 375,
   "metadata": {},
   "outputs": [
    {
     "data": {
      "text/plain": [
       "['women', 'careerists', 'cops', 'woman', 'mailing', 'misandry']"
      ]
     },
     "execution_count": 375,
     "metadata": {},
     "output_type": "execute_result"
    }
   ],
   "source": [
    "tweets_black"
   ]
  },
  {
   "cell_type": "markdown",
   "metadata": {},
   "source": [
    "**Comment**: Why there's only \"black women/woman/misandry\", but no \"black men/man/misogyny\"? Perhaps this implies some similar situation/position of black people and women in the society."
   ]
  },
  {
   "cell_type": "markdown",
   "metadata": {},
   "source": [
    "#### (2) The ADJ before \"rape\""
   ]
  },
  {
   "cell_type": "code",
   "execution_count": 383,
   "metadata": {},
   "outputs": [
    {
     "name": "stdout",
     "output_type": "stream",
     "text": [
      "childofzami the institutionalized rape of black women has never been as powerful a symbol of black oppression as the spectacle of lynching rape has always involved patriarchal notions of women being at best not entirely unwilling\n",
      "rape dobj NOUN\n",
      "['childofzami', 'been']\n",
      "childofzami\n",
      "['the', 'institutionalized']\n",
      "['DET', 'ADJ']\n"
     ]
    }
   ],
   "source": [
    "doc = nlp(tweets_df['cleaned_content'][2189])\n",
    "print(doc)\n",
    "print(doc[3].text, doc[3].dep_, doc[3].pos_)\n",
    "print([ancestor.text for ancestor in doc[3].ancestors])\n",
    "print(doc[3].head.text)\n",
    "print([token.text for token in doc[3].lefts]) \n",
    "print([token.pos_ for token in doc[3].lefts]) "
   ]
  },
  {
   "cell_type": "code",
   "execution_count": 386,
   "metadata": {},
   "outputs": [],
   "source": [
    "tweets_rape = []\n",
    "for index, row in tweets_df_small.iterrows():\n",
    "    text = row['cleaned_content']\n",
    "    doc = nlp(text)\n",
    "    for word in doc:\n",
    "        subject = 0\n",
    "        # if the adj of the sentence is black\n",
    "        if word.text == 'rape':\n",
    "            # we find the subjects and objects around the word, and if it does exist, add it to the tuple\n",
    "            for token in word.lefts:\n",
    "                if token.pos_ == 'ADJ':\n",
    "                    subject = token.text\n",
    "            if subject != 0:\n",
    "                tweets_rape.append(subject)"
   ]
  },
  {
   "cell_type": "code",
   "execution_count": 387,
   "metadata": {},
   "outputs": [
    {
     "data": {
      "text/plain": [
       "['marital',\n",
       " 'statutory',\n",
       " 'weaponized',\n",
       " 'literal',\n",
       " 'surly',\n",
       " 'ozscienceguy',\n",
       " 'martial',\n",
       " 'only',\n",
       " 'marital',\n",
       " 'marital',\n",
       " 'big',\n",
       " 'marital',\n",
       " 'free',\n",
       " 'marital',\n",
       " 'hmckean',\n",
       " 'statutory']"
      ]
     },
     "execution_count": 387,
     "metadata": {},
     "output_type": "execute_result"
    }
   ],
   "source": [
    "tweets_rape"
   ]
  },
  {
   "cell_type": "markdown",
   "metadata": {},
   "source": [
    "**Comment**: Above is a list of ADJ occured before the word \"rape\". We can see that \"marital\" is the most frequent one. Either because it is disputive or because it occurs quite often, or because it attracts the most attention."
   ]
  },
  {
   "cell_type": "markdown",
   "metadata": {},
   "source": [
    "-------"
   ]
  },
  {
   "cell_type": "markdown",
   "metadata": {},
   "source": [
    "# Distributional distances\n",
    "\n",
    "If we want to compare different corpora, we need a distance or divergence that compares the two distributions.\n",
    "\n",
    "We will use the: \n",
    "\n",
    "+ Kullback-Leibler (KL) divergence\n",
    "+ $\\chi^2$ divergence\n",
    "+ Kolmogorov-Smirnov (KS) distance\n",
    "+ Wasserstein distance\n",
    "\n",
    "### Kullback-Leibler and $x^2$ divergences ###\n",
    "\n",
    "KL and $\\chi^2$ divergences are members of the broader <a \"href=https://en.wikipedia.org/wiki/F-divergence\" target=\"_blank\">$f$-divergence</a> family, a function of $D_f (P || Q)$ that calculates the difference between two probability distributions P and Q. The KL $f(t)$ is $ t \\text{ log } t $, while the $\\chi^2$ is $t^2-1$. KL comes from information and $\\chi^2$ from measure theory. As such, the KL divergence computes the relative entropy between two distributions--how they differ in bits, while the $\\chi^2$ whether the same statistical inferences can be drawn from them both.  \n",
    "\n",
    "Specifically, given two discrete probability distributions $P$ and $Q$, the Kullback-Leibler divergence from $Q$ to $P$ is defined as:\n",
    "\n",
    "$D_{\\mathrm{KL}}(P\\|Q) = \\sum_i P(i) \\, \\log\\frac{P(i)}{Q(i)}$.\n",
    "\n",
    "The [scipy.stats.entropy()](https://docs.scipy.org/doc/scipy/reference/generated/scipy.stats.entropy.html) function does the calculation for you, which takes in two arrays of probabilities and computes the KL divergence. Note that the KL divergence is in general not commutative, i.e. $D_{\\mathrm{KL}}(P\\|Q) \\neq D_{\\mathrm{KL}}(Q\\|P)$ .\n",
    "\n",
    "Also note that the KL divernce is the sum of elementwise divergences. Scipy provides [scipy.special.kl_div()](https://docs.scipy.org/doc/scipy/reference/generated/scipy.special.kl_div.html#scipy-special-kl-div) which calculates elementwise divergences for you.\n",
    "\n",
    "The $\\chi^2$ Divergence is defined as:\n",
    "\n",
    "$D_{\\mathrm{\\chi^2}}(P\\|Q) = \\sum_i \\left(\\frac{P(i)}{Q(i)}-1\\right)^2$. \n",
    "\n",
    "This is also noncommutative, and the code can be drawn directly from scipy.\n",
    "\n",
    "### Kolmogorov-Smirnov ###\n",
    "\n",
    "The two-sample Kolmogovorov-Smirnov test statistic calculates the distance between the cumulative distribution function of the two distributions to be compared, and, along with the $x^2$ divergence, is among the most common approaches two calculating a distance in statistics. It can be interpreted as a test of whether two distributions are drawn from the same underlying distribution. As with the others, the code is readily available in scipy.\n",
    "\n",
    "### Wasserstein Distance ###\n",
    "\n",
    "When this is computed on a Euclidian metric structure (e.g., numbers of words), this is also known as the earth mover’s distance, because it can be seen as the minimum amount of \"work\" required to transform $P$ into $Q$, where \"work\" is measured as the amount of distribution weight that must be moved, multiplied by the distance it has to be moved.\n",
    "\n",
    "### Computing ###\n",
    "\n",
    "To do this we will need to create the arrays, lets compare the Whitehouse releases with the Kennedy releases. First we have to download them and load them into a DataFrame."
   ]
  },
  {
   "cell_type": "code",
   "execution_count": null,
   "metadata": {},
   "outputs": [],
   "source": [
    "kenReleases = getGithubFiles('https://api.github.com/repos/lintool/GrimmerSenatePressReleases/contents/raw/Kennedy', maxFiles = 10)\n",
    "kenReleases[:5]"
   ]
  },
  {
   "cell_type": "markdown",
   "metadata": {},
   "source": [
    "Then we can tokenize, stem and remove stop words, like we did for the Whitehouse press releases"
   ]
  },
  {
   "cell_type": "code",
   "execution_count": null,
   "metadata": {},
   "outputs": [],
   "source": [
    "kenReleases['tokenized_text'] = kenReleases['text'].apply(lambda x: word_tokenize(x))\n",
    "kenReleases['normalized_tokens'] = kenReleases['tokenized_text'].apply(lambda x: normalizeTokens(x))"
   ]
  },
  {
   "cell_type": "markdown",
   "metadata": {},
   "source": [
    "Now we need to compare the two collection of words, remove those not found in both, and assign the remaining ones indices."
   ]
  },
  {
   "cell_type": "code",
   "execution_count": null,
   "metadata": {},
   "outputs": [],
   "source": [
    "whWords = set(whReleases['normalized_tokens'].sum())\n",
    "kenWords = set(kenReleases['normalized_tokens'].sum())\n",
    "\n",
    "#Change & to | if you want to keep all words\n",
    "overlapWords = whWords & kenWords\n",
    "\n",
    "overlapWordsDict = {word: index for index, word in enumerate(overlapWords)}\n",
    "overlapWordsDict['student']"
   ]
  },
  {
   "cell_type": "markdown",
   "metadata": {},
   "source": [
    "Now we can count the occurrences of each word in the corpora and create our arrays. Note that we don't have to use numpy arrays as we do here. We could just use a list, but the arrays are faster in numpy so we encourage you to get in the habit of using them."
   ]
  },
  {
   "cell_type": "code",
   "execution_count": null,
   "metadata": {},
   "outputs": [],
   "source": [
    "def makeProbsArray(dfColumn, overlapDict):\n",
    "    words = dfColumn.sum()\n",
    "    countList = [0] * len(overlapDict)\n",
    "    for word in words:\n",
    "        try:\n",
    "            countList[overlapDict[word]] += 1\n",
    "        except KeyError:\n",
    "            #The word is not common so we skip it\n",
    "            pass\n",
    "    countArray = np.array(countList)\n",
    "    return countArray / countArray.sum()\n",
    "\n",
    "whProbArray = makeProbsArray(whReleases['normalized_tokens'], overlapWordsDict)\n",
    "kenProbArray = makeProbsArray(kenReleases['normalized_tokens'], overlapWordsDict)\n",
    "kenProbArray.sum()\n",
    "#There is a little bit of a floating point math error\n",
    "#but it's too small to see with print and too small matter here"
   ]
  },
  {
   "cell_type": "markdown",
   "metadata": {},
   "source": [
    "We can now compute the KL divergence. Pay attention to the asymmetry. Use [the Jensen–Shannon divergence](https://en.wikipedia.org/wiki/Jensen%E2%80%93Shannon_divergence), which is the average KL divergence between each distribution and the average of both distributions (i.e., the midpoint), if you want symmetry."
   ]
  },
  {
   "cell_type": "code",
   "execution_count": null,
   "metadata": {},
   "outputs": [],
   "source": [
    "wh_kenDivergence = scipy.stats.entropy(whProbArray, kenProbArray)\n",
    "print (wh_kenDivergence)\n",
    "ken_whDivergence = scipy.stats.entropy(kenProbArray, whProbArray)\n",
    "print (ken_whDivergence)"
   ]
  },
  {
   "cell_type": "markdown",
   "metadata": {},
   "source": [
    "Then, we can do the elementwise calculation and see which words best distinguish the two corpora."
   ]
  },
  {
   "cell_type": "code",
   "execution_count": null,
   "metadata": {},
   "outputs": [],
   "source": [
    "wh_kenDivergence_ew = scipy.special.kl_div(whProbArray, kenProbArray)\n",
    "kl_df = pandas.DataFrame(list(overlapWordsDict.keys()), columns = ['word'], index = list(overlapWordsDict.values()))\n",
    "kl_df = kl_df.sort_index()\n",
    "kl_df['elementwise divergence'] = wh_kenDivergence_ew\n",
    "kl_df[:10]"
   ]
  },
  {
   "cell_type": "code",
   "execution_count": null,
   "metadata": {},
   "outputs": [],
   "source": [
    "kl_df.sort_values(by='elementwise divergence', ascending=False)[:10]"
   ]
  },
  {
   "cell_type": "markdown",
   "metadata": {},
   "source": [
    "Now we will apply what we learned today \n",
    "First, let's transform every text into normalized tokens. Note that in this first step, no stopword is removed.\n",
    "We'll use only the first 11 movies: you are welcome to try more."
   ]
  },
  {
   "cell_type": "code",
   "execution_count": null,
   "metadata": {},
   "outputs": [],
   "source": [
    "corpora = []\n",
    "for index, row in movie_df.iterrows():\n",
    "    if len(corpora) > 10:\n",
    "        break\n",
    "    corpora.append(row['Tokenized Texts'])"
   ]
  },
  {
   "cell_type": "markdown",
   "metadata": {},
   "source": [
    "Then, let's separate the normalized tokens into stopwords and non-stopwords."
   ]
  },
  {
   "cell_type": "code",
   "execution_count": null,
   "metadata": {},
   "outputs": [],
   "source": [
    "corpora_s = []\n",
    "corpora_nons = []\n",
    "for corpus in corpora:\n",
    "    s = []\n",
    "    nons = []\n",
    "    doc = nlp(' '.join(corpus))\n",
    "    for word in doc:\n",
    "        if word.is_stop:\n",
    "            s.append(word.text)\n",
    "        else:\n",
    "            nons.append(word.text)\n",
    "    corpora_s.append(s)\n",
    "    corpora_nons.append(nons)"
   ]
  },
  {
   "cell_type": "markdown",
   "metadata": {},
   "source": [
    "Define some covenient funtions for calculating divergence and distances."
   ]
  },
  {
   "cell_type": "code",
   "execution_count": null,
   "metadata": {},
   "outputs": [],
   "source": [
    "def kl_divergence(X, Y):\n",
    "    P = X.copy()\n",
    "    Q = Y.copy()\n",
    "    P.columns = ['P']\n",
    "    Q.columns = ['Q']\n",
    "    df = Q.join(P).fillna(0)\n",
    "    p = df.iloc[:,1]\n",
    "    q = df.iloc[:,0]\n",
    "    D_kl = scipy.stats.entropy(p, q)\n",
    "    return D_kl\n",
    "\n",
    "def chi2_divergence(X,Y):\n",
    "    P = X.copy()\n",
    "    Q = Y.copy()\n",
    "    P.columns = ['P']\n",
    "    Q.columns = ['Q']\n",
    "    df = Q.join(P).fillna(0)\n",
    "    p = df.iloc[:,1]\n",
    "    q = df.iloc[:,0]\n",
    "    return scipy.stats.chisquare(p, q).statistic\n",
    "\n",
    "def Divergence(corpus1, corpus2, difference=\"KL\"):\n",
    "    \"\"\"Difference parameter can equal KL, Chi2, or Wass\"\"\"\n",
    "    freqP = nltk.FreqDist(corpus1)\n",
    "    P = pandas.DataFrame(list(freqP.values()), columns = ['frequency'], index = list(freqP.keys()))\n",
    "    freqQ = nltk.FreqDist(corpus2)\n",
    "    Q = pandas.DataFrame(list(freqQ.values()), columns = ['frequency'], index = list(freqQ.keys()))\n",
    "    if difference == \"KL\":\n",
    "        return kl_divergence(P, Q)\n",
    "    elif difference == \"Chi2\":\n",
    "        return chi2_divergence(P, Q)\n",
    "    elif difference == \"KS\":\n",
    "        try:\n",
    "            return scipy.stats.ks_2samp(P['frequency'], Q['frequency']).statistic\n",
    "        except:\n",
    "            return scipy.stats.ks_2samp(P['frequency'], Q['frequency'])\n",
    "    elif difference == \"Wasserstein\":\n",
    "        try:\n",
    "            return scipy.stats.wasserstein_distance(P['frequency'], Q['frequency'], u_weights=None, v_weights=None).statistic\n",
    "        except:\n",
    "            return scipy.stats.wasserstein_distance(P['frequency'], Q['frequency'], u_weights=None, v_weights=None)"
   ]
  },
  {
   "cell_type": "markdown",
   "metadata": {},
   "source": [
    "Now we will calculate the KL divergence for each pair of corpora, turn the results into a matrix, and visualize the matrix as a heatmap. Recall that $D_{\\mathrm{KL}}(P\\|Q)$ measures the amount of information loss when $Q$ is used to approximate $P$. Here, the rows are the $P$s used for calculating KL divergences, and the columns are the $Q$s. So, each cell measures the amount of information loss when the word distribution of the column text is used to approximate the word distribution of the row text. Because the KL divergence is directional, such that the divergence of $P$ from $Q$ is different from the same of $Q$ from $P$, the matrix is assymetric and contains unique information above and below the diagonal. The same is true for the $\\chi^2$ divergence."
   ]
  },
  {
   "cell_type": "code",
   "execution_count": null,
   "metadata": {},
   "outputs": [],
   "source": [
    "len(corpora)"
   ]
  },
  {
   "cell_type": "code",
   "execution_count": null,
   "metadata": {},
   "outputs": [],
   "source": [
    "fileids = list(movie_df['Movie Name'])[0:11]"
   ]
  },
  {
   "cell_type": "code",
   "execution_count": null,
   "metadata": {},
   "outputs": [],
   "source": [
    "L = []\n",
    "for p in corpora:\n",
    "    l = []\n",
    "    for q in corpora:\n",
    "        l.append(Divergence(p,q, difference = 'KL'))\n",
    "    L.append(l)\n",
    "M = np.array(L)\n",
    "fig = plt.figure()\n",
    "div = pandas.DataFrame(M, columns = fileids, index = fileids)\n",
    "ax = sns.heatmap(div)\n",
    "plt.show()"
   ]
  },
  {
   "cell_type": "markdown",
   "metadata": {},
   "source": [
    "\n",
    "To reveal more patterns, let's do a multidimensional scaling of the matrix."
   ]
  },
  {
   "cell_type": "code",
   "execution_count": null,
   "metadata": {},
   "outputs": [],
   "source": [
    "mds = sklearn.manifold.MDS()\n",
    "pos = mds.fit(M).embedding_\n",
    "x = pos[:,0]\n",
    "y = pos[:,1]\n",
    "fig, ax = plt.subplots(figsize = (6,6))\n",
    "plt.plot(x, y, ' ')\n",
    "for i, txt in enumerate(fileids):\n",
    "    ax.annotate(txt, (x[i],y[i]))"
   ]
  },
  {
   "cell_type": "markdown",
   "metadata": {},
   "source": [
    "A co-respondent's course and The Chain Gang are away from the others - any guesses why?\n",
    "\n",
    "We may just want to focus on the distrbution of stopwords or non-stopwords. Let's do the analysis again first for stopwords and then for non-stopwords."
   ]
  },
  {
   "cell_type": "code",
   "execution_count": null,
   "metadata": {},
   "outputs": [],
   "source": [
    "L = []\n",
    "for p in corpora_s:\n",
    "    l = []\n",
    "    for q in corpora_s:\n",
    "        l.append(Divergence(p,q, difference='KL'))\n",
    "    L.append(l)\n",
    "M = np.array(L)\n",
    "fig = plt.figure()\n",
    "div = pandas.DataFrame(M, columns = fileids, index = fileids)\n",
    "ax = sns.heatmap(div)\n",
    "plt.show()"
   ]
  },
  {
   "cell_type": "code",
   "execution_count": null,
   "metadata": {},
   "outputs": [],
   "source": [
    "L = []\n",
    "for p in corpora_nons:\n",
    "    l = []\n",
    "    for q in corpora_nons:\n",
    "        l.append(Divergence(p,q, difference='KL'))\n",
    "    L.append(l)\n",
    "M = np.array(L)\n",
    "fig = plt.figure()\n",
    "div = pandas.DataFrame(M, columns = fileids, index = fileids)\n",
    "ax = sns.heatmap(div)\n",
    "plt.show()"
   ]
  },
  {
   "cell_type": "markdown",
   "metadata": {},
   "source": [
    "Now we compute the same for the assymmetric $\\chi^2$ Divergence."
   ]
  },
  {
   "cell_type": "code",
   "execution_count": null,
   "metadata": {},
   "outputs": [],
   "source": [
    "L = []\n",
    "for p in corpora_nons:\n",
    "    l = []\n",
    "    for q in corpora_nons:\n",
    "        l.append(Divergence(p,q, difference='Chi2'))\n",
    "    L.append(l)\n",
    "M = np.array(L)\n",
    "fig = plt.figure()\n",
    "div = pandas.DataFrame(M, columns = fileids, index = fileids)\n",
    "ax = sns.heatmap(div)\n",
    "plt.show()"
   ]
  },
  {
   "cell_type": "markdown",
   "metadata": {
    "scrolled": true
   },
   "source": [
    "For the KS distance:"
   ]
  },
  {
   "cell_type": "code",
   "execution_count": null,
   "metadata": {},
   "outputs": [],
   "source": [
    "L = []\n",
    "for p in corpora_nons:\n",
    "    l = []\n",
    "    for q in corpora_nons:\n",
    "        l.append(Divergence(p,q, difference='KS'))\n",
    "    L.append(l)\n",
    "M = np.array(L)\n",
    "fig = plt.figure()\n",
    "div = pandas.DataFrame(M, columns = fileids, index = fileids)\n",
    "ax = sns.heatmap(div)\n",
    "plt.show()"
   ]
  },
  {
   "cell_type": "markdown",
   "metadata": {},
   "source": [
    "And finally for the Wasserstein or \"earth mover's\" Distance."
   ]
  },
  {
   "cell_type": "code",
   "execution_count": null,
   "metadata": {},
   "outputs": [],
   "source": [
    "L = []\n",
    "for p in corpora_nons:\n",
    "    l = []\n",
    "    for q in corpora_nons:\n",
    "        l.append(Divergence(p,q, difference='Wasserstein'))\n",
    "    L.append(l)\n",
    "M = np.array(L)\n",
    "fig = plt.figure()\n",
    "div = pandas.DataFrame(M, columns = fileids, index = fileids)\n",
    "ax = sns.heatmap(div)\n",
    "plt.show()"
   ]
  },
  {
   "cell_type": "markdown",
   "metadata": {},
   "source": [
    "You can see that decade X is highly divergent and this makes reading the plot somewhat difficult. Let's fix this by taking the log of each cell, which will reduce the distance of decode X from other texts as an outlier."
   ]
  },
  {
   "cell_type": "code",
   "execution_count": null,
   "metadata": {},
   "outputs": [],
   "source": [
    "ax = sns.heatmap(div.apply(np.log).replace([np.inf, -np.inf], np.nan))\n",
    "plt.show()"
   ]
  },
  {
   "cell_type": "markdown",
   "metadata": {},
   "source": [
    "We only tried 11 movies, and from the same time period, so our signals might not be too interesting. What about different time periods?\n",
    "\n",
    "An interesting experiment to maybe get some clearer signals: documents by decade in the Davies Corpus Of Historial American English (COHA) and see if we can detect patterns between them. \n",
    "\n",
    "If we want to rerun this on a new data set of our own composition, we can be a bit more efficient with our coding. Let's use the Shakespeare texts from last week as example. Here we again make use of our convenient `lucem_illud` functions, namely `loadTextDirectory`, which is found in [loaders.py](https://github.com/UChicago-Computational-Content-Analysis/lucem_illud/blob/main/lucem_illud/loaders.py). "
   ]
  },
  {
   "cell_type": "code",
   "execution_count": null,
   "metadata": {},
   "outputs": [],
   "source": [
    "def loadTextDirectory(targetDir, encoding = 'utf-8'):\n",
    "    text = []\n",
    "    fileName = []\n",
    "\n",
    "    for file in (file for file in os.scandir(targetDir) if file.is_file() and not file.name.startswith('.')):\n",
    "        with open(file.path, encoding = encoding) as f:\n",
    "            text.append(f.read())\n",
    "        fileName.append(file.name)\n",
    "    return pandas.DataFrame({'text' : text}, index = fileName)"
   ]
  },
  {
   "cell_type": "code",
   "execution_count": null,
   "metadata": {},
   "outputs": [],
   "source": [
    "shakespeare_df = lucem_illud.loadTextDirectory('../data/Shakespeare')"
   ]
  },
  {
   "cell_type": "markdown",
   "metadata": {},
   "source": [
    "Now we stem and remove stopwords"
   ]
  },
  {
   "cell_type": "code",
   "execution_count": null,
   "metadata": {},
   "outputs": [],
   "source": [
    "shakespeare_df['tokenized_text'] = shakespeare_df['text'].apply(lambda x: word_tokenize(x))\n",
    "shakespeare_df['normalized_tokens'] = shakespeare_df['tokenized_text'].apply(lambda x: normalizeTokens(x))"
   ]
  },
  {
   "cell_type": "markdown",
   "metadata": {},
   "source": [
    "Create the corpus file and generate the heatmap:"
   ]
  },
  {
   "cell_type": "code",
   "execution_count": null,
   "metadata": {},
   "outputs": [],
   "source": [
    "measure = 'KS' #\"KL\", \"Chi2\", \"KS\", \"Wasserstein\"\n",
    "num_of_texts = 10 #The bigger this number the slower it will run, you can also try selecting your own plays\n",
    "fileids_sp = list(shakespeare_df[:num_of_texts].index)\n",
    "corpora_sp = list(shakespeare_df[:num_of_texts]['normalized_tokens'])\n",
    "L = []\n",
    "for p in corpora_sp:\n",
    "    l = []\n",
    "    for q in corpora_sp:\n",
    "        l.append(Divergence(p,q, difference=measure))\n",
    "    L.append(l)\n",
    "M = np.array(L)\n",
    "fig = plt.figure()\n",
    "div = pandas.DataFrame(M, columns = fileids_sp, index = fileids_sp)\n",
    "ax = sns.heatmap(div)\n",
    "plt.show()"
   ]
  },
  {
   "cell_type": "markdown",
   "metadata": {},
   "source": [
    "What are \"The Passionate Pilgrim\" and \"The Phoenix and the Turtle\"? Little known poems by Shakespeare that are unsurprisingly hard to classify, as they are so different from everything else he wrote."
   ]
  },
  {
   "cell_type": "markdown",
   "metadata": {},
   "source": [
    "## <font color=\"red\">*Exercise 7*</font>\n",
    "\n",
    "<font color=\"red\">Construct cells immediately below this that calculate the KL and $\\chi^2$ divergences, and the KS and Wasserstein distances between four separate corpora, plot these with heatmaps, and then array them in two dimensions with multidimensional scaling as above. What does this reveal about relations between the corpora? Which analysis (and divergence or distribution) distinguishes the authors or documents better?\n",
    "\n",
    "**Stretch**: Calculate the [Jensen-Shannon Divergence](https://en.wikipedia.org/wiki/Jensen–Shannon_divergence) between your four corpora. What is the relationship between the KL and JS divergences?</font> "
   ]
  }
 ],
 "metadata": {
  "anaconda-cloud": {},
  "kernelspec": {
   "display_name": "Python 3 (ipykernel)",
   "language": "python",
   "name": "python3"
  },
  "language_info": {
   "codemirror_mode": {
    "name": "ipython",
    "version": 3
   },
   "file_extension": ".py",
   "mimetype": "text/x-python",
   "name": "python",
   "nbconvert_exporter": "python",
   "pygments_lexer": "ipython3",
   "version": "3.10.2"
  }
 },
 "nbformat": 4,
 "nbformat_minor": 1
}
